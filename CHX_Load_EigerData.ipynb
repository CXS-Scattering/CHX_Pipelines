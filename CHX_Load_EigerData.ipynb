{
 "cells": [
  {
   "cell_type": "code",
   "execution_count": 1,
   "metadata": {
    "scrolled": false
   },
   "outputs": [
    {
     "name": "stderr",
     "output_type": "stream",
     "text": [
      "/home/yuzhang/mc/envs/chx_debug/lib/python3.5/site-packages/filestore/retrieve.py:15: UserWarning: Do not import filestore.retrieve, import filestore.api instead\n",
      "  warnings.warn(\"Do not import filestore.retrieve, \"\n",
      "/home/yuzhang/mc/envs/chx_debug/lib/python3.5/site-packages/chxtools-0.0.3+3.g5054eed-py3.5.egg/chxtools/handlers.py:66: UserWarning: stop using raw fs\n",
      "/home/yuzhang/mc/envs/chx_debug/lib/python3.5/site-packages/chxtools-0.0.3+3.g5054eed-py3.5.egg/chxtools/handlers.py:67: UserWarning: stop using raw fs\n"
     ]
    }
   ],
   "source": [
    "from chxanalys.chx_packages import *\n",
    "%matplotlib notebook\n"
   ]
  },
  {
   "cell_type": "code",
   "execution_count": 2,
   "metadata": {
    "collapsed": true
   },
   "outputs": [],
   "source": [
    "uid = '88d9ea' #] (scan num: 2642) (Measurement: V2_SiO250_Tw0.3 xpcs 1000 frames acq=1.34m s exp= 1.34 ms att=1 )\n",
    "md = get_meta_data( uid )\n",
    "\n"
   ]
  },
  {
   "cell_type": "code",
   "execution_count": 4,
   "metadata": {},
   "outputs": [
    {
     "data": {
      "text/plain": [
       "environ({'SSH_CONNECTION': '10.0.137.77 47001 10.11.0.7 22', 'PATH': '/usr/local/bin:/usr/bin:/bin:/usr/games', 'CLICOLOR': '1', 'MPLBACKEND': 'module://ipykernel.pylab.backend_inline', 'LANG': 'en_US.UTF-8', 'MAIL': '/var/mail/yuzhang', 'LOGNAME': 'yuzhang', 'GIT_PAGER': 'cat', 'SSH_CLIENT': '10.0.137.77 47001 22', 'USER': 'yuzhang', 'HDF5_PLUGIN_PATH': '/home/xf11id/lz4_workaround/HDF5Plugin', 'PAGER': 'cat', 'SHELL': '/bin/bash', 'PWD': '/home/yuzhang', '_': '/home/yuzhang/mc/envs/chx_debug/bin/python', 'SHLVL': '1', 'HOME': '/home/yuzhang', 'TERM': 'xterm-color'})"
      ]
     },
     "execution_count": 4,
     "metadata": {},
     "output_type": "execute_result"
    }
   ],
   "source": [
    "os.environ"
   ]
  },
  {
   "cell_type": "code",
   "execution_count": 4,
   "metadata": {
    "collapsed": true
   },
   "outputs": [],
   "source": [
    "#md"
   ]
  },
  {
   "cell_type": "code",
   "execution_count": null,
   "metadata": {
    "collapsed": true
   },
   "outputs": [],
   "source": []
  },
  {
   "cell_type": "code",
   "execution_count": 8,
   "metadata": {},
   "outputs": [
    {
     "name": "stdout",
     "output_type": "stream",
     "text": [
      "EigerImages2 processed through proc_func. Original repr:\n",
      "    <Frames>\n",
      "    Length: 1000 frames\n",
      "    Frame Shape: 2167 x 2070\n",
      "    Pixel Datatype: uint16\n"
     ]
    }
   ],
   "source": [
    "\n",
    "imgs = load_data( uid, md['detector'], reverse= True  )\n",
    "print(imgs)"
   ]
  },
  {
   "cell_type": "code",
   "execution_count": null,
   "metadata": {
    "collapsed": true
   },
   "outputs": [],
   "source": [
    "os.environ['HDF5_PLUGIN_PATH'] = '/home/xf11id/lz4_workaround/HDF5Plugin'"
   ]
  },
  {
   "cell_type": "code",
   "execution_count": null,
   "metadata": {
    "collapsed": true
   },
   "outputs": [],
   "source": [
    "'HDF5_PLUGIN_PATH': '/home/xf11id/lz4_workaround/HDF5Plugin'"
   ]
  },
  {
   "cell_type": "code",
   "execution_count": 7,
   "metadata": {
    "collapsed": true
   },
   "outputs": [],
   "source": [
    "os.environ['HDF5_PLUGIN_PATH'] = ''"
   ]
  },
  {
   "cell_type": "code",
   "execution_count": null,
   "metadata": {
    "collapsed": true
   },
   "outputs": [],
   "source": [
    "os.environ"
   ]
  },
  {
   "cell_type": "code",
   "execution_count": 6,
   "metadata": {},
   "outputs": [
    {
     "data": {
      "text/plain": [
       "'/home/xf11id/lz4_workaround/HDF5Plugin'"
      ]
     },
     "execution_count": 6,
     "metadata": {},
     "output_type": "execute_result"
    }
   ],
   "source": [
    "os.environ['HDF5_PLUGIN_PATH']"
   ]
  },
  {
   "cell_type": "code",
   "execution_count": null,
   "metadata": {
    "collapsed": true
   },
   "outputs": [],
   "source": []
  },
  {
   "cell_type": "code",
   "execution_count": null,
   "metadata": {
    "collapsed": true,
    "scrolled": true
   },
   "outputs": [],
   "source": [
    "%env"
   ]
  },
  {
   "cell_type": "code",
   "execution_count": null,
   "metadata": {
    "collapsed": true
   },
   "outputs": [],
   "source": []
  }
 ],
 "metadata": {
  "kernelspec": {
   "display_name": "CHX_Debug",
   "language": "python",
   "name": "chx_debug"
  },
  "language_info": {
   "codemirror_mode": {
    "name": "ipython",
    "version": 3
   },
   "file_extension": ".py",
   "mimetype": "text/x-python",
   "name": "python",
   "nbconvert_exporter": "python",
   "pygments_lexer": "ipython3",
   "version": "3.5.3"
  }
 },
 "nbformat": 4,
 "nbformat_minor": 2
}
