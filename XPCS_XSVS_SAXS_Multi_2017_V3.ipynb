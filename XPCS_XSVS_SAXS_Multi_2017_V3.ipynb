{
 "cells": [
  {
   "cell_type": "markdown",
   "metadata": {},
   "source": [
    "# XPCS&XSVS Pipeline for Mulit-SAXS Runs\n",
    "\"This notebook corresponds to version {{ version }} of the pipeline tool: https://github.com/NSLS-II/pipelines\"\n",
    "\n",
    "This notebook begins with a raw time-series of images and ends with $g_2(t)$ for a range of $q$, fit to an exponential or stretched exponential, and a two-time correlation functoin.\n",
    "\n",
    "## Overview\n",
    "\n",
    "* Setup: load packages/setup path\n",
    "* Load Metadata & Image Data\n",
    "* Apply Mask\n",
    "* Clean Data: shutter open/bad frames\n",
    "* Get Q-Map\n",
    "* Get 1D curve\n",
    "* Define Q-ROI (qr, qz)\n",
    "* Check beam damage\n",
    "* One-time Correlation\n",
    "* Fitting\n",
    "* Two-time Correlation\n",
    "The important scientific code is imported from the [chxanalys](https://github.com/yugangzhang/chxanalys/tree/master/chxanalys) and [scikit-beam](https://github.com/scikit-beam/scikit-beam) project. Refer to chxanalys and scikit-beam for additional documentation and citation information.\n",
    "\n",
    "## CHX Olog NoteBook\n",
    "CHX Olog (https://logbook.nsls2.bnl.gov/11-ID/)\n",
    "\n",
    "## Setup\n",
    "\n",
    "Import packages for I/O, visualization, and analysis."
   ]
  },
  {
   "cell_type": "code",
   "execution_count": 1,
   "metadata": {
    "collapsed": false
   },
   "outputs": [
    {
     "name": "stderr",
     "output_type": "stream",
     "text": [
      "/opt/conda_envs/analysis/lib/python3.5/site-packages/filestore/retrieve.py:15: UserWarning: Do not import filestore.retrieve, import filestore.api instead\n",
      "  warnings.warn(\"Do not import filestore.retrieve, \"\n"
     ]
    }
   ],
   "source": [
    "from chxanalys.chx_packages import *\n",
    "from chxanalys.chx_xpcs_xsvs_jupyter import run_xpcs_xsvs_single\n",
    "%matplotlib notebook\n",
    "plt.rcParams.update({'figure.max_open_warning': 0})\n",
    "#%reset -f  #for clean up things in the memory"
   ]
  },
  {
   "cell_type": "markdown",
   "metadata": {},
   "source": [
    "## Control Multi-Runs Parameters"
   ]
  },
  {
   "cell_type": "code",
   "execution_count": 2,
   "metadata": {
    "collapsed": true
   },
   "outputs": [],
   "source": [
    "force_compress = False #True   #force to compress data \n",
    "para_compress = True    #parallel compress\n",
    "run_fit_form = False    #run fit form factor \n",
    "run_waterfall = False   #run waterfall analysis\n",
    "run_t_ROI_Inten =  False #True  #run  ROI intensity as a function of time\n",
    "run_one_time = False   #run  one-time\n",
    "#run_fit_g2 = True       #run  fit one-time, the default function is \"stretched exponential\"\n",
    "fit_g2_func = 'stretched'\n",
    "run_two_time = True#False #True #True #False    #run  two-time\n",
    "run_four_time = True#False   #run  four-time\n",
    "run_xsvs= False          #run visibility analysis\n",
    "att_pdf_report = False    #attach the pdf report to CHX olog\n",
    "qth_interest = 3      #the intested single qth             \n",
    "use_sqnorm = False    #if True, use sq to normalize intensity\n",
    "use_imgsum_norm=True  #if True use imgsum to normalize intensity for one-time calculatoin\n",
    "pdf_version='_1'     #for pdf report name\n",
    "\n",
    "good_start = 5\n",
    "\n",
    "taus=None;g2=None;tausb=None;g2b=None;g12b=None;taus4=None;g4=None;times_xsv=None;contrast_factorL=None;  "
   ]
  },
  {
   "cell_type": "code",
   "execution_count": 3,
   "metadata": {
    "collapsed": true
   },
   "outputs": [],
   "source": [
    "force_compress = False #True   #force to compress data \n",
    "para_compress = True    #parallel compress\n",
    "run_fit_form = False    #run fit form factor \n",
    "run_waterfall = True# #False   #run waterfall analysis\n",
    "run_t_ROI_Inten = True# False #True  #run  ROI intensity as a function of time\n",
    "run_one_time = True#False   #run  one-time\n",
    "#run_fit_g2 = True       #run  fit one-time, the default function is \"stretched exponential\"\n",
    "fit_g2_func = 'stretched'\n",
    "run_two_time = True#False #True #True #False    #run  two-time\n",
    "run_four_time = False #True#False   #run  four-time\n",
    "run_xsvs=True           #run visibility analysis\n",
    "att_pdf_report = True    #attach the pdf report to CHX olog\n",
    "\n",
    "\n",
    "qth_interest = 3      #the intested single qth             \n",
    "use_sqnorm = False    #if True, use sq to normalize intensity\n",
    "use_imgsum_norm=True  #if True use imgsum to normalize intensity for one-time calculatoin\n",
    "pdf_version='_1'     #for pdf report name\n",
    "\n",
    "good_start = 5\n",
    "\n",
    "\n",
    "taus=None;g2=None;tausb=None;g2b=None;g12b=None;taus4=None;g4=None;times_xsv=None;contrast_factorL=None;  "
   ]
  },
  {
   "cell_type": "markdown",
   "metadata": {},
   "source": [
    "## Make a directory for saving results"
   ]
  },
  {
   "cell_type": "code",
   "execution_count": 4,
   "metadata": {
    "collapsed": false
   },
   "outputs": [
    {
     "name": "stdout",
     "output_type": "stream",
     "text": [
      "Results from this analysis will be stashed in the directory /XF11ID/analysis/2016_3/yuzhang/Results/\n"
     ]
    }
   ],
   "source": [
    "CYCLE = '2016_3'\n",
    "username = getpass.getuser()\n",
    "#username = \"colosqui\"   #provide the username to force the results to save in that username folder\n",
    "data_dir = os.path.join('/XF11ID/analysis/', CYCLE, username, 'Results/')\n",
    "##Or define data_dir here, e.g.,#data_dir = '/XF11ID/analysis/2016_2/rheadric/test/'\n",
    "os.makedirs(data_dir, exist_ok=True)\n",
    "print('Results from this analysis will be stashed in the directory %s' % data_dir)"
   ]
  },
  {
   "cell_type": "code",
   "execution_count": 5,
   "metadata": {
    "collapsed": false
   },
   "outputs": [
    {
     "name": "stdout",
     "output_type": "stream",
     "text": [
      "/XF11ID/analysis/2016_3/yuzhang/Results/Au50_2p5PEGX2_vs_20us_120116/\n"
     ]
    }
   ],
   "source": [
    "#count : 1 ['6fdd55'] (scan num: 10457) (Measurement: sample X2 50nm Au in 2.5% PEG_slow_series_#0 )\n",
    "uid_average=  'Au50_2p5PEGX2_vs_20us_120116' #give a meaningful folder name \n",
    "\n",
    "data_dir_average = os.path.join( data_dir, uid_average +'/')\n",
    "os.makedirs(data_dir_average, exist_ok=True)\n",
    "print ( data_dir_average)"
   ]
  },
  {
   "cell_type": "markdown",
   "metadata": {
    "collapsed": false
   },
   "source": [
    "## Load Mask\n",
    "* load and plot mask if exist \n",
    "* otherwise create a mask using Mask pipeline\n",
    "* Reverse the mask in y-direction due to the coordination difference between python and Eiger software\n",
    "* Reverse images in y-direction\n",
    "* Apply the mask"
   ]
  },
  {
   "cell_type": "markdown",
   "metadata": {},
   "source": [
    "# Change these lines"
   ]
  },
  {
   "cell_type": "code",
   "execution_count": 6,
   "metadata": {
    "collapsed": false
   },
   "outputs": [],
   "source": [
    "mask_path = '/XF11ID/analysis/2016_3/masks/'\n",
    "mask_name = 'Nov28_4M_SAXS_mask.npy' \n",
    "#mask_name = 'Dec3_4M_SAXS_mask.npy'"
   ]
  },
  {
   "cell_type": "code",
   "execution_count": 7,
   "metadata": {
    "collapsed": false
   },
   "outputs": [
    {
     "data": {
      "application/javascript": [
       "/* Put everything inside the global mpl namespace */\n",
       "window.mpl = {};\n",
       "\n",
       "mpl.get_websocket_type = function() {\n",
       "    if (typeof(WebSocket) !== 'undefined') {\n",
       "        return WebSocket;\n",
       "    } else if (typeof(MozWebSocket) !== 'undefined') {\n",
       "        return MozWebSocket;\n",
       "    } else {\n",
       "        alert('Your browser does not have WebSocket support.' +\n",
       "              'Please try Chrome, Safari or Firefox ≥ 6. ' +\n",
       "              'Firefox 4 and 5 are also supported but you ' +\n",
       "              'have to enable WebSockets in about:config.');\n",
       "    };\n",
       "}\n",
       "\n",
       "mpl.figure = function(figure_id, websocket, ondownload, parent_element) {\n",
       "    this.id = figure_id;\n",
       "\n",
       "    this.ws = websocket;\n",
       "\n",
       "    this.supports_binary = (this.ws.binaryType != undefined);\n",
       "\n",
       "    if (!this.supports_binary) {\n",
       "        var warnings = document.getElementById(\"mpl-warnings\");\n",
       "        if (warnings) {\n",
       "            warnings.style.display = 'block';\n",
       "            warnings.textContent = (\n",
       "                \"This browser does not support binary websocket messages. \" +\n",
       "                    \"Performance may be slow.\");\n",
       "        }\n",
       "    }\n",
       "\n",
       "    this.imageObj = new Image();\n",
       "\n",
       "    this.context = undefined;\n",
       "    this.message = undefined;\n",
       "    this.canvas = undefined;\n",
       "    this.rubberband_canvas = undefined;\n",
       "    this.rubberband_context = undefined;\n",
       "    this.format_dropdown = undefined;\n",
       "\n",
       "    this.image_mode = 'full';\n",
       "\n",
       "    this.root = $('<div/>');\n",
       "    this._root_extra_style(this.root)\n",
       "    this.root.attr('style', 'display: inline-block');\n",
       "\n",
       "    $(parent_element).append(this.root);\n",
       "\n",
       "    this._init_header(this);\n",
       "    this._init_canvas(this);\n",
       "    this._init_toolbar(this);\n",
       "\n",
       "    var fig = this;\n",
       "\n",
       "    this.waiting = false;\n",
       "\n",
       "    this.ws.onopen =  function () {\n",
       "            fig.send_message(\"supports_binary\", {value: fig.supports_binary});\n",
       "            fig.send_message(\"send_image_mode\", {});\n",
       "            fig.send_message(\"refresh\", {});\n",
       "        }\n",
       "\n",
       "    this.imageObj.onload = function() {\n",
       "            if (fig.image_mode == 'full') {\n",
       "                // Full images could contain transparency (where diff images\n",
       "                // almost always do), so we need to clear the canvas so that\n",
       "                // there is no ghosting.\n",
       "                fig.context.clearRect(0, 0, fig.canvas.width, fig.canvas.height);\n",
       "            }\n",
       "            fig.context.drawImage(fig.imageObj, 0, 0);\n",
       "        };\n",
       "\n",
       "    this.imageObj.onunload = function() {\n",
       "        this.ws.close();\n",
       "    }\n",
       "\n",
       "    this.ws.onmessage = this._make_on_message_function(this);\n",
       "\n",
       "    this.ondownload = ondownload;\n",
       "}\n",
       "\n",
       "mpl.figure.prototype._init_header = function() {\n",
       "    var titlebar = $(\n",
       "        '<div class=\"ui-dialog-titlebar ui-widget-header ui-corner-all ' +\n",
       "        'ui-helper-clearfix\"/>');\n",
       "    var titletext = $(\n",
       "        '<div class=\"ui-dialog-title\" style=\"width: 100%; ' +\n",
       "        'text-align: center; padding: 3px;\"/>');\n",
       "    titlebar.append(titletext)\n",
       "    this.root.append(titlebar);\n",
       "    this.header = titletext[0];\n",
       "}\n",
       "\n",
       "\n",
       "\n",
       "mpl.figure.prototype._canvas_extra_style = function(canvas_div) {\n",
       "\n",
       "}\n",
       "\n",
       "\n",
       "mpl.figure.prototype._root_extra_style = function(canvas_div) {\n",
       "\n",
       "}\n",
       "\n",
       "mpl.figure.prototype._init_canvas = function() {\n",
       "    var fig = this;\n",
       "\n",
       "    var canvas_div = $('<div/>');\n",
       "\n",
       "    canvas_div.attr('style', 'position: relative; clear: both; outline: 0');\n",
       "\n",
       "    function canvas_keyboard_event(event) {\n",
       "        return fig.key_event(event, event['data']);\n",
       "    }\n",
       "\n",
       "    canvas_div.keydown('key_press', canvas_keyboard_event);\n",
       "    canvas_div.keyup('key_release', canvas_keyboard_event);\n",
       "    this.canvas_div = canvas_div\n",
       "    this._canvas_extra_style(canvas_div)\n",
       "    this.root.append(canvas_div);\n",
       "\n",
       "    var canvas = $('<canvas/>');\n",
       "    canvas.addClass('mpl-canvas');\n",
       "    canvas.attr('style', \"left: 0; top: 0; z-index: 0; outline: 0\")\n",
       "\n",
       "    this.canvas = canvas[0];\n",
       "    this.context = canvas[0].getContext(\"2d\");\n",
       "\n",
       "    var rubberband = $('<canvas/>');\n",
       "    rubberband.attr('style', \"position: absolute; left: 0; top: 0; z-index: 1;\")\n",
       "\n",
       "    var pass_mouse_events = true;\n",
       "\n",
       "    canvas_div.resizable({\n",
       "        start: function(event, ui) {\n",
       "            pass_mouse_events = false;\n",
       "        },\n",
       "        resize: function(event, ui) {\n",
       "            fig.request_resize(ui.size.width, ui.size.height);\n",
       "        },\n",
       "        stop: function(event, ui) {\n",
       "            pass_mouse_events = true;\n",
       "            fig.request_resize(ui.size.width, ui.size.height);\n",
       "        },\n",
       "    });\n",
       "\n",
       "    function mouse_event_fn(event) {\n",
       "        if (pass_mouse_events)\n",
       "            return fig.mouse_event(event, event['data']);\n",
       "    }\n",
       "\n",
       "    rubberband.mousedown('button_press', mouse_event_fn);\n",
       "    rubberband.mouseup('button_release', mouse_event_fn);\n",
       "    // Throttle sequential mouse events to 1 every 20ms.\n",
       "    rubberband.mousemove('motion_notify', mouse_event_fn);\n",
       "\n",
       "    rubberband.mouseenter('figure_enter', mouse_event_fn);\n",
       "    rubberband.mouseleave('figure_leave', mouse_event_fn);\n",
       "\n",
       "    canvas_div.on(\"wheel\", function (event) {\n",
       "        event = event.originalEvent;\n",
       "        event['data'] = 'scroll'\n",
       "        if (event.deltaY < 0) {\n",
       "            event.step = 1;\n",
       "        } else {\n",
       "            event.step = -1;\n",
       "        }\n",
       "        mouse_event_fn(event);\n",
       "    });\n",
       "\n",
       "    canvas_div.append(canvas);\n",
       "    canvas_div.append(rubberband);\n",
       "\n",
       "    this.rubberband = rubberband;\n",
       "    this.rubberband_canvas = rubberband[0];\n",
       "    this.rubberband_context = rubberband[0].getContext(\"2d\");\n",
       "    this.rubberband_context.strokeStyle = \"#000000\";\n",
       "\n",
       "    this._resize_canvas = function(width, height) {\n",
       "        // Keep the size of the canvas, canvas container, and rubber band\n",
       "        // canvas in synch.\n",
       "        canvas_div.css('width', width)\n",
       "        canvas_div.css('height', height)\n",
       "\n",
       "        canvas.attr('width', width);\n",
       "        canvas.attr('height', height);\n",
       "\n",
       "        rubberband.attr('width', width);\n",
       "        rubberband.attr('height', height);\n",
       "    }\n",
       "\n",
       "    // Set the figure to an initial 600x600px, this will subsequently be updated\n",
       "    // upon first draw.\n",
       "    this._resize_canvas(600, 600);\n",
       "\n",
       "    // Disable right mouse context menu.\n",
       "    $(this.rubberband_canvas).bind(\"contextmenu\",function(e){\n",
       "        return false;\n",
       "    });\n",
       "\n",
       "    function set_focus () {\n",
       "        canvas.focus();\n",
       "        canvas_div.focus();\n",
       "    }\n",
       "\n",
       "    window.setTimeout(set_focus, 100);\n",
       "}\n",
       "\n",
       "mpl.figure.prototype._init_toolbar = function() {\n",
       "    var fig = this;\n",
       "\n",
       "    var nav_element = $('<div/>')\n",
       "    nav_element.attr('style', 'width: 100%');\n",
       "    this.root.append(nav_element);\n",
       "\n",
       "    // Define a callback function for later on.\n",
       "    function toolbar_event(event) {\n",
       "        return fig.toolbar_button_onclick(event['data']);\n",
       "    }\n",
       "    function toolbar_mouse_event(event) {\n",
       "        return fig.toolbar_button_onmouseover(event['data']);\n",
       "    }\n",
       "\n",
       "    for(var toolbar_ind in mpl.toolbar_items) {\n",
       "        var name = mpl.toolbar_items[toolbar_ind][0];\n",
       "        var tooltip = mpl.toolbar_items[toolbar_ind][1];\n",
       "        var image = mpl.toolbar_items[toolbar_ind][2];\n",
       "        var method_name = mpl.toolbar_items[toolbar_ind][3];\n",
       "\n",
       "        if (!name) {\n",
       "            // put a spacer in here.\n",
       "            continue;\n",
       "        }\n",
       "        var button = $('<button/>');\n",
       "        button.addClass('ui-button ui-widget ui-state-default ui-corner-all ' +\n",
       "                        'ui-button-icon-only');\n",
       "        button.attr('role', 'button');\n",
       "        button.attr('aria-disabled', 'false');\n",
       "        button.click(method_name, toolbar_event);\n",
       "        button.mouseover(tooltip, toolbar_mouse_event);\n",
       "\n",
       "        var icon_img = $('<span/>');\n",
       "        icon_img.addClass('ui-button-icon-primary ui-icon');\n",
       "        icon_img.addClass(image);\n",
       "        icon_img.addClass('ui-corner-all');\n",
       "\n",
       "        var tooltip_span = $('<span/>');\n",
       "        tooltip_span.addClass('ui-button-text');\n",
       "        tooltip_span.html(tooltip);\n",
       "\n",
       "        button.append(icon_img);\n",
       "        button.append(tooltip_span);\n",
       "\n",
       "        nav_element.append(button);\n",
       "    }\n",
       "\n",
       "    var fmt_picker_span = $('<span/>');\n",
       "\n",
       "    var fmt_picker = $('<select/>');\n",
       "    fmt_picker.addClass('mpl-toolbar-option ui-widget ui-widget-content');\n",
       "    fmt_picker_span.append(fmt_picker);\n",
       "    nav_element.append(fmt_picker_span);\n",
       "    this.format_dropdown = fmt_picker[0];\n",
       "\n",
       "    for (var ind in mpl.extensions) {\n",
       "        var fmt = mpl.extensions[ind];\n",
       "        var option = $(\n",
       "            '<option/>', {selected: fmt === mpl.default_extension}).html(fmt);\n",
       "        fmt_picker.append(option)\n",
       "    }\n",
       "\n",
       "    // Add hover states to the ui-buttons\n",
       "    $( \".ui-button\" ).hover(\n",
       "        function() { $(this).addClass(\"ui-state-hover\");},\n",
       "        function() { $(this).removeClass(\"ui-state-hover\");}\n",
       "    );\n",
       "\n",
       "    var status_bar = $('<span class=\"mpl-message\"/>');\n",
       "    nav_element.append(status_bar);\n",
       "    this.message = status_bar[0];\n",
       "}\n",
       "\n",
       "mpl.figure.prototype.request_resize = function(x_pixels, y_pixels) {\n",
       "    // Request matplotlib to resize the figure. Matplotlib will then trigger a resize in the client,\n",
       "    // which will in turn request a refresh of the image.\n",
       "    this.send_message('resize', {'width': x_pixels, 'height': y_pixels});\n",
       "}\n",
       "\n",
       "mpl.figure.prototype.send_message = function(type, properties) {\n",
       "    properties['type'] = type;\n",
       "    properties['figure_id'] = this.id;\n",
       "    this.ws.send(JSON.stringify(properties));\n",
       "}\n",
       "\n",
       "mpl.figure.prototype.send_draw_message = function() {\n",
       "    if (!this.waiting) {\n",
       "        this.waiting = true;\n",
       "        this.ws.send(JSON.stringify({type: \"draw\", figure_id: this.id}));\n",
       "    }\n",
       "}\n",
       "\n",
       "\n",
       "mpl.figure.prototype.handle_save = function(fig, msg) {\n",
       "    var format_dropdown = fig.format_dropdown;\n",
       "    var format = format_dropdown.options[format_dropdown.selectedIndex].value;\n",
       "    fig.ondownload(fig, format);\n",
       "}\n",
       "\n",
       "\n",
       "mpl.figure.prototype.handle_resize = function(fig, msg) {\n",
       "    var size = msg['size'];\n",
       "    if (size[0] != fig.canvas.width || size[1] != fig.canvas.height) {\n",
       "        fig._resize_canvas(size[0], size[1]);\n",
       "        fig.send_message(\"refresh\", {});\n",
       "    };\n",
       "}\n",
       "\n",
       "mpl.figure.prototype.handle_rubberband = function(fig, msg) {\n",
       "    var x0 = msg['x0'];\n",
       "    var y0 = fig.canvas.height - msg['y0'];\n",
       "    var x1 = msg['x1'];\n",
       "    var y1 = fig.canvas.height - msg['y1'];\n",
       "    x0 = Math.floor(x0) + 0.5;\n",
       "    y0 = Math.floor(y0) + 0.5;\n",
       "    x1 = Math.floor(x1) + 0.5;\n",
       "    y1 = Math.floor(y1) + 0.5;\n",
       "    var min_x = Math.min(x0, x1);\n",
       "    var min_y = Math.min(y0, y1);\n",
       "    var width = Math.abs(x1 - x0);\n",
       "    var height = Math.abs(y1 - y0);\n",
       "\n",
       "    fig.rubberband_context.clearRect(\n",
       "        0, 0, fig.canvas.width, fig.canvas.height);\n",
       "\n",
       "    fig.rubberband_context.strokeRect(min_x, min_y, width, height);\n",
       "}\n",
       "\n",
       "mpl.figure.prototype.handle_figure_label = function(fig, msg) {\n",
       "    // Updates the figure title.\n",
       "    fig.header.textContent = msg['label'];\n",
       "}\n",
       "\n",
       "mpl.figure.prototype.handle_cursor = function(fig, msg) {\n",
       "    var cursor = msg['cursor'];\n",
       "    switch(cursor)\n",
       "    {\n",
       "    case 0:\n",
       "        cursor = 'pointer';\n",
       "        break;\n",
       "    case 1:\n",
       "        cursor = 'default';\n",
       "        break;\n",
       "    case 2:\n",
       "        cursor = 'crosshair';\n",
       "        break;\n",
       "    case 3:\n",
       "        cursor = 'move';\n",
       "        break;\n",
       "    }\n",
       "    fig.rubberband_canvas.style.cursor = cursor;\n",
       "}\n",
       "\n",
       "mpl.figure.prototype.handle_message = function(fig, msg) {\n",
       "    fig.message.textContent = msg['message'];\n",
       "}\n",
       "\n",
       "mpl.figure.prototype.handle_draw = function(fig, msg) {\n",
       "    // Request the server to send over a new figure.\n",
       "    fig.send_draw_message();\n",
       "}\n",
       "\n",
       "mpl.figure.prototype.handle_image_mode = function(fig, msg) {\n",
       "    fig.image_mode = msg['mode'];\n",
       "}\n",
       "\n",
       "mpl.figure.prototype.updated_canvas_event = function() {\n",
       "    // Called whenever the canvas gets updated.\n",
       "    this.send_message(\"ack\", {});\n",
       "}\n",
       "\n",
       "// A function to construct a web socket function for onmessage handling.\n",
       "// Called in the figure constructor.\n",
       "mpl.figure.prototype._make_on_message_function = function(fig) {\n",
       "    return function socket_on_message(evt) {\n",
       "        if (evt.data instanceof Blob) {\n",
       "            /* FIXME: We get \"Resource interpreted as Image but\n",
       "             * transferred with MIME type text/plain:\" errors on\n",
       "             * Chrome.  But how to set the MIME type?  It doesn't seem\n",
       "             * to be part of the websocket stream */\n",
       "            evt.data.type = \"image/png\";\n",
       "\n",
       "            /* Free the memory for the previous frames */\n",
       "            if (fig.imageObj.src) {\n",
       "                (window.URL || window.webkitURL).revokeObjectURL(\n",
       "                    fig.imageObj.src);\n",
       "            }\n",
       "\n",
       "            fig.imageObj.src = (window.URL || window.webkitURL).createObjectURL(\n",
       "                evt.data);\n",
       "            fig.updated_canvas_event();\n",
       "            fig.waiting = false;\n",
       "            return;\n",
       "        }\n",
       "        else if (typeof evt.data === 'string' && evt.data.slice(0, 21) == \"data:image/png;base64\") {\n",
       "            fig.imageObj.src = evt.data;\n",
       "            fig.updated_canvas_event();\n",
       "            fig.waiting = false;\n",
       "            return;\n",
       "        }\n",
       "\n",
       "        var msg = JSON.parse(evt.data);\n",
       "        var msg_type = msg['type'];\n",
       "\n",
       "        // Call the  \"handle_{type}\" callback, which takes\n",
       "        // the figure and JSON message as its only arguments.\n",
       "        try {\n",
       "            var callback = fig[\"handle_\" + msg_type];\n",
       "        } catch (e) {\n",
       "            console.log(\"No handler for the '\" + msg_type + \"' message type: \", msg);\n",
       "            return;\n",
       "        }\n",
       "\n",
       "        if (callback) {\n",
       "            try {\n",
       "                // console.log(\"Handling '\" + msg_type + \"' message: \", msg);\n",
       "                callback(fig, msg);\n",
       "            } catch (e) {\n",
       "                console.log(\"Exception inside the 'handler_\" + msg_type + \"' callback:\", e, e.stack, msg);\n",
       "            }\n",
       "        }\n",
       "    };\n",
       "}\n",
       "\n",
       "// from http://stackoverflow.com/questions/1114465/getting-mouse-location-in-canvas\n",
       "mpl.findpos = function(e) {\n",
       "    //this section is from http://www.quirksmode.org/js/events_properties.html\n",
       "    var targ;\n",
       "    if (!e)\n",
       "        e = window.event;\n",
       "    if (e.target)\n",
       "        targ = e.target;\n",
       "    else if (e.srcElement)\n",
       "        targ = e.srcElement;\n",
       "    if (targ.nodeType == 3) // defeat Safari bug\n",
       "        targ = targ.parentNode;\n",
       "\n",
       "    // jQuery normalizes the pageX and pageY\n",
       "    // pageX,Y are the mouse positions relative to the document\n",
       "    // offset() returns the position of the element relative to the document\n",
       "    var x = e.pageX - $(targ).offset().left;\n",
       "    var y = e.pageY - $(targ).offset().top;\n",
       "\n",
       "    return {\"x\": x, \"y\": y};\n",
       "};\n",
       "\n",
       "/*\n",
       " * return a copy of an object with only non-object keys\n",
       " * we need this to avoid circular references\n",
       " * http://stackoverflow.com/a/24161582/3208463\n",
       " */\n",
       "function simpleKeys (original) {\n",
       "  return Object.keys(original).reduce(function (obj, key) {\n",
       "    if (typeof original[key] !== 'object')\n",
       "        obj[key] = original[key]\n",
       "    return obj;\n",
       "  }, {});\n",
       "}\n",
       "\n",
       "mpl.figure.prototype.mouse_event = function(event, name) {\n",
       "    var canvas_pos = mpl.findpos(event)\n",
       "\n",
       "    if (name === 'button_press')\n",
       "    {\n",
       "        this.canvas.focus();\n",
       "        this.canvas_div.focus();\n",
       "    }\n",
       "\n",
       "    var x = canvas_pos.x;\n",
       "    var y = canvas_pos.y;\n",
       "\n",
       "    this.send_message(name, {x: x, y: y, button: event.button,\n",
       "                             step: event.step,\n",
       "                             guiEvent: simpleKeys(event)});\n",
       "\n",
       "    /* This prevents the web browser from automatically changing to\n",
       "     * the text insertion cursor when the button is pressed.  We want\n",
       "     * to control all of the cursor setting manually through the\n",
       "     * 'cursor' event from matplotlib */\n",
       "    event.preventDefault();\n",
       "    return false;\n",
       "}\n",
       "\n",
       "mpl.figure.prototype._key_event_extra = function(event, name) {\n",
       "    // Handle any extra behaviour associated with a key event\n",
       "}\n",
       "\n",
       "mpl.figure.prototype.key_event = function(event, name) {\n",
       "\n",
       "    // Prevent repeat events\n",
       "    if (name == 'key_press')\n",
       "    {\n",
       "        if (event.which === this._key)\n",
       "            return;\n",
       "        else\n",
       "            this._key = event.which;\n",
       "    }\n",
       "    if (name == 'key_release')\n",
       "        this._key = null;\n",
       "\n",
       "    var value = '';\n",
       "    if (event.ctrlKey && event.which != 17)\n",
       "        value += \"ctrl+\";\n",
       "    if (event.altKey && event.which != 18)\n",
       "        value += \"alt+\";\n",
       "    if (event.shiftKey && event.which != 16)\n",
       "        value += \"shift+\";\n",
       "\n",
       "    value += 'k';\n",
       "    value += event.which.toString();\n",
       "\n",
       "    this._key_event_extra(event, name);\n",
       "\n",
       "    this.send_message(name, {key: value,\n",
       "                             guiEvent: simpleKeys(event)});\n",
       "    return false;\n",
       "}\n",
       "\n",
       "mpl.figure.prototype.toolbar_button_onclick = function(name) {\n",
       "    if (name == 'download') {\n",
       "        this.handle_save(this, null);\n",
       "    } else {\n",
       "        this.send_message(\"toolbar_button\", {name: name});\n",
       "    }\n",
       "};\n",
       "\n",
       "mpl.figure.prototype.toolbar_button_onmouseover = function(tooltip) {\n",
       "    this.message.textContent = tooltip;\n",
       "};\n",
       "mpl.toolbar_items = [[\"Home\", \"Reset original view\", \"fa fa-home icon-home\", \"home\"], [\"Back\", \"Back to  previous view\", \"fa fa-arrow-left icon-arrow-left\", \"back\"], [\"Forward\", \"Forward to next view\", \"fa fa-arrow-right icon-arrow-right\", \"forward\"], [\"\", \"\", \"\", \"\"], [\"Pan\", \"Pan axes with left mouse, zoom with right\", \"fa fa-arrows icon-move\", \"pan\"], [\"Zoom\", \"Zoom to rectangle\", \"fa fa-square-o icon-check-empty\", \"zoom\"], [\"\", \"\", \"\", \"\"], [\"Download\", \"Download plot\", \"fa fa-floppy-o icon-save\", \"download\"]];\n",
       "\n",
       "mpl.extensions = [\"eps\", \"jpeg\", \"pdf\", \"png\", \"ps\", \"raw\", \"svg\", \"tif\"];\n",
       "\n",
       "mpl.default_extension = \"png\";var comm_websocket_adapter = function(comm) {\n",
       "    // Create a \"websocket\"-like object which calls the given IPython comm\n",
       "    // object with the appropriate methods. Currently this is a non binary\n",
       "    // socket, so there is still some room for performance tuning.\n",
       "    var ws = {};\n",
       "\n",
       "    ws.close = function() {\n",
       "        comm.close()\n",
       "    };\n",
       "    ws.send = function(m) {\n",
       "        //console.log('sending', m);\n",
       "        comm.send(m);\n",
       "    };\n",
       "    // Register the callback with on_msg.\n",
       "    comm.on_msg(function(msg) {\n",
       "        //console.log('receiving', msg['content']['data'], msg);\n",
       "        // Pass the mpl event to the overriden (by mpl) onmessage function.\n",
       "        ws.onmessage(msg['content']['data'])\n",
       "    });\n",
       "    return ws;\n",
       "}\n",
       "\n",
       "mpl.mpl_figure_comm = function(comm, msg) {\n",
       "    // This is the function which gets called when the mpl process\n",
       "    // starts-up an IPython Comm through the \"matplotlib\" channel.\n",
       "\n",
       "    var id = msg.content.data.id;\n",
       "    // Get hold of the div created by the display call when the Comm\n",
       "    // socket was opened in Python.\n",
       "    var element = $(\"#\" + id);\n",
       "    var ws_proxy = comm_websocket_adapter(comm)\n",
       "\n",
       "    function ondownload(figure, format) {\n",
       "        window.open(figure.imageObj.src);\n",
       "    }\n",
       "\n",
       "    var fig = new mpl.figure(id, ws_proxy,\n",
       "                           ondownload,\n",
       "                           element.get(0));\n",
       "\n",
       "    // Call onopen now - mpl needs it, as it is assuming we've passed it a real\n",
       "    // web socket which is closed, not our websocket->open comm proxy.\n",
       "    ws_proxy.onopen();\n",
       "\n",
       "    fig.parent_element = element.get(0);\n",
       "    fig.cell_info = mpl.find_output_cell(\"<div id='\" + id + \"'></div>\");\n",
       "    if (!fig.cell_info) {\n",
       "        console.error(\"Failed to find cell for figure\", id, fig);\n",
       "        return;\n",
       "    }\n",
       "\n",
       "    var output_index = fig.cell_info[2]\n",
       "    var cell = fig.cell_info[0];\n",
       "\n",
       "};\n",
       "\n",
       "mpl.figure.prototype.handle_close = function(fig, msg) {\n",
       "    fig.root.unbind('remove')\n",
       "\n",
       "    // Update the output cell to use the data from the current canvas.\n",
       "    fig.push_to_output();\n",
       "    var dataURL = fig.canvas.toDataURL();\n",
       "    // Re-enable the keyboard manager in IPython - without this line, in FF,\n",
       "    // the notebook keyboard shortcuts fail.\n",
       "    IPython.keyboard_manager.enable()\n",
       "    $(fig.parent_element).html('<img src=\"' + dataURL + '\">');\n",
       "    fig.close_ws(fig, msg);\n",
       "}\n",
       "\n",
       "mpl.figure.prototype.close_ws = function(fig, msg){\n",
       "    fig.send_message('closing', msg);\n",
       "    // fig.ws.close()\n",
       "}\n",
       "\n",
       "mpl.figure.prototype.push_to_output = function(remove_interactive) {\n",
       "    // Turn the data on the canvas into data in the output cell.\n",
       "    var dataURL = this.canvas.toDataURL();\n",
       "    this.cell_info[1]['text/html'] = '<img src=\"' + dataURL + '\">';\n",
       "}\n",
       "\n",
       "mpl.figure.prototype.updated_canvas_event = function() {\n",
       "    // Tell IPython that the notebook contents must change.\n",
       "    IPython.notebook.set_dirty(true);\n",
       "    this.send_message(\"ack\", {});\n",
       "    var fig = this;\n",
       "    // Wait a second, then push the new image to the DOM so\n",
       "    // that it is saved nicely (might be nice to debounce this).\n",
       "    setTimeout(function () { fig.push_to_output() }, 1000);\n",
       "}\n",
       "\n",
       "mpl.figure.prototype._init_toolbar = function() {\n",
       "    var fig = this;\n",
       "\n",
       "    var nav_element = $('<div/>')\n",
       "    nav_element.attr('style', 'width: 100%');\n",
       "    this.root.append(nav_element);\n",
       "\n",
       "    // Define a callback function for later on.\n",
       "    function toolbar_event(event) {\n",
       "        return fig.toolbar_button_onclick(event['data']);\n",
       "    }\n",
       "    function toolbar_mouse_event(event) {\n",
       "        return fig.toolbar_button_onmouseover(event['data']);\n",
       "    }\n",
       "\n",
       "    for(var toolbar_ind in mpl.toolbar_items){\n",
       "        var name = mpl.toolbar_items[toolbar_ind][0];\n",
       "        var tooltip = mpl.toolbar_items[toolbar_ind][1];\n",
       "        var image = mpl.toolbar_items[toolbar_ind][2];\n",
       "        var method_name = mpl.toolbar_items[toolbar_ind][3];\n",
       "\n",
       "        if (!name) { continue; };\n",
       "\n",
       "        var button = $('<button class=\"btn btn-default\" href=\"#\" title=\"' + name + '\"><i class=\"fa ' + image + ' fa-lg\"></i></button>');\n",
       "        button.click(method_name, toolbar_event);\n",
       "        button.mouseover(tooltip, toolbar_mouse_event);\n",
       "        nav_element.append(button);\n",
       "    }\n",
       "\n",
       "    // Add the status bar.\n",
       "    var status_bar = $('<span class=\"mpl-message\" style=\"text-align:right; float: right;\"/>');\n",
       "    nav_element.append(status_bar);\n",
       "    this.message = status_bar[0];\n",
       "\n",
       "    // Add the close button to the window.\n",
       "    var buttongrp = $('<div class=\"btn-group inline pull-right\"></div>');\n",
       "    var button = $('<button class=\"btn btn-mini btn-primary\" href=\"#\" title=\"Stop Interaction\"><i class=\"fa fa-power-off icon-remove icon-large\"></i></button>');\n",
       "    button.click(function (evt) { fig.handle_close(fig, {}); } );\n",
       "    button.mouseover('Stop Interaction', toolbar_mouse_event);\n",
       "    buttongrp.append(button);\n",
       "    var titlebar = this.root.find($('.ui-dialog-titlebar'));\n",
       "    titlebar.prepend(buttongrp);\n",
       "}\n",
       "\n",
       "mpl.figure.prototype._root_extra_style = function(el){\n",
       "    var fig = this\n",
       "    el.on(\"remove\", function(){\n",
       "\tfig.close_ws(fig, {});\n",
       "    });\n",
       "}\n",
       "\n",
       "mpl.figure.prototype._canvas_extra_style = function(el){\n",
       "    // this is important to make the div 'focusable\n",
       "    el.attr('tabindex', 0)\n",
       "    // reach out to IPython and tell the keyboard manager to turn it's self\n",
       "    // off when our div gets focus\n",
       "\n",
       "    // location in version 3\n",
       "    if (IPython.notebook.keyboard_manager) {\n",
       "        IPython.notebook.keyboard_manager.register_events(el);\n",
       "    }\n",
       "    else {\n",
       "        // location in version 2\n",
       "        IPython.keyboard_manager.register_events(el);\n",
       "    }\n",
       "\n",
       "}\n",
       "\n",
       "mpl.figure.prototype._key_event_extra = function(event, name) {\n",
       "    var manager = IPython.notebook.keyboard_manager;\n",
       "    if (!manager)\n",
       "        manager = IPython.keyboard_manager;\n",
       "\n",
       "    // Check for shift+enter\n",
       "    if (event.shiftKey && event.which == 13) {\n",
       "        this.canvas_div.blur();\n",
       "        // select the cell after this one\n",
       "        var index = IPython.notebook.find_cell_index(this.cell_info[0]);\n",
       "        IPython.notebook.select(index + 1);\n",
       "    }\n",
       "}\n",
       "\n",
       "mpl.figure.prototype.handle_save = function(fig, msg) {\n",
       "    fig.ondownload(fig, null);\n",
       "}\n",
       "\n",
       "\n",
       "mpl.find_output_cell = function(html_output) {\n",
       "    // Return the cell and output element which can be found *uniquely* in the notebook.\n",
       "    // Note - this is a bit hacky, but it is done because the \"notebook_saving.Notebook\"\n",
       "    // IPython event is triggered only after the cells have been serialised, which for\n",
       "    // our purposes (turning an active figure into a static one), is too late.\n",
       "    var cells = IPython.notebook.get_cells();\n",
       "    var ncells = cells.length;\n",
       "    for (var i=0; i<ncells; i++) {\n",
       "        var cell = cells[i];\n",
       "        if (cell.cell_type === 'code'){\n",
       "            for (var j=0; j<cell.output_area.outputs.length; j++) {\n",
       "                var data = cell.output_area.outputs[j];\n",
       "                if (data.data) {\n",
       "                    // IPython >= 3 moved mimebundle to data attribute of output\n",
       "                    data = data.data;\n",
       "                }\n",
       "                if (data['text/html'] == html_output) {\n",
       "                    return [cell, data, j];\n",
       "                }\n",
       "            }\n",
       "        }\n",
       "    }\n",
       "}\n",
       "\n",
       "// Register the function which deals with the matplotlib target/channel.\n",
       "// The kernel may be null if the page has been refreshed.\n",
       "if (IPython.notebook.kernel != null) {\n",
       "    IPython.notebook.kernel.comm_manager.register_target('matplotlib', mpl.mpl_figure_comm);\n",
       "}\n"
      ],
      "text/plain": [
       "<IPython.core.display.Javascript object>"
      ]
     },
     "metadata": {},
     "output_type": "display_data"
    },
    {
     "data": {
      "text/html": [
       "<img src=\"data:image/png;base64,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\">"
      ],
      "text/plain": [
       "<IPython.core.display.HTML object>"
      ]
     },
     "metadata": {},
     "output_type": "display_data"
    }
   ],
   "source": [
    "mask = load_mask(mask_path, mask_name, plot_ =  False, image_name = '%s-mask'%mask_name, reverse=True ) \n",
    "#mask *= pixel_mask\n",
    "mask[:,2069] =0 # False  #Concluded from the previous results\n",
    "#np.save(  data_dir + 'mask', mask)\n",
    "show_img(mask,image_name = 'uid=%s-mask'%uid_average, save=True, path=data_dir_average)\n",
    "mask_load=mask.copy()\n"
   ]
  },
  {
   "cell_type": "markdown",
   "metadata": {},
   "source": [
    "## Load Metadata & Image Data\n",
    "\n",
    "Print detector, scan-id, uid, datapath of data collected."
   ]
  },
  {
   "cell_type": "markdown",
   "metadata": {},
   "source": [
    "# Change these lines to get data"
   ]
  },
  {
   "cell_type": "code",
   "execution_count": 111,
   "metadata": {
    "collapsed": false
   },
   "outputs": [
    {
     "name": "stdout",
     "output_type": "stream",
     "text": [
      "Totally 7 uids are found.\n",
      "['5e734cda' '0b3ea927' '10d1ebbf' 'af7e6c0e' '443c0f35' 'd851b99d'\n",
      " '43903256']\n"
     ]
    }
   ],
   "source": [
    "start_time, stop_time = '2016-12-2  11:05', '2016-12-2  11:14:00' #for coralpor, 10,20,40,80,160,320,640   \n",
    "sids, uids, fuids = find_uids(start_time, stop_time)\n",
    "print( uids )\n",
    "uid = uids[0]\n"
   ]
  },
  {
   "cell_type": "code",
   "execution_count": null,
   "metadata": {
    "collapsed": false
   },
   "outputs": [],
   "source": [
    "guids, buids = check_bad_uids( uids, mask, img_choice_N = 3 )\n",
    "print( 'The good uids are: %s.\\nThe good uids length is %s.'%(guids, len(guids)) )"
   ]
  },
  {
   "cell_type": "code",
   "execution_count": null,
   "metadata": {
    "collapsed": false
   },
   "outputs": [],
   "source": [
    "gfuids = fuids[np.array( [ np.where( uids ==  s )[0][0] for s in guids  ] )]"
   ]
  },
  {
   "cell_type": "markdown",
   "metadata": {},
   "source": [
    "# Don't Change these lines below here"
   ]
  },
  {
   "cell_type": "code",
   "execution_count": null,
   "metadata": {
    "collapsed": true
   },
   "outputs": [],
   "source": [
    "md = get_meta_data( uid )"
   ]
  },
  {
   "cell_type": "code",
   "execution_count": null,
   "metadata": {
    "collapsed": false
   },
   "outputs": [],
   "source": [
    "imgs = load_data( uid, md['detector'], reverse= True  )\n",
    "md.update( imgs.md );Nimg = len(imgs);\n",
    "pixel_mask =  1- np.int_( np.array( imgs.md['pixel_mask'], dtype= bool)  )\n",
    "print( 'The data are: %s' %imgs )\n",
    "imgsa = apply_mask( imgs, mask )"
   ]
  },
  {
   "cell_type": "code",
   "execution_count": null,
   "metadata": {
    "collapsed": false
   },
   "outputs": [],
   "source": [
    "print_dict( md,  ['suid', 'number of images', 'uid', 'scan_id', 'start_time', 'stop_time', 'sample', 'Measurement',\n",
    "                  'acquire period', 'exposure time',  \n",
    "         'det_distanc', 'beam_center_x', 'beam_center_y', ] )"
   ]
  },
  {
   "cell_type": "markdown",
   "metadata": {},
   "source": [
    "## Overwrite Some Metadata Due to Wrong Input"
   ]
  },
  {
   "cell_type": "code",
   "execution_count": null,
   "metadata": {
    "collapsed": false
   },
   "outputs": [],
   "source": [
    "dpix = md['x_pixel_size'] * 1000.  #in mm, eiger 4m is 0.075 mm\n",
    "lambda_ =md['incident_wavelength']    # wavelegth of the X-rays in Angstroms\n",
    "Ldet = md['detector_distance'] *1000     # detector to sample distance (mm)\n",
    "try:\n",
    "    exposuretime= md['cam_acquire_t']     #exposure time in sec\n",
    "except:    \n",
    "    exposuretime= md['count_time']     #exposure time in sec\n",
    "acquisition_period = md['frame_time']   #acquisition time in sec\n",
    "timeperframe = acquisition_period #for g2\n",
    "center = [  int(md['beam_center_y']),int( md['beam_center_x'] ) ]  #beam center [y,x] for python image\n",
    "#center = [ 2070-1381-0, 1475-4] \n",
    "setup_pargs=dict(uid=uid_average, dpix= dpix, Ldet=Ldet, lambda_= lambda_, exposuretime=exposuretime,\n",
    "        timeperframe=timeperframe, center=center, path= data_dir_average)\n",
    "print_dict( setup_pargs )"
   ]
  },
  {
   "cell_type": "markdown",
   "metadata": {},
   "source": [
    "# Save metadata into the uid folder\n",
    "* save mask file\n",
    "* save the metadata dict"
   ]
  },
  {
   "cell_type": "code",
   "execution_count": null,
   "metadata": {
    "collapsed": false
   },
   "outputs": [],
   "source": [
    "img_choice_N = 10\n",
    "img_samp_index = random.sample( range(len(imgs)), img_choice_N) \n",
    "avg_img =  get_avg_img( imgsa, img_samp_index, plot_ = False, uid =uid)\n",
    "if avg_img.max() == 0:\n",
    "    print('There are no photons recorded for this uid: %s'%uid)\n",
    "    print('The data analysis should be terminated! Please try another uid.')"
   ]
  },
  {
   "cell_type": "code",
   "execution_count": null,
   "metadata": {
    "collapsed": false
   },
   "outputs": [],
   "source": [
    "show_saxs_qmap( avg_img, setup_pargs, width=600,vmin=.1, vmax=np.max(avg_img*.1), logs=True,\n",
    "               image_name= 'uid=%s--img-avg-run1'%uid_average,  save=True) "
   ]
  },
  {
   "cell_type": "markdown",
   "metadata": {},
   "source": [
    "# Suppose we have all the parameters to define ROIs, if not use the \"Single_Data\" Pipeline"
   ]
  },
  {
   "cell_type": "markdown",
   "metadata": {},
   "source": [
    "### Get circular average \n",
    "* Do plot and save q~iq\n"
   ]
  },
  {
   "cell_type": "code",
   "execution_count": null,
   "metadata": {
    "collapsed": false
   },
   "outputs": [],
   "source": [
    "hmask = create_hot_pixel_mask( avg_img, threshold = 100, center=center, center_radius= 400)\n",
    "qp, iq, q = get_circular_average( avg_img, mask * hmask, pargs=setup_pargs  )\n",
    "plot_circular_average( qp, iq, q,  pargs=setup_pargs, \n",
    "                      xlim=[q.min(), q.max()], ylim = [iq.min(), iq.max()] )\n"
   ]
  },
  {
   "cell_type": "markdown",
   "metadata": {},
   "source": [
    "### Define ROI\n",
    "* Create ring mask defined by  inner_radius, outer_radius, width, num_rings (all in pixel unit)\n",
    "* Create ring mask defined by  edges (all in pixel unit)"
   ]
  },
  {
   "cell_type": "code",
   "execution_count": null,
   "metadata": {
    "collapsed": true
   },
   "outputs": [],
   "source": [
    "uniformq = True #False"
   ]
  },
  {
   "cell_type": "markdown",
   "metadata": {},
   "source": [
    "### Define a non-uniform distributed rings by giving edges"
   ]
  },
  {
   "cell_type": "code",
   "execution_count": null,
   "metadata": {
    "collapsed": true
   },
   "outputs": [],
   "source": [
    "if not uniformq:    \n",
    "    width = 0.0002    \n",
    "    number_rings= 1    \n",
    "    qcenters = [ 0.00235,0.00379,0.00508,0.00636,0.00773, 0.00902] #in A-1\n",
    "    edges = get_non_uniform_edges(  qcenters, width, number_rings )    \n",
    "    inner_radius= None\n",
    "    outer_radius = None\n",
    "    width = None\n",
    "    num_rings = None"
   ]
  },
  {
   "cell_type": "markdown",
   "metadata": {},
   "source": [
    "### Define a uniform distributed rings by giving inner_radius, outer_radius, width, num_rings (all in pixel unit)"
   ]
  },
  {
   "cell_type": "code",
   "execution_count": null,
   "metadata": {
    "collapsed": false
   },
   "outputs": [],
   "source": [
    "if uniformq:    \n",
    "    inner_radius= 0.005 #0.005 for 50 nm, 0.006, #for 10nm/coralpor\n",
    "    outer_radius = 0.04 #0.04 for 50 nm, 0.05, #for 10nm/coralpor \n",
    "    num_rings = 12\n",
    "    gap_ring_number = 6\n",
    "    width =    ( outer_radius - inner_radius)/(num_rings + gap_ring_number)\n",
    "    edges = None"
   ]
  },
  {
   "cell_type": "code",
   "execution_count": null,
   "metadata": {
    "collapsed": false
   },
   "outputs": [],
   "source": [
    "ring_mask, q_ring_center, q_ring_val = get_ring_mask(  mask, inner_radius=inner_radius, \n",
    "        outer_radius = outer_radius , width = width, num_rings = num_rings, edges=edges,\n",
    "                      unit='A',       pargs=setup_pargs   )\n",
    "qind, pixelist = roi.extract_label_indices(  ring_mask  ) \n",
    "q_ring_center = np.round( q_ring_center, 4)"
   ]
  },
  {
   "cell_type": "code",
   "execution_count": null,
   "metadata": {
    "collapsed": false
   },
   "outputs": [],
   "source": [
    "show_ROI_on_image( avg_img, ring_mask, center, label_on = False, rwidth =700, alpha=.9,  \n",
    "                 save=True, path=data_dir_average, uid=uid_average, vmin= np.min(avg_img), vmax= np.max(avg_img) ) "
   ]
  },
  {
   "cell_type": "code",
   "execution_count": null,
   "metadata": {
    "collapsed": false
   },
   "outputs": [],
   "source": [
    "plot_qIq_with_ROI( q, iq, q_ring_center, logs=True, uid=uid_average, xlim=[q.min(), q.max()],\n",
    "                  ylim = [iq.min(), iq.max()],  save=True, path=data_dir_average)"
   ]
  },
  {
   "cell_type": "markdown",
   "metadata": {},
   "source": [
    "# Configure Multi-Run"
   ]
  },
  {
   "cell_type": "markdown",
   "metadata": {},
   "source": [
    "## Control Multi-Runs Parameters\n"
   ]
  },
  {
   "cell_type": "code",
   "execution_count": null,
   "metadata": {
    "collapsed": false
   },
   "outputs": [],
   "source": [
    "\n",
    "run_pargs=  dict(   \n",
    "    force_compress =  force_compress,    #force to compress data \n",
    "    para_compress = para_compress,             #parallel compress\n",
    "    run_fit_form = run_fit_form,             #run fit form factor  \n",
    "    run_waterfall = run_waterfall,             #run waterfall analysis\n",
    "    run_t_ROI_Inten = run_t_ROI_Inten,          #run  ROI intensity as a function of time\n",
    "    run_one_time = run_one_time,      #run  one-time\n",
    "    fit_g2_func = fit_g2_func,    \n",
    "    run_two_time = run_two_time,    #run  two-time\n",
    "    run_four_time = run_four_time,     #run  four-time\n",
    "    run_xsvs=run_xsvs,            #run visibility analysis\n",
    "    att_pdf_report = att_pdf_report,       #attach the pdf report to CHX olog\n",
    "    show_plot = False,\n",
    "                 \n",
    "    CYCLE =  CYCLE, mask_path =  mask_path, mask_name =    mask_name, \n",
    "    good_start   =  good_start,\n",
    "    uniformq = uniformq,    inner_radius= inner_radius, \n",
    "    outer_radius =   outer_radius,    num_rings =num_rings,   gap_ring_number = gap_ring_number, \n",
    "    #number_rings= number_rings,    \n",
    "    qth_interest =  qth_interest, #the intested single qth,            \n",
    "    use_sqnorm = use_sqnorm,  #if True, use sq to normalize intensity\n",
    "    use_imgsum_norm=use_imgsum_norm,#if True use imgsum to normalize intensity for one-time calculatoin\n",
    "    pdf_version = pdf_version #for pdf report name    \n",
    "                )\n"
   ]
  },
  {
   "cell_type": "code",
   "execution_count": null,
   "metadata": {
    "collapsed": true
   },
   "outputs": [],
   "source": []
  },
  {
   "cell_type": "markdown",
   "metadata": {},
   "source": [
    "# Do loop here"
   ]
  },
  {
   "cell_type": "code",
   "execution_count": null,
   "metadata": {
    "collapsed": false,
    "scrolled": true
   },
   "outputs": [],
   "source": [
    "do_loop = False\n",
    "if do_loop:\n",
    "    multi_res = {}\n",
    "    t0 = time.time()\n",
    "    for uid in guids:\n",
    "        multi_res[uid] = run_xpcs_xsvs_single( uid, run_pargs= run_pargs, return_res= True )\n",
    "    run_time(t0)    "
   ]
  },
  {
   "cell_type": "markdown",
   "metadata": {},
   "source": [
    "### For Load results"
   ]
  },
  {
   "cell_type": "code",
   "execution_count": null,
   "metadata": {
    "collapsed": false
   },
   "outputs": [],
   "source": [
    "plt.close('all')\n",
    "\n",
    "if not do_loop:\n",
    "    multi_res = {}\n",
    "    for uid, fuid in zip(guids,fuids):\n",
    "        multi_res[uid] =  extract_xpcs_results_from_h5( filename = '%s_Res.h5'%fuid, import_dir = data_dir + uid +'/' )"
   ]
  },
  {
   "cell_type": "code",
   "execution_count": null,
   "metadata": {
    "collapsed": true
   },
   "outputs": [],
   "source": [
    "from chxanalys.chx_generic_functions import ( get_averaged_data_from_multi_res\n",
    "                                            )"
   ]
  },
  {
   "cell_type": "markdown",
   "metadata": {},
   "source": [
    "# Get and Plot Averaged Data"
   ]
  },
  {
   "cell_type": "code",
   "execution_count": null,
   "metadata": {
    "collapsed": false
   },
   "outputs": [],
   "source": [
    "mkeys = list(multi_res.keys())\n",
    "print(mkeys)\n",
    "print( multi_res[mkeys[0]].keys())"
   ]
  },
  {
   "cell_type": "code",
   "execution_count": null,
   "metadata": {
    "collapsed": false
   },
   "outputs": [],
   "source": [
    "avg_img = get_averaged_data_from_multi_res(  multi_res, keystr='avg_img' )\n",
    "imgsum =  get_averaged_data_from_multi_res(  multi_res, keystr='imgsum' )\n",
    "q_saxs = get_averaged_data_from_multi_res(  multi_res, keystr='q_saxs')\n",
    "iq_saxs = get_averaged_data_from_multi_res(  multi_res, keystr='iq_saxs')\n",
    "qt = get_averaged_data_from_multi_res(  multi_res, keystr='qt')\n",
    "iqst = get_averaged_data_from_multi_res(  multi_res, keystr='iqst')\n",
    "if run_waterfall: \n",
    "    wat = get_averaged_data_from_multi_res(  multi_res, keystr='wat')\n",
    "if run_t_ROI_Inten:\n",
    "    times_roi = get_averaged_data_from_multi_res(  multi_res, keystr='times_roi')\n",
    "    mean_int_sets = get_averaged_data_from_multi_res(  multi_res, keystr='mean_int_sets')\n",
    "\n",
    "if run_one_time:\n",
    "    g2 = get_averaged_data_from_multi_res(  multi_res, keystr='g2' )\n",
    "    taus = get_averaged_data_from_multi_res(  multi_res, keystr='taus' )\n",
    "    \n",
    "    data_dir_average    \n",
    "    res_pargs = dict(taus=taus, q_ring_center=q_ring_center, path=data_dir_average, uid=uid_average ) \n",
    "    g2_pds = save_g2( g2, taus=taus, qr= q_ring_center, qz=None,\n",
    "                     uid= uid_average +'--g2.csv', path= data_dir_average, return_res=True )\n",
    "    \n",
    "    g2_fit_result, taus_fit, g2_fit = get_g2_fit( g2,  res_pargs=res_pargs, \n",
    "                function = fit_g2_func,  vlim=[0.95, 1.05], fit_range= None,  \n",
    "            fit_variables={'baseline':True, 'beta':True, 'alpha':False,'relaxation_rate':True},                                  \n",
    "            guess_values={'baseline':1.0,'beta':0.05,'alpha':1.0,'relaxation_rate':0.01,})  \n",
    "    \n",
    "    res_pargs_fit = dict(taus=taus_fit, q_ring_center= q_ring_center, path=data_dir,uid=uid  +'_g2_fit'       )\n",
    "    g2_fit_paras = save_g2_fit_para_tocsv(g2_fit_result,  \n",
    "                        filename= 'uid=%s'%uid_average  +'_g2_fit_paras.csv', path=data_dir_average )\n",
    "    \n",
    "if run_two_time:\n",
    "    g12b = get_averaged_data_from_multi_res(  multi_res, keystr='g12b',different_length= True )\n",
    "    g2b = get_averaged_data_from_multi_res(  multi_res, keystr='g2b' )\n",
    "    tausb = get_averaged_data_from_multi_res(  multi_res, keystr='tausb' )\n",
    "\n",
    "    res_pargsb = dict(taus=tausb, q_ring_center=q_ring_center,  uid=uid_average  , path= data_dir_average     )\n",
    "    g2b_pds = save_g2( g2b, taus=tausb, qr= q_ring_center, qz=None, \n",
    "                       uid=uid_average +'--g2b.csv'  , path= data_dir_average, return_res=True )\n",
    "    \n",
    "    g2_fit_resultb, taus_fitb, g2_fitb = get_g2_fit( g2b,  res_pargs=res_pargsb, \n",
    "                function = 'stretched',  vlim=[0.95, 1.05], fit_range= None,  \n",
    "                fit_variables={'baseline':True, 'beta':True, 'alpha':False,'relaxation_rate':True},                                  \n",
    "                guess_values={'baseline':1.0,'beta':0.05,'alpha':1.0,'relaxation_rate':0.01,})  \n",
    "    \n",
    "    res_pargs_fitb = dict(taus=taus_fitb, q_ring_center= q_ring_center,  \n",
    "                         path=data_dir_average , uid=uid_average  +'_g2b_fit'       )\n",
    "    \n",
    "    g2b_fit_paras = save_g2_fit_para_tocsv(g2_fit_resultb, \n",
    "                    filename= 'uid=%s'%uid_average  + '_g2b_fit_paras--g2.csv', path=data_dir_average )\n",
    "\n",
    "if run_four_time:\n",
    "    g4 = get_averaged_data_from_multi_res(  multi_res, keystr='g4' )\n",
    "    taus4 = get_averaged_data_from_multi_res(  multi_res, keystr='taus4' )\n",
    "    res_pargs4 = dict(taus=taus4, q_ring_center=q_ring_center, path=data_dir_average, uid=uid_average     )     \n",
    "    g4_pds = save_g2( g4, taus=taus4, qr= q_ring_center, qz=None, \n",
    "                     uid=uid_average +'--g4.csv', path= data_dir_average, return_res=True )  \n",
    "    \n",
    "if run_xsvs:    \n",
    "    contrast_factorL = get_averaged_data_from_multi_res(  multi_res, keystr='contrast_factorL',different_length=False )\n",
    "    times_xsvs = get_averaged_data_from_multi_res(  multi_res, keystr='times_xsvs',different_length=False )\n",
    "    cont_pds = save_arrays( contrast_factorL, label= times_xsvs, filename = 'uid=%s--contrast_factorL.csv'%uid_average,\n",
    "            path=data_dir_average,return_res=True )\n",
    "    if False:\n",
    "        spec_kmean = get_averaged_data_from_multi_res(  multi_res, keystr='spec_kmean' )\n",
    "        spec_pds = get_averaged_data_from_multi_res(  multi_res, keystr='spec_pds', different_length=False )\n",
    "        times_xsvs = get_averaged_data_from_multi_res(  multi_res, keystr='times_xsvs',different_length=False )\n",
    "        spec_his,   spec_std = get_his_std_from_pds( spec_pds, his_shapes=None)\n",
    "        ML_val, KL_val,K_ = get_xsvs_fit(  spec_his, spec_kmean,  spec_std, max_bins=2,varyK= False, )\n",
    "        contrast_factorL = get_contrast( ML_val)\n",
    "        spec_km_pds = save_KM(  spec_kmean, KL_val, ML_val, qs=q_ring_center,level_time=times_xsvs, uid=uid_average , path = data_dir_average )\n",
    "        plot_xsvs_fit(  spec_his, ML_val, KL_val, K_mean = spec_kmean, spec_std = spec_std,xlim = [0,15], vlim =[.9, 1.1],\n",
    "                uid=uid_average, qth= None, logy= True, times= times_xsvs, q_ring_center=q_ring_center, path=data_dir )\n",
    "\n"
   ]
  },
  {
   "cell_type": "code",
   "execution_count": null,
   "metadata": {
    "collapsed": false
   },
   "outputs": [],
   "source": [
    "show_saxs_qmap( avg_img, setup_pargs, width=600,vmin=.1, vmax=np.max(avg_img*.1), logs=True,\n",
    "               image_name= 'uid=%s--img-avg'%uid_average,  save=True)\n",
    "plot_circular_average( q_saxs, iq_saxs, q_saxs,  pargs=setup_pargs, \n",
    "                      xlim=[q_saxs.min(), q_saxs.max()], ylim = [iq_saxs.min(), iq_saxs.max()] )\n",
    "show_ROI_on_image( avg_img, ring_mask, center, label_on = False, rwidth =700, alpha=.9,  \n",
    "                 save=True, path=data_dir, uid=uid, vmin= np.min(avg_img), vmax= np.max(avg_img) )\n",
    "plot_qIq_with_ROI( q_saxs, iq_saxs, q_ring_center, logs=True, uid=uid, xlim=[q_saxs.min(), q_saxs.max()],\n",
    "                  ylim = [iq_saxs.min(), iq_saxs.max()],  save=True, path=data_dir)\n",
    "plot1D( y = imgsum, title ='uid=%s--img-sum-t'%uid_average, xlabel='Frame', colors='b',\n",
    "       ylabel='Total_Intensity', legend='imgsum', save=True, path=data_dir_average)\n",
    "plot_t_iqc( qt, iqst, frame_edge=None, pargs=setup_pargs, xlim=[qt.min(), qt.max()],\n",
    "           ylim = [iqst.min(), iqst.max()], save=True )"
   ]
  },
  {
   "cell_type": "code",
   "execution_count": null,
   "metadata": {
    "collapsed": false
   },
   "outputs": [],
   "source": [
    "if run_waterfall: \n",
    "        plot_waterfallc( wat, qth_interest, aspect=None,vmax= np.max(wat), uid=uid_average, save =True, \n",
    "                        path=data_dir_average, beg= good_start)\n",
    "if run_t_ROI_Inten:\n",
    "    plot_each_ring_mean_intensityc( times_roi, mean_int_sets,  uid = uid_average, save=True, path=data_dir_average )        "
   ]
  },
  {
   "cell_type": "code",
   "execution_count": null,
   "metadata": {
    "collapsed": false
   },
   "outputs": [],
   "source": [
    "if run_one_time:\n",
    "    plot_g2( g2, res_pargs= res_pargs, tau_2 = taus_fit, g2_2 = g2_fit,  \n",
    "        fit_res= g2_fit_result, function = fit_g2_func, master_plot='qz',    \n",
    "       vlim=[0.95, 1.05], geometry='saxs', append_name=  '-fit'  )    \n",
    "    fit_q_rate(  q_ring_center[:],g2_fit_paras['relaxation_rate'], power_variable= False, \n",
    "           uid=uid_average  , path= data_dir_average)"
   ]
  },
  {
   "cell_type": "code",
   "execution_count": null,
   "metadata": {
    "collapsed": false
   },
   "outputs": [],
   "source": [
    "if run_two_time:\n",
    "    show_C12(g12b, q_ind= qth_interest, N1= 0, N2=min( len(imgsa) ,1000), vmin=1.01, vmax=1.25,\n",
    "             timeperframe=timeperframe,save=True,\n",
    "             path= data_dir_average, uid = uid_average )\n",
    "    plot_g2( g2b, res_pargs= res_pargsb, tau_2 = taus_fitb, g2_2 = g2_fitb,  \n",
    "        fit_res= g2_fit_resultb, function = fit_g2_func, master_plot='qz',    \n",
    "       vlim=[0.95, 1.05], geometry='saxs', append_name= '-b-fit'  )"
   ]
  },
  {
   "cell_type": "code",
   "execution_count": null,
   "metadata": {
    "collapsed": false
   },
   "outputs": [],
   "source": [
    "if run_two_time and run_one_time:\n",
    "    #fit_q_rate(  q_ring_center[:],dfvb['relaxation_rate'], power_variable= False,  uid=uid +'-g2b' , path= data_dir )\n",
    "    plot_saxs_two_g2( g2, taus, \n",
    "                 g2b, tausb, res_pargs=res_pargs, vlim=[.95, 1.05], uid= uid_average  )\n",
    "if run_four_time:\n",
    "    plot_saxs_g4( g4, taus4,  vlim=[0.95, 1.05], logx=True, res_pargs=res_pargs4) "
   ]
  },
  {
   "cell_type": "code",
   "execution_count": null,
   "metadata": {
    "collapsed": false
   },
   "outputs": [],
   "source": [
    "if run_xsvs:\n",
    "    plot_g2_contrast( contrast_factorL, g2, times_xsvs, taus, q_ring_center, \n",
    "                     vlim=[0.8,2.0], qth = qth_interest, uid=uid_average,path = data_dir_average, legend_size=14)\n",
    "    plot_g2_contrast( contrast_factorL, g2, times_xsvs, taus, q_ring_center, \n",
    "                     vlim=[0.8,1.2], qth = None, uid=uid_average,path = data_dir_average, legend_size=4)"
   ]
  },
  {
   "cell_type": "markdown",
   "metadata": {},
   "source": [
    "## Export Results to a h5 files"
   ]
  },
  {
   "cell_type": "code",
   "execution_count": null,
   "metadata": {
    "collapsed": false
   },
   "outputs": [],
   "source": [
    "md['mask_file']= mask_path + mask_name\n",
    "md['mask'] = mask\n",
    "md['NOTEBOOK_FULL_PATH'] = None\n",
    "md['good_start'] = good_start\n",
    "md['bad_frame_list'] = 'unknown' #bad_frame_list\n",
    "md['avg_img'] = avg_img\n",
    "md['ring_mask'] = ring_mask\n",
    "md['q_ring_center']= q_ring_center\n",
    "md['q_ring_val'] = q_ring_val\n",
    "md['beam_center_x'] =  center[1]\n",
    "md['beam_center_y']=  center[0]\n",
    "md['beg'] = None\n",
    "md['end'] = None\n",
    "md['metadata_file'] = data_dir_average + 'md.csv-&-md.pkl'\n",
    "psave_obj(  md, data_dir_average + 'uid=%s-md'%uid_average ) #save the setup parameters\n",
    "save_dict_csv( md,  data_dir_average + 'uid=%s-md.csv'%uid_average, 'w')\n",
    "\n",
    "Exdt = {} \n",
    "for k,v in zip( ['md', 'q_saxs', 'iq_saxs','iqst','qt','roi','avg_img','mask','pixel_mask', 'imgsum',], \n",
    "                [md, q_saxs, iq_saxs, iqst, qt,ring_mask,avg_img,mask,pixel_mask, imgsum, ] ):\n",
    "    Exdt[ k ] = v\n",
    "if run_waterfall:Exdt['wat'] =  wat\n",
    "if run_t_ROI_Inten:Exdt['times_roi'] = times_roi;Exdt['mean_int_sets']=mean_int_sets\n",
    "if run_one_time:\n",
    "    for k,v in zip( ['taus','g2','g2_fit_paras'], [taus,g2,g2_fit_paras] ):Exdt[ k ] = v\n",
    "if run_two_time:\n",
    "    for k,v in zip( ['tausb','g2b','g2b_fit_paras', 'g12b'], [tausb,g2b,g2b_fit_paras,g12b] ):Exdt[ k ] = v\n",
    "if run_four_time:\n",
    "    for k,v in zip( ['taus4','g4'], [taus4,g4] ):Exdt[ k ] = v\n",
    "if run_xsvs:\n",
    "    for k,v in zip( ['times_xsvs','contrast_factorL'],[times_xsvs,contrast_factorL] ):\n",
    "        Exdt[ k ] = v"
   ]
  },
  {
   "cell_type": "code",
   "execution_count": null,
   "metadata": {
    "collapsed": false
   },
   "outputs": [],
   "source": [
    "contr_pds = save_arrays( Exdt['contrast_factorL'], label= Exdt['times_xsvs'],\n",
    "                       filename = 'uid=%s--contr.csv'%uid_average, path=data_dir,return_res=True )"
   ]
  },
  {
   "cell_type": "code",
   "execution_count": null,
   "metadata": {
    "collapsed": false
   },
   "outputs": [],
   "source": [
    "contr_pds"
   ]
  },
  {
   "cell_type": "code",
   "execution_count": null,
   "metadata": {
    "collapsed": false
   },
   "outputs": [],
   "source": [
    "export_xpcs_results_to_h5( uid_average + '_Res.h5', data_dir_average, export_dict = Exdt )\n",
    "#extract_dict = extract_xpcs_results_from_h5( filename = uid_average + '_Res.h5', import_dir = data_dir_average )"
   ]
  },
  {
   "cell_type": "markdown",
   "metadata": {},
   "source": [
    "## Create PDF report for each uid"
   ]
  },
  {
   "cell_type": "code",
   "execution_count": null,
   "metadata": {
    "collapsed": false
   },
   "outputs": [],
   "source": [
    "pdf_out_dir = data_dir\n",
    "pdf_filename = \"XPCS_Analysis_Report_for_uid=%s%s.pdf\"%(uid_average,pdf_version)\n",
    "if run_xsvs:\n",
    "    pdf_filename = \"XPCS_XSVS_Analysis_Report_for_uid=%s%s.pdf\"%(uid_average,pdf_version)"
   ]
  },
  {
   "cell_type": "code",
   "execution_count": null,
   "metadata": {
    "collapsed": false
   },
   "outputs": [],
   "source": [
    "#pdf_filename = \"XPCS_XSVS_Analysis_Report_for_uid=%s%s.pdf\"%(uid_average,'_2')"
   ]
  },
  {
   "cell_type": "code",
   "execution_count": null,
   "metadata": {
    "collapsed": false
   },
   "outputs": [],
   "source": [
    "make_pdf_report( data_dir_average, uid_average, pdf_out_dir, pdf_filename, username, \n",
    "                    run_fit_form, run_one_time, run_two_time, run_four_time, run_xsvs\n",
    "                   )"
   ]
  },
  {
   "cell_type": "markdown",
   "metadata": {},
   "source": [
    "### Attach each g2 result to the corresponding olog entry"
   ]
  },
  {
   "cell_type": "code",
   "execution_count": null,
   "metadata": {
    "collapsed": false
   },
   "outputs": [],
   "source": [
    "if att_pdf_report:     \n",
    "    os.environ['HTTPS_PROXY'] = 'https://proxy:8888'\n",
    "    os.environ['no_proxy'] = 'cs.nsls2.local,localhost,127.0.0.1'\n",
    "    pname = pdf_out_dir + pdf_filename \n",
    "    atch=[  Attachment(open(pname, 'rb')) ] \n",
    "    try:\n",
    "        update_olog_uid( uid= fuids[-1], text='Add XPCS Averaged Analysis PDF Report', attachments= atch )\n",
    "    except:\n",
    "        print(\"I can't attach this PDF: %s due to a duplicated filename. Please give a different PDF file.\"%pname)"
   ]
  },
  {
   "cell_type": "code",
   "execution_count": null,
   "metadata": {
    "collapsed": false
   },
   "outputs": [],
   "source": [
    "fuids[-1]"
   ]
  },
  {
   "cell_type": "markdown",
   "metadata": {},
   "source": [
    "# The End!"
   ]
  },
  {
   "cell_type": "code",
   "execution_count": null,
   "metadata": {
    "collapsed": true
   },
   "outputs": [],
   "source": []
  },
  {
   "cell_type": "code",
   "execution_count": null,
   "metadata": {
    "collapsed": true
   },
   "outputs": [],
   "source": []
  },
  {
   "cell_type": "code",
   "execution_count": null,
   "metadata": {
    "collapsed": true
   },
   "outputs": [],
   "source": []
  },
  {
   "cell_type": "code",
   "execution_count": null,
   "metadata": {
    "collapsed": true
   },
   "outputs": [],
   "source": []
  },
  {
   "cell_type": "code",
   "execution_count": null,
   "metadata": {
    "collapsed": true
   },
   "outputs": [],
   "source": [
    "# For visibility multi-series each with multi-sub aveage\n",
    "\n",
    "%run /XF11ID/analysis/Analysis_Pipelines/Develop/chxanalys/chxanalys/Create_Report.py\n",
    "\n",
    "sam='X1'\n",
    "sp = 'Au10_7P5PEG' + sam \n",
    "uid_averages=  [ sp+'_vs_20us_120116', sp+'_vs_40us_120116', \n",
    "                sp+'_vs_80us_120116', sp+'_vs_160us_120116', sp+'_vs_320us_120116',sp+'_vs_640us_120116',]\n",
    "\n",
    "uid_png = '6bde76'\n",
    "\n",
    "times_xsvs, contrast_factorL = read_contrast_from_multi_h5( uids= uid_averages, path =data_dir0   )\n",
    "\n",
    "res_640us=extract_xpcs_results_from_h5( filename= sp +'_vs_640us_120116_Res.h5', \n",
    "                                    import_dir = data_dir0 + sp+ '_vs_640us_120116/', onekey= None)\n",
    "taus, g2 =res_640us['taus'],  res_640us['g2']\n",
    "\n",
    "res_pargs = dict(taus= times_xsvs, q_ring_center=res_640us['md']['q_ring_center'],\n",
    "                 path=data_dir0, uid= sam +'_vs_series'  ) \n",
    "   "
   ]
  },
  {
   "cell_type": "code",
   "execution_count": null,
   "metadata": {
    "collapsed": true
   },
   "outputs": [],
   "source": [
    "# For visibility multi series each with one file \n",
    "\n",
    "start_time, stop_time = '2016-12-2  11:05', '2016-12-2  11:14:00' #for coralpor, 10,20,40,80,160,320,640     \n",
    "sids, uids, fuids = find_uids(start_time, stop_time)\n",
    "uid_png = uids[-1]\n",
    "\n",
    "times_xsvs, contrast_factorL = read_contrast_from_multi_h5( uids= uids, path =data_dir0   )\n",
    "\n",
    "res_640us = extract_xpcs_results_from_h5( filename= uids[0] + '_Res.h5', \n",
    "                                    import_dir = data_dir0 + uids[0] + '/', onekey= None)\n",
    "taus, g2 =res_640us['taus'],  res_640us['g2']\n",
    "\n",
    "res_pargs = dict(taus= times_xsvs, q_ring_center=res_640us['md']['q_ring_center'],\n",
    "                 path=data_dir0, uid= sam +'_vs_series'  ) \n",
    "   \n",
    "\n",
    "\n",
    "\n",
    "plot_g2( contrast_factorL + 1, res_pargs= res_pargs,  tau_2= taus, g2_2 =g2,  master_plot='qz',    \n",
    "       vlim=[0.95, 1.2], geometry='saxs', append_name=  '+xpcs'  )\n",
    "\n",
    "## Export Results to a h5 files\n",
    "\n",
    "png = 'uid='+sam+'_vs_series--g2-+xpcs.png'\n",
    "atch=[  Attachment(open( data_dir0 + png, 'rb')) ]\n",
    "#uid_png = 'dbf9a6'\n",
    "\n",
    "update_olog_uid( uid= uid_png, text='Add XSVS-XPCS Analysis PNG file', attachments= atch )"
   ]
  }
 ],
 "metadata": {
  "kernelspec": {
   "display_name": "CHX (stable)",
   "language": "",
   "name": "stable"
  },
  "language_info": {
   "codemirror_mode": {
    "name": "ipython",
    "version": 3
   },
   "file_extension": ".py",
   "mimetype": "text/x-python",
   "name": "python",
   "nbconvert_exporter": "python",
   "pygments_lexer": "ipython3",
   "version": "3.5.2"
  }
 },
 "nbformat": 4,
 "nbformat_minor": 0
}
