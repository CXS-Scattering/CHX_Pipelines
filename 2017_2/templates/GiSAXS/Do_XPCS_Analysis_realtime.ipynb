{
 "cells": [
  {
   "cell_type": "code",
   "execution_count": 6,
   "metadata": {
    "collapsed": false
   },
   "outputs": [],
   "source": [
    "from chxanalys.chx_packages import *\n",
    "#%matplotlib notebook|\n",
    "plt.rcParams.update({'figure.max_open_warning': 0})\n",
    "plt.rcParams.update({ 'image.origin': 'lower'   })\n",
    "plt.rcParams.update({ 'image.interpolation': 'none'   })\n",
    "#%reset -f  #for clean up things in the memory\n",
    "from chxanalys.chx_xpcs_xsvs_jupyter_V1 import run_xpcs_xsvs_single, compress_multi_uids,realtime_xpcs_analysis\n",
    "import pickle as cpk\n",
    "\n",
    "import datetime"
   ]
  },
  {
   "cell_type": "code",
   "execution_count": 7,
   "metadata": {
    "collapsed": true
   },
   "outputs": [],
   "source": [
    "os.environ['HTTPS_PROXY'] = 'https://proxy:8888'\n",
    "os.environ['no_proxy'] = 'cs.nsls2.local,localhost,127.0.0.1'"
   ]
  },
  {
   "cell_type": "code",
   "execution_count": null,
   "metadata": {
    "collapsed": true
   },
   "outputs": [],
   "source": []
  },
  {
   "cell_type": "code",
   "execution_count": 8,
   "metadata": {
    "collapsed": true
   },
   "outputs": [],
   "source": [
    "#%run /XF11ID/analysis/Analysis_Pipelines/Develop/chxanalys/chxanalys/chx_xpcs_xsvs_jupyter_V1.py"
   ]
  },
  {
   "cell_type": "code",
   "execution_count": 9,
   "metadata": {
    "collapsed": true
   },
   "outputs": [],
   "source": [
    "scat_geometry = 'saxs'  #suport 'saxs', 'gi_saxs', 'ang_saxs' (for anisotropics saxs or flow-xpcs)\n",
    "#scat_geometry = 'gi_saxs'  #suport 'saxs', 'gi_saxs', 'ang_saxs' (for anisotropics saxs or flow-xpcs)\n",
    "#scat_geometry = 'gi_waxs'  #suport 'saxs', 'gi_saxs', 'ang_saxs' (for anisotropics saxs or flow-xpcs)\n",
    "                           # gi_waxs define a simple box-shaped ROI \n",
    "\n",
    "force_compress = False #True   #force to compress data \n",
    "bin_frame = False   #generally make bin_frame as False\n",
    "\n",
    "para_compress = True    #parallel compress\n",
    "run_fit_form = False    #run fit form factor \n",
    "run_waterfall = False   #run waterfall analysis\n",
    "run_t_ROI_Inten = True  #run  ROI intensity as a function of time\n",
    "run_one_time = True  #run  one-time\n",
    "#run_fit_g2 = True       #run  fit one-time, the default function is \"stretched exponential\"\n",
    "fit_g2_func = 'stretched'\n",
    "run_two_time =   True  #False #True #True #False    #run  two-time\n",
    "run_four_time = False #True #False   #run  four-time\n",
    "run_xsvs=  False #False         #run visibility analysis\n",
    "att_pdf_report = True    #attach the pdf report to CHX olog\n",
    "qth_interest = 1     #the intested single qth             \n",
    "use_sqnorm = False    #if True, use sq to normalize intensity\n",
    "use_imgsum_norm=True  #if True use imgsum to normalize intensity for one-time calculatoin\n",
    "run_dose = True\n",
    "pdf_version='_realtime_analysis4'     #for pdf report name\n",
    "if scat_geometry == 'gi_saxs':run_xsvs= False \n",
    "if scat_geometry == 'gi_waxs':run_xsvs= False    \n",
    "    \n",
    "  "
   ]
  },
  {
   "cell_type": "code",
   "execution_count": 10,
   "metadata": {
    "collapsed": true
   },
   "outputs": [],
   "source": [
    "CYCLE = '2017_1'  \n",
    "mask_path = '/XF11ID/analysis/2017_1/masks/'\n",
    "mask_name = 'Apr5_4M_SAXS_mask.npy'\n",
    "\n",
    "good_start = 5"
   ]
  },
  {
   "cell_type": "code",
   "execution_count": 11,
   "metadata": {
    "collapsed": false
   },
   "outputs": [
    {
     "name": "stdout",
     "output_type": "stream",
     "text": [
      "Results from this analysis will be stashed in the directory /XF11ID/analysis/2017_1/jain/Results/\n",
      "/XF11ID/analysis/2017_1/jain/Results/\n"
     ]
    }
   ],
   "source": [
    "\n",
    "username =  getpass.getuser()\n",
    "\n",
    "#username = 'jain'\n",
    "\n",
    "data_dir0  = create_user_folder(CYCLE, username)\n",
    "print( data_dir0 )"
   ]
  },
  {
   "cell_type": "code",
   "execution_count": 6,
   "metadata": {
    "collapsed": true
   },
   "outputs": [],
   "source": [
    "# setup_pargs = {'Ldet': 16035.90385,\n",
    "# 'center': [1007, 1016],\n",
    "# 'dpix': 0.075000003562308848,  \n",
    "# 'lambda_': 1.28481,}"
   ]
  },
  {
   "cell_type": "code",
   "execution_count": 7,
   "metadata": {
    "collapsed": false
   },
   "outputs": [],
   "source": [
    "#fp =  '/XF11ID/analysis/2017_1/yuzhang/' + 'Corapal_4M_16m_roi_mask_qval_dict.pkl'\n",
    "#cpk.dump( [roi_mask,qval_dict],  open(fp, 'wb' ) )\n",
    "\n",
    "#roi_mask,qval_dict = cpk.load( open(fp,'rb') )"
   ]
  },
  {
   "cell_type": "code",
   "execution_count": 12,
   "metadata": {
    "collapsed": false
   },
   "outputs": [],
   "source": [
    "fp = data_dir0 + 'roi_mask_16rings_s2.pkl'\n",
    "\n",
    "roi_mask,qval_dict = cpk.load( open(fp, 'rb' )  )  #for load the saved roi data\n",
    "\n",
    "if scat_geometry =='gi_saxs':\n",
    "    fp = data_dir0 + 'gisaxs_test.pkl'\n",
    "    qr_map, qz_map, ticks, Qrs, Qzs,  Qr, Qz, inc_x0 = cpk.load( open(fp, 'rb' )  )\n"
   ]
  },
  {
   "cell_type": "code",
   "execution_count": null,
   "metadata": {
    "collapsed": true
   },
   "outputs": [],
   "source": []
  },
  {
   "cell_type": "code",
   "execution_count": 13,
   "metadata": {
    "collapsed": false
   },
   "outputs": [],
   "source": [
    "run_pargs=  dict(   \n",
    "\n",
    "    scat_geometry = scat_geometry ,\n",
    "    force_compress =  force_compress,    #force to compress data \n",
    "    para_compress = para_compress,             #parallel compress\n",
    "    run_fit_form = run_fit_form,             #run fit form factor  \n",
    "    run_waterfall = run_waterfall,             #run waterfall analysis\n",
    "    run_t_ROI_Inten = False, # run_t_ROI_Inten,          #run  ROI intensity as a function of time\n",
    "    run_one_time =  run_one_time,      #run  one-time\n",
    "    fit_g2_func = fit_g2_func,    \n",
    "    run_two_time =  run_two_time,    #run  two-time\n",
    "    run_four_time =  run_four_time,     #run  four-time\n",
    "    run_xsvs= run_xsvs,            #run visibility analysis\n",
    "    att_pdf_report = att_pdf_report,       #attach the pdf report to CHX olog\n",
    "    show_plot = False,                 \n",
    "    CYCLE =  CYCLE, \n",
    "    mask_path =  mask_path, \n",
    "    mask_name =    mask_name, \n",
    "    good_start   =  good_start,    \n",
    "    qth_interest =  qth_interest, #the intested single qth,            \n",
    "    use_sqnorm = use_sqnorm,  #if True, use sq to normalize intensity\n",
    "    use_imgsum_norm=use_imgsum_norm,#if True use imgsum to normalize intensity for one-time calculatoin\n",
    "    run_dose = run_dose,\n",
    "    pdf_version = pdf_version #for pdf report name \n",
    "    \n",
    ")\n",
    "\n",
    "add_conf = dict(  roi_mask = roi_mask, qval_dict = qval_dict ) \n",
    "\n",
    "if scat_geometry == 'gi_saxs':\n",
    "    add_conf = dict( inc_x0=inc_x0,inc_y0=inc_y0,refl_x0=refl_x0,refl_y0=refl_y0,\n",
    "                    Qr = Qr,Qz= Qz,qr_map=qr_map,qz_map= qz_map)        \n",
    "run_pargs.update( add_conf )\n"
   ]
  },
  {
   "cell_type": "code",
   "execution_count": 14,
   "metadata": {
    "collapsed": false
   },
   "outputs": [
    {
     "data": {
      "text/plain": [
       "(2167, 2070)"
      ]
     },
     "execution_count": 14,
     "metadata": {},
     "output_type": "execute_result"
    }
   ],
   "source": [
    "roi_mask.shape"
   ]
  },
  {
   "cell_type": "code",
   "execution_count": 15,
   "metadata": {
    "collapsed": false
   },
   "outputs": [],
   "source": [
    "#md_update = dict( beam_center_x = 1016,\n",
    "#                  beam_center_y= 1007,\n",
    "#                  det_distance= 16035.90385\n",
    "#                 )\n",
    "md_update = None"
   ]
  },
  {
   "cell_type": "code",
   "execution_count": 12,
   "metadata": {
    "collapsed": false
   },
   "outputs": [],
   "source": [
    "import datetime\n",
    "START_TIME = time.mktime(  datetime.datetime(2017, 4, 7,  10,  0, 0,0).timetuple() ) \n",
    "#STOP_TIME = time.mktime( datetime.datetime(2017, 4,   1,   10,   30, 0,0).timetuple()  )\n",
    "STOP_TIME = time.mktime(  datetime.datetime(2017, 4, 7,  12, 0 , 0,0).timetuple() ) \n",
    "\n",
    "#STOP_TIME = time.mktime( datetime.datetime(2017, 3, 5,  23,  10, 0,0).timetuple() ) "
   ]
  },
  {
   "cell_type": "code",
   "execution_count": 13,
   "metadata": {
    "collapsed": false
   },
   "outputs": [
    {
     "name": "stdout",
     "output_type": "stream",
     "text": [
      "1491278340.0 1491307200.0\n"
     ]
    }
   ],
   "source": [
    "print( START_TIME, STOP_TIME)"
   ]
  },
  {
   "cell_type": "code",
   "execution_count": 14,
   "metadata": {
    "collapsed": true
   },
   "outputs": [],
   "source": [
    "%run /XF11ID/analysis/Analysis_Pipelines/Develop/chxanalys/chxanalys/chx_xpcs_xsvs_jupyter_V1.py"
   ]
  },
  {
   "cell_type": "code",
   "execution_count": 15,
   "metadata": {
    "collapsed": false
   },
   "outputs": [],
   "source": [
    "#run_xpcs_xsvs_single( uid ='751e0ba8',run_pargs= run_pargs, md_cor = md, return_res= False )"
   ]
  },
  {
   "cell_type": "code",
   "execution_count": null,
   "metadata": {
    "collapsed": false,
    "scrolled": false
   },
   "outputs": [
    {
     "name": "stdout",
     "output_type": "stream",
     "text": [
      "Totally 1 uids are found.\n",
      "**************************************************\n",
      "Do compress for 6a28ebf0-e24d-4859-a2c7-dc9289d59ed4 now...\n",
      "Waiting 100 secdons for upcoming data...\n"
     ]
    }
   ],
   "source": [
    "start_time = START_TIME\n",
    "stop_time =  START_TIME\n",
    "#tstep = 10* 60 \n",
    "while stop_time < STOP_TIME:      \n",
    "    stop_time =  time.time()\n",
    "    #print( 'start_time, stop_time:  ')\n",
    "    #print(  datetime.datetime.fromtimestamp(start_time),\n",
    "    #        datetime.datetime.fromtimestamp(stop_time ) )          \n",
    "    realtime_xpcs_analysis( start_time, stop_time,  run_pargs,  md_update = md_update,\n",
    "                           wait_time = 100,  max_try_num = 72  )  #wait two hour here\n",
    "    #print('used time: %s'%used_time)\n",
    "    start_time = stop_time    "
   ]
  },
  {
   "cell_type": "code",
   "execution_count": null,
   "metadata": {
    "collapsed": true
   },
   "outputs": [],
   "source": []
  },
  {
   "cell_type": "code",
   "execution_count": null,
   "metadata": {
    "collapsed": true
   },
   "outputs": [],
   "source": []
  },
  {
   "cell_type": "code",
   "execution_count": null,
   "metadata": {
    "collapsed": true
   },
   "outputs": [],
   "source": []
  },
  {
   "cell_type": "code",
   "execution_count": null,
   "metadata": {
    "collapsed": true
   },
   "outputs": [],
   "source": []
  },
  {
   "cell_type": "code",
   "execution_count": null,
   "metadata": {
    "collapsed": true
   },
   "outputs": [],
   "source": []
  },
  {
   "cell_type": "code",
   "execution_count": null,
   "metadata": {
    "collapsed": true
   },
   "outputs": [],
   "source": []
  },
  {
   "cell_type": "code",
   "execution_count": null,
   "metadata": {
    "collapsed": true
   },
   "outputs": [],
   "source": []
  },
  {
   "cell_type": "code",
   "execution_count": null,
   "metadata": {
    "collapsed": true
   },
   "outputs": [],
   "source": []
  },
  {
   "cell_type": "code",
   "execution_count": null,
   "metadata": {
    "collapsed": true
   },
   "outputs": [],
   "source": []
  },
  {
   "cell_type": "code",
   "execution_count": null,
   "metadata": {
    "collapsed": true
   },
   "outputs": [],
   "source": []
  },
  {
   "cell_type": "code",
   "execution_count": null,
   "metadata": {
    "collapsed": true
   },
   "outputs": [],
   "source": []
  },
  {
   "cell_type": "code",
   "execution_count": null,
   "metadata": {
    "collapsed": true
   },
   "outputs": [],
   "source": []
  },
  {
   "cell_type": "code",
   "execution_count": null,
   "metadata": {
    "collapsed": true
   },
   "outputs": [],
   "source": []
  },
  {
   "cell_type": "code",
   "execution_count": null,
   "metadata": {
    "collapsed": true
   },
   "outputs": [],
   "source": []
  },
  {
   "cell_type": "markdown",
   "metadata": {},
   "source": [
    "# For real-time compress"
   ]
  },
  {
   "cell_type": "code",
   "execution_count": null,
   "metadata": {
    "collapsed": true
   },
   "outputs": [],
   "source": [
    "\n",
    "if False:\n",
    "    start_time = START_TIME\n",
    "    stop_time =  START_TIME\n",
    "    #tstep = 10* 60\n",
    "    while stop_time < STOP_TIME:      \n",
    "        stop_time =  STOP_TIME #time.time()\n",
    "        #print( 'start_time, stop_time:  ')\n",
    "        #print(  datetime.datetime.fromtimestamp(start_time),\n",
    "        #        datetime.datetime.fromtimestamp(stop_time ) )          \n",
    "        used_time = do_compress_on_line( start_time, stop_time, mask_dict,\n",
    "                                       wait_time = 6,  max_try_num = 1 ) \n",
    "        print('used time: %s'%used_time)\n",
    "        start_time = stop_time\n",
    "\n",
    "\n",
    "       \n",
    "    "
   ]
  },
  {
   "cell_type": "code",
   "execution_count": null,
   "metadata": {
    "collapsed": true
   },
   "outputs": [],
   "source": []
  },
  {
   "cell_type": "code",
   "execution_count": null,
   "metadata": {
    "collapsed": true
   },
   "outputs": [],
   "source": []
  }
 ],
 "metadata": {
  "kernelspec": {
   "display_name": "CHX (stable)",
   "language": "",
   "name": "stable"
  },
  "language_info": {
   "codemirror_mode": {
    "name": "ipython",
    "version": 3
   },
   "file_extension": ".py",
   "mimetype": "text/x-python",
   "name": "python",
   "nbconvert_exporter": "python",
   "pygments_lexer": "ipython3",
   "version": "3.5.2"
  }
 },
 "nbformat": 4,
 "nbformat_minor": 2
}
