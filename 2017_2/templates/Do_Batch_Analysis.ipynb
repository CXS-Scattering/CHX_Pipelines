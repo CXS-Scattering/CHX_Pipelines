{
 "cells": [
  {
   "cell_type": "code",
   "execution_count": 20,
   "metadata": {
    "collapsed": true
   },
   "outputs": [],
   "source": [
    "from chxanalys.chx_packages import *\n",
    "#%matplotlib notebook\n",
    "plt.rcParams.update({'figure.max_open_warning': 0})\n",
    "plt.rcParams.update({ 'image.origin': 'lower'   })\n",
    "plt.rcParams.update({ 'image.interpolation': 'none'   })\n",
    "#%reset -f  #for clean up things in the memory\n",
    "from chxanalys.chx_xpcs_xsvs_jupyter_V1 import run_xpcs_xsvs_single, compress_multi_uids,realtime_xpcs_analysis\n",
    "import pickle as cpk\n",
    "\n",
    "import datetime"
   ]
  },
  {
   "cell_type": "code",
   "execution_count": 5,
   "metadata": {
    "collapsed": true
   },
   "outputs": [],
   "source": [
    "os.environ['HTTPS_PROXY'] = 'https://proxy:8888'\n",
    "os.environ['no_proxy'] = 'cs.nsls2.local,localhost,127.0.0.1'"
   ]
  },
  {
   "cell_type": "code",
   "execution_count": null,
   "metadata": {
    "collapsed": true
   },
   "outputs": [],
   "source": []
  },
  {
   "cell_type": "code",
   "execution_count": 6,
   "metadata": {
    "collapsed": true
   },
   "outputs": [],
   "source": [
    "#%run /XF11ID/analysis/Analysis_Pipelines/Develop/chxanalys/chxanalys/chx_xpcs_xsvs_jupyter_V1.py"
   ]
  },
  {
   "cell_type": "code",
   "execution_count": 7,
   "metadata": {
    "collapsed": true
   },
   "outputs": [],
   "source": [
    "scat_geometry = 'saxs'  #suport 'saxs', 'gi_saxs', 'ang_saxs' (for anisotropics saxs or flow-xpcs)\n",
    "#scat_geometry = 'gi_saxs'  #suport 'saxs', 'gi_saxs', 'ang_saxs' (for anisotropics saxs or flow-xpcs)\n",
    "#scat_geometry = 'gi_waxs'  #suport 'saxs', 'gi_saxs', 'ang_saxs' (for anisotropics saxs or flow-xpcs)\n",
    "                           # gi_waxs define a simple box-shaped ROI \n",
    "force_compress = False #True   #force to compress data \n",
    "bin_frame =  False   #generally make bin_frame as False\n",
    "para_compress = True    #parallel compress\n",
    "run_fit_form = False    #run fit form factor \n",
    "run_waterfall =  False #True   #run waterfall analysis\n",
    "run_t_ROI_Inten = True  #run  ROI intensity as a function of time\n",
    "run_one_time =  True  #run  one-time\n",
    "#run_fit_g2 = True       #run  fit one-time, the default function is \"stretched exponential\"\n",
    "fit_g2_func = 'stretched'\n",
    "run_two_time =  True #False    #run  two-time\n",
    "run_four_time = False #True #False   #run  four-time\n",
    "run_xsvs=  False #False         #run visibility analysis\n",
    "att_pdf_report = True    #attach the pdf report to CHX olog\n",
    "qth_interest = 1 #the intested single qth             \n",
    "use_sqnorm = True    #if True, use sq to normalize intensity\n",
    "use_imgsum_norm= True  #if True use imgsum to normalize intensity for one-time calculatoin\n",
    "pdf_version='_ROI32_'     #for pdf report name\n",
    "run_dose = True  #run dose_depend analysis\n",
    "\n",
    "\n",
    "if scat_geometry == 'gi_saxs':run_xsvs= False;use_sqnorm=False\n",
    "if scat_geometry == 'gi_waxs':use_sqnorm = False;\n",
    "     \n",
    "    \n",
    "  "
   ]
  },
  {
   "cell_type": "code",
   "execution_count": 8,
   "metadata": {
    "collapsed": true
   },
   "outputs": [],
   "source": [
    "CYCLE = '2017_2'  \n",
    "mask_path = '/XF11ID/analysis/2017_2/masks/'\n",
    "mask_name = 'Jul13_SAXS.npy'\n",
    "\n",
    "good_start = 5"
   ]
  },
  {
   "cell_type": "code",
   "execution_count": 9,
   "metadata": {},
   "outputs": [
    {
     "name": "stdout",
     "output_type": "stream",
     "text": [
      "Results from this analysis will be stashed in the directory /XF11ID/analysis/2017_2/hilmar/Results/\n",
      "/XF11ID/analysis/2017_2/hilmar/Results/\n"
     ]
    }
   ],
   "source": [
    "username =  getpass.getuser()\n",
    "username = 'hilmar'\n",
    "\n",
    "data_dir0  = create_user_folder(CYCLE, username)\n",
    "print( data_dir0 )"
   ]
  },
  {
   "cell_type": "code",
   "execution_count": 130,
   "metadata": {
    "collapsed": true
   },
   "outputs": [],
   "source": [
    "# setup_pargs = {'Ldet': 16035.90385,\n",
    "# 'center': [1007, 1016],\n",
    "# 'dpix': 0.075000003562308848,  \n",
    "# 'lambda_': 1.28481,}"
   ]
  },
  {
   "cell_type": "code",
   "execution_count": 10,
   "metadata": {},
   "outputs": [
    {
     "name": "stdout",
     "output_type": "stream",
     "text": [
      "/XF11ID/analysis/2017_2/masks/Sam_roi_mask_Jul14.pkl\n"
     ]
    }
   ],
   "source": [
    "path = '/XF11ID/analysis/%s/masks/'%CYCLE\n",
    "#fp = path + 'Coralpor_roi_mask_Jul13.pkl' #for coralpor sample\n",
    "#fp = path + 'Sam_roi_mask_Jul13.pkl'\n",
    "fp = path + 'Sam_roi_mask_Jul14.pkl'\n",
    "roi_mask,qval_dict = cpk.load( open(fp, 'rb' )  )  #for load the saved roi data\n",
    "print(fp)\n",
    "if scat_geometry =='gi_saxs':    \n",
    "    fp = path + 'XX_roi_masks_June4.pkl'\n",
    "    roi_masks,qval_dicts = cpk.load( open(fp, 'rb' )  )  #for load the saved roi data\n",
    "    print(fp)\n",
    "    fp = path + 'XX_qmap_June4.pkl'    \n",
    "    print(fp)\n",
    "    qr_map, qz_map, ticks, Qrs, Qzs,  Qr, Qz, inc_x0,refl_x0, refl_y0 = cpk.load( open(fp, 'rb' )  )\n"
   ]
  },
  {
   "cell_type": "code",
   "execution_count": 12,
   "metadata": {
    "collapsed": true
   },
   "outputs": [],
   "source": [
    "run_pargs=  dict(   \n",
    "\n",
    "    scat_geometry = scat_geometry ,\n",
    "    force_compress =  force_compress,    #force to compress data \n",
    "    para_compress = para_compress,             #parallel compress\n",
    "    run_fit_form = run_fit_form,             #run fit form factor  \n",
    "    run_waterfall = run_waterfall,             #run waterfall analysis\n",
    "    run_t_ROI_Inten =   run_t_ROI_Inten,          #run  ROI intensity as a function of time\n",
    "    run_one_time =  run_one_time,      #run  one-time\n",
    "    fit_g2_func = fit_g2_func,    \n",
    "    run_two_time =  run_two_time,    #run  two-time\n",
    "    run_four_time =  run_four_time,     #run  four-time\n",
    "    run_xsvs= run_xsvs,            #run visibility analysis\n",
    "    att_pdf_report = att_pdf_report,       #attach the pdf report to CHX olog\n",
    "    show_plot = False,                 \n",
    "    CYCLE =  CYCLE, \n",
    "    mask_path =  mask_path, \n",
    "    mask_name =    mask_name, \n",
    "    good_start   =  good_start,    \n",
    "    qth_interest =  qth_interest, #the intested single qth,            \n",
    "    use_sqnorm = use_sqnorm,  #if True, use sq to normalize intensity\n",
    "    use_imgsum_norm=use_imgsum_norm,#if True use imgsum to normalize intensity for one-time calculatoin\n",
    "    run_dose = run_dose,\n",
    "    pdf_version = pdf_version #for pdf report name \n",
    "    \n",
    ")\n",
    "\n",
    "\n",
    "add_conf = dict(  roi_mask = roi_mask,\n",
    "                  qval_dict = qval_dict,\n",
    "                  inc_x0 = 999,\n",
    "                  inc_y0=  1093,                   \n",
    "                  username = 'hilmar',                   \n",
    "                 )\n",
    " \n",
    "\n",
    "if scat_geometry == 'gi_saxs':\n",
    "    add_conf = dict( inc_x0=inc_x0,inc_y0=inc_y0,refl_x0=refl_x0,refl_y0=refl_y0, \n",
    "                    Qr = Qr,Qz= Qz,qr_map=qr_map,qz_map= qz_map)  \n",
    "\n",
    "    \n",
    "run_pargs.update( add_conf )\n"
   ]
  },
  {
   "cell_type": "code",
   "execution_count": 13,
   "metadata": {},
   "outputs": [
    {
     "data": {
      "text/plain": [
       "{'CYCLE': '2017_2',\n",
       " 'att_pdf_report': True,\n",
       " 'fit_g2_func': 'stretched',\n",
       " 'force_compress': False,\n",
       " 'good_start': 5,\n",
       " 'inc_x0': 999,\n",
       " 'inc_y0': 1093,\n",
       " 'mask_name': 'Jul13_SAXS.npy',\n",
       " 'mask_path': '/XF11ID/analysis/2017_2/masks/',\n",
       " 'para_compress': True,\n",
       " 'pdf_version': '_ROI32_',\n",
       " 'qth_interest': 1,\n",
       " 'qval_dict': {0: array([ 0.00329]),\n",
       "  1: array([ 0.00576]),\n",
       "  2: array([ 0.00822]),\n",
       "  3: array([ 0.01069]),\n",
       "  4: array([ 0.01315]),\n",
       "  5: array([ 0.01562]),\n",
       "  6: array([ 0.01808]),\n",
       "  7: array([ 0.02055]),\n",
       "  8: array([ 0.02301]),\n",
       "  9: array([ 0.02548]),\n",
       "  10: array([ 0.02794]),\n",
       "  11: array([ 0.03041]),\n",
       "  12: array([ 0.03287]),\n",
       "  13: array([ 0.03534]),\n",
       "  14: array([ 0.0378]),\n",
       "  15: array([ 0.04027]),\n",
       "  16: array([ 0.04273]),\n",
       "  17: array([ 0.0452]),\n",
       "  18: array([ 0.04766]),\n",
       "  19: array([ 0.05013]),\n",
       "  20: array([ 0.05259]),\n",
       "  21: array([ 0.05506]),\n",
       "  22: array([ 0.05752]),\n",
       "  23: array([ 0.05999]),\n",
       "  24: array([ 0.06245]),\n",
       "  25: array([ 0.06492]),\n",
       "  26: array([ 0.06738]),\n",
       "  27: array([ 0.06985]),\n",
       "  28: array([ 0.07231]),\n",
       "  29: array([ 0.07478]),\n",
       "  30: array([ 0.07724]),\n",
       "  31: array([ 0.07971])},\n",
       " 'roi_mask': array([[0, 0, 0, ..., 0, 0, 0],\n",
       "        [0, 0, 0, ..., 0, 0, 0],\n",
       "        [0, 0, 0, ..., 0, 0, 0],\n",
       "        ..., \n",
       "        [0, 0, 0, ..., 0, 0, 0],\n",
       "        [0, 0, 0, ..., 0, 0, 0],\n",
       "        [0, 0, 0, ..., 0, 0, 0]]),\n",
       " 'run_dose': True,\n",
       " 'run_fit_form': False,\n",
       " 'run_four_time': False,\n",
       " 'run_one_time': True,\n",
       " 'run_t_ROI_Inten': True,\n",
       " 'run_two_time': True,\n",
       " 'run_waterfall': False,\n",
       " 'run_xsvs': False,\n",
       " 'scat_geometry': 'saxs',\n",
       " 'show_plot': False,\n",
       " 'use_imgsum_norm': True,\n",
       " 'use_sqnorm': True,\n",
       " 'username': 'hilmar'}"
      ]
     },
     "execution_count": 13,
     "metadata": {},
     "output_type": "execute_result"
    }
   ],
   "source": [
    "run_pargs"
   ]
  },
  {
   "cell_type": "code",
   "execution_count": 14,
   "metadata": {
    "collapsed": true
   },
   "outputs": [],
   "source": [
    "md_update = dict( \n",
    "                   \n",
    "                 )\n",
    "md_update = None"
   ]
  },
  {
   "cell_type": "code",
   "execution_count": 145,
   "metadata": {
    "collapsed": true
   },
   "outputs": [],
   "source": [
    "import datetime\n",
    "START_TIME = time.mktime(  datetime.datetime(2017, 7, 13,  22,  17, 0,0).timetuple() ) \n",
    "#STOP_TIME = time.mktime( datetime.datetime(2017, 4,   1,   10,   30, 0,0).timetuple()  )\n",
    "STOP_TIME = time.mktime(  datetime.datetime(2017, 7, 14,  13,  33, 0,0).timetuple() ) \n",
    "#STOP_TIME = time.mktime( datetime.datetime(2017, 3, 5,  23,  10, 0,0).timetuple() ) \n",
    " "
   ]
  },
  {
   "cell_type": "code",
   "execution_count": 27,
   "metadata": {
    "collapsed": true
   },
   "outputs": [],
   "source": [
    "import datetime\n",
    "START_TIME = time.mktime(  datetime.datetime(2017, 7, 14,  2,  6, 0,0).timetuple() ) \n",
    "#STOP_TIME = time.mktime( datetime.datetime(2017, 4,   1,   10,   30, 0,0).timetuple()  )\n",
    "STOP_TIME = time.mktime(  datetime.datetime(2017, 7, 14,  17, 0, 0,0).timetuple() ) \n",
    "#STOP_TIME = time.mktime( datetime.datetime(2017, 3, 5,  23,  10, 0,0).timetuple() ) \n",
    "\n"
   ]
  },
  {
   "cell_type": "code",
   "execution_count": null,
   "metadata": {
    "collapsed": true
   },
   "outputs": [],
   "source": []
  },
  {
   "cell_type": "code",
   "execution_count": 28,
   "metadata": {},
   "outputs": [
    {
     "name": "stdout",
     "output_type": "stream",
     "text": [
      "1500012360.0 1500066000.0\n"
     ]
    }
   ],
   "source": [
    "print( START_TIME, STOP_TIME)"
   ]
  },
  {
   "cell_type": "code",
   "execution_count": 29,
   "metadata": {
    "collapsed": true
   },
   "outputs": [],
   "source": [
    "%run /XF11ID/analysis/Analysis_Pipelines/Develop/chxanalys/chxanalys/chx_xpcs_xsvs_jupyter_V1.py"
   ]
  },
  {
   "cell_type": "code",
   "execution_count": 30,
   "metadata": {
    "collapsed": true
   },
   "outputs": [],
   "source": [
    "#run_xpcs_xsvs_single( uid ='751e0ba8',run_pargs= run_pargs, md_cor = md, return_res= False )"
   ]
  },
  {
   "cell_type": "code",
   "execution_count": 31,
   "metadata": {},
   "outputs": [
    {
     "name": "stdout",
     "output_type": "stream",
     "text": [
      "Totally 140 uids are found.\n",
      "['50dc9f95' 'e5876404' '4914b0eb' 'a196f807' 'f02330a7' 'dd375415'\n",
      " '5f4b935a' '0eb5bead' '5c98a1a4' 'e32348b5' 'f7a910a9' '0592ccd6'\n",
      " '8127fa39' '69a1cf12' 'dafae351' 'a7180dc4' '34958b99' 'e6a5cf69'\n",
      " 'f722cd36' '65bf1cfb' 'a8f3c32a' 'a06b538d' 'ed249bb6' '92e40eda'\n",
      " '6e5c13b5' '9b3b7bfe' '67417b01' 'f726f62b' '89885207' 'cffd412f'\n",
      " 'f1c1e02e' '083d01c4' '94da77c8' '4ad7d52b' 'e91f4418' '953f5eda'\n",
      " '97d800c9' '8ca4cfbe' '084631b6' '04a7e2dd' '56819823' '72753e73'\n",
      " '80d5b7d1' 'be90c7eb' '30411df8' 'a0ecaeab' 'c038952b' '0335b8e4'\n",
      " '0333aec6' 'cd0e10ae' '650a91ec' '53124aef' 'a8fb0315' '34568f0c'\n",
      " 'dc7c3e0a' 'f6bdffee' 'cc84c5ff' 'cb9f0876' '534bda78' '55ac0900'\n",
      " 'fcb06181' '89ba37e2' 'e28dbf63' '5d36c6d2' 'db4e0e97' '6270f754'\n",
      " '8c55f1c7' 'b1d01451' 'd168dba4' 'd50945de' 'd1183599' 'df2cc9f7'\n",
      " '3c10cfd1' '2d740aa7' 'fbe4fb2b' '63472686' '7aeea85d' 'fb1645cd'\n",
      " '6696b921' '50712cb5' '4bea4992' 'ead9f90b' '7dab0cc3' '66dc0ffb'\n",
      " 'a36e26b7' 'd606a85b' '5712595b' '0b8ee11e' 'df137577' '8eb937cf'\n",
      " 'd9e8710c' 'c66705e8' '9624c3fd' '37205533' '32dfcd7c' 'a7a8ce7f'\n",
      " '29402551' '6d3ac6be' 'c262dae9' 'bd9b46fa' '1d4d9a9a' '36447aa9'\n",
      " '2a1fdd0d' '358e7df3' '3ffcae2b' '5db5b5e1' 'fb4a9b71' 'fafcfa09'\n",
      " '771efefb' '53f2bddc' 'bb1c665c' '8497464c' '15912e5a' '874a82e0'\n",
      " '7d494653' 'faffa8f4' '2191e13c' 'c037c0b3' '5cc3dae1' 'e655099b'\n",
      " '3f0354d2' 'b1f2cd2d' 'c7b6eaeb' 'c181ca8c' '621c7f3e' 'de67e9d0'\n",
      " '0bcf5f9d' '57786a3f' '4a56a4da' '18a07687' 'fdbf3af4' '2a4adacf'\n",
      " '35b0739a' '4829ed0e' '85be1363' '608eec76' 'fb3fc754' 'e366bf0c'\n",
      " '419b8d48' 'e245824f'] ['50dc9f95-4146-41a7-8cda-7809e63485b5'\n",
      " 'e5876404-1885-416b-b0ca-f2226e6622ea'\n",
      " '4914b0eb-2626-4ecd-994f-05563e802477'\n",
      " 'a196f807-1202-4ff8-80c4-00134fe4eef9'\n",
      " 'f02330a7-fb0f-4b4c-abd0-9b80d590a3ff'\n",
      " 'dd375415-56a2-468c-b9e6-393a0dc0a954'\n",
      " '5f4b935a-6d5e-4767-9b20-b421e628f916'\n",
      " '0eb5bead-cbf8-448d-893d-ee0a6d4bb783'\n",
      " '5c98a1a4-08ef-4faa-8f75-0d12af54a795'\n",
      " 'e32348b5-54c8-46b3-8b10-0da18618e8cf'\n",
      " 'f7a910a9-d3be-47b9-8624-0c500d651e42'\n",
      " '0592ccd6-58d9-4920-a368-6b91c6cd3023'\n",
      " '8127fa39-c136-4c8c-aa79-e82fbb7e3c9c'\n",
      " '69a1cf12-da06-4155-946a-8efdae068fce'\n",
      " 'dafae351-7f60-41aa-86bc-e248e61a39b8'\n",
      " 'a7180dc4-0013-41cd-a6a2-29d1c0d04d2a'\n",
      " '34958b99-5059-4778-a156-62a4da7c2f49'\n",
      " 'e6a5cf69-5e98-47d3-a6b8-92295556700b'\n",
      " 'f722cd36-2e34-4d33-9b9d-96f2cb26d415'\n",
      " '65bf1cfb-e5f4-4616-93d7-3d285abe50f4'\n",
      " 'a8f3c32a-6f8e-477a-b011-daa5b1cbc21e'\n",
      " 'a06b538d-ceac-4b0b-849b-ed3ecbf2d0d4'\n",
      " 'ed249bb6-8c45-4463-b365-c93544235415'\n",
      " '92e40eda-06b4-458f-b5cf-f3e113c864d7'\n",
      " '6e5c13b5-6ecf-4de4-b362-09ee0c5433bb'\n",
      " '9b3b7bfe-f383-4a5d-86d5-f0c2347d18cc'\n",
      " '67417b01-654a-45fb-8ee0-a1eeff3b8726'\n",
      " 'f726f62b-f1bc-4146-8621-7321677c2507'\n",
      " '89885207-a3b5-4d02-bdb8-81073675e229'\n",
      " 'cffd412f-b245-4c01-aa44-cd383c6604ab'\n",
      " 'f1c1e02e-57c7-41d3-a070-d500b5a19daa'\n",
      " '083d01c4-1721-4726-9c73-5292d0bf1868'\n",
      " '94da77c8-cf11-4e99-80fe-9f8aabfee9fc'\n",
      " '4ad7d52b-3205-4aaf-8eda-a27f0272d450'\n",
      " 'e91f4418-e25b-4a61-895f-9c5e43299c1a'\n",
      " '953f5eda-c15e-4848-af10-10341fdc580d'\n",
      " '97d800c9-b1db-464d-a9cd-23f8e70f5248'\n",
      " '8ca4cfbe-9227-4454-809a-9c36bff7355e'\n",
      " '084631b6-58c2-420a-a0ce-18f53770556e'\n",
      " '04a7e2dd-27f9-4320-a736-46e30138c84c'\n",
      " '56819823-a8a1-48e5-8822-c6634ecb5459'\n",
      " '72753e73-9e6f-4c09-8e46-2f99141d0643'\n",
      " '80d5b7d1-43a2-46e9-901a-5b4b1ee3f45d'\n",
      " 'be90c7eb-f75f-40c7-b47e-fc311b928a7a'\n",
      " '30411df8-08fa-4792-8f1d-c4536560f5d2'\n",
      " 'a0ecaeab-24d3-446e-b408-00c0dc619909'\n",
      " 'c038952b-97ac-42fb-93f0-50809d9aa890'\n",
      " '0335b8e4-905f-4a67-bf39-8bdb204ea4be'\n",
      " '0333aec6-1728-4352-a7c5-b09ec233e438'\n",
      " 'cd0e10ae-403e-488d-a3f0-757410912b7a'\n",
      " '650a91ec-1284-4dba-9474-59d58169b919'\n",
      " '53124aef-a3e7-4e9c-8571-073e433b4d04'\n",
      " 'a8fb0315-12fe-4381-b9c2-761b8d5d40b6'\n",
      " '34568f0c-38ae-4be2-8fbd-f3a06d416ca0'\n",
      " 'dc7c3e0a-8bf6-4fad-b1e7-fd8b29e0d146'\n",
      " 'f6bdffee-db30-4597-b835-9066606f370c'\n",
      " 'cc84c5ff-99cd-4b8e-bca6-6347527504e0'\n",
      " 'cb9f0876-c271-448e-83de-04eb70bb4b6d'\n",
      " '534bda78-908b-4864-b0cd-7e3149fd2f9d'\n",
      " '55ac0900-d499-4908-88e0-9a4cf320141d'\n",
      " 'fcb06181-c36d-4804-be55-87a54ef90c7b'\n",
      " '89ba37e2-b139-46d3-9a3e-fc19b11af747'\n",
      " 'e28dbf63-682f-42fd-8729-38a02ba0a137'\n",
      " '5d36c6d2-366c-4166-a3a7-2c78cebf2b9c'\n",
      " 'db4e0e97-c864-403f-872c-ce36a4ad1773'\n",
      " '6270f754-04e4-45a3-8459-8fdf19ea6c16'\n",
      " '8c55f1c7-8f3c-4632-80c2-bab7d6c7df8c'\n",
      " 'b1d01451-da40-4af8-8ab3-d55fb0a64e34'\n",
      " 'd168dba4-68ea-49d9-901b-612686c86b3f'\n",
      " 'd50945de-95f2-4e1c-8d3c-d8b8240503bf'\n",
      " 'd1183599-f1c8-4a0d-8152-9dab045e4e9e'\n",
      " 'df2cc9f7-43c6-425b-ad35-a0fbbd46935c'\n",
      " '3c10cfd1-2167-4b03-8d2e-bd70523ea64e'\n",
      " '2d740aa7-af87-46cd-bad4-afd110204e30'\n",
      " 'fbe4fb2b-28c7-423b-b62d-2c30b6347cd4'\n",
      " '63472686-50dd-47a1-8544-91f546ab1870'\n",
      " '7aeea85d-ac62-4bdc-81b5-715a542c3b90'\n",
      " 'fb1645cd-fdbc-4d79-a7f0-e7984719d07c'\n",
      " '6696b921-9163-4789-8fd5-1fbafcf11083'\n",
      " '50712cb5-47fe-4c17-aad8-b63f09749043'\n",
      " '4bea4992-82e3-4b29-bafe-ed209e053e54'\n",
      " 'ead9f90b-c446-4938-aa07-58fb4711acd8'\n",
      " '7dab0cc3-e81e-4e28-b4c8-8d6506ebe917'\n",
      " '66dc0ffb-396f-45f0-b5d2-5a076233755d'\n",
      " 'a36e26b7-0c7e-402e-977b-f5fe012430b3'\n",
      " 'd606a85b-1955-4544-92e5-f03a25d5ce11'\n",
      " '5712595b-f09f-4abf-b8c6-3617c354ac7e'\n",
      " '0b8ee11e-2c65-4526-8156-e0c7faa7faad'\n",
      " 'df137577-a014-4767-bdb4-8f33f794c2c2'\n",
      " '8eb937cf-8482-4d78-bb42-44cbd5981e92'\n",
      " 'd9e8710c-6f7e-4dcf-8c9e-6809c7609788'\n",
      " 'c66705e8-51af-410f-8a7c-7f548bcfd3fc'\n",
      " '9624c3fd-a703-41d0-84d7-7907627f5f7d'\n",
      " '37205533-d1fd-4c3e-949d-350e2891ce6f'\n",
      " '32dfcd7c-3e1c-45ce-8cc3-c1d1e032f633'\n",
      " 'a7a8ce7f-9f2f-49d4-a049-19cef82e1e99'\n",
      " '29402551-3d52-4450-98f8-549ff13f2ca2'\n",
      " '6d3ac6be-6f8b-4a7d-a755-99b7c09e4f8c'\n",
      " 'c262dae9-4c49-4a77-a1bf-77ec5f5a4a33'\n",
      " 'bd9b46fa-a0a5-41fd-92d3-f24dd6747a97'\n",
      " '1d4d9a9a-3275-4082-b69a-9948c78b4d21'\n",
      " '36447aa9-2665-44c0-bd36-8a9b8378fb6f'\n",
      " '2a1fdd0d-5c59-45aa-8b71-ce1815897361'\n",
      " '358e7df3-f75d-4f9b-9fda-da32ba254542'\n",
      " '3ffcae2b-6e55-4809-81ca-25029a4d5585'\n",
      " '5db5b5e1-23e6-4ee5-bdc7-cf6067442437'\n",
      " 'fb4a9b71-399a-497c-9cb4-1d7a813a3686'\n",
      " 'fafcfa09-3005-4689-b488-2da37cb38b92'\n",
      " '771efefb-ab5e-43dc-938f-b411541686fd'\n",
      " '53f2bddc-0208-470d-87a8-696ce7bf2014'\n",
      " 'bb1c665c-9bae-4dbe-92e5-6980dfc8d441'\n",
      " '8497464c-3477-4690-b8d3-250dbe83f6bb'\n",
      " '15912e5a-157d-41fe-af50-30c3a7cd2608'\n",
      " '874a82e0-a842-4cd8-811c-f216b2df1c24'\n",
      " '7d494653-f4da-457d-b072-71f6025994f3'\n",
      " 'faffa8f4-e877-46d9-bbab-7769e20d5503'\n",
      " '2191e13c-961e-48dc-92d4-bbaf6bb4f644'\n",
      " 'c037c0b3-bbd9-464e-b8d9-ce4f82127632'\n",
      " '5cc3dae1-94d8-46cf-9710-7b200deb4b32'\n",
      " 'e655099b-087e-44dd-9e20-91f9d55a1ecd'\n",
      " '3f0354d2-85b7-481a-a2d4-bddf30d1d7b3'\n",
      " 'b1f2cd2d-4db4-4e9e-8ba1-d9fca50556e9'\n",
      " 'c7b6eaeb-bcbf-4653-9cc2-6427051010f6'\n",
      " 'c181ca8c-6d2f-4825-a950-75df5628dc2e'\n",
      " '621c7f3e-f199-4ffa-bc13-ae8933fae737'\n",
      " 'de67e9d0-6d11-4ec3-9361-a9ffd563d044'\n",
      " '0bcf5f9d-3b36-4481-b102-5a3ab41fe4fc'\n",
      " '57786a3f-733e-409c-bb27-c739104036af'\n",
      " '4a56a4da-1f69-4836-802e-6abe28533782'\n",
      " '18a07687-16ed-4d84-a073-825693349eff'\n",
      " 'fdbf3af4-f251-42fb-8310-e3878b9b6575'\n",
      " '2a4adacf-c152-4fa8-9b49-2deeaf6d9044'\n",
      " '35b0739a-ab87-46b4-8ea9-73b3b20383ee'\n",
      " '4829ed0e-cfee-4d42-89ce-fdebcc7e26e4'\n",
      " '85be1363-960a-4074-a39b-67b5f6cd4c9e'\n",
      " '608eec76-758b-4519-8520-7c4812928da7'\n",
      " 'fb3fc754-5f2a-4506-b208-85876b47ec22'\n",
      " 'e366bf0c-9091-4d3b-a90b-57bc7f2c4bd4'\n",
      " '419b8d48-9509-4599-b1e3-b2ca46a7004c'\n",
      " 'e245824f-e6bf-435c-b9a0-0c4e565f1d4a']\n"
     ]
    }
   ],
   "source": [
    "uids, fuids  = get_uids_in_time_period(START_TIME, STOP_TIME) \n",
    "print(uids, fuids)"
   ]
  },
  {
   "cell_type": "code",
   "execution_count": null,
   "metadata": {
    "collapsed": true
   },
   "outputs": [],
   "source": []
  },
  {
   "cell_type": "code",
   "execution_count": 32,
   "metadata": {
    "collapsed": true
   },
   "outputs": [],
   "source": [
    "%run ~/chxanalys_link/chxanalys/chx_generic_functions.py"
   ]
  },
  {
   "cell_type": "code",
   "execution_count": 33,
   "metadata": {},
   "outputs": [
    {
     "name": "stdout",
     "output_type": "stream",
     "text": [
      "(3817, '50dc9f95-4146-41a7-8cda-7809e63485b5', ['/XF11ID/data/2017/07/14/b18d74fa-1e4a-47cd-8514_11755'])\n",
      "Sliced and/or processed EigerImages2. Original repr:\n",
      "    <Frames>\n",
      "    Length: 2000 frames\n",
      "    Frame Shape: 2167 x 2070\n",
      "    Pixel Datatype: uint16\n",
      "(3818, 'e5876404-1885-416b-b0ca-f2226e6622ea', ['/XF11ID/data/2017/07/14/3a4c3f30-d895-4fcb-8277_11756'])\n",
      "Sliced and/or processed EigerImages2. Original repr:\n",
      "    <Frames>\n",
      "    Length: 2000 frames\n",
      "    Frame Shape: 2167 x 2070\n",
      "    Pixel Datatype: uint16\n",
      "(3819, '4914b0eb-2626-4ecd-994f-05563e802477', ['/XF11ID/data/2017/07/14/33fb2250-2e1b-4855-849c_11757'])\n",
      "Sliced and/or processed EigerImages2. Original repr:\n",
      "    <Frames>\n",
      "    Length: 2000 frames\n",
      "    Frame Shape: 2167 x 2070\n",
      "    Pixel Datatype: uint16\n",
      "(3820, 'a196f807-1202-4ff8-80c4-00134fe4eef9', ['/XF11ID/data/2017/07/14/2b571de9-7603-4d83-9e3d_11758'])\n",
      "Sliced and/or processed EigerImages2. Original repr:\n",
      "    <Frames>\n",
      "    Length: 2000 frames\n",
      "    Frame Shape: 2167 x 2070\n",
      "    Pixel Datatype: uint16\n",
      "(3821, 'f02330a7-fb0f-4b4c-abd0-9b80d590a3ff', ['/XF11ID/data/2017/07/14/2506e4de-93d0-4544-bef8_11759'])\n",
      "Sliced and/or processed EigerImages2. Original repr:\n",
      "    <Frames>\n",
      "    Length: 2000 frames\n",
      "    Frame Shape: 2167 x 2070\n",
      "    Pixel Datatype: uint16\n",
      "(3822, 'dd375415-56a2-468c-b9e6-393a0dc0a954', ['/XF11ID/data/2017/07/14/3020ecba-789d-4084-8e09_11760'])\n",
      "Sliced and/or processed EigerImages2. Original repr:\n",
      "    <Frames>\n",
      "    Length: 2000 frames\n",
      "    Frame Shape: 2167 x 2070\n",
      "    Pixel Datatype: uint16\n",
      "(3823, '5f4b935a-6d5e-4767-9b20-b421e628f916', ['/XF11ID/data/2017/07/14/c7eacae9-2d3f-437f-96de_11761'])\n",
      "Sliced and/or processed EigerImages2. Original repr:\n",
      "    <Frames>\n",
      "    Length: 2000 frames\n",
      "    Frame Shape: 2167 x 2070\n",
      "    Pixel Datatype: uint16\n",
      "(3824, '0eb5bead-cbf8-448d-893d-ee0a6d4bb783', ['/XF11ID/data/2017/07/14/663f9925-5d94-4b52-b60a_11762'])\n",
      "Sliced and/or processed EigerImages2. Original repr:\n",
      "    <Frames>\n",
      "    Length: 2000 frames\n",
      "    Frame Shape: 2167 x 2070\n",
      "    Pixel Datatype: uint16\n",
      "(3825, '5c98a1a4-08ef-4faa-8f75-0d12af54a795', ['/XF11ID/data/2017/07/14/f82a0ae0-6625-47a9-a507_11763'])\n",
      "Sliced and/or processed EigerImages2. Original repr:\n",
      "    <Frames>\n",
      "    Length: 2000 frames\n",
      "    Frame Shape: 2167 x 2070\n",
      "    Pixel Datatype: uint16\n",
      "(3826, 'e32348b5-54c8-46b3-8b10-0da18618e8cf', ['/XF11ID/data/2017/07/14/9b79b6bf-9748-43f5-b870_11764'])\n",
      "Sliced and/or processed EigerImages2. Original repr:\n",
      "    <Frames>\n",
      "    Length: 2000 frames\n",
      "    Frame Shape: 2167 x 2070\n",
      "    Pixel Datatype: uint16\n",
      "(3827, 'f7a910a9-d3be-47b9-8624-0c500d651e42', ['/XF11ID/data/2017/07/14/1e0846f5-ddc0-4e9d-8d8b_11765'])\n",
      "Sliced and/or processed EigerImages2. Original repr:\n",
      "    <Frames>\n",
      "    Length: 2000 frames\n",
      "    Frame Shape: 2167 x 2070\n",
      "    Pixel Datatype: uint16\n",
      "(3828, '0592ccd6-58d9-4920-a368-6b91c6cd3023', ['/XF11ID/data/2017/07/14/cff1155f-16ae-4d9b-a035_11766'])\n",
      "Sliced and/or processed EigerImages2. Original repr:\n",
      "    <Frames>\n",
      "    Length: 2000 frames\n",
      "    Frame Shape: 2167 x 2070\n",
      "    Pixel Datatype: uint16\n",
      "(3829, '8127fa39-c136-4c8c-aa79-e82fbb7e3c9c', ['/XF11ID/data/2017/07/14/8f9f503c-783d-4799-8f8f_11767'])\n",
      "Sliced and/or processed EigerImages2. Original repr:\n",
      "    <Frames>\n",
      "    Length: 5000 frames\n",
      "    Frame Shape: 2167 x 2070\n",
      "    Pixel Datatype: uint32\n",
      "(3830, '69a1cf12-da06-4155-946a-8efdae068fce', ['/XF11ID/data/2017/07/14/e188a537-7fe5-42e3-bf12_11768'])\n",
      "Sliced and/or processed EigerImages2. Original repr:\n",
      "    <Frames>\n",
      "    Length: 2000 frames\n",
      "    Frame Shape: 2167 x 2070\n",
      "    Pixel Datatype: uint16\n",
      "(3831, 'dafae351-7f60-41aa-86bc-e248e61a39b8', ['/XF11ID/data/2017/07/14/c7a54077-6ead-4a42-ab45_11769'])\n",
      "Sliced and/or processed EigerImages2. Original repr:\n",
      "    <Frames>\n",
      "    Length: 2000 frames\n",
      "    Frame Shape: 2167 x 2070\n",
      "    Pixel Datatype: uint16\n",
      "(3832, 'a7180dc4-0013-41cd-a6a2-29d1c0d04d2a', ['/XF11ID/data/2017/07/14/49c017cb-bb5b-4b80-9697_11770'])\n",
      "Sliced and/or processed EigerImages2. Original repr:\n",
      "    <Frames>\n",
      "    Length: 5000 frames\n",
      "    Frame Shape: 2167 x 2070\n",
      "    Pixel Datatype: uint32\n",
      "(3833, '34958b99-5059-4778-a156-62a4da7c2f49', ['/XF11ID/data/2017/07/14/ec130623-ded9-413f-abd0_11771'])\n",
      "Sliced and/or processed EigerImages2. Original repr:\n",
      "    <Frames>\n",
      "    Length: 2000 frames\n",
      "    Frame Shape: 2167 x 2070\n",
      "    Pixel Datatype: uint16\n",
      "(3834, 'e6a5cf69-5e98-47d3-a6b8-92295556700b', ['/XF11ID/data/2017/07/14/e1869af2-f491-4f8a-a2e9_11772'])\n",
      "Sliced and/or processed EigerImages2. Original repr:\n",
      "    <Frames>\n",
      "    Length: 2000 frames\n",
      "    Frame Shape: 2167 x 2070\n",
      "    Pixel Datatype: uint16\n",
      "(3835, 'f722cd36-2e34-4d33-9b9d-96f2cb26d415', ['/XF11ID/data/2017/07/14/3b79f0c3-37f7-4a5d-90a1_11773'])\n",
      "Sliced and/or processed EigerImages2. Original repr:\n",
      "    <Frames>\n",
      "    Length: 5000 frames\n",
      "    Frame Shape: 2167 x 2070\n",
      "    Pixel Datatype: uint32\n",
      "(3836, '65bf1cfb-e5f4-4616-93d7-3d285abe50f4', ['/XF11ID/data/2017/07/14/57ebb800-e3e6-4872-934b_11774'])\n",
      "Sliced and/or processed EigerImages2. Original repr:\n",
      "    <Frames>\n",
      "    Length: 2000 frames\n",
      "    Frame Shape: 2167 x 2070\n",
      "    Pixel Datatype: uint16\n",
      "(3837, 'a8f3c32a-6f8e-477a-b011-daa5b1cbc21e', ['/XF11ID/data/2017/07/14/ea9d08e3-1520-47c0-8624_11775'])\n",
      "Sliced and/or processed EigerImages2. Original repr:\n",
      "    <Frames>\n",
      "    Length: 2000 frames\n",
      "    Frame Shape: 2167 x 2070\n",
      "    Pixel Datatype: uint16\n",
      "(3838, 'a06b538d-ceac-4b0b-849b-ed3ecbf2d0d4', ['/XF11ID/data/2017/07/14/3bafcd7c-eae3-4c48-8016_11776'])\n",
      "Sliced and/or processed EigerImages2. Original repr:\n",
      "    <Frames>\n",
      "    Length: 5000 frames\n",
      "    Frame Shape: 2167 x 2070\n",
      "    Pixel Datatype: uint32\n",
      "(3839, 'ed249bb6-8c45-4463-b365-c93544235415', ['/XF11ID/data/2017/07/14/3ed6e64c-ff7c-430f-87a8_11777'])\n",
      "Sliced and/or processed EigerImages2. Original repr:\n",
      "    <Frames>\n",
      "    Length: 2000 frames\n",
      "    Frame Shape: 2167 x 2070\n",
      "    Pixel Datatype: uint16\n",
      "(3840, '92e40eda-06b4-458f-b5cf-f3e113c864d7', ['/XF11ID/data/2017/07/14/8e78fa6b-c98f-4698-a0b8_11778'])\n",
      "Sliced and/or processed EigerImages2. Original repr:\n",
      "    <Frames>\n",
      "    Length: 2000 frames\n",
      "    Frame Shape: 2167 x 2070\n",
      "    Pixel Datatype: uint16\n",
      "(3841, '6e5c13b5-6ecf-4de4-b362-09ee0c5433bb', ['/XF11ID/data/2017/07/14/5c7c45a1-dd57-4a78-9358_11779'])\n",
      "Sliced and/or processed EigerImages2. Original repr:\n",
      "    <Frames>\n",
      "    Length: 5000 frames\n",
      "    Frame Shape: 2167 x 2070\n",
      "    Pixel Datatype: uint32\n",
      "(3842, '9b3b7bfe-f383-4a5d-86d5-f0c2347d18cc', ['/XF11ID/data/2017/07/14/16acf740-2612-41f9-ae28_11780'])\n",
      "Sliced and/or processed EigerImages2. Original repr:\n",
      "    <Frames>\n",
      "    Length: 2000 frames\n",
      "    Frame Shape: 2167 x 2070\n",
      "    Pixel Datatype: uint16\n",
      "(3843, '67417b01-654a-45fb-8ee0-a1eeff3b8726', ['/XF11ID/data/2017/07/14/53a44cb2-4c4c-4505-b657_11781'])\n",
      "Sliced and/or processed EigerImages2. Original repr:\n",
      "    <Frames>\n",
      "    Length: 2000 frames\n",
      "    Frame Shape: 2167 x 2070\n",
      "    Pixel Datatype: uint16\n",
      "(3844, 'f726f62b-f1bc-4146-8621-7321677c2507', ['/XF11ID/data/2017/07/14/367fc9cd-07c0-4037-84b6_11782'])\n",
      "Sliced and/or processed EigerImages2. Original repr:\n",
      "    <Frames>\n",
      "    Length: 5000 frames\n",
      "    Frame Shape: 2167 x 2070\n",
      "    Pixel Datatype: uint32\n",
      "(3845, '89885207-a3b5-4d02-bdb8-81073675e229', ['/XF11ID/data/2017/07/14/2d27a7fc-a48e-41ce-9915_11783'])\n",
      "Sliced and/or processed EigerImages2. Original repr:\n",
      "    <Frames>\n",
      "    Length: 2000 frames\n",
      "    Frame Shape: 2167 x 2070\n",
      "    Pixel Datatype: uint16\n",
      "(3846, 'cffd412f-b245-4c01-aa44-cd383c6604ab', ['/XF11ID/data/2017/07/14/ceb6ab62-9cbc-4f1d-b9fa_11784'])\n",
      "Sliced and/or processed EigerImages2. Original repr:\n",
      "    <Frames>\n",
      "    Length: 2000 frames\n",
      "    Frame Shape: 2167 x 2070\n",
      "    Pixel Datatype: uint16\n",
      "(3847, 'f1c1e02e-57c7-41d3-a070-d500b5a19daa', ['/XF11ID/data/2017/07/14/088a248f-24b1-4577-ba3e_11785'])\n",
      "Sliced and/or processed EigerImages2. Original repr:\n",
      "    <Frames>\n",
      "    Length: 5000 frames\n",
      "    Frame Shape: 2167 x 2070\n",
      "    Pixel Datatype: uint32\n",
      "(3848, '083d01c4-1721-4726-9c73-5292d0bf1868', ['/XF11ID/data/2017/07/14/f75975c8-9f9d-4739-a05d_11786'])\n",
      "Sliced and/or processed EigerImages2. Original repr:\n",
      "    <Frames>\n",
      "    Length: 2000 frames\n",
      "    Frame Shape: 2167 x 2070\n",
      "    Pixel Datatype: uint16\n",
      "(3849, '94da77c8-cf11-4e99-80fe-9f8aabfee9fc', ['/XF11ID/data/2017/07/14/8c9028c9-480e-4e34-b42b_11787'])\n",
      "Sliced and/or processed EigerImages2. Original repr:\n",
      "    <Frames>\n",
      "    Length: 2000 frames\n",
      "    Frame Shape: 2167 x 2070\n",
      "    Pixel Datatype: uint16\n"
     ]
    },
    {
     "name": "stdout",
     "output_type": "stream",
     "text": [
      "(3850, '4ad7d52b-3205-4aaf-8eda-a27f0272d450', ['/XF11ID/data/2017/07/14/5ade3f70-49c4-4f22-9b89_11788'])\n",
      "Sliced and/or processed EigerImages2. Original repr:\n",
      "    <Frames>\n",
      "    Length: 5000 frames\n",
      "    Frame Shape: 2167 x 2070\n",
      "    Pixel Datatype: uint32\n",
      "(3851, 'e91f4418-e25b-4a61-895f-9c5e43299c1a', ['/XF11ID/data/2017/07/14/fb3f0853-4e2c-4ad5-85dd_11789'])\n",
      "Sliced and/or processed EigerImages2. Original repr:\n",
      "    <Frames>\n",
      "    Length: 2000 frames\n",
      "    Frame Shape: 2167 x 2070\n",
      "    Pixel Datatype: uint16\n",
      "(3852, '953f5eda-c15e-4848-af10-10341fdc580d', ['/XF11ID/data/2017/07/14/e4aad55d-1f21-49fc-9398_11790'])\n",
      "Sliced and/or processed EigerImages2. Original repr:\n",
      "    <Frames>\n",
      "    Length: 2000 frames\n",
      "    Frame Shape: 2167 x 2070\n",
      "    Pixel Datatype: uint16\n",
      "(3853, '97d800c9-b1db-464d-a9cd-23f8e70f5248', ['/XF11ID/data/2017/07/14/301fa03e-1a3b-4b90-bac2_11791'])\n",
      "Sliced and/or processed EigerImages2. Original repr:\n",
      "    <Frames>\n",
      "    Length: 5000 frames\n",
      "    Frame Shape: 2167 x 2070\n",
      "    Pixel Datatype: uint32\n",
      "(3854, '8ca4cfbe-9227-4454-809a-9c36bff7355e', ['/XF11ID/data/2017/07/14/b2783148-7029-40e3-b1aa_11792'])\n",
      "Sliced and/or processed EigerImages2. Original repr:\n",
      "    <Frames>\n",
      "    Length: 2000 frames\n",
      "    Frame Shape: 2167 x 2070\n",
      "    Pixel Datatype: uint16\n",
      "(3855, '084631b6-58c2-420a-a0ce-18f53770556e', ['/XF11ID/data/2017/07/14/ec625e58-aee0-4b5f-8701_11793'])\n",
      "Sliced and/or processed EigerImages2. Original repr:\n",
      "    <Frames>\n",
      "    Length: 2000 frames\n",
      "    Frame Shape: 2167 x 2070\n",
      "    Pixel Datatype: uint16\n",
      "(3856, '04a7e2dd-27f9-4320-a736-46e30138c84c', ['/XF11ID/data/2017/07/14/8d9db8c0-435c-42a7-9ed3_11794'])\n",
      "Sliced and/or processed EigerImages2. Original repr:\n",
      "    <Frames>\n",
      "    Length: 5000 frames\n",
      "    Frame Shape: 2167 x 2070\n",
      "    Pixel Datatype: uint32\n",
      "(3857, '56819823-a8a1-48e5-8822-c6634ecb5459', ['/XF11ID/data/2017/07/14/c3686a9f-7ee9-482a-89f5_11795'])\n",
      "Sliced and/or processed EigerImages2. Original repr:\n",
      "    <Frames>\n",
      "    Length: 2000 frames\n",
      "    Frame Shape: 2167 x 2070\n",
      "    Pixel Datatype: uint16\n",
      "(3858, '72753e73-9e6f-4c09-8e46-2f99141d0643', ['/XF11ID/data/2017/07/14/8c854a41-bc94-4eb1-a0d8_11796'])\n",
      "Sliced and/or processed EigerImages2. Original repr:\n",
      "    <Frames>\n",
      "    Length: 2000 frames\n",
      "    Frame Shape: 2167 x 2070\n",
      "    Pixel Datatype: uint16\n",
      "(3859, '80d5b7d1-43a2-46e9-901a-5b4b1ee3f45d', ['/XF11ID/data/2017/07/14/b93ae406-6d6a-4b7a-99c8_11797'])\n",
      "Sliced and/or processed EigerImages2. Original repr:\n",
      "    <Frames>\n",
      "    Length: 5000 frames\n",
      "    Frame Shape: 2167 x 2070\n",
      "    Pixel Datatype: uint32\n",
      "(3860, 'be90c7eb-f75f-40c7-b47e-fc311b928a7a', ['/XF11ID/data/2017/07/14/12f7c762-8963-4ab8-b633_11798'])\n",
      "Sliced and/or processed EigerImages2. Original repr:\n",
      "    <Frames>\n",
      "    Length: 2000 frames\n",
      "    Frame Shape: 2167 x 2070\n",
      "    Pixel Datatype: uint16\n",
      "(3861, '30411df8-08fa-4792-8f1d-c4536560f5d2', ['/XF11ID/data/2017/07/14/017c8a20-c9fc-4263-815f_11799'])\n",
      "Sliced and/or processed EigerImages2. Original repr:\n",
      "    <Frames>\n",
      "    Length: 2000 frames\n",
      "    Frame Shape: 2167 x 2070\n",
      "    Pixel Datatype: uint16\n",
      "(3862, 'a0ecaeab-24d3-446e-b408-00c0dc619909', ['/XF11ID/data/2017/07/14/fabc14b7-17e8-42c0-877a_11800'])\n",
      "Sliced and/or processed EigerImages2. Original repr:\n",
      "    <Frames>\n",
      "    Length: 5000 frames\n",
      "    Frame Shape: 2167 x 2070\n",
      "    Pixel Datatype: uint32\n",
      "(3863, 'c038952b-97ac-42fb-93f0-50809d9aa890', ['/XF11ID/data/2017/07/14/e7cff190-5b99-4f05-ad63_11801'])\n",
      "Sliced and/or processed EigerImages2. Original repr:\n",
      "    <Frames>\n",
      "    Length: 2000 frames\n",
      "    Frame Shape: 2167 x 2070\n",
      "    Pixel Datatype: uint16\n",
      "(3864, '0335b8e4-905f-4a67-bf39-8bdb204ea4be', ['/XF11ID/data/2017/07/14/5751761f-5411-4ecd-b74d_11802'])\n",
      "Sliced and/or processed EigerImages2. Original repr:\n",
      "    <Frames>\n",
      "    Length: 2000 frames\n",
      "    Frame Shape: 2167 x 2070\n",
      "    Pixel Datatype: uint16\n",
      "(3865, '0333aec6-1728-4352-a7c5-b09ec233e438', ['/XF11ID/data/2017/07/14/fff31566-f4b5-466c-a0a0_11803'])\n",
      "Can't load this uid=0333aec6!\n",
      "(3866, 'cd0e10ae-403e-488d-a3f0-757410912b7a', ['/XF11ID/data/2017/07/14/6c58ddba-27c3-489f-af9c_11804'])\n",
      "Sliced and/or processed EigerImages2. Original repr:\n",
      "    <Frames>\n",
      "    Length: 2000 frames\n",
      "    Frame Shape: 2167 x 2070\n",
      "    Pixel Datatype: uint16\n"
     ]
    }
   ],
   "source": [
    "for uid in uids[:1]:\n",
    "    validate_uid(  uid )"
   ]
  },
  {
   "cell_type": "code",
   "execution_count": null,
   "metadata": {
    "collapsed": true
   },
   "outputs": [],
   "source": []
  },
  {
   "cell_type": "code",
   "execution_count": null,
   "metadata": {
    "collapsed": true
   },
   "outputs": [],
   "source": []
  },
  {
   "cell_type": "code",
   "execution_count": null,
   "metadata": {
    "collapsed": true
   },
   "outputs": [],
   "source": []
  },
  {
   "cell_type": "code",
   "execution_count": null,
   "metadata": {
    "scrolled": false
   },
   "outputs": [
    {
     "name": "stdout",
     "output_type": "stream",
     "text": [
      "Totally 140 uids are found.\n",
      "**************************************************\n",
      "Starting analysis for 50dc9f95-4146-41a7-8cda-7809e63485b5 now...\n",
      "The data acquistion finished.\n",
      "Starting to do something here...\n",
      "Results from this analysis will be stashed in the directory /XF11ID/analysis/2017_2/hilmar/Results/\n",
      "****************************************\n",
      "*****The processing uid is: 50dc9f95-4146-41a7-8cda-7809e63485b5*****\n",
      "****************************************\n",
      "Results from this analysis will be stashed in the directory /XF11ID/analysis/2017_2/hilmar/Results/50dc9f95-4146-41a7-8cda-7809e63485b5/\n",
      "The beam center is: [1093, 999]\n",
      "The data are: Sliced and/or processed EigerImages2. Original repr:\n",
      "    <Frames>\n",
      "    Length: 2000 frames\n",
      "    Frame Shape: 2167 x 2070\n",
      "    Pixel Datatype: uint16\n",
      "The non-zeros photon occupation is 0.06645399035599875.\n",
      "Will Always DO apply compress process.\n",
      "Create a new compress file with filename as :/XF11ID/analysis/Compressed_Data/uid_50dc9f95-4146-41a7-8cda-7809e63485b5.cmp.\n",
      "Using a multiprocess to compress the data.\n",
      "It will create 20 temporary files for parallel compression.\n",
      "####################No bad frames are involved.\n",
      "Combining the seperated compressed files together...\n",
      "The good_start frame number is: 5 \n",
      "uid=50dc9f_fra_5_2000\n",
      "Total time: 38.948 sec\n"
     ]
    },
    {
     "name": "stderr",
     "output_type": "stream",
     "text": [
      "/opt/conda_envs/analysis/lib/python3.5/site-packages/chxanalys-unknown-py3.5.egg/chxanalys/chx_generic_functions.py:515: RankWarning: Polyfit may be poorly conditioned\n"
     ]
    },
    {
     "name": "stdout",
     "output_type": "stream",
     "text": [
      "The bad frame list length is: 5\n"
     ]
    },
    {
     "name": "stderr",
     "output_type": "stream",
     "text": [
      "Averaging 1 images: 100%|██████████| 1/1 [00:00<00:00, 385.26it/s]\n",
      "Averaging 1 images: 100%|██████████| 1/1 [00:00<00:00, 37.92it/s]\n",
      "Averaging 1 images: 100%|██████████| 1/1 [00:00<00:00, 19.08it/s]\n"
     ]
    },
    {
     "name": "stdout",
     "output_type": "stream",
     "text": [
      "The file: uid=50dc9f_q_Iqt is saved in /XF11ID/analysis/2017_2/hilmar/Results/50dc9f95-4146-41a7-8cda-7809e63485b5/\n"
     ]
    },
    {
     "name": "stderr",
     "output_type": "stream",
     "text": [
      "Get ROI intensity of each frame: 100%|██████████| 1995/1995 [00:05<00:00, 375.66it/s]\n"
     ]
    },
    {
     "name": "stdout",
     "output_type": "stream",
     "text": [
      "The file: uid=50dc9f_t_ROIs is saved in /XF11ID/analysis/2017_2/hilmar/Results/50dc9f95-4146-41a7-8cda-7809e63485b5/\n",
      "In this g2 calculation, the buf and lev number are: 8--10--\n",
      "5 Bad frames involved and will be discarded!\n",
      "1996 frames will be processed...\n"
     ]
    },
    {
     "name": "stderr",
     "output_type": "stream",
     "text": [
      "\r",
      "  0%|          | 0/32 [00:00<?, ?it/s]"
     ]
    },
    {
     "name": "stdout",
     "output_type": "stream",
     "text": [
      "Starting assign the tasks...\n"
     ]
    },
    {
     "name": "stderr",
     "output_type": "stream",
     "text": [
      "100%|██████████| 32/32 [00:05<00:00,  5.34it/s]\n",
      "  0%|          | 0/32 [00:00<?, ?it/s]"
     ]
    },
    {
     "name": "stdout",
     "output_type": "stream",
     "text": [
      "Starting running the tasks...\n"
     ]
    },
    {
     "name": "stderr",
     "output_type": "stream",
     "text": [
      "100%|██████████| 32/32 [00:22<00:00,  1.42it/s]\n"
     ]
    },
    {
     "name": "stdout",
     "output_type": "stream",
     "text": [
      "G2 calculation DONE!\n",
      "Total time: 45.979 sec\n",
      "The correlation function is saved in /XF11ID/analysis/2017_2/hilmar/Results/50dc9f95-4146-41a7-8cda-7809e63485b5/ with filename as uid=50dc9f_fra_5_2000_g2.csv\n",
      "The g2 fitting parameters are saved in /XF11ID/analysis/2017_2/hilmar/Results/50dc9f95-4146-41a7-8cda-7809e63485b5/uid=50dc9f_fra_5_2000_g2_fit_paras.csv\n",
      "The combined image is saved as: /XF11ID/analysis/2017_2/hilmar/Results/50dc9f95-4146-41a7-8cda-7809e63485b5/uid=50dc9f_fra_5_2000_g2_fit__joint.png\n",
      "The fitted diffusion coefficient D0 is:  4.206e+01   A^2S-1\n"
     ]
    },
    {
     "name": "stderr",
     "output_type": "stream",
     "text": [
      "100%|██████████| 1995/1995 [00:10<00:00, 185.56it/s]\n",
      "100%|██████████| 32/32 [01:03<00:00,  3.03s/it]\n"
     ]
    },
    {
     "name": "stdout",
     "output_type": "stream",
     "text": [
      "Total time: 1.065 min\n",
      "Total time: 0.510 sec\n",
      "The correlation function is saved in /XF11ID/analysis/2017_2/hilmar/Results/50dc9f95-4146-41a7-8cda-7809e63485b5/ with filename as uid=50dc9f_fra_5_2000_g2b.csv\n",
      "The g2 fitting parameters are saved in /XF11ID/analysis/2017_2/hilmar/Results/50dc9f95-4146-41a7-8cda-7809e63485b5/uid=50dc9f_fra_5_2000_g2b_fit_paras.csv\n",
      "The fitted diffusion coefficient D0 is:  4.166e+01   A^2S-1\n",
      "The combined image is saved as: /XF11ID/analysis/2017_2/hilmar/Results/50dc9f95-4146-41a7-8cda-7809e63485b5/uid=50dc9f_fra_5_2000_g2_b_fit__joint.png\n",
      "The combined image is saved as: /XF11ID/analysis/2017_2/hilmar/Results/50dc9f95-4146-41a7-8cda-7809e63485b5/uid=50dc9f_fra_5_2000_g2_two_g2__joint.png\n",
      "UID: 50dc9f95-4146-41a7-8cda-7809e63485b5 is in processing...\n",
      "The two time correlation function for uid=50dc9f95-4146-41a7-8cda-7809e63485b5 is already calculated. Just pass...\n",
      "UID: 50dc9f95-4146-41a7-8cda-7809e63485b5 is in processing...\n",
      "uid: 50dc9f95-4146-41a7-8cda-7809e63485b5--> fra_num_by_dose: [  62  125  250  500 1000 1500 1980]\n",
      "The combined image is saved as: /XF11ID/analysis/2017_2/hilmar/Results/50dc9f95-4146-41a7-8cda-7809e63485b5/uid=50dc9f_fra_5_2000_dose_analysis__joint.png\n",
      "The xpcs analysis results are exported to /XF11ID/analysis/2017_2/hilmar/Results/50dc9f95-4146-41a7-8cda-7809e63485b5/ with filename as uid=50dc9f95-4146-41a7-8cda-7809e63485b5_Res.h5\n",
      "/XF11ID/analysis/2017_2/hilmar/Results/50dc9f95-4146-41a7-8cda-7809e63485b5/ 50dc9f /XF11ID/analysis/2017_2/hilmar/Results/ XPCS_Analysis_Report_for_uid=50dc9f95-4146-41a7-8cda-7809e63485b5_ROI32_.pdf hilmar\n",
      "\n",
      "****************************************\n",
      "The pdf report is created with filename as: /XF11ID/analysis/2017_2/hilmar/Results/XPCS_Analysis_Report_for_uid=50dc9f95-4146-41a7-8cda-7809e63485b5_ROI32_.pdf\n",
      "****************************************\n",
      "The url=https://logbook.nsls2.bnl.gov/Olog-11-ID/Olog was successfully updated with Add XPCS Analysis PDF Report and with the attachments\n",
      "**************************************************\n",
      "**************************************************\n",
      "Starting analysis for e5876404-1885-416b-b0ca-f2226e6622ea now...\n",
      "The data acquistion finished.\n",
      "Starting to do something here...\n",
      "Results from this analysis will be stashed in the directory /XF11ID/analysis/2017_2/hilmar/Results/\n",
      "****************************************\n",
      "*****The processing uid is: e5876404-1885-416b-b0ca-f2226e6622ea*****\n",
      "****************************************\n",
      "Results from this analysis will be stashed in the directory /XF11ID/analysis/2017_2/hilmar/Results/e5876404-1885-416b-b0ca-f2226e6622ea/\n",
      "The beam center is: [1093, 999]\n",
      "The data are: Sliced and/or processed EigerImages2. Original repr:\n",
      "    <Frames>\n",
      "    Length: 2000 frames\n",
      "    Frame Shape: 2167 x 2070\n",
      "    Pixel Datatype: uint16\n",
      "The non-zeros photon occupation is 0.0642295834085726.\n",
      "Will Always DO apply compress process.\n",
      "Create a new compress file with filename as :/XF11ID/analysis/Compressed_Data/uid_e5876404-1885-416b-b0ca-f2226e6622ea.cmp.\n",
      "Using a multiprocess to compress the data.\n",
      "It will create 20 temporary files for parallel compression.\n",
      "####################No bad frames are involved.\n",
      "Combining the seperated compressed files together...\n",
      "The good_start frame number is: 5 \n",
      "uid=e58764_fra_5_2000\n",
      "Total time: 36.918 sec\n"
     ]
    },
    {
     "name": "stderr",
     "output_type": "stream",
     "text": [
      "/opt/conda_envs/analysis/lib/python3.5/site-packages/chxanalys-unknown-py3.5.egg/chxanalys/chx_generic_functions.py:515: RankWarning: Polyfit may be poorly conditioned\n"
     ]
    },
    {
     "name": "stdout",
     "output_type": "stream",
     "text": [
      "The bad frame list length is: 5\n"
     ]
    },
    {
     "name": "stderr",
     "output_type": "stream",
     "text": [
      "Averaging 1 images: 100%|██████████| 1/1 [00:00<00:00, 362.83it/s]\n",
      "Averaging 1 images: 100%|██████████| 1/1 [00:00<00:00, 38.71it/s]\n",
      "Averaging 1 images: 100%|██████████| 1/1 [00:00<00:00, 20.09it/s]\n"
     ]
    },
    {
     "name": "stdout",
     "output_type": "stream",
     "text": [
      "The file: uid=e58764_q_Iqt is saved in /XF11ID/analysis/2017_2/hilmar/Results/e5876404-1885-416b-b0ca-f2226e6622ea/\n"
     ]
    },
    {
     "name": "stderr",
     "output_type": "stream",
     "text": [
      "Get ROI intensity of each frame: 100%|██████████| 1995/1995 [00:05<00:00, 378.21it/s]\n"
     ]
    },
    {
     "name": "stdout",
     "output_type": "stream",
     "text": [
      "The file: uid=e58764_t_ROIs is saved in /XF11ID/analysis/2017_2/hilmar/Results/e5876404-1885-416b-b0ca-f2226e6622ea/\n",
      "In this g2 calculation, the buf and lev number are: 8--10--\n",
      "5 Bad frames involved and will be discarded!\n",
      "1996 frames will be processed...\n"
     ]
    },
    {
     "name": "stderr",
     "output_type": "stream",
     "text": [
      "\r",
      "  0%|          | 0/32 [00:00<?, ?it/s]"
     ]
    },
    {
     "name": "stdout",
     "output_type": "stream",
     "text": [
      "Starting assign the tasks...\n"
     ]
    },
    {
     "name": "stderr",
     "output_type": "stream",
     "text": [
      "100%|██████████| 32/32 [00:06<00:00,  4.31it/s]\n",
      "  0%|          | 0/32 [00:00<?, ?it/s]"
     ]
    },
    {
     "name": "stdout",
     "output_type": "stream",
     "text": [
      "Starting running the tasks...\n"
     ]
    },
    {
     "name": "stderr",
     "output_type": "stream",
     "text": [
      "100%|██████████| 32/32 [00:26<00:00,  1.19it/s]\n"
     ]
    },
    {
     "name": "stdout",
     "output_type": "stream",
     "text": [
      "G2 calculation DONE!\n",
      "Total time: 52.230 sec\n",
      "The correlation function is saved in /XF11ID/analysis/2017_2/hilmar/Results/e5876404-1885-416b-b0ca-f2226e6622ea/ with filename as uid=e58764_fra_5_2000_g2.csv\n",
      "The g2 fitting parameters are saved in /XF11ID/analysis/2017_2/hilmar/Results/e5876404-1885-416b-b0ca-f2226e6622ea/uid=e58764_fra_5_2000_g2_fit_paras.csv\n",
      "The combined image is saved as: /XF11ID/analysis/2017_2/hilmar/Results/e5876404-1885-416b-b0ca-f2226e6622ea/uid=e58764_fra_5_2000_g2_fit__joint.png\n",
      "The fitted diffusion coefficient D0 is:  4.545e+01   A^2S-1\n"
     ]
    },
    {
     "name": "stderr",
     "output_type": "stream",
     "text": [
      "100%|██████████| 1995/1995 [00:10<00:00, 189.43it/s]\n",
      "100%|██████████| 32/32 [01:04<00:00,  3.06s/it]\n"
     ]
    },
    {
     "name": "stdout",
     "output_type": "stream",
     "text": [
      "Total time: 1.092 min\n",
      "Total time: 0.685 sec\n",
      "The correlation function is saved in /XF11ID/analysis/2017_2/hilmar/Results/e5876404-1885-416b-b0ca-f2226e6622ea/ with filename as uid=e58764_fra_5_2000_g2b.csv\n",
      "The g2 fitting parameters are saved in /XF11ID/analysis/2017_2/hilmar/Results/e5876404-1885-416b-b0ca-f2226e6622ea/uid=e58764_fra_5_2000_g2b_fit_paras.csv\n",
      "The fitted diffusion coefficient D0 is:  4.742e+01   A^2S-1\n",
      "The combined image is saved as: /XF11ID/analysis/2017_2/hilmar/Results/e5876404-1885-416b-b0ca-f2226e6622ea/uid=e58764_fra_5_2000_g2_b_fit__joint.png\n",
      "The combined image is saved as: /XF11ID/analysis/2017_2/hilmar/Results/e5876404-1885-416b-b0ca-f2226e6622ea/uid=e58764_fra_5_2000_g2_two_g2__joint.png\n",
      "UID: e5876404-1885-416b-b0ca-f2226e6622ea is in processing...\n",
      "The two time correlation function for uid=e5876404-1885-416b-b0ca-f2226e6622ea is already calculated. Just pass...\n",
      "UID: e5876404-1885-416b-b0ca-f2226e6622ea is in processing...\n",
      "uid: e5876404-1885-416b-b0ca-f2226e6622ea--> fra_num_by_dose: [  62  125  250  500 1000 1500 1980]\n",
      "The combined image is saved as: /XF11ID/analysis/2017_2/hilmar/Results/e5876404-1885-416b-b0ca-f2226e6622ea/uid=e58764_fra_5_2000_dose_analysis__joint.png\n",
      "The xpcs analysis results are exported to /XF11ID/analysis/2017_2/hilmar/Results/e5876404-1885-416b-b0ca-f2226e6622ea/ with filename as uid=e5876404-1885-416b-b0ca-f2226e6622ea_Res.h5\n",
      "/XF11ID/analysis/2017_2/hilmar/Results/e5876404-1885-416b-b0ca-f2226e6622ea/ e58764 /XF11ID/analysis/2017_2/hilmar/Results/ XPCS_Analysis_Report_for_uid=e5876404-1885-416b-b0ca-f2226e6622ea_ROI32_.pdf hilmar\n",
      "\n",
      "****************************************\n",
      "The pdf report is created with filename as: /XF11ID/analysis/2017_2/hilmar/Results/XPCS_Analysis_Report_for_uid=e5876404-1885-416b-b0ca-f2226e6622ea_ROI32_.pdf\n",
      "****************************************\n",
      "The url=https://logbook.nsls2.bnl.gov/Olog-11-ID/Olog was successfully updated with Add XPCS Analysis PDF Report and with the attachments\n",
      "**************************************************\n",
      "**************************************************\n",
      "Starting analysis for 4914b0eb-2626-4ecd-994f-05563e802477 now...\n",
      "The data acquistion finished.\n",
      "Starting to do something here...\n",
      "Results from this analysis will be stashed in the directory /XF11ID/analysis/2017_2/hilmar/Results/\n",
      "****************************************\n",
      "*****The processing uid is: 4914b0eb-2626-4ecd-994f-05563e802477*****\n",
      "****************************************\n",
      "Results from this analysis will be stashed in the directory /XF11ID/analysis/2017_2/hilmar/Results/4914b0eb-2626-4ecd-994f-05563e802477/\n",
      "The beam center is: [1093, 999]\n",
      "The data are: Sliced and/or processed EigerImages2. Original repr:\n",
      "    <Frames>\n",
      "    Length: 2000 frames\n",
      "    Frame Shape: 2167 x 2070\n",
      "    Pixel Datatype: uint16\n",
      "The non-zeros photon occupation is 0.07024760962081641.\n",
      "Will Always DO apply compress process.\n",
      "Create a new compress file with filename as :/XF11ID/analysis/Compressed_Data/uid_4914b0eb-2626-4ecd-994f-05563e802477.cmp.\n",
      "Using a multiprocess to compress the data.\n",
      "It will create 20 temporary files for parallel compression.\n",
      "####################No bad frames are involved.\n",
      "Combining the seperated compressed files together...\n",
      "The good_start frame number is: 5 \n",
      "uid=4914b0_fra_5_2000\n",
      "Total time: 40.377 sec\n"
     ]
    },
    {
     "name": "stderr",
     "output_type": "stream",
     "text": [
      "/opt/conda_envs/analysis/lib/python3.5/site-packages/chxanalys-unknown-py3.5.egg/chxanalys/chx_generic_functions.py:515: RankWarning: Polyfit may be poorly conditioned\n"
     ]
    },
    {
     "name": "stdout",
     "output_type": "stream",
     "text": [
      "The bad frame list length is: 5\n"
     ]
    },
    {
     "name": "stderr",
     "output_type": "stream",
     "text": [
      "Averaging 1 images: 100%|██████████| 1/1 [00:00<00:00, 327.50it/s]\n",
      "Averaging 1 images: 100%|██████████| 1/1 [00:00<00:00, 38.04it/s]\n",
      "Averaging 1 images: 100%|██████████| 1/1 [00:00<00:00, 20.31it/s]\n"
     ]
    },
    {
     "name": "stdout",
     "output_type": "stream",
     "text": [
      "The file: uid=4914b0_q_Iqt is saved in /XF11ID/analysis/2017_2/hilmar/Results/4914b0eb-2626-4ecd-994f-05563e802477/\n"
     ]
    },
    {
     "name": "stderr",
     "output_type": "stream",
     "text": [
      "Get ROI intensity of each frame: 100%|██████████| 1995/1995 [00:06<00:00, 315.93it/s]\n"
     ]
    },
    {
     "name": "stdout",
     "output_type": "stream",
     "text": [
      "The file: uid=4914b0_t_ROIs is saved in /XF11ID/analysis/2017_2/hilmar/Results/4914b0eb-2626-4ecd-994f-05563e802477/\n",
      "In this g2 calculation, the buf and lev number are: 8--10--\n",
      "5 Bad frames involved and will be discarded!\n",
      "1996 frames will be processed...\n"
     ]
    },
    {
     "name": "stderr",
     "output_type": "stream",
     "text": [
      "\r",
      "  0%|          | 0/32 [00:00<?, ?it/s]"
     ]
    },
    {
     "name": "stdout",
     "output_type": "stream",
     "text": [
      "Starting assign the tasks...\n"
     ]
    },
    {
     "name": "stderr",
     "output_type": "stream",
     "text": [
      "100%|██████████| 32/32 [00:06<00:00,  4.46it/s]\n",
      "  0%|          | 0/32 [00:00<?, ?it/s]"
     ]
    },
    {
     "name": "stdout",
     "output_type": "stream",
     "text": [
      "Starting running the tasks...\n"
     ]
    },
    {
     "name": "stderr",
     "output_type": "stream",
     "text": [
      "100%|██████████| 32/32 [00:28<00:00,  1.14it/s]\n"
     ]
    },
    {
     "name": "stdout",
     "output_type": "stream",
     "text": [
      "G2 calculation DONE!\n",
      "Total time: 44.534 sec\n",
      "The correlation function is saved in /XF11ID/analysis/2017_2/hilmar/Results/4914b0eb-2626-4ecd-994f-05563e802477/ with filename as uid=4914b0_fra_5_2000_g2.csv\n",
      "The g2 fitting parameters are saved in /XF11ID/analysis/2017_2/hilmar/Results/4914b0eb-2626-4ecd-994f-05563e802477/uid=4914b0_fra_5_2000_g2_fit_paras.csv\n",
      "The combined image is saved as: /XF11ID/analysis/2017_2/hilmar/Results/4914b0eb-2626-4ecd-994f-05563e802477/uid=4914b0_fra_5_2000_g2_fit__joint.png\n",
      "The fitted diffusion coefficient D0 is:  3.371e+01   A^2S-1\n"
     ]
    },
    {
     "name": "stderr",
     "output_type": "stream",
     "text": [
      "100%|██████████| 1995/1995 [00:11<00:00, 177.98it/s]\n",
      "100%|██████████| 32/32 [01:04<00:00,  2.89s/it]\n"
     ]
    },
    {
     "name": "stdout",
     "output_type": "stream",
     "text": [
      "Total time: 1.082 min\n",
      "Total time: 0.638 sec\n",
      "The correlation function is saved in /XF11ID/analysis/2017_2/hilmar/Results/4914b0eb-2626-4ecd-994f-05563e802477/ with filename as uid=4914b0_fra_5_2000_g2b.csv\n",
      "The g2 fitting parameters are saved in /XF11ID/analysis/2017_2/hilmar/Results/4914b0eb-2626-4ecd-994f-05563e802477/uid=4914b0_fra_5_2000_g2b_fit_paras.csv\n",
      "The fitted diffusion coefficient D0 is:  3.298e+01   A^2S-1\n",
      "The combined image is saved as: /XF11ID/analysis/2017_2/hilmar/Results/4914b0eb-2626-4ecd-994f-05563e802477/uid=4914b0_fra_5_2000_g2_b_fit__joint.png\n",
      "The combined image is saved as: /XF11ID/analysis/2017_2/hilmar/Results/4914b0eb-2626-4ecd-994f-05563e802477/uid=4914b0_fra_5_2000_g2_two_g2__joint.png\n",
      "UID: 4914b0eb-2626-4ecd-994f-05563e802477 is in processing...\n",
      "The two time correlation function for uid=4914b0eb-2626-4ecd-994f-05563e802477 is already calculated. Just pass...\n",
      "UID: 4914b0eb-2626-4ecd-994f-05563e802477 is in processing...\n",
      "uid: 4914b0eb-2626-4ecd-994f-05563e802477--> fra_num_by_dose: [  62  125  250  500 1000 1500 1980]\n",
      "The combined image is saved as: /XF11ID/analysis/2017_2/hilmar/Results/4914b0eb-2626-4ecd-994f-05563e802477/uid=4914b0_fra_5_2000_dose_analysis__joint.png\n",
      "The xpcs analysis results are exported to /XF11ID/analysis/2017_2/hilmar/Results/4914b0eb-2626-4ecd-994f-05563e802477/ with filename as uid=4914b0eb-2626-4ecd-994f-05563e802477_Res.h5\n",
      "/XF11ID/analysis/2017_2/hilmar/Results/4914b0eb-2626-4ecd-994f-05563e802477/ 4914b0 /XF11ID/analysis/2017_2/hilmar/Results/ XPCS_Analysis_Report_for_uid=4914b0eb-2626-4ecd-994f-05563e802477_ROI32_.pdf hilmar\n",
      "\n",
      "****************************************\n",
      "The pdf report is created with filename as: /XF11ID/analysis/2017_2/hilmar/Results/XPCS_Analysis_Report_for_uid=4914b0eb-2626-4ecd-994f-05563e802477_ROI32_.pdf\n",
      "****************************************\n",
      "The url=https://logbook.nsls2.bnl.gov/Olog-11-ID/Olog was successfully updated with Add XPCS Analysis PDF Report and with the attachments\n",
      "**************************************************\n",
      "**************************************************\n",
      "Starting analysis for a196f807-1202-4ff8-80c4-00134fe4eef9 now...\n",
      "The data acquistion finished.\n",
      "Starting to do something here...\n",
      "Results from this analysis will be stashed in the directory /XF11ID/analysis/2017_2/hilmar/Results/\n",
      "****************************************\n",
      "*****The processing uid is: a196f807-1202-4ff8-80c4-00134fe4eef9*****\n",
      "****************************************\n",
      "Results from this analysis will be stashed in the directory /XF11ID/analysis/2017_2/hilmar/Results/a196f807-1202-4ff8-80c4-00134fe4eef9/\n",
      "The beam center is: [1093, 999]\n",
      "The data are: Sliced and/or processed EigerImages2. Original repr:\n",
      "    <Frames>\n",
      "    Length: 2000 frames\n",
      "    Frame Shape: 2167 x 2070\n",
      "    Pixel Datatype: uint16\n",
      "The non-zeros photon occupation is 0.06855578517463311.\n",
      "Will Always DO apply compress process.\n",
      "Create a new compress file with filename as :/XF11ID/analysis/Compressed_Data/uid_a196f807-1202-4ff8-80c4-00134fe4eef9.cmp.\n",
      "Using a multiprocess to compress the data.\n",
      "It will create 20 temporary files for parallel compression.\n",
      "####################No bad frames are involved.\n",
      "Combining the seperated compressed files together...\n",
      "The good_start frame number is: 5 \n",
      "uid=a196f8_fra_5_2000\n",
      "Total time: 37.062 sec\n"
     ]
    },
    {
     "name": "stderr",
     "output_type": "stream",
     "text": [
      "/opt/conda_envs/analysis/lib/python3.5/site-packages/chxanalys-unknown-py3.5.egg/chxanalys/chx_generic_functions.py:515: RankWarning: Polyfit may be poorly conditioned\n"
     ]
    },
    {
     "name": "stdout",
     "output_type": "stream",
     "text": [
      "The bad frame list length is: 5\n"
     ]
    },
    {
     "name": "stderr",
     "output_type": "stream",
     "text": [
      "Averaging 1 images: 100%|██████████| 1/1 [00:00<00:00, 287.62it/s]\n",
      "Averaging 1 images: 100%|██████████| 1/1 [00:00<00:00, 38.74it/s]\n",
      "Averaging 1 images: 100%|██████████| 1/1 [00:00<00:00, 20.90it/s]\n"
     ]
    },
    {
     "name": "stdout",
     "output_type": "stream",
     "text": [
      "The file: uid=a196f8_q_Iqt is saved in /XF11ID/analysis/2017_2/hilmar/Results/a196f807-1202-4ff8-80c4-00134fe4eef9/\n"
     ]
    },
    {
     "name": "stderr",
     "output_type": "stream",
     "text": [
      "Get ROI intensity of each frame: 100%|██████████| 1995/1995 [00:05<00:00, 375.88it/s]\n"
     ]
    },
    {
     "name": "stdout",
     "output_type": "stream",
     "text": [
      "The file: uid=a196f8_t_ROIs is saved in /XF11ID/analysis/2017_2/hilmar/Results/a196f807-1202-4ff8-80c4-00134fe4eef9/\n",
      "In this g2 calculation, the buf and lev number are: 8--10--\n",
      "5 Bad frames involved and will be discarded!\n",
      "1996 frames will be processed...\n"
     ]
    },
    {
     "name": "stderr",
     "output_type": "stream",
     "text": [
      "\r",
      "  0%|          | 0/32 [00:00<?, ?it/s]"
     ]
    },
    {
     "name": "stdout",
     "output_type": "stream",
     "text": [
      "Starting assign the tasks...\n"
     ]
    },
    {
     "name": "stderr",
     "output_type": "stream",
     "text": [
      "100%|██████████| 32/32 [00:06<00:00,  4.68it/s]\n",
      "  0%|          | 0/32 [00:00<?, ?it/s]"
     ]
    },
    {
     "name": "stdout",
     "output_type": "stream",
     "text": [
      "Starting running the tasks...\n"
     ]
    },
    {
     "name": "stderr",
     "output_type": "stream",
     "text": [
      "100%|██████████| 32/32 [00:25<00:00,  1.24it/s]\n"
     ]
    },
    {
     "name": "stdout",
     "output_type": "stream",
     "text": [
      "G2 calculation DONE!\n",
      "Total time: 49.624 sec\n",
      "The correlation function is saved in /XF11ID/analysis/2017_2/hilmar/Results/a196f807-1202-4ff8-80c4-00134fe4eef9/ with filename as uid=a196f8_fra_5_2000_g2.csv\n",
      "The g2 fitting parameters are saved in /XF11ID/analysis/2017_2/hilmar/Results/a196f807-1202-4ff8-80c4-00134fe4eef9/uid=a196f8_fra_5_2000_g2_fit_paras.csv\n",
      "The combined image is saved as: /XF11ID/analysis/2017_2/hilmar/Results/a196f807-1202-4ff8-80c4-00134fe4eef9/uid=a196f8_fra_5_2000_g2_fit__joint.png\n",
      "The fitted diffusion coefficient D0 is:  3.165e+01   A^2S-1\n"
     ]
    },
    {
     "name": "stderr",
     "output_type": "stream",
     "text": [
      "100%|██████████| 1995/1995 [00:25<00:00, 78.18it/s]\n",
      "100%|██████████| 32/32 [01:01<00:00,  2.88s/it]\n"
     ]
    },
    {
     "name": "stdout",
     "output_type": "stream",
     "text": [
      "Total time: 1.041 min\n",
      "Total time: 0.540 sec\n",
      "The correlation function is saved in /XF11ID/analysis/2017_2/hilmar/Results/a196f807-1202-4ff8-80c4-00134fe4eef9/ with filename as uid=a196f8_fra_5_2000_g2b.csv\n",
      "The g2 fitting parameters are saved in /XF11ID/analysis/2017_2/hilmar/Results/a196f807-1202-4ff8-80c4-00134fe4eef9/uid=a196f8_fra_5_2000_g2b_fit_paras.csv\n",
      "The fitted diffusion coefficient D0 is:  3.497e+01   A^2S-1\n",
      "The combined image is saved as: /XF11ID/analysis/2017_2/hilmar/Results/a196f807-1202-4ff8-80c4-00134fe4eef9/uid=a196f8_fra_5_2000_g2_b_fit__joint.png\n",
      "The combined image is saved as: /XF11ID/analysis/2017_2/hilmar/Results/a196f807-1202-4ff8-80c4-00134fe4eef9/uid=a196f8_fra_5_2000_g2_two_g2__joint.png\n",
      "UID: a196f807-1202-4ff8-80c4-00134fe4eef9 is in processing...\n",
      "The two time correlation function for uid=a196f807-1202-4ff8-80c4-00134fe4eef9 is already calculated. Just pass...\n",
      "UID: a196f807-1202-4ff8-80c4-00134fe4eef9 is in processing...\n",
      "uid: a196f807-1202-4ff8-80c4-00134fe4eef9--> fra_num_by_dose: [  62  125  250  500 1000 1500 1980]\n",
      "The combined image is saved as: /XF11ID/analysis/2017_2/hilmar/Results/a196f807-1202-4ff8-80c4-00134fe4eef9/uid=a196f8_fra_5_2000_dose_analysis__joint.png\n",
      "The xpcs analysis results are exported to /XF11ID/analysis/2017_2/hilmar/Results/a196f807-1202-4ff8-80c4-00134fe4eef9/ with filename as uid=a196f807-1202-4ff8-80c4-00134fe4eef9_Res.h5\n",
      "/XF11ID/analysis/2017_2/hilmar/Results/a196f807-1202-4ff8-80c4-00134fe4eef9/ a196f8 /XF11ID/analysis/2017_2/hilmar/Results/ XPCS_Analysis_Report_for_uid=a196f807-1202-4ff8-80c4-00134fe4eef9_ROI32_.pdf hilmar\n",
      "\n",
      "****************************************\n",
      "The pdf report is created with filename as: /XF11ID/analysis/2017_2/hilmar/Results/XPCS_Analysis_Report_for_uid=a196f807-1202-4ff8-80c4-00134fe4eef9_ROI32_.pdf\n",
      "****************************************\n",
      "The url=https://logbook.nsls2.bnl.gov/Olog-11-ID/Olog was successfully updated with Add XPCS Analysis PDF Report and with the attachments\n",
      "**************************************************\n",
      "**************************************************\n",
      "Starting analysis for f02330a7-fb0f-4b4c-abd0-9b80d590a3ff now...\n",
      "The data acquistion finished.\n",
      "Starting to do something here...\n",
      "Results from this analysis will be stashed in the directory /XF11ID/analysis/2017_2/hilmar/Results/\n",
      "****************************************\n",
      "*****The processing uid is: f02330a7-fb0f-4b4c-abd0-9b80d590a3ff*****\n",
      "****************************************\n",
      "Results from this analysis will be stashed in the directory /XF11ID/analysis/2017_2/hilmar/Results/f02330a7-fb0f-4b4c-abd0-9b80d590a3ff/\n",
      "The beam center is: [1093, 999]\n",
      "The data are: Sliced and/or processed EigerImages2. Original repr:\n",
      "    <Frames>\n",
      "    Length: 2000 frames\n",
      "    Frame Shape: 2167 x 2070\n",
      "    Pixel Datatype: uint16\n",
      "The non-zeros photon occupation is 0.07079379092179798.\n",
      "Will Always DO apply compress process.\n",
      "Create a new compress file with filename as :/XF11ID/analysis/Compressed_Data/uid_f02330a7-fb0f-4b4c-abd0-9b80d590a3ff.cmp.\n",
      "Using a multiprocess to compress the data.\n",
      "It will create 20 temporary files for parallel compression.\n",
      "####################No bad frames are involved.\n",
      "Combining the seperated compressed files together...\n",
      "The good_start frame number is: 5 \n",
      "uid=f02330_fra_5_2000\n",
      "Total time: 37.919 sec\n"
     ]
    },
    {
     "name": "stderr",
     "output_type": "stream",
     "text": [
      "/opt/conda_envs/analysis/lib/python3.5/site-packages/chxanalys-unknown-py3.5.egg/chxanalys/chx_generic_functions.py:515: RankWarning: Polyfit may be poorly conditioned\n"
     ]
    },
    {
     "name": "stdout",
     "output_type": "stream",
     "text": [
      "The bad frame list length is: 5\n"
     ]
    },
    {
     "name": "stderr",
     "output_type": "stream",
     "text": [
      "Averaging 1 images: 100%|██████████| 1/1 [00:00<00:00, 358.61it/s]\n",
      "Averaging 1 images: 100%|██████████| 1/1 [00:00<00:00, 40.34it/s]\n",
      "Averaging 1 images: 100%|██████████| 1/1 [00:00<00:00, 19.43it/s]\n"
     ]
    },
    {
     "name": "stdout",
     "output_type": "stream",
     "text": [
      "The file: uid=f02330_q_Iqt is saved in /XF11ID/analysis/2017_2/hilmar/Results/f02330a7-fb0f-4b4c-abd0-9b80d590a3ff/\n"
     ]
    },
    {
     "name": "stderr",
     "output_type": "stream",
     "text": [
      "Get ROI intensity of each frame: 100%|██████████| 1995/1995 [00:05<00:00, 346.84it/s]\n"
     ]
    },
    {
     "name": "stdout",
     "output_type": "stream",
     "text": [
      "The file: uid=f02330_t_ROIs is saved in /XF11ID/analysis/2017_2/hilmar/Results/f02330a7-fb0f-4b4c-abd0-9b80d590a3ff/\n",
      "In this g2 calculation, the buf and lev number are: 8--10--\n",
      "5 Bad frames involved and will be discarded!\n",
      "1996 frames will be processed...\n"
     ]
    },
    {
     "name": "stderr",
     "output_type": "stream",
     "text": [
      "\r",
      "  0%|          | 0/32 [00:00<?, ?it/s]"
     ]
    },
    {
     "name": "stdout",
     "output_type": "stream",
     "text": [
      "Starting assign the tasks...\n"
     ]
    },
    {
     "name": "stderr",
     "output_type": "stream",
     "text": [
      "100%|██████████| 32/32 [00:05<00:00,  4.98it/s]\n",
      "  0%|          | 0/32 [00:00<?, ?it/s]"
     ]
    },
    {
     "name": "stdout",
     "output_type": "stream",
     "text": [
      "Starting running the tasks...\n"
     ]
    },
    {
     "name": "stderr",
     "output_type": "stream",
     "text": [
      "100%|██████████| 32/32 [00:25<00:00,  1.26it/s]\n"
     ]
    },
    {
     "name": "stdout",
     "output_type": "stream",
     "text": [
      "G2 calculation DONE!\n",
      "Total time: 49.950 sec\n",
      "The correlation function is saved in /XF11ID/analysis/2017_2/hilmar/Results/f02330a7-fb0f-4b4c-abd0-9b80d590a3ff/ with filename as uid=f02330_fra_5_2000_g2.csv\n",
      "The g2 fitting parameters are saved in /XF11ID/analysis/2017_2/hilmar/Results/f02330a7-fb0f-4b4c-abd0-9b80d590a3ff/uid=f02330_fra_5_2000_g2_fit_paras.csv\n",
      "The combined image is saved as: /XF11ID/analysis/2017_2/hilmar/Results/f02330a7-fb0f-4b4c-abd0-9b80d590a3ff/uid=f02330_fra_5_2000_g2_fit__joint.png\n",
      "The fitted diffusion coefficient D0 is:  2.216e+01   A^2S-1\n"
     ]
    },
    {
     "name": "stderr",
     "output_type": "stream",
     "text": [
      "100%|██████████| 1995/1995 [00:11<00:00, 179.32it/s]\n",
      "100%|██████████| 32/32 [01:03<00:00,  2.89s/it]\n"
     ]
    },
    {
     "name": "stdout",
     "output_type": "stream",
     "text": [
      "Total time: 1.066 min\n",
      "Total time: 0.510 sec\n",
      "The correlation function is saved in /XF11ID/analysis/2017_2/hilmar/Results/f02330a7-fb0f-4b4c-abd0-9b80d590a3ff/ with filename as uid=f02330_fra_5_2000_g2b.csv\n",
      "The g2 fitting parameters are saved in /XF11ID/analysis/2017_2/hilmar/Results/f02330a7-fb0f-4b4c-abd0-9b80d590a3ff/uid=f02330_fra_5_2000_g2b_fit_paras.csv\n",
      "The fitted diffusion coefficient D0 is:  2.093e+01   A^2S-1\n",
      "The combined image is saved as: /XF11ID/analysis/2017_2/hilmar/Results/f02330a7-fb0f-4b4c-abd0-9b80d590a3ff/uid=f02330_fra_5_2000_g2_b_fit__joint.png\n",
      "The combined image is saved as: /XF11ID/analysis/2017_2/hilmar/Results/f02330a7-fb0f-4b4c-abd0-9b80d590a3ff/uid=f02330_fra_5_2000_g2_two_g2__joint.png\n",
      "UID: f02330a7-fb0f-4b4c-abd0-9b80d590a3ff is in processing...\n",
      "The two time correlation function for uid=f02330a7-fb0f-4b4c-abd0-9b80d590a3ff is already calculated. Just pass...\n",
      "UID: f02330a7-fb0f-4b4c-abd0-9b80d590a3ff is in processing...\n",
      "uid: f02330a7-fb0f-4b4c-abd0-9b80d590a3ff--> fra_num_by_dose: [  62  125  250  500 1000 1500 1980]\n",
      "The combined image is saved as: /XF11ID/analysis/2017_2/hilmar/Results/f02330a7-fb0f-4b4c-abd0-9b80d590a3ff/uid=f02330_fra_5_2000_dose_analysis__joint.png\n",
      "The xpcs analysis results are exported to /XF11ID/analysis/2017_2/hilmar/Results/f02330a7-fb0f-4b4c-abd0-9b80d590a3ff/ with filename as uid=f02330a7-fb0f-4b4c-abd0-9b80d590a3ff_Res.h5\n",
      "/XF11ID/analysis/2017_2/hilmar/Results/f02330a7-fb0f-4b4c-abd0-9b80d590a3ff/ f02330 /XF11ID/analysis/2017_2/hilmar/Results/ XPCS_Analysis_Report_for_uid=f02330a7-fb0f-4b4c-abd0-9b80d590a3ff_ROI32_.pdf hilmar\n",
      "\n",
      "****************************************\n",
      "The pdf report is created with filename as: /XF11ID/analysis/2017_2/hilmar/Results/XPCS_Analysis_Report_for_uid=f02330a7-fb0f-4b4c-abd0-9b80d590a3ff_ROI32_.pdf\n",
      "****************************************\n",
      "The url=https://logbook.nsls2.bnl.gov/Olog-11-ID/Olog was successfully updated with Add XPCS Analysis PDF Report and with the attachments\n",
      "**************************************************\n",
      "**************************************************\n",
      "Starting analysis for dd375415-56a2-468c-b9e6-393a0dc0a954 now...\n",
      "The data acquistion finished.\n",
      "Starting to do something here...\n",
      "Results from this analysis will be stashed in the directory /XF11ID/analysis/2017_2/hilmar/Results/\n",
      "****************************************\n",
      "*****The processing uid is: dd375415-56a2-468c-b9e6-393a0dc0a954*****\n",
      "****************************************\n",
      "Results from this analysis will be stashed in the directory /XF11ID/analysis/2017_2/hilmar/Results/dd375415-56a2-468c-b9e6-393a0dc0a954/\n",
      "The beam center is: [1093, 999]\n",
      "The data are: Sliced and/or processed EigerImages2. Original repr:\n",
      "    <Frames>\n",
      "    Length: 2000 frames\n",
      "    Frame Shape: 2167 x 2070\n",
      "    Pixel Datatype: uint16\n",
      "The non-zeros photon occupation is 0.07542407076726211.\n",
      "Will Always DO apply compress process.\n",
      "Create a new compress file with filename as :/XF11ID/analysis/Compressed_Data/uid_dd375415-56a2-468c-b9e6-393a0dc0a954.cmp.\n",
      "Using a multiprocess to compress the data.\n",
      "It will create 20 temporary files for parallel compression.\n",
      "####################No bad frames are involved.\n",
      "Combining the seperated compressed files together...\n",
      "The good_start frame number is: 5 \n",
      "uid=dd3754_fra_5_2000\n",
      "Total time: 46.036 sec\n"
     ]
    },
    {
     "name": "stderr",
     "output_type": "stream",
     "text": [
      "/opt/conda_envs/analysis/lib/python3.5/site-packages/chxanalys-unknown-py3.5.egg/chxanalys/chx_generic_functions.py:515: RankWarning: Polyfit may be poorly conditioned\n"
     ]
    },
    {
     "name": "stdout",
     "output_type": "stream",
     "text": [
      "The bad frame list length is: 5\n"
     ]
    },
    {
     "name": "stderr",
     "output_type": "stream",
     "text": [
      "Averaging 1 images: 100%|██████████| 1/1 [00:00<00:00, 150.67it/s]\n",
      "Averaging 1 images: 100%|██████████| 1/1 [00:00<00:00, 36.37it/s]\n",
      "Averaging 1 images: 100%|██████████| 1/1 [00:00<00:00, 20.11it/s]\n"
     ]
    },
    {
     "name": "stdout",
     "output_type": "stream",
     "text": [
      "The file: uid=dd3754_q_Iqt is saved in /XF11ID/analysis/2017_2/hilmar/Results/dd375415-56a2-468c-b9e6-393a0dc0a954/\n"
     ]
    },
    {
     "name": "stderr",
     "output_type": "stream",
     "text": [
      "Get ROI intensity of each frame: 100%|██████████| 1995/1995 [00:11<00:00, 170.97it/s]\n"
     ]
    },
    {
     "name": "stdout",
     "output_type": "stream",
     "text": [
      "The file: uid=dd3754_t_ROIs is saved in /XF11ID/analysis/2017_2/hilmar/Results/dd375415-56a2-468c-b9e6-393a0dc0a954/\n",
      "In this g2 calculation, the buf and lev number are: 8--10--\n",
      "5 Bad frames involved and will be discarded!\n",
      "1996 frames will be processed...\n"
     ]
    },
    {
     "name": "stderr",
     "output_type": "stream",
     "text": [
      "\r",
      "  0%|          | 0/32 [00:00<?, ?it/s]"
     ]
    },
    {
     "name": "stdout",
     "output_type": "stream",
     "text": [
      "Starting assign the tasks...\n"
     ]
    },
    {
     "name": "stderr",
     "output_type": "stream",
     "text": [
      "100%|██████████| 32/32 [00:06<00:00,  5.06it/s]\n",
      "  0%|          | 0/32 [00:00<?, ?it/s]"
     ]
    },
    {
     "name": "stdout",
     "output_type": "stream",
     "text": [
      "Starting running the tasks...\n"
     ]
    },
    {
     "name": "stderr",
     "output_type": "stream",
     "text": [
      "100%|██████████| 32/32 [00:24<00:00,  1.33it/s]\n"
     ]
    },
    {
     "name": "stdout",
     "output_type": "stream",
     "text": [
      "G2 calculation DONE!\n",
      "Total time: 46.535 sec\n",
      "The correlation function is saved in /XF11ID/analysis/2017_2/hilmar/Results/dd375415-56a2-468c-b9e6-393a0dc0a954/ with filename as uid=dd3754_fra_5_2000_g2.csv\n",
      "The g2 fitting parameters are saved in /XF11ID/analysis/2017_2/hilmar/Results/dd375415-56a2-468c-b9e6-393a0dc0a954/uid=dd3754_fra_5_2000_g2_fit_paras.csv\n",
      "The combined image is saved as: /XF11ID/analysis/2017_2/hilmar/Results/dd375415-56a2-468c-b9e6-393a0dc0a954/uid=dd3754_fra_5_2000_g2_fit__joint.png\n",
      "The fitted diffusion coefficient D0 is:  1.977e+01   A^2S-1\n"
     ]
    },
    {
     "name": "stderr",
     "output_type": "stream",
     "text": [
      "100%|██████████| 1995/1995 [00:12<00:00, 164.73it/s]\n",
      "100%|██████████| 32/32 [01:05<00:00,  3.00s/it]\n"
     ]
    },
    {
     "name": "stdout",
     "output_type": "stream",
     "text": [
      "Total time: 1.101 min\n",
      "Total time: 0.525 sec\n",
      "The correlation function is saved in /XF11ID/analysis/2017_2/hilmar/Results/dd375415-56a2-468c-b9e6-393a0dc0a954/ with filename as uid=dd3754_fra_5_2000_g2b.csv\n",
      "The g2 fitting parameters are saved in /XF11ID/analysis/2017_2/hilmar/Results/dd375415-56a2-468c-b9e6-393a0dc0a954/uid=dd3754_fra_5_2000_g2b_fit_paras.csv\n",
      "The fitted diffusion coefficient D0 is:  1.780e+01   A^2S-1\n",
      "The combined image is saved as: /XF11ID/analysis/2017_2/hilmar/Results/dd375415-56a2-468c-b9e6-393a0dc0a954/uid=dd3754_fra_5_2000_g2_b_fit__joint.png\n",
      "The combined image is saved as: /XF11ID/analysis/2017_2/hilmar/Results/dd375415-56a2-468c-b9e6-393a0dc0a954/uid=dd3754_fra_5_2000_g2_two_g2__joint.png\n",
      "UID: dd375415-56a2-468c-b9e6-393a0dc0a954 is in processing...\n",
      "The two time correlation function for uid=dd375415-56a2-468c-b9e6-393a0dc0a954 is already calculated. Just pass...\n",
      "UID: dd375415-56a2-468c-b9e6-393a0dc0a954 is in processing...\n",
      "uid: dd375415-56a2-468c-b9e6-393a0dc0a954--> fra_num_by_dose: [  62  125  250  500 1000 1500 1980]\n",
      "The combined image is saved as: /XF11ID/analysis/2017_2/hilmar/Results/dd375415-56a2-468c-b9e6-393a0dc0a954/uid=dd3754_fra_5_2000_dose_analysis__joint.png\n",
      "The xpcs analysis results are exported to /XF11ID/analysis/2017_2/hilmar/Results/dd375415-56a2-468c-b9e6-393a0dc0a954/ with filename as uid=dd375415-56a2-468c-b9e6-393a0dc0a954_Res.h5\n",
      "/XF11ID/analysis/2017_2/hilmar/Results/dd375415-56a2-468c-b9e6-393a0dc0a954/ dd3754 /XF11ID/analysis/2017_2/hilmar/Results/ XPCS_Analysis_Report_for_uid=dd375415-56a2-468c-b9e6-393a0dc0a954_ROI32_.pdf hilmar\n",
      "\n",
      "****************************************\n",
      "The pdf report is created with filename as: /XF11ID/analysis/2017_2/hilmar/Results/XPCS_Analysis_Report_for_uid=dd375415-56a2-468c-b9e6-393a0dc0a954_ROI32_.pdf\n",
      "****************************************\n",
      "The url=https://logbook.nsls2.bnl.gov/Olog-11-ID/Olog was successfully updated with Add XPCS Analysis PDF Report and with the attachments\n",
      "**************************************************\n",
      "**************************************************\n",
      "Starting analysis for 5f4b935a-6d5e-4767-9b20-b421e628f916 now...\n",
      "The data acquistion finished.\n",
      "Starting to do something here...\n",
      "Results from this analysis will be stashed in the directory /XF11ID/analysis/2017_2/hilmar/Results/\n",
      "****************************************\n",
      "*****The processing uid is: 5f4b935a-6d5e-4767-9b20-b421e628f916*****\n",
      "****************************************\n",
      "Results from this analysis will be stashed in the directory /XF11ID/analysis/2017_2/hilmar/Results/5f4b935a-6d5e-4767-9b20-b421e628f916/\n",
      "The beam center is: [1093, 999]\n",
      "The data are: Sliced and/or processed EigerImages2. Original repr:\n",
      "    <Frames>\n",
      "    Length: 2000 frames\n",
      "    Frame Shape: 2167 x 2070\n",
      "    Pixel Datatype: uint16\n",
      "The non-zeros photon occupation is 0.07746901814436576.\n",
      "Will Always DO apply compress process.\n",
      "Create a new compress file with filename as :/XF11ID/analysis/Compressed_Data/uid_5f4b935a-6d5e-4767-9b20-b421e628f916.cmp.\n",
      "Using a multiprocess to compress the data.\n",
      "It will create 20 temporary files for parallel compression.\n",
      "####################No bad frames are involved.\n",
      "Combining the seperated compressed files together...\n",
      "The good_start frame number is: 5 \n",
      "uid=5f4b93_fra_5_2000\n",
      "Total time: 38.050 sec\n"
     ]
    },
    {
     "name": "stderr",
     "output_type": "stream",
     "text": [
      "/opt/conda_envs/analysis/lib/python3.5/site-packages/chxanalys-unknown-py3.5.egg/chxanalys/chx_generic_functions.py:515: RankWarning: Polyfit may be poorly conditioned\n"
     ]
    },
    {
     "name": "stdout",
     "output_type": "stream",
     "text": [
      "The bad frame list length is: 5\n"
     ]
    },
    {
     "name": "stderr",
     "output_type": "stream",
     "text": [
      "Averaging 1 images: 100%|██████████| 1/1 [00:00<00:00, 341.58it/s]\n",
      "Averaging 1 images: 100%|██████████| 1/1 [00:00<00:00, 40.07it/s]\n",
      "Averaging 1 images: 100%|██████████| 1/1 [00:00<00:00, 21.21it/s]\n"
     ]
    },
    {
     "name": "stdout",
     "output_type": "stream",
     "text": [
      "The file: uid=5f4b93_q_Iqt is saved in /XF11ID/analysis/2017_2/hilmar/Results/5f4b935a-6d5e-4767-9b20-b421e628f916/\n"
     ]
    },
    {
     "name": "stderr",
     "output_type": "stream",
     "text": [
      "Get ROI intensity of each frame: 100%|██████████| 1995/1995 [00:06<00:00, 325.65it/s]\n"
     ]
    },
    {
     "name": "stdout",
     "output_type": "stream",
     "text": [
      "The file: uid=5f4b93_t_ROIs is saved in /XF11ID/analysis/2017_2/hilmar/Results/5f4b935a-6d5e-4767-9b20-b421e628f916/\n",
      "In this g2 calculation, the buf and lev number are: 8--10--\n",
      "5 Bad frames involved and will be discarded!\n",
      "1996 frames will be processed...\n"
     ]
    },
    {
     "name": "stderr",
     "output_type": "stream",
     "text": [
      "\r",
      "  0%|          | 0/32 [00:00<?, ?it/s]"
     ]
    },
    {
     "name": "stdout",
     "output_type": "stream",
     "text": [
      "Starting assign the tasks...\n"
     ]
    },
    {
     "name": "stderr",
     "output_type": "stream",
     "text": [
      "100%|██████████| 32/32 [00:06<00:00,  4.65it/s]\n",
      "  0%|          | 0/32 [00:00<?, ?it/s]"
     ]
    },
    {
     "name": "stdout",
     "output_type": "stream",
     "text": [
      "Starting running the tasks...\n"
     ]
    },
    {
     "name": "stderr",
     "output_type": "stream",
     "text": [
      "100%|██████████| 32/32 [00:28<00:00,  1.11it/s]\n"
     ]
    },
    {
     "name": "stdout",
     "output_type": "stream",
     "text": [
      "G2 calculation DONE!\n",
      "Total time: 54.487 sec\n",
      "The correlation function is saved in /XF11ID/analysis/2017_2/hilmar/Results/5f4b935a-6d5e-4767-9b20-b421e628f916/ with filename as uid=5f4b93_fra_5_2000_g2.csv\n",
      "The g2 fitting parameters are saved in /XF11ID/analysis/2017_2/hilmar/Results/5f4b935a-6d5e-4767-9b20-b421e628f916/uid=5f4b93_fra_5_2000_g2_fit_paras.csv\n",
      "The combined image is saved as: /XF11ID/analysis/2017_2/hilmar/Results/5f4b935a-6d5e-4767-9b20-b421e628f916/uid=5f4b93_fra_5_2000_g2_fit__joint.png\n",
      "The fitted diffusion coefficient D0 is:  2.267e+01   A^2S-1\n"
     ]
    },
    {
     "name": "stderr",
     "output_type": "stream",
     "text": [
      "100%|██████████| 1995/1995 [00:12<00:00, 161.07it/s]\n",
      "100%|██████████| 32/32 [01:02<00:00,  2.83s/it]\n"
     ]
    },
    {
     "name": "stdout",
     "output_type": "stream",
     "text": [
      "Total time: 1.051 min\n",
      "Total time: 0.844 sec\n",
      "The correlation function is saved in /XF11ID/analysis/2017_2/hilmar/Results/5f4b935a-6d5e-4767-9b20-b421e628f916/ with filename as uid=5f4b93_fra_5_2000_g2b.csv\n",
      "The g2 fitting parameters are saved in /XF11ID/analysis/2017_2/hilmar/Results/5f4b935a-6d5e-4767-9b20-b421e628f916/uid=5f4b93_fra_5_2000_g2b_fit_paras.csv\n",
      "The fitted diffusion coefficient D0 is:  2.618e+01   A^2S-1\n",
      "The combined image is saved as: /XF11ID/analysis/2017_2/hilmar/Results/5f4b935a-6d5e-4767-9b20-b421e628f916/uid=5f4b93_fra_5_2000_g2_b_fit__joint.png\n",
      "The combined image is saved as: /XF11ID/analysis/2017_2/hilmar/Results/5f4b935a-6d5e-4767-9b20-b421e628f916/uid=5f4b93_fra_5_2000_g2_two_g2__joint.png\n",
      "UID: 5f4b935a-6d5e-4767-9b20-b421e628f916 is in processing...\n",
      "The two time correlation function for uid=5f4b935a-6d5e-4767-9b20-b421e628f916 is already calculated. Just pass...\n",
      "UID: 5f4b935a-6d5e-4767-9b20-b421e628f916 is in processing...\n",
      "uid: 5f4b935a-6d5e-4767-9b20-b421e628f916--> fra_num_by_dose: [  62  125  250  500 1000 1500 1980]\n",
      "The combined image is saved as: /XF11ID/analysis/2017_2/hilmar/Results/5f4b935a-6d5e-4767-9b20-b421e628f916/uid=5f4b93_fra_5_2000_dose_analysis__joint.png\n",
      "The xpcs analysis results are exported to /XF11ID/analysis/2017_2/hilmar/Results/5f4b935a-6d5e-4767-9b20-b421e628f916/ with filename as uid=5f4b935a-6d5e-4767-9b20-b421e628f916_Res.h5\n",
      "/XF11ID/analysis/2017_2/hilmar/Results/5f4b935a-6d5e-4767-9b20-b421e628f916/ 5f4b93 /XF11ID/analysis/2017_2/hilmar/Results/ XPCS_Analysis_Report_for_uid=5f4b935a-6d5e-4767-9b20-b421e628f916_ROI32_.pdf hilmar\n",
      "\n",
      "****************************************\n",
      "The pdf report is created with filename as: /XF11ID/analysis/2017_2/hilmar/Results/XPCS_Analysis_Report_for_uid=5f4b935a-6d5e-4767-9b20-b421e628f916_ROI32_.pdf\n",
      "****************************************\n",
      "The url=https://logbook.nsls2.bnl.gov/Olog-11-ID/Olog was successfully updated with Add XPCS Analysis PDF Report and with the attachments\n",
      "**************************************************\n",
      "**************************************************\n",
      "Starting analysis for 0eb5bead-cbf8-448d-893d-ee0a6d4bb783 now...\n",
      "The data acquistion finished.\n",
      "Starting to do something here...\n",
      "Results from this analysis will be stashed in the directory /XF11ID/analysis/2017_2/hilmar/Results/\n",
      "****************************************\n",
      "*****The processing uid is: 0eb5bead-cbf8-448d-893d-ee0a6d4bb783*****\n",
      "****************************************\n",
      "Results from this analysis will be stashed in the directory /XF11ID/analysis/2017_2/hilmar/Results/0eb5bead-cbf8-448d-893d-ee0a6d4bb783/\n",
      "The beam center is: [1093, 999]\n",
      "The data are: Sliced and/or processed EigerImages2. Original repr:\n",
      "    <Frames>\n",
      "    Length: 2000 frames\n",
      "    Frame Shape: 2167 x 2070\n",
      "    Pixel Datatype: uint16\n",
      "The non-zeros photon occupation is 0.27495703002213706.\n",
      "Will Always DO apply compress process.\n",
      "Create a new compress file with filename as :/XF11ID/analysis/Compressed_Data/uid_0eb5bead-cbf8-448d-893d-ee0a6d4bb783.cmp.\n",
      "Using a multiprocess to compress the data.\n",
      "It will create 20 temporary files for parallel compression.\n",
      "####################No bad frames are involved.\n",
      "Combining the seperated compressed files together...\n",
      "The good_start frame number is: 5 \n",
      "uid=0eb5be_fra_5_2000\n",
      "Total time: 1.289 min\n"
     ]
    },
    {
     "name": "stderr",
     "output_type": "stream",
     "text": [
      "/opt/conda_envs/analysis/lib/python3.5/site-packages/chxanalys-unknown-py3.5.egg/chxanalys/chx_generic_functions.py:515: RankWarning: Polyfit may be poorly conditioned\n"
     ]
    },
    {
     "name": "stdout",
     "output_type": "stream",
     "text": [
      "The bad frame list length is: 9\n"
     ]
    },
    {
     "name": "stderr",
     "output_type": "stream",
     "text": [
      "Averaging 1 images: 100%|██████████| 1/1 [00:00<00:00, 74.15it/s]\n",
      "Averaging 1 images: 100%|██████████| 1/1 [00:00<00:00, 28.15it/s]\n",
      "Averaging 1 images: 100%|██████████| 1/1 [00:00<00:00, 16.55it/s]\n"
     ]
    },
    {
     "name": "stdout",
     "output_type": "stream",
     "text": [
      "The file: uid=0eb5be_q_Iqt is saved in /XF11ID/analysis/2017_2/hilmar/Results/0eb5bead-cbf8-448d-893d-ee0a6d4bb783/\n"
     ]
    },
    {
     "name": "stderr",
     "output_type": "stream",
     "text": [
      "Get ROI intensity of each frame: 100%|██████████| 1995/1995 [00:25<00:00, 79.52it/s]\n"
     ]
    },
    {
     "name": "stdout",
     "output_type": "stream",
     "text": [
      "The file: uid=0eb5be_t_ROIs is saved in /XF11ID/analysis/2017_2/hilmar/Results/0eb5bead-cbf8-448d-893d-ee0a6d4bb783/\n",
      "In this g2 calculation, the buf and lev number are: 8--10--\n",
      "9 Bad frames involved and will be discarded!\n",
      "1992 frames will be processed...\n"
     ]
    },
    {
     "name": "stderr",
     "output_type": "stream",
     "text": [
      "\r",
      "  0%|          | 0/32 [00:00<?, ?it/s]"
     ]
    },
    {
     "name": "stdout",
     "output_type": "stream",
     "text": [
      "Starting assign the tasks...\n"
     ]
    },
    {
     "name": "stderr",
     "output_type": "stream",
     "text": [
      "100%|██████████| 32/32 [00:06<00:00,  3.73it/s]\n",
      "  0%|          | 0/32 [00:00<?, ?it/s]"
     ]
    },
    {
     "name": "stdout",
     "output_type": "stream",
     "text": [
      "Starting running the tasks...\n"
     ]
    },
    {
     "name": "stderr",
     "output_type": "stream",
     "text": [
      "100%|██████████| 32/32 [00:57<00:00,  1.79s/it]\n"
     ]
    },
    {
     "name": "stdout",
     "output_type": "stream",
     "text": [
      "G2 calculation DONE!\n",
      "Total time: 1.394 min\n",
      "The correlation function is saved in /XF11ID/analysis/2017_2/hilmar/Results/0eb5bead-cbf8-448d-893d-ee0a6d4bb783/ with filename as uid=0eb5be_fra_5_2000_g2.csv\n",
      "The g2 fitting parameters are saved in /XF11ID/analysis/2017_2/hilmar/Results/0eb5bead-cbf8-448d-893d-ee0a6d4bb783/uid=0eb5be_fra_5_2000_g2_fit_paras.csv\n",
      "The combined image is saved as: /XF11ID/analysis/2017_2/hilmar/Results/0eb5bead-cbf8-448d-893d-ee0a6d4bb783/uid=0eb5be_fra_5_2000_g2_fit__joint.png\n",
      "The fitted diffusion coefficient D0 is:  1.713e+01   A^2S-1\n"
     ]
    },
    {
     "name": "stderr",
     "output_type": "stream",
     "text": [
      "100%|██████████| 1995/1995 [00:31<00:00, 63.01it/s]\n",
      "100%|██████████| 32/32 [01:03<00:00,  3.00s/it]\n"
     ]
    },
    {
     "name": "stdout",
     "output_type": "stream",
     "text": [
      "Total time: 1.077 min\n",
      "Total time: 0.654 sec\n",
      "The correlation function is saved in /XF11ID/analysis/2017_2/hilmar/Results/0eb5bead-cbf8-448d-893d-ee0a6d4bb783/ with filename as uid=0eb5be_fra_5_2000_g2b.csv\n",
      "The g2 fitting parameters are saved in /XF11ID/analysis/2017_2/hilmar/Results/0eb5bead-cbf8-448d-893d-ee0a6d4bb783/uid=0eb5be_fra_5_2000_g2b_fit_paras.csv\n",
      "The fitted diffusion coefficient D0 is:  1.687e+01   A^2S-1\n",
      "The combined image is saved as: /XF11ID/analysis/2017_2/hilmar/Results/0eb5bead-cbf8-448d-893d-ee0a6d4bb783/uid=0eb5be_fra_5_2000_g2_b_fit__joint.png\n",
      "The combined image is saved as: /XF11ID/analysis/2017_2/hilmar/Results/0eb5bead-cbf8-448d-893d-ee0a6d4bb783/uid=0eb5be_fra_5_2000_g2_two_g2__joint.png\n",
      "UID: 0eb5bead-cbf8-448d-893d-ee0a6d4bb783 is in processing...\n",
      "The two time correlation function for uid=0eb5bead-cbf8-448d-893d-ee0a6d4bb783 is already calculated. Just pass...\n",
      "UID: 0eb5bead-cbf8-448d-893d-ee0a6d4bb783 is in processing...\n",
      "uid: 0eb5bead-cbf8-448d-893d-ee0a6d4bb783--> fra_num_by_dose: [  62  125  250  500 1000 1500 1980]\n",
      "The combined image is saved as: /XF11ID/analysis/2017_2/hilmar/Results/0eb5bead-cbf8-448d-893d-ee0a6d4bb783/uid=0eb5be_fra_5_2000_dose_analysis__joint.png\n",
      "The xpcs analysis results are exported to /XF11ID/analysis/2017_2/hilmar/Results/0eb5bead-cbf8-448d-893d-ee0a6d4bb783/ with filename as uid=0eb5bead-cbf8-448d-893d-ee0a6d4bb783_Res.h5\n",
      "/XF11ID/analysis/2017_2/hilmar/Results/0eb5bead-cbf8-448d-893d-ee0a6d4bb783/ 0eb5be /XF11ID/analysis/2017_2/hilmar/Results/ XPCS_Analysis_Report_for_uid=0eb5bead-cbf8-448d-893d-ee0a6d4bb783_ROI32_.pdf hilmar\n",
      "\n",
      "****************************************\n",
      "The pdf report is created with filename as: /XF11ID/analysis/2017_2/hilmar/Results/XPCS_Analysis_Report_for_uid=0eb5bead-cbf8-448d-893d-ee0a6d4bb783_ROI32_.pdf\n",
      "****************************************\n",
      "The url=https://logbook.nsls2.bnl.gov/Olog-11-ID/Olog was successfully updated with Add XPCS Analysis PDF Report and with the attachments\n",
      "**************************************************\n",
      "**************************************************\n",
      "Starting analysis for 5c98a1a4-08ef-4faa-8f75-0d12af54a795 now...\n",
      "The data acquistion finished.\n",
      "Starting to do something here...\n",
      "Results from this analysis will be stashed in the directory /XF11ID/analysis/2017_2/hilmar/Results/\n",
      "****************************************\n",
      "*****The processing uid is: 5c98a1a4-08ef-4faa-8f75-0d12af54a795*****\n",
      "****************************************\n",
      "Results from this analysis will be stashed in the directory /XF11ID/analysis/2017_2/hilmar/Results/5c98a1a4-08ef-4faa-8f75-0d12af54a795/\n",
      "The beam center is: [1093, 999]\n",
      "The data are: Sliced and/or processed EigerImages2. Original repr:\n",
      "    <Frames>\n",
      "    Length: 2000 frames\n",
      "    Frame Shape: 2167 x 2070\n",
      "    Pixel Datatype: uint16\n",
      "The non-zeros photon occupation is 0.0754726697564923.\n",
      "Will Always DO apply compress process.\n",
      "Create a new compress file with filename as :/XF11ID/analysis/Compressed_Data/uid_5c98a1a4-08ef-4faa-8f75-0d12af54a795.cmp.\n",
      "Using a multiprocess to compress the data.\n",
      "It will create 20 temporary files for parallel compression.\n",
      "####################No bad frames are involved.\n",
      "Combining the seperated compressed files together...\n",
      "The good_start frame number is: 5 \n",
      "uid=5c98a1_fra_5_2000\n",
      "Total time: 44.980 sec\n"
     ]
    },
    {
     "name": "stderr",
     "output_type": "stream",
     "text": [
      "/opt/conda_envs/analysis/lib/python3.5/site-packages/chxanalys-unknown-py3.5.egg/chxanalys/chx_generic_functions.py:515: RankWarning: Polyfit may be poorly conditioned\n"
     ]
    },
    {
     "name": "stdout",
     "output_type": "stream",
     "text": [
      "The bad frame list length is: 5\n"
     ]
    },
    {
     "name": "stderr",
     "output_type": "stream",
     "text": [
      "Averaging 1 images: 100%|██████████| 1/1 [00:00<00:00, 255.53it/s]\n",
      "Averaging 1 images: 100%|██████████| 1/1 [00:00<00:00, 38.47it/s]\n",
      "Averaging 1 images: 100%|██████████| 1/1 [00:00<00:00, 20.19it/s]\n"
     ]
    },
    {
     "name": "stdout",
     "output_type": "stream",
     "text": [
      "The file: uid=5c98a1_q_Iqt is saved in /XF11ID/analysis/2017_2/hilmar/Results/5c98a1a4-08ef-4faa-8f75-0d12af54a795/\n"
     ]
    },
    {
     "name": "stderr",
     "output_type": "stream",
     "text": [
      "Get ROI intensity of each frame: 100%|██████████| 1995/1995 [00:06<00:00, 324.49it/s]\n"
     ]
    },
    {
     "name": "stdout",
     "output_type": "stream",
     "text": [
      "The file: uid=5c98a1_t_ROIs is saved in /XF11ID/analysis/2017_2/hilmar/Results/5c98a1a4-08ef-4faa-8f75-0d12af54a795/\n",
      "In this g2 calculation, the buf and lev number are: 8--10--\n",
      "5 Bad frames involved and will be discarded!\n",
      "1996 frames will be processed...\n"
     ]
    },
    {
     "name": "stderr",
     "output_type": "stream",
     "text": [
      "\r",
      "  0%|          | 0/32 [00:00<?, ?it/s]"
     ]
    },
    {
     "name": "stdout",
     "output_type": "stream",
     "text": [
      "Starting assign the tasks...\n"
     ]
    },
    {
     "name": "stderr",
     "output_type": "stream",
     "text": [
      "100%|██████████| 32/32 [00:05<00:00,  5.63it/s]\n",
      "  0%|          | 0/32 [00:00<?, ?it/s]"
     ]
    },
    {
     "name": "stdout",
     "output_type": "stream",
     "text": [
      "Starting running the tasks...\n"
     ]
    },
    {
     "name": "stderr",
     "output_type": "stream",
     "text": [
      "100%|██████████| 32/32 [00:23<00:00,  1.35it/s]\n"
     ]
    },
    {
     "name": "stdout",
     "output_type": "stream",
     "text": [
      "G2 calculation DONE!\n",
      "Total time: 58.328 sec\n",
      "The correlation function is saved in /XF11ID/analysis/2017_2/hilmar/Results/5c98a1a4-08ef-4faa-8f75-0d12af54a795/ with filename as uid=5c98a1_fra_5_2000_g2.csv\n",
      "The g2 fitting parameters are saved in /XF11ID/analysis/2017_2/hilmar/Results/5c98a1a4-08ef-4faa-8f75-0d12af54a795/uid=5c98a1_fra_5_2000_g2_fit_paras.csv\n",
      "The combined image is saved as: /XF11ID/analysis/2017_2/hilmar/Results/5c98a1a4-08ef-4faa-8f75-0d12af54a795/uid=5c98a1_fra_5_2000_g2_fit__joint.png\n",
      "The fitted diffusion coefficient D0 is:  1.053e+01   A^2S-1\n"
     ]
    },
    {
     "name": "stderr",
     "output_type": "stream",
     "text": [
      "100%|██████████| 1995/1995 [00:13<00:00, 145.90it/s]\n",
      "100%|██████████| 32/32 [01:02<00:00,  2.85s/it]\n"
     ]
    },
    {
     "name": "stdout",
     "output_type": "stream",
     "text": [
      "Total time: 1.049 min\n",
      "Total time: 0.924 sec\n",
      "The correlation function is saved in /XF11ID/analysis/2017_2/hilmar/Results/5c98a1a4-08ef-4faa-8f75-0d12af54a795/ with filename as uid=5c98a1_fra_5_2000_g2b.csv\n",
      "The g2 fitting parameters are saved in /XF11ID/analysis/2017_2/hilmar/Results/5c98a1a4-08ef-4faa-8f75-0d12af54a795/uid=5c98a1_fra_5_2000_g2b_fit_paras.csv\n",
      "The fitted diffusion coefficient D0 is:  1.399e+01   A^2S-1\n",
      "The combined image is saved as: /XF11ID/analysis/2017_2/hilmar/Results/5c98a1a4-08ef-4faa-8f75-0d12af54a795/uid=5c98a1_fra_5_2000_g2_b_fit__joint.png\n",
      "The combined image is saved as: /XF11ID/analysis/2017_2/hilmar/Results/5c98a1a4-08ef-4faa-8f75-0d12af54a795/uid=5c98a1_fra_5_2000_g2_two_g2__joint.png\n",
      "UID: 5c98a1a4-08ef-4faa-8f75-0d12af54a795 is in processing...\n",
      "The two time correlation function for uid=5c98a1a4-08ef-4faa-8f75-0d12af54a795 is already calculated. Just pass...\n",
      "UID: 5c98a1a4-08ef-4faa-8f75-0d12af54a795 is in processing...\n",
      "uid: 5c98a1a4-08ef-4faa-8f75-0d12af54a795--> fra_num_by_dose: [  62  125  250  500 1000 1500 1980]\n",
      "The combined image is saved as: /XF11ID/analysis/2017_2/hilmar/Results/5c98a1a4-08ef-4faa-8f75-0d12af54a795/uid=5c98a1_fra_5_2000_dose_analysis__joint.png\n",
      "The xpcs analysis results are exported to /XF11ID/analysis/2017_2/hilmar/Results/5c98a1a4-08ef-4faa-8f75-0d12af54a795/ with filename as uid=5c98a1a4-08ef-4faa-8f75-0d12af54a795_Res.h5\n",
      "/XF11ID/analysis/2017_2/hilmar/Results/5c98a1a4-08ef-4faa-8f75-0d12af54a795/ 5c98a1 /XF11ID/analysis/2017_2/hilmar/Results/ XPCS_Analysis_Report_for_uid=5c98a1a4-08ef-4faa-8f75-0d12af54a795_ROI32_.pdf hilmar\n",
      "\n",
      "****************************************\n",
      "The pdf report is created with filename as: /XF11ID/analysis/2017_2/hilmar/Results/XPCS_Analysis_Report_for_uid=5c98a1a4-08ef-4faa-8f75-0d12af54a795_ROI32_.pdf\n",
      "****************************************\n",
      "The url=https://logbook.nsls2.bnl.gov/Olog-11-ID/Olog was successfully updated with Add XPCS Analysis PDF Report and with the attachments\n",
      "**************************************************\n",
      "**************************************************\n",
      "Starting analysis for e32348b5-54c8-46b3-8b10-0da18618e8cf now...\n",
      "The data acquistion finished.\n",
      "Starting to do something here...\n",
      "Results from this analysis will be stashed in the directory /XF11ID/analysis/2017_2/hilmar/Results/\n",
      "****************************************\n",
      "*****The processing uid is: e32348b5-54c8-46b3-8b10-0da18618e8cf*****\n",
      "****************************************\n",
      "Results from this analysis will be stashed in the directory /XF11ID/analysis/2017_2/hilmar/Results/e32348b5-54c8-46b3-8b10-0da18618e8cf/\n",
      "The beam center is: [1093, 999]\n",
      "The data are: Sliced and/or processed EigerImages2. Original repr:\n",
      "    <Frames>\n",
      "    Length: 2000 frames\n",
      "    Frame Shape: 2167 x 2070\n",
      "    Pixel Datatype: uint16\n",
      "The non-zeros photon occupation is 0.2805447991278934.\n",
      "Will Always DO apply compress process.\n",
      "Create a new compress file with filename as :/XF11ID/analysis/Compressed_Data/uid_e32348b5-54c8-46b3-8b10-0da18618e8cf.cmp.\n",
      "Using a multiprocess to compress the data.\n",
      "It will create 20 temporary files for parallel compression.\n",
      "####################No bad frames are involved.\n",
      "Combining the seperated compressed files together...\n",
      "The good_start frame number is: 5 \n",
      "uid=e32348_fra_5_2000\n",
      "Total time: 1.155 min\n"
     ]
    },
    {
     "name": "stderr",
     "output_type": "stream",
     "text": [
      "/opt/conda_envs/analysis/lib/python3.5/site-packages/chxanalys-unknown-py3.5.egg/chxanalys/chx_generic_functions.py:515: RankWarning: Polyfit may be poorly conditioned\n"
     ]
    },
    {
     "name": "stdout",
     "output_type": "stream",
     "text": [
      "The bad frame list length is: 5\n"
     ]
    },
    {
     "name": "stderr",
     "output_type": "stream",
     "text": [
      "Averaging 1 images: 100%|██████████| 1/1 [00:00<00:00, 71.61it/s]\n",
      "Averaging 1 images: 100%|██████████| 1/1 [00:00<00:00, 26.94it/s]\n",
      "Averaging 1 images: 100%|██████████| 1/1 [00:00<00:00, 17.16it/s]\n"
     ]
    },
    {
     "name": "stdout",
     "output_type": "stream",
     "text": [
      "The file: uid=e32348_q_Iqt is saved in /XF11ID/analysis/2017_2/hilmar/Results/e32348b5-54c8-46b3-8b10-0da18618e8cf/\n"
     ]
    },
    {
     "name": "stderr",
     "output_type": "stream",
     "text": [
      "Get ROI intensity of each frame: 100%|██████████| 1995/1995 [00:25<00:00, 78.83it/s]\n"
     ]
    },
    {
     "name": "stdout",
     "output_type": "stream",
     "text": [
      "The file: uid=e32348_t_ROIs is saved in /XF11ID/analysis/2017_2/hilmar/Results/e32348b5-54c8-46b3-8b10-0da18618e8cf/\n",
      "In this g2 calculation, the buf and lev number are: 8--10--\n",
      "5 Bad frames involved and will be discarded!\n",
      "1996 frames will be processed...\n"
     ]
    },
    {
     "name": "stderr",
     "output_type": "stream",
     "text": [
      "\r",
      "  0%|          | 0/32 [00:00<?, ?it/s]"
     ]
    },
    {
     "name": "stdout",
     "output_type": "stream",
     "text": [
      "Starting assign the tasks...\n"
     ]
    },
    {
     "name": "stderr",
     "output_type": "stream",
     "text": [
      "100%|██████████| 32/32 [00:05<00:00,  4.91it/s]\n",
      "  0%|          | 0/32 [00:00<?, ?it/s]"
     ]
    },
    {
     "name": "stdout",
     "output_type": "stream",
     "text": [
      "Starting running the tasks...\n"
     ]
    },
    {
     "name": "stderr",
     "output_type": "stream",
     "text": [
      "100%|██████████| 32/32 [00:52<00:00,  1.65s/it]\n"
     ]
    },
    {
     "name": "stdout",
     "output_type": "stream",
     "text": [
      "G2 calculation DONE!\n",
      "Total time: 1.315 min\n",
      "The correlation function is saved in /XF11ID/analysis/2017_2/hilmar/Results/e32348b5-54c8-46b3-8b10-0da18618e8cf/ with filename as uid=e32348_fra_5_2000_g2.csv\n",
      "The g2 fitting parameters are saved in /XF11ID/analysis/2017_2/hilmar/Results/e32348b5-54c8-46b3-8b10-0da18618e8cf/uid=e32348_fra_5_2000_g2_fit_paras.csv\n",
      "The combined image is saved as: /XF11ID/analysis/2017_2/hilmar/Results/e32348b5-54c8-46b3-8b10-0da18618e8cf/uid=e32348_fra_5_2000_g2_fit__joint.png\n",
      "The fitted diffusion coefficient D0 is:  1.429e+01   A^2S-1\n"
     ]
    },
    {
     "name": "stderr",
     "output_type": "stream",
     "text": [
      "100%|██████████| 1995/1995 [00:39<00:00, 50.78it/s]\n",
      "100%|██████████| 32/32 [01:10<00:00,  3.32s/it]\n"
     ]
    },
    {
     "name": "stdout",
     "output_type": "stream",
     "text": [
      "Total time: 1.183 min\n",
      "Total time: 0.611 sec\n",
      "The correlation function is saved in /XF11ID/analysis/2017_2/hilmar/Results/e32348b5-54c8-46b3-8b10-0da18618e8cf/ with filename as uid=e32348_fra_5_2000_g2b.csv\n",
      "The g2 fitting parameters are saved in /XF11ID/analysis/2017_2/hilmar/Results/e32348b5-54c8-46b3-8b10-0da18618e8cf/uid=e32348_fra_5_2000_g2b_fit_paras.csv\n",
      "The fitted diffusion coefficient D0 is:  1.432e+01   A^2S-1\n",
      "The combined image is saved as: /XF11ID/analysis/2017_2/hilmar/Results/e32348b5-54c8-46b3-8b10-0da18618e8cf/uid=e32348_fra_5_2000_g2_b_fit__joint.png\n",
      "The combined image is saved as: /XF11ID/analysis/2017_2/hilmar/Results/e32348b5-54c8-46b3-8b10-0da18618e8cf/uid=e32348_fra_5_2000_g2_two_g2__joint.png\n",
      "UID: e32348b5-54c8-46b3-8b10-0da18618e8cf is in processing...\n",
      "The two time correlation function for uid=e32348b5-54c8-46b3-8b10-0da18618e8cf is already calculated. Just pass...\n",
      "UID: e32348b5-54c8-46b3-8b10-0da18618e8cf is in processing...\n",
      "uid: e32348b5-54c8-46b3-8b10-0da18618e8cf--> fra_num_by_dose: [  62  125  250  500 1000 1500 1980]\n",
      "The combined image is saved as: /XF11ID/analysis/2017_2/hilmar/Results/e32348b5-54c8-46b3-8b10-0da18618e8cf/uid=e32348_fra_5_2000_dose_analysis__joint.png\n",
      "The xpcs analysis results are exported to /XF11ID/analysis/2017_2/hilmar/Results/e32348b5-54c8-46b3-8b10-0da18618e8cf/ with filename as uid=e32348b5-54c8-46b3-8b10-0da18618e8cf_Res.h5\n",
      "/XF11ID/analysis/2017_2/hilmar/Results/e32348b5-54c8-46b3-8b10-0da18618e8cf/ e32348 /XF11ID/analysis/2017_2/hilmar/Results/ XPCS_Analysis_Report_for_uid=e32348b5-54c8-46b3-8b10-0da18618e8cf_ROI32_.pdf hilmar\n",
      "\n",
      "****************************************\n",
      "The pdf report is created with filename as: /XF11ID/analysis/2017_2/hilmar/Results/XPCS_Analysis_Report_for_uid=e32348b5-54c8-46b3-8b10-0da18618e8cf_ROI32_.pdf\n",
      "****************************************\n",
      "The url=https://logbook.nsls2.bnl.gov/Olog-11-ID/Olog was successfully updated with Add XPCS Analysis PDF Report and with the attachments\n",
      "**************************************************\n",
      "**************************************************\n",
      "Starting analysis for f7a910a9-d3be-47b9-8624-0c500d651e42 now...\n",
      "The data acquistion finished.\n",
      "Starting to do something here...\n",
      "Results from this analysis will be stashed in the directory /XF11ID/analysis/2017_2/hilmar/Results/\n",
      "****************************************\n",
      "*****The processing uid is: f7a910a9-d3be-47b9-8624-0c500d651e42*****\n",
      "****************************************\n",
      "Results from this analysis will be stashed in the directory /XF11ID/analysis/2017_2/hilmar/Results/f7a910a9-d3be-47b9-8624-0c500d651e42/\n",
      "The beam center is: [1093, 999]\n",
      "The data are: Sliced and/or processed EigerImages2. Original repr:\n",
      "    <Frames>\n",
      "    Length: 2000 frames\n",
      "    Frame Shape: 2167 x 2070\n",
      "    Pixel Datatype: uint16\n",
      "The non-zeros photon occupation is 0.0743838740528213.\n",
      "Will Always DO apply compress process.\n",
      "Create a new compress file with filename as :/XF11ID/analysis/Compressed_Data/uid_f7a910a9-d3be-47b9-8624-0c500d651e42.cmp.\n",
      "Using a multiprocess to compress the data.\n",
      "It will create 20 temporary files for parallel compression.\n",
      "####################No bad frames are involved.\n",
      "Combining the seperated compressed files together...\n",
      "The good_start frame number is: 5 \n",
      "uid=f7a910_fra_5_2000\n",
      "Total time: 40.744 sec\n"
     ]
    },
    {
     "name": "stderr",
     "output_type": "stream",
     "text": [
      "/opt/conda_envs/analysis/lib/python3.5/site-packages/chxanalys-unknown-py3.5.egg/chxanalys/chx_generic_functions.py:515: RankWarning: Polyfit may be poorly conditioned\n"
     ]
    },
    {
     "name": "stdout",
     "output_type": "stream",
     "text": [
      "The bad frame list length is: 5\n"
     ]
    },
    {
     "name": "stderr",
     "output_type": "stream",
     "text": [
      "Averaging 1 images: 100%|██████████| 1/1 [00:00<00:00, 337.33it/s]\n",
      "Averaging 1 images: 100%|██████████| 1/1 [00:00<00:00, 37.97it/s]\n",
      "Averaging 1 images: 100%|██████████| 1/1 [00:00<00:00, 20.22it/s]\n"
     ]
    },
    {
     "name": "stdout",
     "output_type": "stream",
     "text": [
      "The file: uid=f7a910_q_Iqt is saved in /XF11ID/analysis/2017_2/hilmar/Results/f7a910a9-d3be-47b9-8624-0c500d651e42/\n"
     ]
    },
    {
     "name": "stderr",
     "output_type": "stream",
     "text": [
      "Get ROI intensity of each frame: 100%|██████████| 1995/1995 [00:05<00:00, 337.01it/s]\n"
     ]
    },
    {
     "name": "stdout",
     "output_type": "stream",
     "text": [
      "The file: uid=f7a910_t_ROIs is saved in /XF11ID/analysis/2017_2/hilmar/Results/f7a910a9-d3be-47b9-8624-0c500d651e42/\n",
      "In this g2 calculation, the buf and lev number are: 8--10--\n",
      "5 Bad frames involved and will be discarded!\n",
      "1996 frames will be processed...\n"
     ]
    },
    {
     "name": "stderr",
     "output_type": "stream",
     "text": [
      "\r",
      "  0%|          | 0/32 [00:00<?, ?it/s]"
     ]
    },
    {
     "name": "stdout",
     "output_type": "stream",
     "text": [
      "Starting assign the tasks...\n"
     ]
    },
    {
     "name": "stderr",
     "output_type": "stream",
     "text": [
      "100%|██████████| 32/32 [00:06<00:00,  4.34it/s]\n",
      "  0%|          | 0/32 [00:00<?, ?it/s]"
     ]
    },
    {
     "name": "stdout",
     "output_type": "stream",
     "text": [
      "Starting running the tasks...\n"
     ]
    },
    {
     "name": "stderr",
     "output_type": "stream",
     "text": [
      "100%|██████████| 32/32 [00:26<00:00,  1.23it/s]\n"
     ]
    },
    {
     "name": "stdout",
     "output_type": "stream",
     "text": [
      "G2 calculation DONE!\n",
      "Total time: 50.698 sec\n",
      "The correlation function is saved in /XF11ID/analysis/2017_2/hilmar/Results/f7a910a9-d3be-47b9-8624-0c500d651e42/ with filename as uid=f7a910_fra_5_2000_g2.csv\n",
      "The g2 fitting parameters are saved in /XF11ID/analysis/2017_2/hilmar/Results/f7a910a9-d3be-47b9-8624-0c500d651e42/uid=f7a910_fra_5_2000_g2_fit_paras.csv\n",
      "The combined image is saved as: /XF11ID/analysis/2017_2/hilmar/Results/f7a910a9-d3be-47b9-8624-0c500d651e42/uid=f7a910_fra_5_2000_g2_fit__joint.png\n",
      "The fitted diffusion coefficient D0 is:  9.255e+00   A^2S-1\n"
     ]
    },
    {
     "name": "stderr",
     "output_type": "stream",
     "text": [
      "100%|██████████| 1995/1995 [00:11<00:00, 167.44it/s]\n",
      "100%|██████████| 32/32 [01:04<00:00,  3.03s/it]\n"
     ]
    },
    {
     "name": "stdout",
     "output_type": "stream",
     "text": [
      "Total time: 1.090 min\n",
      "Total time: 1.067 sec\n",
      "The correlation function is saved in /XF11ID/analysis/2017_2/hilmar/Results/f7a910a9-d3be-47b9-8624-0c500d651e42/ with filename as uid=f7a910_fra_5_2000_g2b.csv\n",
      "The g2 fitting parameters are saved in /XF11ID/analysis/2017_2/hilmar/Results/f7a910a9-d3be-47b9-8624-0c500d651e42/uid=f7a910_fra_5_2000_g2b_fit_paras.csv\n",
      "The fitted diffusion coefficient D0 is:  1.410e+01   A^2S-1\n",
      "The combined image is saved as: /XF11ID/analysis/2017_2/hilmar/Results/f7a910a9-d3be-47b9-8624-0c500d651e42/uid=f7a910_fra_5_2000_g2_b_fit__joint.png\n",
      "The combined image is saved as: /XF11ID/analysis/2017_2/hilmar/Results/f7a910a9-d3be-47b9-8624-0c500d651e42/uid=f7a910_fra_5_2000_g2_two_g2__joint.png\n",
      "UID: f7a910a9-d3be-47b9-8624-0c500d651e42 is in processing...\n",
      "The two time correlation function for uid=f7a910a9-d3be-47b9-8624-0c500d651e42 is already calculated. Just pass...\n",
      "UID: f7a910a9-d3be-47b9-8624-0c500d651e42 is in processing...\n",
      "uid: f7a910a9-d3be-47b9-8624-0c500d651e42--> fra_num_by_dose: [  62  125  250  500 1000 1500 1980]\n",
      "The combined image is saved as: /XF11ID/analysis/2017_2/hilmar/Results/f7a910a9-d3be-47b9-8624-0c500d651e42/uid=f7a910_fra_5_2000_dose_analysis__joint.png\n",
      "The xpcs analysis results are exported to /XF11ID/analysis/2017_2/hilmar/Results/f7a910a9-d3be-47b9-8624-0c500d651e42/ with filename as uid=f7a910a9-d3be-47b9-8624-0c500d651e42_Res.h5\n",
      "/XF11ID/analysis/2017_2/hilmar/Results/f7a910a9-d3be-47b9-8624-0c500d651e42/ f7a910 /XF11ID/analysis/2017_2/hilmar/Results/ XPCS_Analysis_Report_for_uid=f7a910a9-d3be-47b9-8624-0c500d651e42_ROI32_.pdf hilmar\n",
      "\n",
      "****************************************\n",
      "The pdf report is created with filename as: /XF11ID/analysis/2017_2/hilmar/Results/XPCS_Analysis_Report_for_uid=f7a910a9-d3be-47b9-8624-0c500d651e42_ROI32_.pdf\n",
      "****************************************\n",
      "The url=https://logbook.nsls2.bnl.gov/Olog-11-ID/Olog was successfully updated with Add XPCS Analysis PDF Report and with the attachments\n",
      "**************************************************\n",
      "**************************************************\n",
      "Starting analysis for 0592ccd6-58d9-4920-a368-6b91c6cd3023 now...\n",
      "The data acquistion finished.\n",
      "Starting to do something here...\n",
      "Results from this analysis will be stashed in the directory /XF11ID/analysis/2017_2/hilmar/Results/\n",
      "****************************************\n",
      "*****The processing uid is: 0592ccd6-58d9-4920-a368-6b91c6cd3023*****\n",
      "****************************************\n",
      "Results from this analysis will be stashed in the directory /XF11ID/analysis/2017_2/hilmar/Results/0592ccd6-58d9-4920-a368-6b91c6cd3023/\n",
      "The beam center is: [1093, 999]\n",
      "The data are: Sliced and/or processed EigerImages2. Original repr:\n",
      "    <Frames>\n",
      "    Length: 2000 frames\n",
      "    Frame Shape: 2167 x 2070\n",
      "    Pixel Datatype: uint16\n",
      "The non-zeros photon occupation is 0.2850138997567821.\n",
      "Will Always DO apply compress process.\n",
      "Create a new compress file with filename as :/XF11ID/analysis/Compressed_Data/uid_0592ccd6-58d9-4920-a368-6b91c6cd3023.cmp.\n",
      "Using a multiprocess to compress the data.\n",
      "It will create 20 temporary files for parallel compression.\n",
      "####################No bad frames are involved.\n",
      "Combining the seperated compressed files together...\n",
      "The good_start frame number is: 5 \n",
      "uid=0592cc_fra_5_2000\n",
      "Total time: 1.178 min\n"
     ]
    },
    {
     "name": "stderr",
     "output_type": "stream",
     "text": [
      "/opt/conda_envs/analysis/lib/python3.5/site-packages/chxanalys-unknown-py3.5.egg/chxanalys/chx_generic_functions.py:515: RankWarning: Polyfit may be poorly conditioned\n"
     ]
    },
    {
     "name": "stdout",
     "output_type": "stream",
     "text": [
      "The bad frame list length is: 5\n"
     ]
    },
    {
     "name": "stderr",
     "output_type": "stream",
     "text": [
      "Averaging 1 images: 100%|██████████| 1/1 [00:00<00:00, 70.36it/s]\n",
      "Averaging 1 images: 100%|██████████| 1/1 [00:00<00:00, 29.21it/s]\n",
      "Averaging 1 images: 100%|██████████| 1/1 [00:00<00:00, 17.18it/s]\n"
     ]
    },
    {
     "name": "stdout",
     "output_type": "stream",
     "text": [
      "The file: uid=0592cc_q_Iqt is saved in /XF11ID/analysis/2017_2/hilmar/Results/0592ccd6-58d9-4920-a368-6b91c6cd3023/\n"
     ]
    },
    {
     "name": "stderr",
     "output_type": "stream",
     "text": [
      "Get ROI intensity of each frame: 100%|██████████| 1995/1995 [00:26<00:00, 76.26it/s]\n"
     ]
    },
    {
     "name": "stdout",
     "output_type": "stream",
     "text": [
      "The file: uid=0592cc_t_ROIs is saved in /XF11ID/analysis/2017_2/hilmar/Results/0592ccd6-58d9-4920-a368-6b91c6cd3023/\n",
      "In this g2 calculation, the buf and lev number are: 8--10--\n",
      "5 Bad frames involved and will be discarded!\n",
      "1996 frames will be processed...\n"
     ]
    },
    {
     "name": "stderr",
     "output_type": "stream",
     "text": [
      "\r",
      "  0%|          | 0/32 [00:00<?, ?it/s]"
     ]
    },
    {
     "name": "stdout",
     "output_type": "stream",
     "text": [
      "Starting assign the tasks...\n"
     ]
    },
    {
     "name": "stderr",
     "output_type": "stream",
     "text": [
      "100%|██████████| 32/32 [00:06<00:00,  5.21it/s]\n",
      "  0%|          | 0/32 [00:00<?, ?it/s]"
     ]
    },
    {
     "name": "stdout",
     "output_type": "stream",
     "text": [
      "Starting running the tasks...\n"
     ]
    },
    {
     "name": "stderr",
     "output_type": "stream",
     "text": [
      "100%|██████████| 32/32 [01:17<00:00,  2.42s/it]\n"
     ]
    },
    {
     "name": "stdout",
     "output_type": "stream",
     "text": [
      "G2 calculation DONE!\n",
      "Total time: 2.425 min\n",
      "The correlation function is saved in /XF11ID/analysis/2017_2/hilmar/Results/0592ccd6-58d9-4920-a368-6b91c6cd3023/ with filename as uid=0592cc_fra_5_2000_g2.csv\n",
      "The g2 fitting parameters are saved in /XF11ID/analysis/2017_2/hilmar/Results/0592ccd6-58d9-4920-a368-6b91c6cd3023/uid=0592cc_fra_5_2000_g2_fit_paras.csv\n",
      "The combined image is saved as: /XF11ID/analysis/2017_2/hilmar/Results/0592ccd6-58d9-4920-a368-6b91c6cd3023/uid=0592cc_fra_5_2000_g2_fit__joint.png\n",
      "The fitted diffusion coefficient D0 is:  1.282e+01   A^2S-1\n"
     ]
    },
    {
     "name": "stderr",
     "output_type": "stream",
     "text": [
      "100%|██████████| 1995/1995 [00:34<00:00, 61.23it/s]\n",
      "100%|██████████| 32/32 [01:04<00:00,  3.01s/it]\n"
     ]
    },
    {
     "name": "stdout",
     "output_type": "stream",
     "text": [
      "Total time: 1.084 min\n",
      "Total time: 0.508 sec\n",
      "The correlation function is saved in /XF11ID/analysis/2017_2/hilmar/Results/0592ccd6-58d9-4920-a368-6b91c6cd3023/ with filename as uid=0592cc_fra_5_2000_g2b.csv\n",
      "The g2 fitting parameters are saved in /XF11ID/analysis/2017_2/hilmar/Results/0592ccd6-58d9-4920-a368-6b91c6cd3023/uid=0592cc_fra_5_2000_g2b_fit_paras.csv\n",
      "The fitted diffusion coefficient D0 is:  1.294e+01   A^2S-1\n",
      "The combined image is saved as: /XF11ID/analysis/2017_2/hilmar/Results/0592ccd6-58d9-4920-a368-6b91c6cd3023/uid=0592cc_fra_5_2000_g2_b_fit__joint.png\n",
      "The combined image is saved as: /XF11ID/analysis/2017_2/hilmar/Results/0592ccd6-58d9-4920-a368-6b91c6cd3023/uid=0592cc_fra_5_2000_g2_two_g2__joint.png\n",
      "UID: 0592ccd6-58d9-4920-a368-6b91c6cd3023 is in processing...\n",
      "The two time correlation function for uid=0592ccd6-58d9-4920-a368-6b91c6cd3023 is already calculated. Just pass...\n",
      "UID: 0592ccd6-58d9-4920-a368-6b91c6cd3023 is in processing...\n",
      "uid: 0592ccd6-58d9-4920-a368-6b91c6cd3023--> fra_num_by_dose: [  62  125  250  500 1000 1500 1980]\n",
      "The combined image is saved as: /XF11ID/analysis/2017_2/hilmar/Results/0592ccd6-58d9-4920-a368-6b91c6cd3023/uid=0592cc_fra_5_2000_dose_analysis__joint.png\n",
      "The xpcs analysis results are exported to /XF11ID/analysis/2017_2/hilmar/Results/0592ccd6-58d9-4920-a368-6b91c6cd3023/ with filename as uid=0592ccd6-58d9-4920-a368-6b91c6cd3023_Res.h5\n",
      "/XF11ID/analysis/2017_2/hilmar/Results/0592ccd6-58d9-4920-a368-6b91c6cd3023/ 0592cc /XF11ID/analysis/2017_2/hilmar/Results/ XPCS_Analysis_Report_for_uid=0592ccd6-58d9-4920-a368-6b91c6cd3023_ROI32_.pdf hilmar\n",
      "\n",
      "****************************************\n",
      "The pdf report is created with filename as: /XF11ID/analysis/2017_2/hilmar/Results/XPCS_Analysis_Report_for_uid=0592ccd6-58d9-4920-a368-6b91c6cd3023_ROI32_.pdf\n",
      "****************************************\n",
      "The url=https://logbook.nsls2.bnl.gov/Olog-11-ID/Olog was successfully updated with Add XPCS Analysis PDF Report and with the attachments\n",
      "**************************************************\n",
      "**************************************************\n",
      "Starting analysis for 8127fa39-c136-4c8c-aa79-e82fbb7e3c9c now...\n",
      "The data acquistion finished.\n",
      "Starting to do something here...\n",
      "Results from this analysis will be stashed in the directory /XF11ID/analysis/2017_2/hilmar/Results/\n",
      "****************************************\n",
      "*****The processing uid is: 8127fa39-c136-4c8c-aa79-e82fbb7e3c9c*****\n",
      "****************************************\n",
      "Results from this analysis will be stashed in the directory /XF11ID/analysis/2017_2/hilmar/Results/8127fa39-c136-4c8c-aa79-e82fbb7e3c9c/\n",
      "The beam center is: [1093, 999]\n",
      "The data are: Sliced and/or processed EigerImages2. Original repr:\n",
      "    <Frames>\n",
      "    Length: 5000 frames\n",
      "    Frame Shape: 2167 x 2070\n",
      "    Pixel Datatype: uint32\n",
      "The non-zeros photon occupation is 0.29551373367308037.\n",
      "Will Always DO apply compress process.\n",
      "Create a new compress file with filename as :/XF11ID/analysis/Compressed_Data/uid_8127fa39-c136-4c8c-aa79-e82fbb7e3c9c.cmp.\n",
      "Using a multiprocess to compress the data.\n",
      "It will create 50 temporary files for parallel compression.\n",
      "##################################################No bad frames are involved.\n",
      "Combining the seperated compressed files together...\n",
      "The good_start frame number is: 5 \n",
      "uid=8127fa_fra_5_5000\n",
      "Total time: 2.722 min\n"
     ]
    },
    {
     "name": "stderr",
     "output_type": "stream",
     "text": [
      "/opt/conda_envs/analysis/lib/python3.5/site-packages/chxanalys-unknown-py3.5.egg/chxanalys/chx_generic_functions.py:515: RankWarning: Polyfit may be poorly conditioned\n"
     ]
    },
    {
     "name": "stdout",
     "output_type": "stream",
     "text": [
      "The bad frame list length is: 12\n"
     ]
    },
    {
     "name": "stderr",
     "output_type": "stream",
     "text": [
      "Averaging 1 images: 100%|██████████| 1/1 [00:00<00:00, 70.33it/s]\n",
      "Averaging 1 images: 100%|██████████| 1/1 [00:00<00:00, 14.13it/s]\n",
      "Averaging 1 images: 100%|██████████| 1/1 [00:00<00:00,  7.72it/s]\n"
     ]
    },
    {
     "name": "stdout",
     "output_type": "stream",
     "text": [
      "The file: uid=8127fa_q_Iqt is saved in /XF11ID/analysis/2017_2/hilmar/Results/8127fa39-c136-4c8c-aa79-e82fbb7e3c9c/\n"
     ]
    },
    {
     "name": "stderr",
     "output_type": "stream",
     "text": [
      "Get ROI intensity of each frame: 100%|██████████| 4995/4995 [01:09<00:00, 71.68it/s]\n"
     ]
    },
    {
     "name": "stdout",
     "output_type": "stream",
     "text": [
      "The file: uid=8127fa_t_ROIs is saved in /XF11ID/analysis/2017_2/hilmar/Results/8127fa39-c136-4c8c-aa79-e82fbb7e3c9c/\n",
      "In this g2 calculation, the buf and lev number are: 8--11--\n",
      "12 Bad frames involved and will be discarded!\n",
      "4989 frames will be processed...\n"
     ]
    },
    {
     "name": "stderr",
     "output_type": "stream",
     "text": [
      "\r",
      "  0%|          | 0/32 [00:00<?, ?it/s]"
     ]
    },
    {
     "name": "stdout",
     "output_type": "stream",
     "text": [
      "Starting assign the tasks...\n"
     ]
    },
    {
     "name": "stderr",
     "output_type": "stream",
     "text": [
      "100%|██████████| 32/32 [00:07<00:00,  3.11it/s]\n",
      "  0%|          | 0/32 [00:00<?, ?it/s]"
     ]
    },
    {
     "name": "stdout",
     "output_type": "stream",
     "text": [
      "Starting running the tasks...\n"
     ]
    },
    {
     "name": "stderr",
     "output_type": "stream",
     "text": [
      "100%|██████████| 32/32 [02:52<00:00,  5.40s/it]  \n"
     ]
    },
    {
     "name": "stdout",
     "output_type": "stream",
     "text": [
      "G2 calculation DONE!\n",
      "Total time: 3.375 min\n",
      "The correlation function is saved in /XF11ID/analysis/2017_2/hilmar/Results/8127fa39-c136-4c8c-aa79-e82fbb7e3c9c/ with filename as uid=8127fa_fra_5_5000_g2.csv\n",
      "The g2 fitting parameters are saved in /XF11ID/analysis/2017_2/hilmar/Results/8127fa39-c136-4c8c-aa79-e82fbb7e3c9c/uid=8127fa_fra_5_5000_g2_fit_paras.csv\n",
      "The combined image is saved as: /XF11ID/analysis/2017_2/hilmar/Results/8127fa39-c136-4c8c-aa79-e82fbb7e3c9c/uid=8127fa_fra_5_5000_g2_fit__joint.png\n",
      "The fitted diffusion coefficient D0 is:  1.969e+00   A^2S-1\n"
     ]
    },
    {
     "name": "stderr",
     "output_type": "stream",
     "text": [
      "100%|██████████| 4995/4995 [01:23<00:00, 59.62it/s]\n",
      "100%|██████████| 32/32 [03:52<00:00, 10.68s/it]\n"
     ]
    },
    {
     "name": "stdout",
     "output_type": "stream",
     "text": [
      "Total time: 3.931 min\n",
      "Total time: 3.235 sec\n",
      "The correlation function is saved in /XF11ID/analysis/2017_2/hilmar/Results/8127fa39-c136-4c8c-aa79-e82fbb7e3c9c/ with filename as uid=8127fa_fra_5_5000_g2b.csv\n",
      "The g2 fitting parameters are saved in /XF11ID/analysis/2017_2/hilmar/Results/8127fa39-c136-4c8c-aa79-e82fbb7e3c9c/uid=8127fa_fra_5_5000_g2b_fit_paras.csv\n",
      "The fitted diffusion coefficient D0 is:  1.933e+00   A^2S-1\n",
      "The combined image is saved as: /XF11ID/analysis/2017_2/hilmar/Results/8127fa39-c136-4c8c-aa79-e82fbb7e3c9c/uid=8127fa_fra_5_5000_g2_b_fit__joint.png\n",
      "The combined image is saved as: /XF11ID/analysis/2017_2/hilmar/Results/8127fa39-c136-4c8c-aa79-e82fbb7e3c9c/uid=8127fa_fra_5_5000_g2_two_g2__joint.png\n",
      "UID: 8127fa39-c136-4c8c-aa79-e82fbb7e3c9c is in processing...\n",
      "The two time correlation function for uid=8127fa39-c136-4c8c-aa79-e82fbb7e3c9c is already calculated. Just pass...\n",
      "UID: 8127fa39-c136-4c8c-aa79-e82fbb7e3c9c is in processing...\n",
      "uid: 8127fa39-c136-4c8c-aa79-e82fbb7e3c9c--> fra_num_by_dose: [ 156  312  625 1250 2500 3749 4950]\n",
      "The combined image is saved as: /XF11ID/analysis/2017_2/hilmar/Results/8127fa39-c136-4c8c-aa79-e82fbb7e3c9c/uid=8127fa_fra_5_5000_dose_analysis__joint.png\n",
      "The xpcs analysis results are exported to /XF11ID/analysis/2017_2/hilmar/Results/8127fa39-c136-4c8c-aa79-e82fbb7e3c9c/ with filename as uid=8127fa39-c136-4c8c-aa79-e82fbb7e3c9c_Res.h5\n",
      "/XF11ID/analysis/2017_2/hilmar/Results/8127fa39-c136-4c8c-aa79-e82fbb7e3c9c/ 8127fa /XF11ID/analysis/2017_2/hilmar/Results/ XPCS_Analysis_Report_for_uid=8127fa39-c136-4c8c-aa79-e82fbb7e3c9c_ROI32_.pdf hilmar\n",
      "\n",
      "****************************************\n",
      "The pdf report is created with filename as: /XF11ID/analysis/2017_2/hilmar/Results/XPCS_Analysis_Report_for_uid=8127fa39-c136-4c8c-aa79-e82fbb7e3c9c_ROI32_.pdf\n",
      "****************************************\n",
      "The url=https://logbook.nsls2.bnl.gov/Olog-11-ID/Olog was successfully updated with Add XPCS Analysis PDF Report and with the attachments\n",
      "**************************************************\n",
      "**************************************************\n",
      "Starting analysis for 69a1cf12-da06-4155-946a-8efdae068fce now...\n",
      "The data acquistion finished.\n",
      "Starting to do something here...\n",
      "Results from this analysis will be stashed in the directory /XF11ID/analysis/2017_2/hilmar/Results/\n",
      "****************************************\n",
      "*****The processing uid is: 69a1cf12-da06-4155-946a-8efdae068fce*****\n",
      "****************************************\n",
      "Results from this analysis will be stashed in the directory /XF11ID/analysis/2017_2/hilmar/Results/69a1cf12-da06-4155-946a-8efdae068fce/\n",
      "The beam center is: [1093, 999]\n",
      "The data are: Sliced and/or processed EigerImages2. Original repr:\n",
      "    <Frames>\n",
      "    Length: 2000 frames\n",
      "    Frame Shape: 2167 x 2070\n",
      "    Pixel Datatype: uint16\n",
      "The non-zeros photon occupation is 0.07526601258669235.\n",
      "Will Always DO apply compress process.\n",
      "Create a new compress file with filename as :/XF11ID/analysis/Compressed_Data/uid_69a1cf12-da06-4155-946a-8efdae068fce.cmp.\n",
      "Using a multiprocess to compress the data.\n",
      "It will create 20 temporary files for parallel compression.\n",
      "####################No bad frames are involved.\n",
      "Combining the seperated compressed files together...\n",
      "The good_start frame number is: 5 \n",
      "uid=69a1cf_fra_5_2000\n",
      "Total time: 57.302 sec\n"
     ]
    },
    {
     "name": "stderr",
     "output_type": "stream",
     "text": [
      "/opt/conda_envs/analysis/lib/python3.5/site-packages/chxanalys-unknown-py3.5.egg/chxanalys/chx_generic_functions.py:515: RankWarning: Polyfit may be poorly conditioned\n"
     ]
    },
    {
     "name": "stdout",
     "output_type": "stream",
     "text": [
      "The bad frame list length is: 5\n"
     ]
    },
    {
     "name": "stderr",
     "output_type": "stream",
     "text": [
      "Averaging 1 images: 100%|██████████| 1/1 [00:00<00:00, 293.47it/s]\n",
      "Averaging 1 images: 100%|██████████| 1/1 [00:00<00:00, 37.66it/s]\n",
      "Averaging 1 images: 100%|██████████| 1/1 [00:00<00:00, 20.58it/s]\n"
     ]
    },
    {
     "name": "stdout",
     "output_type": "stream",
     "text": [
      "The file: uid=69a1cf_q_Iqt is saved in /XF11ID/analysis/2017_2/hilmar/Results/69a1cf12-da06-4155-946a-8efdae068fce/\n"
     ]
    },
    {
     "name": "stderr",
     "output_type": "stream",
     "text": [
      "Get ROI intensity of each frame: 100%|██████████| 1995/1995 [00:06<00:00, 321.64it/s]\n"
     ]
    },
    {
     "name": "stdout",
     "output_type": "stream",
     "text": [
      "The file: uid=69a1cf_t_ROIs is saved in /XF11ID/analysis/2017_2/hilmar/Results/69a1cf12-da06-4155-946a-8efdae068fce/\n",
      "In this g2 calculation, the buf and lev number are: 8--10--\n",
      "5 Bad frames involved and will be discarded!\n",
      "1996 frames will be processed...\n"
     ]
    },
    {
     "name": "stderr",
     "output_type": "stream",
     "text": [
      "\r",
      "  0%|          | 0/32 [00:00<?, ?it/s]"
     ]
    },
    {
     "name": "stdout",
     "output_type": "stream",
     "text": [
      "Starting assign the tasks...\n"
     ]
    },
    {
     "name": "stderr",
     "output_type": "stream",
     "text": [
      "100%|██████████| 32/32 [00:05<00:00,  4.96it/s]\n",
      "  0%|          | 0/32 [00:00<?, ?it/s]"
     ]
    },
    {
     "name": "stdout",
     "output_type": "stream",
     "text": [
      "Starting running the tasks...\n"
     ]
    },
    {
     "name": "stderr",
     "output_type": "stream",
     "text": [
      "100%|██████████| 32/32 [00:26<00:00,  1.23it/s]\n"
     ]
    },
    {
     "name": "stdout",
     "output_type": "stream",
     "text": [
      "G2 calculation DONE!\n",
      "Total time: 1.257 min\n",
      "The correlation function is saved in /XF11ID/analysis/2017_2/hilmar/Results/69a1cf12-da06-4155-946a-8efdae068fce/ with filename as uid=69a1cf_fra_5_2000_g2.csv\n",
      "The g2 fitting parameters are saved in /XF11ID/analysis/2017_2/hilmar/Results/69a1cf12-da06-4155-946a-8efdae068fce/uid=69a1cf_fra_5_2000_g2_fit_paras.csv\n",
      "The combined image is saved as: /XF11ID/analysis/2017_2/hilmar/Results/69a1cf12-da06-4155-946a-8efdae068fce/uid=69a1cf_fra_5_2000_g2_fit__joint.png\n",
      "The fitted diffusion coefficient D0 is:  6.462e+00   A^2S-1\n"
     ]
    },
    {
     "name": "stderr",
     "output_type": "stream",
     "text": [
      "100%|██████████| 1995/1995 [00:11<00:00, 172.88it/s]\n",
      "100%|██████████| 32/32 [01:03<00:00,  3.03s/it]\n"
     ]
    },
    {
     "name": "stdout",
     "output_type": "stream",
     "text": [
      "Total time: 1.079 min\n",
      "Total time: 0.883 sec\n",
      "The correlation function is saved in /XF11ID/analysis/2017_2/hilmar/Results/69a1cf12-da06-4155-946a-8efdae068fce/ with filename as uid=69a1cf_fra_5_2000_g2b.csv\n",
      "The g2 fitting parameters are saved in /XF11ID/analysis/2017_2/hilmar/Results/69a1cf12-da06-4155-946a-8efdae068fce/uid=69a1cf_fra_5_2000_g2b_fit_paras.csv\n",
      "The fitted diffusion coefficient D0 is:  1.303e+01   A^2S-1\n",
      "The combined image is saved as: /XF11ID/analysis/2017_2/hilmar/Results/69a1cf12-da06-4155-946a-8efdae068fce/uid=69a1cf_fra_5_2000_g2_b_fit__joint.png\n",
      "The combined image is saved as: /XF11ID/analysis/2017_2/hilmar/Results/69a1cf12-da06-4155-946a-8efdae068fce/uid=69a1cf_fra_5_2000_g2_two_g2__joint.png\n",
      "UID: 69a1cf12-da06-4155-946a-8efdae068fce is in processing...\n",
      "The two time correlation function for uid=69a1cf12-da06-4155-946a-8efdae068fce is already calculated. Just pass...\n",
      "UID: 69a1cf12-da06-4155-946a-8efdae068fce is in processing...\n",
      "uid: 69a1cf12-da06-4155-946a-8efdae068fce--> fra_num_by_dose: [  62  125  250  500 1000 1500 1980]\n",
      "The combined image is saved as: /XF11ID/analysis/2017_2/hilmar/Results/69a1cf12-da06-4155-946a-8efdae068fce/uid=69a1cf_fra_5_2000_dose_analysis__joint.png\n",
      "The xpcs analysis results are exported to /XF11ID/analysis/2017_2/hilmar/Results/69a1cf12-da06-4155-946a-8efdae068fce/ with filename as uid=69a1cf12-da06-4155-946a-8efdae068fce_Res.h5\n",
      "/XF11ID/analysis/2017_2/hilmar/Results/69a1cf12-da06-4155-946a-8efdae068fce/ 69a1cf /XF11ID/analysis/2017_2/hilmar/Results/ XPCS_Analysis_Report_for_uid=69a1cf12-da06-4155-946a-8efdae068fce_ROI32_.pdf hilmar\n",
      "\n",
      "****************************************\n",
      "The pdf report is created with filename as: /XF11ID/analysis/2017_2/hilmar/Results/XPCS_Analysis_Report_for_uid=69a1cf12-da06-4155-946a-8efdae068fce_ROI32_.pdf\n",
      "****************************************\n",
      "The url=https://logbook.nsls2.bnl.gov/Olog-11-ID/Olog was successfully updated with Add XPCS Analysis PDF Report and with the attachments\n",
      "**************************************************\n",
      "**************************************************\n",
      "Starting analysis for dafae351-7f60-41aa-86bc-e248e61a39b8 now...\n",
      "The data acquistion finished.\n",
      "Starting to do something here...\n",
      "Results from this analysis will be stashed in the directory /XF11ID/analysis/2017_2/hilmar/Results/\n",
      "****************************************\n",
      "*****The processing uid is: dafae351-7f60-41aa-86bc-e248e61a39b8*****\n",
      "****************************************\n",
      "Results from this analysis will be stashed in the directory /XF11ID/analysis/2017_2/hilmar/Results/dafae351-7f60-41aa-86bc-e248e61a39b8/\n",
      "The beam center is: [1093, 999]\n",
      "The data are: Sliced and/or processed EigerImages2. Original repr:\n",
      "    <Frames>\n",
      "    Length: 2000 frames\n",
      "    Frame Shape: 2167 x 2070\n",
      "    Pixel Datatype: uint16\n",
      "The non-zeros photon occupation is 0.27780675882640127.\n",
      "Will Always DO apply compress process.\n",
      "Create a new compress file with filename as :/XF11ID/analysis/Compressed_Data/uid_dafae351-7f60-41aa-86bc-e248e61a39b8.cmp.\n",
      "Using a multiprocess to compress the data.\n",
      "It will create 20 temporary files for parallel compression.\n",
      "####################No bad frames are involved.\n",
      "Combining the seperated compressed files together...\n",
      "The good_start frame number is: 5 \n",
      "uid=dafae3_fra_5_2000\n",
      "Total time: 1.239 min\n"
     ]
    },
    {
     "name": "stderr",
     "output_type": "stream",
     "text": [
      "/opt/conda_envs/analysis/lib/python3.5/site-packages/chxanalys-unknown-py3.5.egg/chxanalys/chx_generic_functions.py:515: RankWarning: Polyfit may be poorly conditioned\n"
     ]
    },
    {
     "name": "stdout",
     "output_type": "stream",
     "text": [
      "The bad frame list length is: 5\n"
     ]
    },
    {
     "name": "stderr",
     "output_type": "stream",
     "text": [
      "Averaging 1 images: 100%|██████████| 1/1 [00:00<00:00, 81.95it/s]\n",
      "Averaging 1 images: 100%|██████████| 1/1 [00:00<00:00, 28.81it/s]\n",
      "Averaging 1 images: 100%|██████████| 1/1 [00:00<00:00, 15.78it/s]\n"
     ]
    },
    {
     "name": "stdout",
     "output_type": "stream",
     "text": [
      "The file: uid=dafae3_q_Iqt is saved in /XF11ID/analysis/2017_2/hilmar/Results/dafae351-7f60-41aa-86bc-e248e61a39b8/\n"
     ]
    },
    {
     "name": "stderr",
     "output_type": "stream",
     "text": [
      "Get ROI intensity of each frame: 100%|██████████| 1995/1995 [00:27<00:00, 73.70it/s]\n"
     ]
    },
    {
     "name": "stdout",
     "output_type": "stream",
     "text": [
      "The file: uid=dafae3_t_ROIs is saved in /XF11ID/analysis/2017_2/hilmar/Results/dafae351-7f60-41aa-86bc-e248e61a39b8/\n",
      "In this g2 calculation, the buf and lev number are: 8--10--\n",
      "5 Bad frames involved and will be discarded!\n",
      "1996 frames will be processed...\n"
     ]
    },
    {
     "name": "stderr",
     "output_type": "stream",
     "text": [
      "\r",
      "  0%|          | 0/32 [00:00<?, ?it/s]"
     ]
    },
    {
     "name": "stdout",
     "output_type": "stream",
     "text": [
      "Starting assign the tasks...\n"
     ]
    },
    {
     "name": "stderr",
     "output_type": "stream",
     "text": [
      "100%|██████████| 32/32 [00:05<00:00,  5.40it/s]\n",
      "  0%|          | 0/32 [00:00<?, ?it/s]"
     ]
    },
    {
     "name": "stdout",
     "output_type": "stream",
     "text": [
      "Starting running the tasks...\n"
     ]
    },
    {
     "name": "stderr",
     "output_type": "stream",
     "text": [
      "100%|██████████| 32/32 [00:41<00:00,  1.30s/it]\n"
     ]
    },
    {
     "name": "stdout",
     "output_type": "stream",
     "text": [
      "G2 calculation DONE!\n",
      "Total time: 1.072 min\n",
      "The correlation function is saved in /XF11ID/analysis/2017_2/hilmar/Results/dafae351-7f60-41aa-86bc-e248e61a39b8/ with filename as uid=dafae3_fra_5_2000_g2.csv\n",
      "The g2 fitting parameters are saved in /XF11ID/analysis/2017_2/hilmar/Results/dafae351-7f60-41aa-86bc-e248e61a39b8/uid=dafae3_fra_5_2000_g2_fit_paras.csv\n",
      "The combined image is saved as: /XF11ID/analysis/2017_2/hilmar/Results/dafae351-7f60-41aa-86bc-e248e61a39b8/uid=dafae3_fra_5_2000_g2_fit__joint.png\n",
      "The fitted diffusion coefficient D0 is:  7.220e+00   A^2S-1\n"
     ]
    },
    {
     "name": "stderr",
     "output_type": "stream",
     "text": [
      "100%|██████████| 1995/1995 [00:34<00:00, 57.44it/s]\n",
      "100%|██████████| 32/32 [01:02<00:00,  2.99s/it]\n"
     ]
    },
    {
     "name": "stdout",
     "output_type": "stream",
     "text": [
      "Total time: 1.051 min\n",
      "Total time: 0.796 sec\n",
      "The correlation function is saved in /XF11ID/analysis/2017_2/hilmar/Results/dafae351-7f60-41aa-86bc-e248e61a39b8/ with filename as uid=dafae3_fra_5_2000_g2b.csv\n",
      "The g2 fitting parameters are saved in /XF11ID/analysis/2017_2/hilmar/Results/dafae351-7f60-41aa-86bc-e248e61a39b8/uid=dafae3_fra_5_2000_g2b_fit_paras.csv\n",
      "The fitted diffusion coefficient D0 is:  7.110e+00   A^2S-1\n",
      "The combined image is saved as: /XF11ID/analysis/2017_2/hilmar/Results/dafae351-7f60-41aa-86bc-e248e61a39b8/uid=dafae3_fra_5_2000_g2_b_fit__joint.png\n",
      "The combined image is saved as: /XF11ID/analysis/2017_2/hilmar/Results/dafae351-7f60-41aa-86bc-e248e61a39b8/uid=dafae3_fra_5_2000_g2_two_g2__joint.png\n",
      "UID: dafae351-7f60-41aa-86bc-e248e61a39b8 is in processing...\n",
      "The two time correlation function for uid=dafae351-7f60-41aa-86bc-e248e61a39b8 is already calculated. Just pass...\n",
      "UID: dafae351-7f60-41aa-86bc-e248e61a39b8 is in processing...\n",
      "uid: dafae351-7f60-41aa-86bc-e248e61a39b8--> fra_num_by_dose: [  62  125  250  500 1000 1500 1980]\n",
      "The combined image is saved as: /XF11ID/analysis/2017_2/hilmar/Results/dafae351-7f60-41aa-86bc-e248e61a39b8/uid=dafae3_fra_5_2000_dose_analysis__joint.png\n",
      "The xpcs analysis results are exported to /XF11ID/analysis/2017_2/hilmar/Results/dafae351-7f60-41aa-86bc-e248e61a39b8/ with filename as uid=dafae351-7f60-41aa-86bc-e248e61a39b8_Res.h5\n",
      "/XF11ID/analysis/2017_2/hilmar/Results/dafae351-7f60-41aa-86bc-e248e61a39b8/ dafae3 /XF11ID/analysis/2017_2/hilmar/Results/ XPCS_Analysis_Report_for_uid=dafae351-7f60-41aa-86bc-e248e61a39b8_ROI32_.pdf hilmar\n",
      "\n",
      "****************************************\n",
      "The pdf report is created with filename as: /XF11ID/analysis/2017_2/hilmar/Results/XPCS_Analysis_Report_for_uid=dafae351-7f60-41aa-86bc-e248e61a39b8_ROI32_.pdf\n",
      "****************************************\n",
      "The url=https://logbook.nsls2.bnl.gov/Olog-11-ID/Olog was successfully updated with Add XPCS Analysis PDF Report and with the attachments\n",
      "**************************************************\n",
      "**************************************************\n",
      "Starting analysis for a7180dc4-0013-41cd-a6a2-29d1c0d04d2a now...\n",
      "The data acquistion finished.\n",
      "Starting to do something here...\n",
      "Results from this analysis will be stashed in the directory /XF11ID/analysis/2017_2/hilmar/Results/\n",
      "****************************************\n",
      "*****The processing uid is: a7180dc4-0013-41cd-a6a2-29d1c0d04d2a*****\n",
      "****************************************\n",
      "Results from this analysis will be stashed in the directory /XF11ID/analysis/2017_2/hilmar/Results/a7180dc4-0013-41cd-a6a2-29d1c0d04d2a/\n",
      "The beam center is: [1093, 999]\n",
      "The data are: Sliced and/or processed EigerImages2. Original repr:\n",
      "    <Frames>\n",
      "    Length: 5000 frames\n",
      "    Frame Shape: 2167 x 2070\n",
      "    Pixel Datatype: uint32\n",
      "The non-zeros photon occupation is 0.2968069572351188.\n",
      "Will Always DO apply compress process.\n",
      "Create a new compress file with filename as :/XF11ID/analysis/Compressed_Data/uid_a7180dc4-0013-41cd-a6a2-29d1c0d04d2a.cmp.\n",
      "Using a multiprocess to compress the data.\n",
      "It will create 50 temporary files for parallel compression.\n",
      "##################################################No bad frames are involved.\n",
      "Combining the seperated compressed files together...\n",
      "The good_start frame number is: 5 \n",
      "uid=a7180d_fra_5_5000\n",
      "Total time: 3.180 min\n"
     ]
    },
    {
     "name": "stderr",
     "output_type": "stream",
     "text": [
      "/opt/conda_envs/analysis/lib/python3.5/site-packages/chxanalys-unknown-py3.5.egg/chxanalys/chx_generic_functions.py:515: RankWarning: Polyfit may be poorly conditioned\n"
     ]
    },
    {
     "name": "stdout",
     "output_type": "stream",
     "text": [
      "The bad frame list length is: 10\n"
     ]
    },
    {
     "name": "stderr",
     "output_type": "stream",
     "text": [
      "Averaging 1 images: 100%|██████████| 1/1 [00:00<00:00, 66.65it/s]\n",
      "Averaging 1 images: 100%|██████████| 1/1 [00:00<00:00, 14.04it/s]\n",
      "Averaging 1 images: 100%|██████████| 1/1 [00:00<00:00,  7.87it/s]\n"
     ]
    },
    {
     "name": "stdout",
     "output_type": "stream",
     "text": [
      "The file: uid=a7180d_q_Iqt is saved in /XF11ID/analysis/2017_2/hilmar/Results/a7180dc4-0013-41cd-a6a2-29d1c0d04d2a/\n"
     ]
    },
    {
     "name": "stderr",
     "output_type": "stream",
     "text": [
      "Get ROI intensity of each frame: 100%|██████████| 4995/4995 [01:11<00:00, 70.08it/s]\n"
     ]
    },
    {
     "name": "stdout",
     "output_type": "stream",
     "text": [
      "The file: uid=a7180d_t_ROIs is saved in /XF11ID/analysis/2017_2/hilmar/Results/a7180dc4-0013-41cd-a6a2-29d1c0d04d2a/\n",
      "In this g2 calculation, the buf and lev number are: 8--11--\n",
      "10 Bad frames involved and will be discarded!\n",
      "4991 frames will be processed...\n"
     ]
    },
    {
     "name": "stderr",
     "output_type": "stream",
     "text": [
      "\r",
      "  0%|          | 0/32 [00:00<?, ?it/s]"
     ]
    },
    {
     "name": "stdout",
     "output_type": "stream",
     "text": [
      "Starting assign the tasks...\n"
     ]
    },
    {
     "name": "stderr",
     "output_type": "stream",
     "text": [
      "100%|██████████| 32/32 [00:07<00:00,  3.48it/s]\n",
      "  0%|          | 0/32 [00:00<?, ?it/s]"
     ]
    },
    {
     "name": "stdout",
     "output_type": "stream",
     "text": [
      "Starting running the tasks...\n"
     ]
    },
    {
     "name": "stderr",
     "output_type": "stream",
     "text": [
      "100%|██████████| 32/32 [02:42<00:00,  5.07s/it]\n"
     ]
    },
    {
     "name": "stdout",
     "output_type": "stream",
     "text": [
      "G2 calculation DONE!\n",
      "Total time: 3.288 min\n",
      "The correlation function is saved in /XF11ID/analysis/2017_2/hilmar/Results/a7180dc4-0013-41cd-a6a2-29d1c0d04d2a/ with filename as uid=a7180d_fra_5_5000_g2.csv\n",
      "The g2 fitting parameters are saved in /XF11ID/analysis/2017_2/hilmar/Results/a7180dc4-0013-41cd-a6a2-29d1c0d04d2a/uid=a7180d_fra_5_5000_g2_fit_paras.csv\n",
      "The combined image is saved as: /XF11ID/analysis/2017_2/hilmar/Results/a7180dc4-0013-41cd-a6a2-29d1c0d04d2a/uid=a7180d_fra_5_5000_g2_fit__joint.png\n",
      "The fitted diffusion coefficient D0 is:  1.747e+00   A^2S-1\n"
     ]
    },
    {
     "name": "stderr",
     "output_type": "stream",
     "text": [
      "100%|██████████| 4995/4995 [01:32<00:00, 54.02it/s]\n",
      "100%|██████████| 32/32 [03:52<00:00, 10.42s/it]\n"
     ]
    },
    {
     "name": "stdout",
     "output_type": "stream",
     "text": [
      "Total time: 3.933 min\n",
      "Total time: 2.706 sec\n",
      "The correlation function is saved in /XF11ID/analysis/2017_2/hilmar/Results/a7180dc4-0013-41cd-a6a2-29d1c0d04d2a/ with filename as uid=a7180d_fra_5_5000_g2b.csv\n",
      "The g2 fitting parameters are saved in /XF11ID/analysis/2017_2/hilmar/Results/a7180dc4-0013-41cd-a6a2-29d1c0d04d2a/uid=a7180d_fra_5_5000_g2b_fit_paras.csv\n",
      "The fitted diffusion coefficient D0 is:  1.756e+00   A^2S-1\n",
      "The combined image is saved as: /XF11ID/analysis/2017_2/hilmar/Results/a7180dc4-0013-41cd-a6a2-29d1c0d04d2a/uid=a7180d_fra_5_5000_g2_b_fit__joint.png\n",
      "The combined image is saved as: /XF11ID/analysis/2017_2/hilmar/Results/a7180dc4-0013-41cd-a6a2-29d1c0d04d2a/uid=a7180d_fra_5_5000_g2_two_g2__joint.png\n",
      "UID: a7180dc4-0013-41cd-a6a2-29d1c0d04d2a is in processing...\n",
      "The two time correlation function for uid=a7180dc4-0013-41cd-a6a2-29d1c0d04d2a is already calculated. Just pass...\n",
      "UID: a7180dc4-0013-41cd-a6a2-29d1c0d04d2a is in processing...\n",
      "uid: a7180dc4-0013-41cd-a6a2-29d1c0d04d2a--> fra_num_by_dose: [ 156  312  625 1250 2500 3749 4950]\n",
      "The combined image is saved as: /XF11ID/analysis/2017_2/hilmar/Results/a7180dc4-0013-41cd-a6a2-29d1c0d04d2a/uid=a7180d_fra_5_5000_dose_analysis__joint.png\n",
      "The xpcs analysis results are exported to /XF11ID/analysis/2017_2/hilmar/Results/a7180dc4-0013-41cd-a6a2-29d1c0d04d2a/ with filename as uid=a7180dc4-0013-41cd-a6a2-29d1c0d04d2a_Res.h5\n",
      "/XF11ID/analysis/2017_2/hilmar/Results/a7180dc4-0013-41cd-a6a2-29d1c0d04d2a/ a7180d /XF11ID/analysis/2017_2/hilmar/Results/ XPCS_Analysis_Report_for_uid=a7180dc4-0013-41cd-a6a2-29d1c0d04d2a_ROI32_.pdf hilmar\n",
      "\n",
      "****************************************\n",
      "The pdf report is created with filename as: /XF11ID/analysis/2017_2/hilmar/Results/XPCS_Analysis_Report_for_uid=a7180dc4-0013-41cd-a6a2-29d1c0d04d2a_ROI32_.pdf\n",
      "****************************************\n",
      "The url=https://logbook.nsls2.bnl.gov/Olog-11-ID/Olog was successfully updated with Add XPCS Analysis PDF Report and with the attachments\n",
      "**************************************************\n",
      "**************************************************\n",
      "Starting analysis for 34958b99-5059-4778-a156-62a4da7c2f49 now...\n",
      "The data acquistion finished.\n",
      "Starting to do something here...\n",
      "Results from this analysis will be stashed in the directory /XF11ID/analysis/2017_2/hilmar/Results/\n",
      "****************************************\n",
      "*****The processing uid is: 34958b99-5059-4778-a156-62a4da7c2f49*****\n",
      "****************************************\n",
      "Results from this analysis will be stashed in the directory /XF11ID/analysis/2017_2/hilmar/Results/34958b99-5059-4778-a156-62a4da7c2f49/\n",
      "The beam center is: [1093, 999]\n",
      "The data are: Sliced and/or processed EigerImages2. Original repr:\n",
      "    <Frames>\n",
      "    Length: 2000 frames\n",
      "    Frame Shape: 2167 x 2070\n",
      "    Pixel Datatype: uint16\n",
      "The non-zeros photon occupation is 0.07158475061807659.\n",
      "Will Always DO apply compress process.\n",
      "Create a new compress file with filename as :/XF11ID/analysis/Compressed_Data/uid_34958b99-5059-4778-a156-62a4da7c2f49.cmp.\n",
      "Using a multiprocess to compress the data.\n",
      "It will create 20 temporary files for parallel compression.\n",
      "####################No bad frames are involved.\n",
      "Combining the seperated compressed files together...\n",
      "The good_start frame number is: 5 \n",
      "uid=34958b_fra_5_2000\n",
      "Total time: 53.393 sec\n"
     ]
    },
    {
     "name": "stderr",
     "output_type": "stream",
     "text": [
      "/opt/conda_envs/analysis/lib/python3.5/site-packages/chxanalys-unknown-py3.5.egg/chxanalys/chx_generic_functions.py:515: RankWarning: Polyfit may be poorly conditioned\n"
     ]
    },
    {
     "name": "stdout",
     "output_type": "stream",
     "text": [
      "The bad frame list length is: 7\n"
     ]
    },
    {
     "name": "stderr",
     "output_type": "stream",
     "text": [
      "Averaging 1 images: 100%|██████████| 1/1 [00:00<00:00, 328.53it/s]\n",
      "Averaging 1 images: 100%|██████████| 1/1 [00:00<00:00, 38.20it/s]\n",
      "Averaging 1 images: 100%|██████████| 1/1 [00:00<00:00, 20.26it/s]\n"
     ]
    },
    {
     "name": "stdout",
     "output_type": "stream",
     "text": [
      "The file: uid=34958b_q_Iqt is saved in /XF11ID/analysis/2017_2/hilmar/Results/34958b99-5059-4778-a156-62a4da7c2f49/\n"
     ]
    },
    {
     "name": "stderr",
     "output_type": "stream",
     "text": [
      "Get ROI intensity of each frame: 100%|██████████| 1995/1995 [00:05<00:00, 345.84it/s]\n"
     ]
    },
    {
     "name": "stdout",
     "output_type": "stream",
     "text": [
      "The file: uid=34958b_t_ROIs is saved in /XF11ID/analysis/2017_2/hilmar/Results/34958b99-5059-4778-a156-62a4da7c2f49/\n",
      "In this g2 calculation, the buf and lev number are: 8--10--\n",
      "7 Bad frames involved and will be discarded!\n",
      "1994 frames will be processed...\n"
     ]
    },
    {
     "name": "stderr",
     "output_type": "stream",
     "text": [
      "\r",
      "  0%|          | 0/32 [00:00<?, ?it/s]"
     ]
    },
    {
     "name": "stdout",
     "output_type": "stream",
     "text": [
      "Starting assign the tasks...\n"
     ]
    },
    {
     "name": "stderr",
     "output_type": "stream",
     "text": [
      "100%|██████████| 32/32 [00:06<00:00,  4.06it/s]\n",
      "  0%|          | 0/32 [00:00<?, ?it/s]"
     ]
    },
    {
     "name": "stdout",
     "output_type": "stream",
     "text": [
      "Starting running the tasks...\n"
     ]
    },
    {
     "name": "stderr",
     "output_type": "stream",
     "text": [
      "100%|██████████| 32/32 [00:24<00:00,  2.06it/s]\n"
     ]
    },
    {
     "name": "stdout",
     "output_type": "stream",
     "text": [
      "G2 calculation DONE!\n",
      "Total time: 1.273 min\n",
      "The correlation function is saved in /XF11ID/analysis/2017_2/hilmar/Results/34958b99-5059-4778-a156-62a4da7c2f49/ with filename as uid=34958b_fra_5_2000_g2.csv\n",
      "The g2 fitting parameters are saved in /XF11ID/analysis/2017_2/hilmar/Results/34958b99-5059-4778-a156-62a4da7c2f49/uid=34958b_fra_5_2000_g2_fit_paras.csv\n",
      "The combined image is saved as: /XF11ID/analysis/2017_2/hilmar/Results/34958b99-5059-4778-a156-62a4da7c2f49/uid=34958b_fra_5_2000_g2_fit__joint.png\n",
      "The fitted diffusion coefficient D0 is:  5.212e+00   A^2S-1\n"
     ]
    },
    {
     "name": "stderr",
     "output_type": "stream",
     "text": [
      "100%|██████████| 1995/1995 [00:11<00:00, 181.26it/s]\n",
      "100%|██████████| 32/32 [01:01<00:00,  2.90s/it]\n"
     ]
    },
    {
     "name": "stdout",
     "output_type": "stream",
     "text": [
      "Total time: 1.030 min\n",
      "Total time: 0.874 sec\n",
      "The correlation function is saved in /XF11ID/analysis/2017_2/hilmar/Results/34958b99-5059-4778-a156-62a4da7c2f49/ with filename as uid=34958b_fra_5_2000_g2b.csv\n",
      "The g2 fitting parameters are saved in /XF11ID/analysis/2017_2/hilmar/Results/34958b99-5059-4778-a156-62a4da7c2f49/uid=34958b_fra_5_2000_g2b_fit_paras.csv\n",
      "The fitted diffusion coefficient D0 is:  9.596e+00   A^2S-1\n",
      "The combined image is saved as: /XF11ID/analysis/2017_2/hilmar/Results/34958b99-5059-4778-a156-62a4da7c2f49/uid=34958b_fra_5_2000_g2_b_fit__joint.png\n",
      "The combined image is saved as: /XF11ID/analysis/2017_2/hilmar/Results/34958b99-5059-4778-a156-62a4da7c2f49/uid=34958b_fra_5_2000_g2_two_g2__joint.png\n",
      "UID: 34958b99-5059-4778-a156-62a4da7c2f49 is in processing...\n",
      "The two time correlation function for uid=34958b99-5059-4778-a156-62a4da7c2f49 is already calculated. Just pass...\n",
      "UID: 34958b99-5059-4778-a156-62a4da7c2f49 is in processing...\n",
      "uid: 34958b99-5059-4778-a156-62a4da7c2f49--> fra_num_by_dose: [  62  125  250  500 1000 1500 1980]\n",
      "The combined image is saved as: /XF11ID/analysis/2017_2/hilmar/Results/34958b99-5059-4778-a156-62a4da7c2f49/uid=34958b_fra_5_2000_dose_analysis__joint.png\n",
      "The xpcs analysis results are exported to /XF11ID/analysis/2017_2/hilmar/Results/34958b99-5059-4778-a156-62a4da7c2f49/ with filename as uid=34958b99-5059-4778-a156-62a4da7c2f49_Res.h5\n",
      "/XF11ID/analysis/2017_2/hilmar/Results/34958b99-5059-4778-a156-62a4da7c2f49/ 34958b /XF11ID/analysis/2017_2/hilmar/Results/ XPCS_Analysis_Report_for_uid=34958b99-5059-4778-a156-62a4da7c2f49_ROI32_.pdf hilmar\n",
      "\n",
      "****************************************\n",
      "The pdf report is created with filename as: /XF11ID/analysis/2017_2/hilmar/Results/XPCS_Analysis_Report_for_uid=34958b99-5059-4778-a156-62a4da7c2f49_ROI32_.pdf\n",
      "****************************************\n",
      "The url=https://logbook.nsls2.bnl.gov/Olog-11-ID/Olog was successfully updated with Add XPCS Analysis PDF Report and with the attachments\n",
      "**************************************************\n",
      "**************************************************\n",
      "Starting analysis for e6a5cf69-5e98-47d3-a6b8-92295556700b now...\n",
      "The data acquistion finished.\n",
      "Starting to do something here...\n",
      "Results from this analysis will be stashed in the directory /XF11ID/analysis/2017_2/hilmar/Results/\n",
      "****************************************\n",
      "*****The processing uid is: e6a5cf69-5e98-47d3-a6b8-92295556700b*****\n",
      "****************************************\n",
      "Results from this analysis will be stashed in the directory /XF11ID/analysis/2017_2/hilmar/Results/e6a5cf69-5e98-47d3-a6b8-92295556700b/\n",
      "The beam center is: [1093, 999]\n",
      "The data are: Sliced and/or processed EigerImages2. Original repr:\n",
      "    <Frames>\n",
      "    Length: 2000 frames\n",
      "    Frame Shape: 2167 x 2070\n",
      "    Pixel Datatype: uint16\n",
      "The non-zeros photon occupation is 0.27789570835256117.\n",
      "Will Always DO apply compress process.\n",
      "Create a new compress file with filename as :/XF11ID/analysis/Compressed_Data/uid_e6a5cf69-5e98-47d3-a6b8-92295556700b.cmp.\n",
      "Using a multiprocess to compress the data.\n",
      "It will create 20 temporary files for parallel compression.\n",
      "####################No bad frames are involved.\n",
      "Combining the seperated compressed files together...\n",
      "The good_start frame number is: 5 \n",
      "uid=e6a5cf_fra_5_2000\n",
      "Total time: 1.226 min\n"
     ]
    },
    {
     "name": "stderr",
     "output_type": "stream",
     "text": [
      "/opt/conda_envs/analysis/lib/python3.5/site-packages/chxanalys-unknown-py3.5.egg/chxanalys/chx_generic_functions.py:515: RankWarning: Polyfit may be poorly conditioned\n"
     ]
    },
    {
     "name": "stdout",
     "output_type": "stream",
     "text": [
      "The bad frame list length is: 5\n"
     ]
    },
    {
     "name": "stderr",
     "output_type": "stream",
     "text": [
      "Averaging 1 images: 100%|██████████| 1/1 [00:00<00:00, 75.57it/s]\n",
      "Averaging 1 images: 100%|██████████| 1/1 [00:00<00:00, 28.56it/s]\n",
      "Averaging 1 images: 100%|██████████| 1/1 [00:00<00:00, 18.03it/s]\n"
     ]
    },
    {
     "name": "stdout",
     "output_type": "stream",
     "text": [
      "The file: uid=e6a5cf_q_Iqt is saved in /XF11ID/analysis/2017_2/hilmar/Results/e6a5cf69-5e98-47d3-a6b8-92295556700b/\n"
     ]
    },
    {
     "name": "stderr",
     "output_type": "stream",
     "text": [
      "Get ROI intensity of each frame: 100%|██████████| 1995/1995 [00:23<00:00, 84.04it/s]\n"
     ]
    },
    {
     "name": "stdout",
     "output_type": "stream",
     "text": [
      "The file: uid=e6a5cf_t_ROIs is saved in /XF11ID/analysis/2017_2/hilmar/Results/e6a5cf69-5e98-47d3-a6b8-92295556700b/\n",
      "In this g2 calculation, the buf and lev number are: 8--10--\n",
      "5 Bad frames involved and will be discarded!\n",
      "1996 frames will be processed...\n"
     ]
    },
    {
     "name": "stderr",
     "output_type": "stream",
     "text": [
      "\r",
      "  0%|          | 0/32 [00:00<?, ?it/s]"
     ]
    },
    {
     "name": "stdout",
     "output_type": "stream",
     "text": [
      "Starting assign the tasks...\n"
     ]
    },
    {
     "name": "stderr",
     "output_type": "stream",
     "text": [
      "100%|██████████| 32/32 [00:06<00:00,  3.67it/s]\n",
      "  0%|          | 0/32 [00:00<?, ?it/s]"
     ]
    },
    {
     "name": "stdout",
     "output_type": "stream",
     "text": [
      "Starting running the tasks...\n"
     ]
    },
    {
     "name": "stderr",
     "output_type": "stream",
     "text": [
      "100%|██████████| 32/32 [00:58<00:00,  1.83s/it]\n"
     ]
    },
    {
     "name": "stdout",
     "output_type": "stream",
     "text": [
      "G2 calculation DONE!\n",
      "Total time: 1.545 min\n",
      "The correlation function is saved in /XF11ID/analysis/2017_2/hilmar/Results/e6a5cf69-5e98-47d3-a6b8-92295556700b/ with filename as uid=e6a5cf_fra_5_2000_g2.csv\n",
      "The g2 fitting parameters are saved in /XF11ID/analysis/2017_2/hilmar/Results/e6a5cf69-5e98-47d3-a6b8-92295556700b/uid=e6a5cf_fra_5_2000_g2_fit_paras.csv\n",
      "The combined image is saved as: /XF11ID/analysis/2017_2/hilmar/Results/e6a5cf69-5e98-47d3-a6b8-92295556700b/uid=e6a5cf_fra_5_2000_g2_fit__joint.png\n",
      "The fitted diffusion coefficient D0 is:  8.484e+00   A^2S-1\n"
     ]
    },
    {
     "name": "stderr",
     "output_type": "stream",
     "text": [
      "100%|██████████| 1995/1995 [00:29<00:00, 67.03it/s]\n",
      "100%|██████████| 32/32 [01:00<00:00,  2.85s/it]\n"
     ]
    },
    {
     "name": "stdout",
     "output_type": "stream",
     "text": [
      "Total time: 1.026 min\n",
      "Total time: 0.453 sec\n",
      "The correlation function is saved in /XF11ID/analysis/2017_2/hilmar/Results/e6a5cf69-5e98-47d3-a6b8-92295556700b/ with filename as uid=e6a5cf_fra_5_2000_g2b.csv\n",
      "The g2 fitting parameters are saved in /XF11ID/analysis/2017_2/hilmar/Results/e6a5cf69-5e98-47d3-a6b8-92295556700b/uid=e6a5cf_fra_5_2000_g2b_fit_paras.csv\n",
      "The fitted diffusion coefficient D0 is:  8.406e+00   A^2S-1\n",
      "The combined image is saved as: /XF11ID/analysis/2017_2/hilmar/Results/e6a5cf69-5e98-47d3-a6b8-92295556700b/uid=e6a5cf_fra_5_2000_g2_b_fit__joint.png\n",
      "The combined image is saved as: /XF11ID/analysis/2017_2/hilmar/Results/e6a5cf69-5e98-47d3-a6b8-92295556700b/uid=e6a5cf_fra_5_2000_g2_two_g2__joint.png\n",
      "UID: e6a5cf69-5e98-47d3-a6b8-92295556700b is in processing...\n",
      "The two time correlation function for uid=e6a5cf69-5e98-47d3-a6b8-92295556700b is already calculated. Just pass...\n",
      "UID: e6a5cf69-5e98-47d3-a6b8-92295556700b is in processing...\n",
      "uid: e6a5cf69-5e98-47d3-a6b8-92295556700b--> fra_num_by_dose: [  62  125  250  500 1000 1500 1980]\n",
      "The combined image is saved as: /XF11ID/analysis/2017_2/hilmar/Results/e6a5cf69-5e98-47d3-a6b8-92295556700b/uid=e6a5cf_fra_5_2000_dose_analysis__joint.png\n",
      "The xpcs analysis results are exported to /XF11ID/analysis/2017_2/hilmar/Results/e6a5cf69-5e98-47d3-a6b8-92295556700b/ with filename as uid=e6a5cf69-5e98-47d3-a6b8-92295556700b_Res.h5\n",
      "/XF11ID/analysis/2017_2/hilmar/Results/e6a5cf69-5e98-47d3-a6b8-92295556700b/ e6a5cf /XF11ID/analysis/2017_2/hilmar/Results/ XPCS_Analysis_Report_for_uid=e6a5cf69-5e98-47d3-a6b8-92295556700b_ROI32_.pdf hilmar\n",
      "\n",
      "****************************************\n",
      "The pdf report is created with filename as: /XF11ID/analysis/2017_2/hilmar/Results/XPCS_Analysis_Report_for_uid=e6a5cf69-5e98-47d3-a6b8-92295556700b_ROI32_.pdf\n",
      "****************************************\n",
      "The url=https://logbook.nsls2.bnl.gov/Olog-11-ID/Olog was successfully updated with Add XPCS Analysis PDF Report and with the attachments\n",
      "**************************************************\n",
      "**************************************************\n",
      "Starting analysis for f722cd36-2e34-4d33-9b9d-96f2cb26d415 now...\n",
      "The data acquistion finished.\n",
      "Starting to do something here...\n",
      "Results from this analysis will be stashed in the directory /XF11ID/analysis/2017_2/hilmar/Results/\n",
      "****************************************\n",
      "*****The processing uid is: f722cd36-2e34-4d33-9b9d-96f2cb26d415*****\n",
      "****************************************\n",
      "Results from this analysis will be stashed in the directory /XF11ID/analysis/2017_2/hilmar/Results/f722cd36-2e34-4d33-9b9d-96f2cb26d415/\n",
      "The beam center is: [1093, 999]\n",
      "The data are: Sliced and/or processed EigerImages2. Original repr:\n",
      "    <Frames>\n",
      "    Length: 5000 frames\n",
      "    Frame Shape: 2167 x 2070\n",
      "    Pixel Datatype: uint32\n",
      "The non-zeros photon occupation is 0.29421605148817687.\n",
      "Will Always DO apply compress process.\n",
      "Create a new compress file with filename as :/XF11ID/analysis/Compressed_Data/uid_f722cd36-2e34-4d33-9b9d-96f2cb26d415.cmp.\n",
      "Using a multiprocess to compress the data.\n",
      "It will create 50 temporary files for parallel compression.\n",
      "##################################################No bad frames are involved.\n",
      "Combining the seperated compressed files together...\n",
      "The good_start frame number is: 5 \n",
      "uid=f722cd_fra_5_5000\n",
      "Total time: 2.965 min\n"
     ]
    },
    {
     "name": "stderr",
     "output_type": "stream",
     "text": [
      "/opt/conda_envs/analysis/lib/python3.5/site-packages/chxanalys-unknown-py3.5.egg/chxanalys/chx_generic_functions.py:515: RankWarning: Polyfit may be poorly conditioned\n"
     ]
    },
    {
     "name": "stdout",
     "output_type": "stream",
     "text": [
      "The bad frame list length is: 10\n"
     ]
    },
    {
     "name": "stderr",
     "output_type": "stream",
     "text": [
      "Averaging 1 images: 100%|██████████| 1/1 [00:00<00:00, 67.43it/s]\n",
      "Averaging 1 images: 100%|██████████| 1/1 [00:00<00:00, 13.73it/s]\n",
      "Averaging 1 images: 100%|██████████| 1/1 [00:00<00:00,  7.71it/s]\n"
     ]
    },
    {
     "name": "stdout",
     "output_type": "stream",
     "text": [
      "The file: uid=f722cd_q_Iqt is saved in /XF11ID/analysis/2017_2/hilmar/Results/f722cd36-2e34-4d33-9b9d-96f2cb26d415/\n"
     ]
    },
    {
     "name": "stderr",
     "output_type": "stream",
     "text": [
      "Get ROI intensity of each frame: 100%|██████████| 4995/4995 [01:13<00:00, 67.67it/s]\n"
     ]
    },
    {
     "name": "stdout",
     "output_type": "stream",
     "text": [
      "The file: uid=f722cd_t_ROIs is saved in /XF11ID/analysis/2017_2/hilmar/Results/f722cd36-2e34-4d33-9b9d-96f2cb26d415/\n",
      "In this g2 calculation, the buf and lev number are: 8--11--\n",
      "10 Bad frames involved and will be discarded!\n",
      "4991 frames will be processed...\n"
     ]
    },
    {
     "name": "stderr",
     "output_type": "stream",
     "text": [
      "\r",
      "  0%|          | 0/32 [00:00<?, ?it/s]"
     ]
    },
    {
     "name": "stdout",
     "output_type": "stream",
     "text": [
      "Starting assign the tasks...\n"
     ]
    },
    {
     "name": "stderr",
     "output_type": "stream",
     "text": [
      "100%|██████████| 32/32 [00:07<00:00,  4.11it/s]\n",
      "  0%|          | 0/32 [00:00<?, ?it/s]"
     ]
    },
    {
     "name": "stdout",
     "output_type": "stream",
     "text": [
      "Starting running the tasks...\n"
     ]
    },
    {
     "name": "stderr",
     "output_type": "stream",
     "text": [
      "100%|██████████| 32/32 [08:30<00:00, 15.95s/it]  \n"
     ]
    },
    {
     "name": "stdout",
     "output_type": "stream",
     "text": [
      "G2 calculation DONE!\n",
      "Total time: 9.137 min\n",
      "The correlation function is saved in /XF11ID/analysis/2017_2/hilmar/Results/f722cd36-2e34-4d33-9b9d-96f2cb26d415/ with filename as uid=f722cd_fra_5_5000_g2.csv\n",
      "The g2 fitting parameters are saved in /XF11ID/analysis/2017_2/hilmar/Results/f722cd36-2e34-4d33-9b9d-96f2cb26d415/uid=f722cd_fra_5_5000_g2_fit_paras.csv\n",
      "The combined image is saved as: /XF11ID/analysis/2017_2/hilmar/Results/f722cd36-2e34-4d33-9b9d-96f2cb26d415/uid=f722cd_fra_5_5000_g2_fit__joint.png\n",
      "The fitted diffusion coefficient D0 is:  1.896e+00   A^2S-1\n"
     ]
    },
    {
     "name": "stderr",
     "output_type": "stream",
     "text": [
      "100%|██████████| 4995/4995 [01:31<00:00, 54.69it/s]\n",
      "100%|██████████| 32/32 [03:45<00:00, 10.45s/it]\n"
     ]
    },
    {
     "name": "stdout",
     "output_type": "stream",
     "text": [
      "Total time: 3.809 min\n",
      "Total time: 2.613 sec\n",
      "The correlation function is saved in /XF11ID/analysis/2017_2/hilmar/Results/f722cd36-2e34-4d33-9b9d-96f2cb26d415/ with filename as uid=f722cd_fra_5_5000_g2b.csv\n",
      "The g2 fitting parameters are saved in /XF11ID/analysis/2017_2/hilmar/Results/f722cd36-2e34-4d33-9b9d-96f2cb26d415/uid=f722cd_fra_5_5000_g2b_fit_paras.csv\n",
      "The fitted diffusion coefficient D0 is:  1.905e+00   A^2S-1\n",
      "The combined image is saved as: /XF11ID/analysis/2017_2/hilmar/Results/f722cd36-2e34-4d33-9b9d-96f2cb26d415/uid=f722cd_fra_5_5000_g2_b_fit__joint.png\n",
      "The combined image is saved as: /XF11ID/analysis/2017_2/hilmar/Results/f722cd36-2e34-4d33-9b9d-96f2cb26d415/uid=f722cd_fra_5_5000_g2_two_g2__joint.png\n",
      "UID: f722cd36-2e34-4d33-9b9d-96f2cb26d415 is in processing...\n",
      "The two time correlation function for uid=f722cd36-2e34-4d33-9b9d-96f2cb26d415 is already calculated. Just pass...\n",
      "UID: f722cd36-2e34-4d33-9b9d-96f2cb26d415 is in processing...\n",
      "uid: f722cd36-2e34-4d33-9b9d-96f2cb26d415--> fra_num_by_dose: [ 156  312  625 1250 2500 3749 4950]\n",
      "The combined image is saved as: /XF11ID/analysis/2017_2/hilmar/Results/f722cd36-2e34-4d33-9b9d-96f2cb26d415/uid=f722cd_fra_5_5000_dose_analysis__joint.png\n",
      "The xpcs analysis results are exported to /XF11ID/analysis/2017_2/hilmar/Results/f722cd36-2e34-4d33-9b9d-96f2cb26d415/ with filename as uid=f722cd36-2e34-4d33-9b9d-96f2cb26d415_Res.h5\n",
      "/XF11ID/analysis/2017_2/hilmar/Results/f722cd36-2e34-4d33-9b9d-96f2cb26d415/ f722cd /XF11ID/analysis/2017_2/hilmar/Results/ XPCS_Analysis_Report_for_uid=f722cd36-2e34-4d33-9b9d-96f2cb26d415_ROI32_.pdf hilmar\n",
      "\n",
      "****************************************\n",
      "The pdf report is created with filename as: /XF11ID/analysis/2017_2/hilmar/Results/XPCS_Analysis_Report_for_uid=f722cd36-2e34-4d33-9b9d-96f2cb26d415_ROI32_.pdf\n",
      "****************************************\n",
      "The url=https://logbook.nsls2.bnl.gov/Olog-11-ID/Olog was successfully updated with Add XPCS Analysis PDF Report and with the attachments\n",
      "**************************************************\n",
      "**************************************************\n",
      "Starting analysis for 65bf1cfb-e5f4-4616-93d7-3d285abe50f4 now...\n",
      "The data acquistion finished.\n",
      "Starting to do something here...\n",
      "Results from this analysis will be stashed in the directory /XF11ID/analysis/2017_2/hilmar/Results/\n",
      "****************************************\n",
      "*****The processing uid is: 65bf1cfb-e5f4-4616-93d7-3d285abe50f4*****\n",
      "****************************************\n",
      "Results from this analysis will be stashed in the directory /XF11ID/analysis/2017_2/hilmar/Results/65bf1cfb-e5f4-4616-93d7-3d285abe50f4/\n",
      "The beam center is: [1093, 999]\n",
      "The data are: Sliced and/or processed EigerImages2. Original repr:\n",
      "    <Frames>\n",
      "    Length: 2000 frames\n",
      "    Frame Shape: 2167 x 2070\n",
      "    Pixel Datatype: uint16\n",
      "The non-zeros photon occupation is 0.07759051561744124.\n",
      "Will Always DO apply compress process.\n",
      "Create a new compress file with filename as :/XF11ID/analysis/Compressed_Data/uid_65bf1cfb-e5f4-4616-93d7-3d285abe50f4.cmp.\n",
      "Using a multiprocess to compress the data.\n",
      "It will create 20 temporary files for parallel compression.\n",
      "####################No bad frames are involved.\n",
      "Combining the seperated compressed files together...\n",
      "The good_start frame number is: 5 \n",
      "uid=65bf1c_fra_5_2000\n",
      "Total time: 52.143 sec\n"
     ]
    },
    {
     "name": "stderr",
     "output_type": "stream",
     "text": [
      "/opt/conda_envs/analysis/lib/python3.5/site-packages/chxanalys-unknown-py3.5.egg/chxanalys/chx_generic_functions.py:515: RankWarning: Polyfit may be poorly conditioned\n"
     ]
    },
    {
     "name": "stdout",
     "output_type": "stream",
     "text": [
      "The bad frame list length is: 5\n",
      "There are something wrong with this data: 65bf1cfb-e5f4-4616-93d7-3d285abe50f4...\n",
      "**************************************************\n",
      "**************************************************\n",
      "Starting analysis for a8f3c32a-6f8e-477a-b011-daa5b1cbc21e now...\n",
      "The data acquistion finished.\n",
      "Starting to do something here...\n",
      "Results from this analysis will be stashed in the directory /XF11ID/analysis/2017_2/hilmar/Results/\n",
      "****************************************\n",
      "*****The processing uid is: a8f3c32a-6f8e-477a-b011-daa5b1cbc21e*****\n",
      "****************************************\n",
      "Results from this analysis will be stashed in the directory /XF11ID/analysis/2017_2/hilmar/Results/a8f3c32a-6f8e-477a-b011-daa5b1cbc21e/\n",
      "The beam center is: [1093, 999]\n",
      "The data are: Sliced and/or processed EigerImages2. Original repr:\n",
      "    <Frames>\n",
      "    Length: 2000 frames\n",
      "    Frame Shape: 2167 x 2070\n",
      "    Pixel Datatype: uint16\n",
      "The non-zeros photon occupation is 0.2896180966584851.\n",
      "Will Always DO apply compress process.\n",
      "Create a new compress file with filename as :/XF11ID/analysis/Compressed_Data/uid_a8f3c32a-6f8e-477a-b011-daa5b1cbc21e.cmp.\n",
      "Using a multiprocess to compress the data.\n",
      "It will create 20 temporary files for parallel compression.\n",
      "####################No bad frames are involved.\n",
      "Combining the seperated compressed files together...\n",
      "The good_start frame number is: 5 \n",
      "uid=a8f3c3_fra_5_2000\n",
      "Total time: 1.393 min\n"
     ]
    },
    {
     "name": "stderr",
     "output_type": "stream",
     "text": [
      "/opt/conda_envs/analysis/lib/python3.5/site-packages/chxanalys-unknown-py3.5.egg/chxanalys/chx_generic_functions.py:515: RankWarning: Polyfit may be poorly conditioned\n"
     ]
    },
    {
     "name": "stdout",
     "output_type": "stream",
     "text": [
      "The bad frame list length is: 5\n"
     ]
    },
    {
     "name": "stderr",
     "output_type": "stream",
     "text": [
      "Averaging 1 images: 100%|██████████| 1/1 [00:00<00:00, 83.73it/s]\n",
      "Averaging 1 images: 100%|██████████| 1/1 [00:00<00:00, 29.72it/s]\n",
      "Averaging 1 images: 100%|██████████| 1/1 [00:00<00:00, 18.57it/s]\n"
     ]
    },
    {
     "name": "stdout",
     "output_type": "stream",
     "text": [
      "The file: uid=a8f3c3_q_Iqt is saved in /XF11ID/analysis/2017_2/hilmar/Results/a8f3c32a-6f8e-477a-b011-daa5b1cbc21e/\n"
     ]
    },
    {
     "name": "stderr",
     "output_type": "stream",
     "text": [
      "Get ROI intensity of each frame: 100%|██████████| 1995/1995 [00:24<00:00, 83.07it/s]\n"
     ]
    },
    {
     "name": "stdout",
     "output_type": "stream",
     "text": [
      "The file: uid=a8f3c3_t_ROIs is saved in /XF11ID/analysis/2017_2/hilmar/Results/a8f3c32a-6f8e-477a-b011-daa5b1cbc21e/\n",
      "In this g2 calculation, the buf and lev number are: 8--10--\n",
      "5 Bad frames involved and will be discarded!\n",
      "1996 frames will be processed...\n"
     ]
    },
    {
     "name": "stderr",
     "output_type": "stream",
     "text": [
      "\r",
      "  0%|          | 0/32 [00:00<?, ?it/s]"
     ]
    },
    {
     "name": "stdout",
     "output_type": "stream",
     "text": [
      "Starting assign the tasks...\n"
     ]
    },
    {
     "name": "stderr",
     "output_type": "stream",
     "text": [
      "100%|██████████| 32/32 [00:06<00:00,  3.64it/s]\n",
      "  0%|          | 0/32 [00:00<?, ?it/s]"
     ]
    },
    {
     "name": "stdout",
     "output_type": "stream",
     "text": [
      "Starting running the tasks...\n"
     ]
    },
    {
     "name": "stderr",
     "output_type": "stream",
     "text": [
      "100%|██████████| 32/32 [00:57<00:00,  1.86s/it]\n"
     ]
    },
    {
     "name": "stdout",
     "output_type": "stream",
     "text": [
      "G2 calculation DONE!\n",
      "Total time: 1.769 min\n",
      "The correlation function is saved in /XF11ID/analysis/2017_2/hilmar/Results/a8f3c32a-6f8e-477a-b011-daa5b1cbc21e/ with filename as uid=a8f3c3_fra_5_2000_g2.csv\n",
      "The g2 fitting parameters are saved in /XF11ID/analysis/2017_2/hilmar/Results/a8f3c32a-6f8e-477a-b011-daa5b1cbc21e/uid=a8f3c3_fra_5_2000_g2_fit_paras.csv\n",
      "The combined image is saved as: /XF11ID/analysis/2017_2/hilmar/Results/a8f3c32a-6f8e-477a-b011-daa5b1cbc21e/uid=a8f3c3_fra_5_2000_g2_fit__joint.png\n",
      "The fitted diffusion coefficient D0 is:  1.403e+01   A^2S-1\n"
     ]
    },
    {
     "name": "stderr",
     "output_type": "stream",
     "text": [
      "100%|██████████| 1995/1995 [00:34<00:00, 58.32it/s]\n",
      "100%|██████████| 32/32 [01:04<00:00,  2.98s/it]\n"
     ]
    },
    {
     "name": "stdout",
     "output_type": "stream",
     "text": [
      "Total time: 1.086 min\n",
      "Total time: 0.511 sec\n",
      "The correlation function is saved in /XF11ID/analysis/2017_2/hilmar/Results/a8f3c32a-6f8e-477a-b011-daa5b1cbc21e/ with filename as uid=a8f3c3_fra_5_2000_g2b.csv\n",
      "The g2 fitting parameters are saved in /XF11ID/analysis/2017_2/hilmar/Results/a8f3c32a-6f8e-477a-b011-daa5b1cbc21e/uid=a8f3c3_fra_5_2000_g2b_fit_paras.csv\n",
      "The fitted diffusion coefficient D0 is:  1.407e+01   A^2S-1\n",
      "The combined image is saved as: /XF11ID/analysis/2017_2/hilmar/Results/a8f3c32a-6f8e-477a-b011-daa5b1cbc21e/uid=a8f3c3_fra_5_2000_g2_b_fit__joint.png\n",
      "The combined image is saved as: /XF11ID/analysis/2017_2/hilmar/Results/a8f3c32a-6f8e-477a-b011-daa5b1cbc21e/uid=a8f3c3_fra_5_2000_g2_two_g2__joint.png\n",
      "UID: a8f3c32a-6f8e-477a-b011-daa5b1cbc21e is in processing...\n",
      "The two time correlation function for uid=a8f3c32a-6f8e-477a-b011-daa5b1cbc21e is already calculated. Just pass...\n",
      "UID: a8f3c32a-6f8e-477a-b011-daa5b1cbc21e is in processing...\n",
      "uid: a8f3c32a-6f8e-477a-b011-daa5b1cbc21e--> fra_num_by_dose: [  62  125  250  500 1000 1500 1980]\n",
      "The combined image is saved as: /XF11ID/analysis/2017_2/hilmar/Results/a8f3c32a-6f8e-477a-b011-daa5b1cbc21e/uid=a8f3c3_fra_5_2000_dose_analysis__joint.png\n",
      "The xpcs analysis results are exported to /XF11ID/analysis/2017_2/hilmar/Results/a8f3c32a-6f8e-477a-b011-daa5b1cbc21e/ with filename as uid=a8f3c32a-6f8e-477a-b011-daa5b1cbc21e_Res.h5\n",
      "/XF11ID/analysis/2017_2/hilmar/Results/a8f3c32a-6f8e-477a-b011-daa5b1cbc21e/ a8f3c3 /XF11ID/analysis/2017_2/hilmar/Results/ XPCS_Analysis_Report_for_uid=a8f3c32a-6f8e-477a-b011-daa5b1cbc21e_ROI32_.pdf hilmar\n",
      "\n",
      "****************************************\n",
      "The pdf report is created with filename as: /XF11ID/analysis/2017_2/hilmar/Results/XPCS_Analysis_Report_for_uid=a8f3c32a-6f8e-477a-b011-daa5b1cbc21e_ROI32_.pdf\n",
      "****************************************\n",
      "The url=https://logbook.nsls2.bnl.gov/Olog-11-ID/Olog was successfully updated with Add XPCS Analysis PDF Report and with the attachments\n",
      "**************************************************\n",
      "**************************************************\n",
      "Starting analysis for a06b538d-ceac-4b0b-849b-ed3ecbf2d0d4 now...\n",
      "The data acquistion finished.\n",
      "Starting to do something here...\n",
      "Results from this analysis will be stashed in the directory /XF11ID/analysis/2017_2/hilmar/Results/\n",
      "****************************************\n",
      "*****The processing uid is: a06b538d-ceac-4b0b-849b-ed3ecbf2d0d4*****\n",
      "****************************************\n",
      "Results from this analysis will be stashed in the directory /XF11ID/analysis/2017_2/hilmar/Results/a06b538d-ceac-4b0b-849b-ed3ecbf2d0d4/\n",
      "The beam center is: [1093, 999]\n",
      "The data are: Sliced and/or processed EigerImages2. Original repr:\n",
      "    <Frames>\n",
      "    Length: 5000 frames\n",
      "    Frame Shape: 2167 x 2070\n",
      "    Pixel Datatype: uint32\n",
      "The non-zeros photon occupation is 0.30373409664956785.\n",
      "Will Always DO apply compress process.\n",
      "Create a new compress file with filename as :/XF11ID/analysis/Compressed_Data/uid_a06b538d-ceac-4b0b-849b-ed3ecbf2d0d4.cmp.\n",
      "Using a multiprocess to compress the data.\n",
      "It will create 50 temporary files for parallel compression.\n",
      "##################################################No bad frames are involved.\n",
      "Combining the seperated compressed files together...\n",
      "The good_start frame number is: 5 \n",
      "uid=a06b53_fra_5_5000\n",
      "Total time: 3.287 min\n"
     ]
    },
    {
     "name": "stderr",
     "output_type": "stream",
     "text": [
      "/opt/conda_envs/analysis/lib/python3.5/site-packages/chxanalys-unknown-py3.5.egg/chxanalys/chx_generic_functions.py:515: RankWarning: Polyfit may be poorly conditioned\n"
     ]
    },
    {
     "name": "stdout",
     "output_type": "stream",
     "text": [
      "The bad frame list length is: 11\n"
     ]
    },
    {
     "name": "stderr",
     "output_type": "stream",
     "text": [
      "Averaging 1 images: 100%|██████████| 1/1 [00:00<00:00, 62.35it/s]\n",
      "Averaging 1 images: 100%|██████████| 1/1 [00:00<00:00, 13.42it/s]\n",
      "Averaging 1 images: 100%|██████████| 1/1 [00:00<00:00,  7.33it/s]\n"
     ]
    },
    {
     "name": "stdout",
     "output_type": "stream",
     "text": [
      "The file: uid=a06b53_q_Iqt is saved in /XF11ID/analysis/2017_2/hilmar/Results/a06b538d-ceac-4b0b-849b-ed3ecbf2d0d4/\n"
     ]
    },
    {
     "name": "stderr",
     "output_type": "stream",
     "text": [
      "Get ROI intensity of each frame: 100%|██████████| 4995/4995 [01:17<00:00, 64.25it/s]\n"
     ]
    },
    {
     "name": "stdout",
     "output_type": "stream",
     "text": [
      "The file: uid=a06b53_t_ROIs is saved in /XF11ID/analysis/2017_2/hilmar/Results/a06b538d-ceac-4b0b-849b-ed3ecbf2d0d4/\n",
      "In this g2 calculation, the buf and lev number are: 8--11--\n",
      "11 Bad frames involved and will be discarded!\n",
      "4990 frames will be processed...\n"
     ]
    },
    {
     "name": "stderr",
     "output_type": "stream",
     "text": [
      "\r",
      "  0%|          | 0/32 [00:00<?, ?it/s]"
     ]
    },
    {
     "name": "stdout",
     "output_type": "stream",
     "text": [
      "Starting assign the tasks...\n"
     ]
    },
    {
     "name": "stderr",
     "output_type": "stream",
     "text": [
      "100%|██████████| 32/32 [00:07<00:00,  3.53it/s]\n",
      "  0%|          | 0/32 [00:00<?, ?it/s]"
     ]
    },
    {
     "name": "stdout",
     "output_type": "stream",
     "text": [
      "Starting running the tasks...\n"
     ]
    },
    {
     "name": "stderr",
     "output_type": "stream",
     "text": [
      "100%|██████████| 32/32 [03:53<00:00,  7.31s/it]  \n"
     ]
    },
    {
     "name": "stdout",
     "output_type": "stream",
     "text": [
      "G2 calculation DONE!\n",
      "Total time: 4.458 min\n",
      "The correlation function is saved in /XF11ID/analysis/2017_2/hilmar/Results/a06b538d-ceac-4b0b-849b-ed3ecbf2d0d4/ with filename as uid=a06b53_fra_5_5000_g2.csv\n",
      "The g2 fitting parameters are saved in /XF11ID/analysis/2017_2/hilmar/Results/a06b538d-ceac-4b0b-849b-ed3ecbf2d0d4/uid=a06b53_fra_5_5000_g2_fit_paras.csv\n",
      "The combined image is saved as: /XF11ID/analysis/2017_2/hilmar/Results/a06b538d-ceac-4b0b-849b-ed3ecbf2d0d4/uid=a06b53_fra_5_5000_g2_fit__joint.png\n",
      "The fitted diffusion coefficient D0 is:  2.155e+00   A^2S-1\n"
     ]
    },
    {
     "name": "stderr",
     "output_type": "stream",
     "text": [
      "100%|██████████| 4995/4995 [04:24<00:00, 18.88it/s]\n",
      "100%|██████████| 32/32 [03:53<00:00, 10.67s/it]\n"
     ]
    },
    {
     "name": "stdout",
     "output_type": "stream",
     "text": [
      "Total time: 3.952 min\n",
      "Total time: 4.858 sec\n",
      "The correlation function is saved in /XF11ID/analysis/2017_2/hilmar/Results/a06b538d-ceac-4b0b-849b-ed3ecbf2d0d4/ with filename as uid=a06b53_fra_5_5000_g2b.csv\n",
      "The g2 fitting parameters are saved in /XF11ID/analysis/2017_2/hilmar/Results/a06b538d-ceac-4b0b-849b-ed3ecbf2d0d4/uid=a06b53_fra_5_5000_g2b_fit_paras.csv\n",
      "The fitted diffusion coefficient D0 is:  2.163e+00   A^2S-1\n",
      "The combined image is saved as: /XF11ID/analysis/2017_2/hilmar/Results/a06b538d-ceac-4b0b-849b-ed3ecbf2d0d4/uid=a06b53_fra_5_5000_g2_b_fit__joint.png\n",
      "The combined image is saved as: /XF11ID/analysis/2017_2/hilmar/Results/a06b538d-ceac-4b0b-849b-ed3ecbf2d0d4/uid=a06b53_fra_5_5000_g2_two_g2__joint.png\n",
      "UID: a06b538d-ceac-4b0b-849b-ed3ecbf2d0d4 is in processing...\n",
      "The two time correlation function for uid=a06b538d-ceac-4b0b-849b-ed3ecbf2d0d4 is already calculated. Just pass...\n",
      "UID: a06b538d-ceac-4b0b-849b-ed3ecbf2d0d4 is in processing...\n",
      "uid: a06b538d-ceac-4b0b-849b-ed3ecbf2d0d4--> fra_num_by_dose: [ 156  312  625 1250 2500 3749 4950]\n",
      "The combined image is saved as: /XF11ID/analysis/2017_2/hilmar/Results/a06b538d-ceac-4b0b-849b-ed3ecbf2d0d4/uid=a06b53_fra_5_5000_dose_analysis__joint.png\n",
      "The xpcs analysis results are exported to /XF11ID/analysis/2017_2/hilmar/Results/a06b538d-ceac-4b0b-849b-ed3ecbf2d0d4/ with filename as uid=a06b538d-ceac-4b0b-849b-ed3ecbf2d0d4_Res.h5\n",
      "/XF11ID/analysis/2017_2/hilmar/Results/a06b538d-ceac-4b0b-849b-ed3ecbf2d0d4/ a06b53 /XF11ID/analysis/2017_2/hilmar/Results/ XPCS_Analysis_Report_for_uid=a06b538d-ceac-4b0b-849b-ed3ecbf2d0d4_ROI32_.pdf hilmar\n",
      "\n",
      "****************************************\n",
      "The pdf report is created with filename as: /XF11ID/analysis/2017_2/hilmar/Results/XPCS_Analysis_Report_for_uid=a06b538d-ceac-4b0b-849b-ed3ecbf2d0d4_ROI32_.pdf\n",
      "****************************************\n",
      "The url=https://logbook.nsls2.bnl.gov/Olog-11-ID/Olog was successfully updated with Add XPCS Analysis PDF Report and with the attachments\n",
      "**************************************************\n",
      "**************************************************\n",
      "Starting analysis for ed249bb6-8c45-4463-b365-c93544235415 now...\n",
      "The data acquistion finished.\n",
      "Starting to do something here...\n",
      "Results from this analysis will be stashed in the directory /XF11ID/analysis/2017_2/hilmar/Results/\n",
      "****************************************\n",
      "*****The processing uid is: ed249bb6-8c45-4463-b365-c93544235415*****\n",
      "****************************************\n",
      "Results from this analysis will be stashed in the directory /XF11ID/analysis/2017_2/hilmar/Results/ed249bb6-8c45-4463-b365-c93544235415/\n",
      "The beam center is: [1093, 999]\n",
      "The data are: Sliced and/or processed EigerImages2. Original repr:\n",
      "    <Frames>\n",
      "    Length: 2000 frames\n",
      "    Frame Shape: 2167 x 2070\n",
      "    Pixel Datatype: uint16\n",
      "The non-zeros photon occupation is 0.07424275863913912.\n",
      "Will Always DO apply compress process.\n",
      "Create a new compress file with filename as :/XF11ID/analysis/Compressed_Data/uid_ed249bb6-8c45-4463-b365-c93544235415.cmp.\n",
      "Using a multiprocess to compress the data.\n",
      "It will create 20 temporary files for parallel compression.\n",
      "####################No bad frames are involved.\n",
      "Combining the seperated compressed files together...\n",
      "The good_start frame number is: 5 \n",
      "uid=ed249b_fra_5_2000\n",
      "Total time: 57.132 sec\n"
     ]
    },
    {
     "name": "stderr",
     "output_type": "stream",
     "text": [
      "/opt/conda_envs/analysis/lib/python3.5/site-packages/chxanalys-unknown-py3.5.egg/chxanalys/chx_generic_functions.py:515: RankWarning: Polyfit may be poorly conditioned\n"
     ]
    },
    {
     "name": "stdout",
     "output_type": "stream",
     "text": [
      "The bad frame list length is: 5\n"
     ]
    },
    {
     "name": "stderr",
     "output_type": "stream",
     "text": [
      "Averaging 1 images: 100%|██████████| 1/1 [00:00<00:00, 330.13it/s]\n",
      "Averaging 1 images: 100%|██████████| 1/1 [00:00<00:00, 38.23it/s]\n",
      "Averaging 1 images: 100%|██████████| 1/1 [00:00<00:00, 19.36it/s]\n"
     ]
    },
    {
     "name": "stdout",
     "output_type": "stream",
     "text": [
      "The file: uid=ed249b_q_Iqt is saved in /XF11ID/analysis/2017_2/hilmar/Results/ed249bb6-8c45-4463-b365-c93544235415/\n"
     ]
    },
    {
     "name": "stderr",
     "output_type": "stream",
     "text": [
      "Get ROI intensity of each frame: 100%|██████████| 1995/1995 [00:06<00:00, 331.93it/s]\n"
     ]
    },
    {
     "name": "stdout",
     "output_type": "stream",
     "text": [
      "The file: uid=ed249b_t_ROIs is saved in /XF11ID/analysis/2017_2/hilmar/Results/ed249bb6-8c45-4463-b365-c93544235415/\n",
      "In this g2 calculation, the buf and lev number are: 8--10--\n",
      "5 Bad frames involved and will be discarded!\n",
      "1996 frames will be processed...\n"
     ]
    },
    {
     "name": "stderr",
     "output_type": "stream",
     "text": [
      "\r",
      "  0%|          | 0/32 [00:00<?, ?it/s]"
     ]
    },
    {
     "name": "stdout",
     "output_type": "stream",
     "text": [
      "Starting assign the tasks...\n"
     ]
    },
    {
     "name": "stderr",
     "output_type": "stream",
     "text": [
      "100%|██████████| 32/32 [00:06<00:00,  4.88it/s]\n",
      "  0%|          | 0/32 [00:00<?, ?it/s]"
     ]
    },
    {
     "name": "stdout",
     "output_type": "stream",
     "text": [
      "Starting running the tasks...\n"
     ]
    },
    {
     "name": "stderr",
     "output_type": "stream",
     "text": [
      "100%|██████████| 32/32 [00:24<00:00,  1.29it/s]\n"
     ]
    },
    {
     "name": "stdout",
     "output_type": "stream",
     "text": [
      "G2 calculation DONE!\n",
      "Total time: 1.313 min\n",
      "The correlation function is saved in /XF11ID/analysis/2017_2/hilmar/Results/ed249bb6-8c45-4463-b365-c93544235415/ with filename as uid=ed249b_fra_5_2000_g2.csv\n",
      "The g2 fitting parameters are saved in /XF11ID/analysis/2017_2/hilmar/Results/ed249bb6-8c45-4463-b365-c93544235415/uid=ed249b_fra_5_2000_g2_fit_paras.csv\n",
      "The combined image is saved as: /XF11ID/analysis/2017_2/hilmar/Results/ed249bb6-8c45-4463-b365-c93544235415/uid=ed249b_fra_5_2000_g2_fit__joint.png\n",
      "The fitted diffusion coefficient D0 is:  1.340e+01   A^2S-1\n"
     ]
    },
    {
     "name": "stderr",
     "output_type": "stream",
     "text": [
      "100%|██████████| 1995/1995 [00:11<00:00, 174.42it/s]\n",
      "100%|██████████| 32/32 [01:03<00:00,  2.93s/it]\n"
     ]
    },
    {
     "name": "stdout",
     "output_type": "stream",
     "text": [
      "Total time: 1.062 min\n",
      "Total time: 0.610 sec\n",
      "The correlation function is saved in /XF11ID/analysis/2017_2/hilmar/Results/ed249bb6-8c45-4463-b365-c93544235415/ with filename as uid=ed249b_fra_5_2000_g2b.csv\n",
      "The g2 fitting parameters are saved in /XF11ID/analysis/2017_2/hilmar/Results/ed249bb6-8c45-4463-b365-c93544235415/uid=ed249b_fra_5_2000_g2b_fit_paras.csv\n",
      "The fitted diffusion coefficient D0 is:  2.054e+01   A^2S-1\n",
      "The combined image is saved as: /XF11ID/analysis/2017_2/hilmar/Results/ed249bb6-8c45-4463-b365-c93544235415/uid=ed249b_fra_5_2000_g2_b_fit__joint.png\n",
      "The combined image is saved as: /XF11ID/analysis/2017_2/hilmar/Results/ed249bb6-8c45-4463-b365-c93544235415/uid=ed249b_fra_5_2000_g2_two_g2__joint.png\n",
      "UID: ed249bb6-8c45-4463-b365-c93544235415 is in processing...\n",
      "The two time correlation function for uid=ed249bb6-8c45-4463-b365-c93544235415 is already calculated. Just pass...\n",
      "UID: ed249bb6-8c45-4463-b365-c93544235415 is in processing...\n",
      "uid: ed249bb6-8c45-4463-b365-c93544235415--> fra_num_by_dose: [  62  125  250  500 1000 1500 1980]\n",
      "The combined image is saved as: /XF11ID/analysis/2017_2/hilmar/Results/ed249bb6-8c45-4463-b365-c93544235415/uid=ed249b_fra_5_2000_dose_analysis__joint.png\n",
      "The xpcs analysis results are exported to /XF11ID/analysis/2017_2/hilmar/Results/ed249bb6-8c45-4463-b365-c93544235415/ with filename as uid=ed249bb6-8c45-4463-b365-c93544235415_Res.h5\n",
      "/XF11ID/analysis/2017_2/hilmar/Results/ed249bb6-8c45-4463-b365-c93544235415/ ed249b /XF11ID/analysis/2017_2/hilmar/Results/ XPCS_Analysis_Report_for_uid=ed249bb6-8c45-4463-b365-c93544235415_ROI32_.pdf hilmar\n",
      "\n",
      "****************************************\n",
      "The pdf report is created with filename as: /XF11ID/analysis/2017_2/hilmar/Results/XPCS_Analysis_Report_for_uid=ed249bb6-8c45-4463-b365-c93544235415_ROI32_.pdf\n",
      "****************************************\n",
      "The url=https://logbook.nsls2.bnl.gov/Olog-11-ID/Olog was successfully updated with Add XPCS Analysis PDF Report and with the attachments\n",
      "**************************************************\n",
      "**************************************************\n",
      "Starting analysis for 92e40eda-06b4-458f-b5cf-f3e113c864d7 now...\n",
      "The data acquistion finished.\n",
      "Starting to do something here...\n",
      "Results from this analysis will be stashed in the directory /XF11ID/analysis/2017_2/hilmar/Results/\n",
      "****************************************\n",
      "*****The processing uid is: 92e40eda-06b4-458f-b5cf-f3e113c864d7*****\n",
      "****************************************\n",
      "Results from this analysis will be stashed in the directory /XF11ID/analysis/2017_2/hilmar/Results/92e40eda-06b4-458f-b5cf-f3e113c864d7/\n",
      "The beam center is: [1093, 999]\n",
      "The data are: Sliced and/or processed EigerImages2. Original repr:\n",
      "    <Frames>\n",
      "    Length: 2000 frames\n",
      "    Frame Shape: 2167 x 2070\n",
      "    Pixel Datatype: uint16\n",
      "The non-zeros photon occupation is 0.2776553885801293.\n",
      "Will Always DO apply compress process.\n",
      "Create a new compress file with filename as :/XF11ID/analysis/Compressed_Data/uid_92e40eda-06b4-458f-b5cf-f3e113c864d7.cmp.\n",
      "Using a multiprocess to compress the data.\n",
      "It will create 20 temporary files for parallel compression.\n",
      "####################No bad frames are involved.\n",
      "Combining the seperated compressed files together...\n",
      "The good_start frame number is: 5 \n",
      "uid=92e40e_fra_5_2000\n",
      "Total time: 1.592 min\n"
     ]
    },
    {
     "name": "stderr",
     "output_type": "stream",
     "text": [
      "/opt/conda_envs/analysis/lib/python3.5/site-packages/chxanalys-unknown-py3.5.egg/chxanalys/chx_generic_functions.py:515: RankWarning: Polyfit may be poorly conditioned\n"
     ]
    },
    {
     "name": "stdout",
     "output_type": "stream",
     "text": [
      "The bad frame list length is: 5\n"
     ]
    },
    {
     "name": "stderr",
     "output_type": "stream",
     "text": [
      "Averaging 1 images: 100%|██████████| 1/1 [00:00<00:00, 76.22it/s]\n",
      "Averaging 1 images: 100%|██████████| 1/1 [00:00<00:00, 27.69it/s]\n",
      "Averaging 1 images: 100%|██████████| 1/1 [00:00<00:00, 16.43it/s]\n"
     ]
    },
    {
     "name": "stdout",
     "output_type": "stream",
     "text": [
      "The file: uid=92e40e_q_Iqt is saved in /XF11ID/analysis/2017_2/hilmar/Results/92e40eda-06b4-458f-b5cf-f3e113c864d7/\n"
     ]
    },
    {
     "name": "stderr",
     "output_type": "stream",
     "text": [
      "Get ROI intensity of each frame: 100%|██████████| 1995/1995 [00:25<00:00, 77.41it/s]\n"
     ]
    },
    {
     "name": "stdout",
     "output_type": "stream",
     "text": [
      "The file: uid=92e40e_t_ROIs is saved in /XF11ID/analysis/2017_2/hilmar/Results/92e40eda-06b4-458f-b5cf-f3e113c864d7/\n",
      "In this g2 calculation, the buf and lev number are: 8--10--\n",
      "5 Bad frames involved and will be discarded!\n",
      "1996 frames will be processed...\n"
     ]
    },
    {
     "name": "stderr",
     "output_type": "stream",
     "text": [
      "\r",
      "  0%|          | 0/32 [00:00<?, ?it/s]"
     ]
    },
    {
     "name": "stdout",
     "output_type": "stream",
     "text": [
      "Starting assign the tasks...\n"
     ]
    },
    {
     "name": "stderr",
     "output_type": "stream",
     "text": [
      "100%|██████████| 32/32 [00:06<00:00,  4.19it/s]\n",
      "  0%|          | 0/32 [00:00<?, ?it/s]"
     ]
    },
    {
     "name": "stdout",
     "output_type": "stream",
     "text": [
      "Starting running the tasks...\n"
     ]
    },
    {
     "name": "stderr",
     "output_type": "stream",
     "text": [
      "100%|██████████| 32/32 [01:00<00:00,  1.89s/it]\n"
     ]
    },
    {
     "name": "stdout",
     "output_type": "stream",
     "text": [
      "G2 calculation DONE!\n",
      "Total time: 1.916 min\n",
      "The correlation function is saved in /XF11ID/analysis/2017_2/hilmar/Results/92e40eda-06b4-458f-b5cf-f3e113c864d7/ with filename as uid=92e40e_fra_5_2000_g2.csv\n",
      "The g2 fitting parameters are saved in /XF11ID/analysis/2017_2/hilmar/Results/92e40eda-06b4-458f-b5cf-f3e113c864d7/uid=92e40e_fra_5_2000_g2_fit_paras.csv\n",
      "The combined image is saved as: /XF11ID/analysis/2017_2/hilmar/Results/92e40eda-06b4-458f-b5cf-f3e113c864d7/uid=92e40e_fra_5_2000_g2_fit__joint.png\n",
      "The fitted diffusion coefficient D0 is:  1.660e+01   A^2S-1\n"
     ]
    },
    {
     "name": "stderr",
     "output_type": "stream",
     "text": [
      "100%|██████████| 1995/1995 [00:31<00:00, 63.46it/s]\n",
      "100%|██████████| 32/32 [01:05<00:00,  3.00s/it]\n"
     ]
    },
    {
     "name": "stdout",
     "output_type": "stream",
     "text": [
      "Total time: 1.104 min\n",
      "Total time: 0.496 sec\n",
      "The correlation function is saved in /XF11ID/analysis/2017_2/hilmar/Results/92e40eda-06b4-458f-b5cf-f3e113c864d7/ with filename as uid=92e40e_fra_5_2000_g2b.csv\n",
      "The g2 fitting parameters are saved in /XF11ID/analysis/2017_2/hilmar/Results/92e40eda-06b4-458f-b5cf-f3e113c864d7/uid=92e40e_fra_5_2000_g2b_fit_paras.csv\n",
      "The fitted diffusion coefficient D0 is:  1.704e+01   A^2S-1\n",
      "The combined image is saved as: /XF11ID/analysis/2017_2/hilmar/Results/92e40eda-06b4-458f-b5cf-f3e113c864d7/uid=92e40e_fra_5_2000_g2_b_fit__joint.png\n",
      "The combined image is saved as: /XF11ID/analysis/2017_2/hilmar/Results/92e40eda-06b4-458f-b5cf-f3e113c864d7/uid=92e40e_fra_5_2000_g2_two_g2__joint.png\n",
      "UID: 92e40eda-06b4-458f-b5cf-f3e113c864d7 is in processing...\n",
      "The two time correlation function for uid=92e40eda-06b4-458f-b5cf-f3e113c864d7 is already calculated. Just pass...\n",
      "UID: 92e40eda-06b4-458f-b5cf-f3e113c864d7 is in processing...\n",
      "uid: 92e40eda-06b4-458f-b5cf-f3e113c864d7--> fra_num_by_dose: [  62  125  250  500 1000 1500 1980]\n",
      "The combined image is saved as: /XF11ID/analysis/2017_2/hilmar/Results/92e40eda-06b4-458f-b5cf-f3e113c864d7/uid=92e40e_fra_5_2000_dose_analysis__joint.png\n",
      "The xpcs analysis results are exported to /XF11ID/analysis/2017_2/hilmar/Results/92e40eda-06b4-458f-b5cf-f3e113c864d7/ with filename as uid=92e40eda-06b4-458f-b5cf-f3e113c864d7_Res.h5\n",
      "/XF11ID/analysis/2017_2/hilmar/Results/92e40eda-06b4-458f-b5cf-f3e113c864d7/ 92e40e /XF11ID/analysis/2017_2/hilmar/Results/ XPCS_Analysis_Report_for_uid=92e40eda-06b4-458f-b5cf-f3e113c864d7_ROI32_.pdf hilmar\n",
      "\n",
      "****************************************\n",
      "The pdf report is created with filename as: /XF11ID/analysis/2017_2/hilmar/Results/XPCS_Analysis_Report_for_uid=92e40eda-06b4-458f-b5cf-f3e113c864d7_ROI32_.pdf\n",
      "****************************************\n",
      "The url=https://logbook.nsls2.bnl.gov/Olog-11-ID/Olog was successfully updated with Add XPCS Analysis PDF Report and with the attachments\n",
      "**************************************************\n",
      "**************************************************\n",
      "Starting analysis for 6e5c13b5-6ecf-4de4-b362-09ee0c5433bb now...\n",
      "The data acquistion finished.\n",
      "Starting to do something here...\n",
      "Results from this analysis will be stashed in the directory /XF11ID/analysis/2017_2/hilmar/Results/\n",
      "****************************************\n",
      "*****The processing uid is: 6e5c13b5-6ecf-4de4-b362-09ee0c5433bb*****\n",
      "****************************************\n",
      "Results from this analysis will be stashed in the directory /XF11ID/analysis/2017_2/hilmar/Results/6e5c13b5-6ecf-4de4-b362-09ee0c5433bb/\n",
      "The beam center is: [1093, 999]\n",
      "The data are: Sliced and/or processed EigerImages2. Original repr:\n",
      "    <Frames>\n",
      "    Length: 5000 frames\n",
      "    Frame Shape: 2167 x 2070\n",
      "    Pixel Datatype: uint32\n",
      "The non-zeros photon occupation is 0.29040348307618224.\n",
      "Will Always DO apply compress process.\n",
      "Create a new compress file with filename as :/XF11ID/analysis/Compressed_Data/uid_6e5c13b5-6ecf-4de4-b362-09ee0c5433bb.cmp.\n",
      "Using a multiprocess to compress the data.\n",
      "It will create 50 temporary files for parallel compression.\n",
      "##################################################No bad frames are involved.\n",
      "Combining the seperated compressed files together...\n",
      "The good_start frame number is: 5 \n",
      "uid=6e5c13_fra_5_5000\n",
      "Total time: 2.761 min\n"
     ]
    },
    {
     "name": "stderr",
     "output_type": "stream",
     "text": [
      "/opt/conda_envs/analysis/lib/python3.5/site-packages/chxanalys-unknown-py3.5.egg/chxanalys/chx_generic_functions.py:515: RankWarning: Polyfit may be poorly conditioned\n"
     ]
    },
    {
     "name": "stdout",
     "output_type": "stream",
     "text": [
      "The bad frame list length is: 10\n"
     ]
    },
    {
     "name": "stderr",
     "output_type": "stream",
     "text": [
      "Averaging 1 images: 100%|██████████| 1/1 [00:00<00:00, 78.37it/s]\n",
      "Averaging 1 images: 100%|██████████| 1/1 [00:00<00:00, 14.91it/s]\n",
      "Averaging 1 images: 100%|██████████| 1/1 [00:00<00:00,  8.39it/s]\n"
     ]
    },
    {
     "name": "stdout",
     "output_type": "stream",
     "text": [
      "The file: uid=6e5c13_q_Iqt is saved in /XF11ID/analysis/2017_2/hilmar/Results/6e5c13b5-6ecf-4de4-b362-09ee0c5433bb/\n"
     ]
    },
    {
     "name": "stderr",
     "output_type": "stream",
     "text": [
      "Get ROI intensity of each frame: 100%|██████████| 4995/4995 [01:07<00:00, 74.03it/s]\n"
     ]
    },
    {
     "name": "stdout",
     "output_type": "stream",
     "text": [
      "The file: uid=6e5c13_t_ROIs is saved in /XF11ID/analysis/2017_2/hilmar/Results/6e5c13b5-6ecf-4de4-b362-09ee0c5433bb/\n",
      "In this g2 calculation, the buf and lev number are: 8--11--\n",
      "10 Bad frames involved and will be discarded!\n",
      "4991 frames will be processed...\n"
     ]
    },
    {
     "name": "stderr",
     "output_type": "stream",
     "text": [
      "\r",
      "  0%|          | 0/32 [00:00<?, ?it/s]"
     ]
    },
    {
     "name": "stdout",
     "output_type": "stream",
     "text": [
      "Starting assign the tasks...\n"
     ]
    },
    {
     "name": "stderr",
     "output_type": "stream",
     "text": [
      "100%|██████████| 32/32 [00:06<00:00,  3.97it/s]\n",
      "  0%|          | 0/32 [00:00<?, ?it/s]"
     ]
    },
    {
     "name": "stdout",
     "output_type": "stream",
     "text": [
      "Starting running the tasks...\n"
     ]
    },
    {
     "name": "stderr",
     "output_type": "stream",
     "text": [
      "100%|██████████| 32/32 [03:32<00:00, 67.09s/it]  \n"
     ]
    },
    {
     "name": "stdout",
     "output_type": "stream",
     "text": [
      "G2 calculation DONE!\n",
      "Total time: 4.010 min\n",
      "The correlation function is saved in /XF11ID/analysis/2017_2/hilmar/Results/6e5c13b5-6ecf-4de4-b362-09ee0c5433bb/ with filename as uid=6e5c13_fra_5_5000_g2.csv\n",
      "The g2 fitting parameters are saved in /XF11ID/analysis/2017_2/hilmar/Results/6e5c13b5-6ecf-4de4-b362-09ee0c5433bb/uid=6e5c13_fra_5_5000_g2_fit_paras.csv\n",
      "The combined image is saved as: /XF11ID/analysis/2017_2/hilmar/Results/6e5c13b5-6ecf-4de4-b362-09ee0c5433bb/uid=6e5c13_fra_5_5000_g2_fit__joint.png\n",
      "The fitted diffusion coefficient D0 is:  6.465e+00   A^2S-1\n"
     ]
    },
    {
     "name": "stderr",
     "output_type": "stream",
     "text": [
      "100%|██████████| 4995/4995 [04:12<00:00, 19.78it/s]\n",
      "100%|██████████| 32/32 [03:51<00:00, 10.65s/it]\n"
     ]
    },
    {
     "name": "stdout",
     "output_type": "stream",
     "text": [
      "Total time: 3.918 min\n",
      "Total time: 2.571 sec\n",
      "The correlation function is saved in /XF11ID/analysis/2017_2/hilmar/Results/6e5c13b5-6ecf-4de4-b362-09ee0c5433bb/ with filename as uid=6e5c13_fra_5_5000_g2b.csv\n",
      "The g2 fitting parameters are saved in /XF11ID/analysis/2017_2/hilmar/Results/6e5c13b5-6ecf-4de4-b362-09ee0c5433bb/uid=6e5c13_fra_5_5000_g2b_fit_paras.csv\n",
      "The fitted diffusion coefficient D0 is:  6.514e+00   A^2S-1\n",
      "The combined image is saved as: /XF11ID/analysis/2017_2/hilmar/Results/6e5c13b5-6ecf-4de4-b362-09ee0c5433bb/uid=6e5c13_fra_5_5000_g2_b_fit__joint.png\n",
      "The combined image is saved as: /XF11ID/analysis/2017_2/hilmar/Results/6e5c13b5-6ecf-4de4-b362-09ee0c5433bb/uid=6e5c13_fra_5_5000_g2_two_g2__joint.png\n",
      "UID: 6e5c13b5-6ecf-4de4-b362-09ee0c5433bb is in processing...\n",
      "The two time correlation function for uid=6e5c13b5-6ecf-4de4-b362-09ee0c5433bb is already calculated. Just pass...\n",
      "UID: 6e5c13b5-6ecf-4de4-b362-09ee0c5433bb is in processing...\n",
      "uid: 6e5c13b5-6ecf-4de4-b362-09ee0c5433bb--> fra_num_by_dose: [ 156  312  625 1250 2500 3749 4950]\n",
      "The combined image is saved as: /XF11ID/analysis/2017_2/hilmar/Results/6e5c13b5-6ecf-4de4-b362-09ee0c5433bb/uid=6e5c13_fra_5_5000_dose_analysis__joint.png\n",
      "The xpcs analysis results are exported to /XF11ID/analysis/2017_2/hilmar/Results/6e5c13b5-6ecf-4de4-b362-09ee0c5433bb/ with filename as uid=6e5c13b5-6ecf-4de4-b362-09ee0c5433bb_Res.h5\n",
      "/XF11ID/analysis/2017_2/hilmar/Results/6e5c13b5-6ecf-4de4-b362-09ee0c5433bb/ 6e5c13 /XF11ID/analysis/2017_2/hilmar/Results/ XPCS_Analysis_Report_for_uid=6e5c13b5-6ecf-4de4-b362-09ee0c5433bb_ROI32_.pdf hilmar\n",
      "\n",
      "****************************************\n",
      "The pdf report is created with filename as: /XF11ID/analysis/2017_2/hilmar/Results/XPCS_Analysis_Report_for_uid=6e5c13b5-6ecf-4de4-b362-09ee0c5433bb_ROI32_.pdf\n",
      "****************************************\n",
      "The url=https://logbook.nsls2.bnl.gov/Olog-11-ID/Olog was successfully updated with Add XPCS Analysis PDF Report and with the attachments\n",
      "**************************************************\n",
      "**************************************************\n",
      "Starting analysis for 9b3b7bfe-f383-4a5d-86d5-f0c2347d18cc now...\n",
      "The data acquistion finished.\n",
      "Starting to do something here...\n",
      "Results from this analysis will be stashed in the directory /XF11ID/analysis/2017_2/hilmar/Results/\n",
      "****************************************\n",
      "*****The processing uid is: 9b3b7bfe-f383-4a5d-86d5-f0c2347d18cc*****\n",
      "****************************************\n",
      "Results from this analysis will be stashed in the directory /XF11ID/analysis/2017_2/hilmar/Results/9b3b7bfe-f383-4a5d-86d5-f0c2347d18cc/\n",
      "The beam center is: [1093, 999]\n",
      "The data are: Sliced and/or processed EigerImages2. Original repr:\n",
      "    <Frames>\n",
      "    Length: 2000 frames\n",
      "    Frame Shape: 2167 x 2070\n",
      "    Pixel Datatype: uint16\n",
      "The non-zeros photon occupation is 0.07611404265564495.\n",
      "Will Always DO apply compress process.\n",
      "Create a new compress file with filename as :/XF11ID/analysis/Compressed_Data/uid_9b3b7bfe-f383-4a5d-86d5-f0c2347d18cc.cmp.\n",
      "Using a multiprocess to compress the data.\n",
      "It will create 20 temporary files for parallel compression.\n",
      "####################No bad frames are involved.\n",
      "Combining the seperated compressed files together...\n",
      "The good_start frame number is: 5 \n",
      "uid=9b3b7b_fra_5_2000\n",
      "Total time: 52.737 sec\n"
     ]
    },
    {
     "name": "stderr",
     "output_type": "stream",
     "text": [
      "/opt/conda_envs/analysis/lib/python3.5/site-packages/chxanalys-unknown-py3.5.egg/chxanalys/chx_generic_functions.py:515: RankWarning: Polyfit may be poorly conditioned\n"
     ]
    },
    {
     "name": "stdout",
     "output_type": "stream",
     "text": [
      "The bad frame list length is: 7\n"
     ]
    },
    {
     "name": "stderr",
     "output_type": "stream",
     "text": [
      "Averaging 1 images: 100%|██████████| 1/1 [00:00<00:00, 350.43it/s]\n",
      "Averaging 1 images: 100%|██████████| 1/1 [00:00<00:00, 39.81it/s]\n",
      "Averaging 1 images: 100%|██████████| 1/1 [00:00<00:00, 21.02it/s]\n"
     ]
    },
    {
     "name": "stdout",
     "output_type": "stream",
     "text": [
      "The file: uid=9b3b7b_q_Iqt is saved in /XF11ID/analysis/2017_2/hilmar/Results/9b3b7bfe-f383-4a5d-86d5-f0c2347d18cc/\n"
     ]
    },
    {
     "name": "stderr",
     "output_type": "stream",
     "text": [
      "Get ROI intensity of each frame: 100%|██████████| 1995/1995 [00:05<00:00, 350.62it/s]\n"
     ]
    },
    {
     "name": "stdout",
     "output_type": "stream",
     "text": [
      "The file: uid=9b3b7b_t_ROIs is saved in /XF11ID/analysis/2017_2/hilmar/Results/9b3b7bfe-f383-4a5d-86d5-f0c2347d18cc/\n",
      "In this g2 calculation, the buf and lev number are: 8--10--\n",
      "7 Bad frames involved and will be discarded!\n",
      "1994 frames will be processed...\n"
     ]
    },
    {
     "name": "stderr",
     "output_type": "stream",
     "text": [
      "\r",
      "  0%|          | 0/32 [00:00<?, ?it/s]"
     ]
    },
    {
     "name": "stdout",
     "output_type": "stream",
     "text": [
      "Starting assign the tasks...\n"
     ]
    },
    {
     "name": "stderr",
     "output_type": "stream",
     "text": [
      "100%|██████████| 32/32 [00:05<00:00,  4.66it/s]\n",
      "  0%|          | 0/32 [00:00<?, ?it/s]"
     ]
    },
    {
     "name": "stdout",
     "output_type": "stream",
     "text": [
      "Starting running the tasks...\n"
     ]
    },
    {
     "name": "stderr",
     "output_type": "stream",
     "text": [
      "100%|██████████| 32/32 [00:27<00:00,  1.17it/s]\n"
     ]
    },
    {
     "name": "stdout",
     "output_type": "stream",
     "text": [
      "G2 calculation DONE!\n",
      "Total time: 1.175 min\n",
      "The correlation function is saved in /XF11ID/analysis/2017_2/hilmar/Results/9b3b7bfe-f383-4a5d-86d5-f0c2347d18cc/ with filename as uid=9b3b7b_fra_5_2000_g2.csv\n",
      "The g2 fitting parameters are saved in /XF11ID/analysis/2017_2/hilmar/Results/9b3b7bfe-f383-4a5d-86d5-f0c2347d18cc/uid=9b3b7b_fra_5_2000_g2_fit_paras.csv\n",
      "The combined image is saved as: /XF11ID/analysis/2017_2/hilmar/Results/9b3b7bfe-f383-4a5d-86d5-f0c2347d18cc/uid=9b3b7b_fra_5_2000_g2_fit__joint.png\n",
      "The fitted diffusion coefficient D0 is:  1.039e+01   A^2S-1\n"
     ]
    },
    {
     "name": "stderr",
     "output_type": "stream",
     "text": [
      "100%|██████████| 1995/1995 [00:11<00:00, 178.52it/s]\n",
      "100%|██████████| 32/32 [01:00<00:00,  2.84s/it]\n"
     ]
    },
    {
     "name": "stdout",
     "output_type": "stream",
     "text": [
      "Total time: 1.018 min\n",
      "Total time: 0.478 sec\n",
      "The correlation function is saved in /XF11ID/analysis/2017_2/hilmar/Results/9b3b7bfe-f383-4a5d-86d5-f0c2347d18cc/ with filename as uid=9b3b7b_fra_5_2000_g2b.csv\n",
      "The g2 fitting parameters are saved in /XF11ID/analysis/2017_2/hilmar/Results/9b3b7bfe-f383-4a5d-86d5-f0c2347d18cc/uid=9b3b7b_fra_5_2000_g2b_fit_paras.csv\n",
      "The fitted diffusion coefficient D0 is:  1.333e+01   A^2S-1\n",
      "The combined image is saved as: /XF11ID/analysis/2017_2/hilmar/Results/9b3b7bfe-f383-4a5d-86d5-f0c2347d18cc/uid=9b3b7b_fra_5_2000_g2_b_fit__joint.png\n",
      "The combined image is saved as: /XF11ID/analysis/2017_2/hilmar/Results/9b3b7bfe-f383-4a5d-86d5-f0c2347d18cc/uid=9b3b7b_fra_5_2000_g2_two_g2__joint.png\n",
      "UID: 9b3b7bfe-f383-4a5d-86d5-f0c2347d18cc is in processing...\n",
      "The two time correlation function for uid=9b3b7bfe-f383-4a5d-86d5-f0c2347d18cc is already calculated. Just pass...\n",
      "UID: 9b3b7bfe-f383-4a5d-86d5-f0c2347d18cc is in processing...\n",
      "uid: 9b3b7bfe-f383-4a5d-86d5-f0c2347d18cc--> fra_num_by_dose: [  62  125  250  500 1000 1500 1980]\n",
      "The combined image is saved as: /XF11ID/analysis/2017_2/hilmar/Results/9b3b7bfe-f383-4a5d-86d5-f0c2347d18cc/uid=9b3b7b_fra_5_2000_dose_analysis__joint.png\n",
      "The xpcs analysis results are exported to /XF11ID/analysis/2017_2/hilmar/Results/9b3b7bfe-f383-4a5d-86d5-f0c2347d18cc/ with filename as uid=9b3b7bfe-f383-4a5d-86d5-f0c2347d18cc_Res.h5\n",
      "/XF11ID/analysis/2017_2/hilmar/Results/9b3b7bfe-f383-4a5d-86d5-f0c2347d18cc/ 9b3b7b /XF11ID/analysis/2017_2/hilmar/Results/ XPCS_Analysis_Report_for_uid=9b3b7bfe-f383-4a5d-86d5-f0c2347d18cc_ROI32_.pdf hilmar\n",
      "\n",
      "****************************************\n",
      "The pdf report is created with filename as: /XF11ID/analysis/2017_2/hilmar/Results/XPCS_Analysis_Report_for_uid=9b3b7bfe-f383-4a5d-86d5-f0c2347d18cc_ROI32_.pdf\n",
      "****************************************\n",
      "The url=https://logbook.nsls2.bnl.gov/Olog-11-ID/Olog was successfully updated with Add XPCS Analysis PDF Report and with the attachments\n",
      "**************************************************\n",
      "**************************************************\n",
      "Starting analysis for 67417b01-654a-45fb-8ee0-a1eeff3b8726 now...\n",
      "The data acquistion finished.\n",
      "Starting to do something here...\n",
      "Results from this analysis will be stashed in the directory /XF11ID/analysis/2017_2/hilmar/Results/\n",
      "****************************************\n",
      "*****The processing uid is: 67417b01-654a-45fb-8ee0-a1eeff3b8726*****\n",
      "****************************************\n",
      "Results from this analysis will be stashed in the directory /XF11ID/analysis/2017_2/hilmar/Results/67417b01-654a-45fb-8ee0-a1eeff3b8726/\n",
      "The beam center is: [1093, 999]\n",
      "The data are: Sliced and/or processed EigerImages2. Original repr:\n",
      "    <Frames>\n",
      "    Length: 2000 frames\n",
      "    Frame Shape: 2167 x 2070\n",
      "    Pixel Datatype: uint16\n",
      "The non-zeros photon occupation is 0.2701637875109515.\n",
      "Will Always DO apply compress process.\n",
      "Create a new compress file with filename as :/XF11ID/analysis/Compressed_Data/uid_67417b01-654a-45fb-8ee0-a1eeff3b8726.cmp.\n",
      "Using a multiprocess to compress the data.\n",
      "It will create 20 temporary files for parallel compression.\n",
      "####################No bad frames are involved.\n",
      "Combining the seperated compressed files together...\n",
      "The good_start frame number is: 5 \n",
      "uid=67417b_fra_5_2000\n",
      "Total time: 1.474 min\n"
     ]
    },
    {
     "name": "stderr",
     "output_type": "stream",
     "text": [
      "/opt/conda_envs/analysis/lib/python3.5/site-packages/chxanalys-unknown-py3.5.egg/chxanalys/chx_generic_functions.py:515: RankWarning: Polyfit may be poorly conditioned\n"
     ]
    },
    {
     "name": "stdout",
     "output_type": "stream",
     "text": [
      "The bad frame list length is: 5\n"
     ]
    },
    {
     "name": "stderr",
     "output_type": "stream",
     "text": [
      "Averaging 1 images: 100%|██████████| 1/1 [00:00<00:00, 75.55it/s]\n",
      "Averaging 1 images: 100%|██████████| 1/1 [00:00<00:00, 10.08it/s]\n",
      "Averaging 1 images: 100%|██████████| 1/1 [00:00<00:00, 16.86it/s]\n"
     ]
    },
    {
     "name": "stdout",
     "output_type": "stream",
     "text": [
      "The file: uid=67417b_q_Iqt is saved in /XF11ID/analysis/2017_2/hilmar/Results/67417b01-654a-45fb-8ee0-a1eeff3b8726/\n"
     ]
    },
    {
     "name": "stderr",
     "output_type": "stream",
     "text": [
      "Get ROI intensity of each frame: 100%|██████████| 1995/1995 [00:27<00:00, 73.27it/s]\n"
     ]
    },
    {
     "name": "stdout",
     "output_type": "stream",
     "text": [
      "The file: uid=67417b_t_ROIs is saved in /XF11ID/analysis/2017_2/hilmar/Results/67417b01-654a-45fb-8ee0-a1eeff3b8726/\n",
      "In this g2 calculation, the buf and lev number are: 8--10--\n",
      "5 Bad frames involved and will be discarded!\n",
      "1996 frames will be processed...\n"
     ]
    },
    {
     "name": "stderr",
     "output_type": "stream",
     "text": [
      "\r",
      "  0%|          | 0/32 [00:00<?, ?it/s]"
     ]
    },
    {
     "name": "stdout",
     "output_type": "stream",
     "text": [
      "Starting assign the tasks...\n"
     ]
    },
    {
     "name": "stderr",
     "output_type": "stream",
     "text": [
      "100%|██████████| 32/32 [00:06<00:00,  3.91it/s]\n",
      "  0%|          | 0/32 [00:00<?, ?it/s]"
     ]
    },
    {
     "name": "stdout",
     "output_type": "stream",
     "text": [
      "Starting running the tasks...\n"
     ]
    },
    {
     "name": "stderr",
     "output_type": "stream",
     "text": [
      "100%|██████████| 32/32 [00:54<00:00,  1.71s/it]\n"
     ]
    },
    {
     "name": "stdout",
     "output_type": "stream",
     "text": [
      "G2 calculation DONE!\n",
      "Total time: 1.701 min\n",
      "The correlation function is saved in /XF11ID/analysis/2017_2/hilmar/Results/67417b01-654a-45fb-8ee0-a1eeff3b8726/ with filename as uid=67417b_fra_5_2000_g2.csv\n",
      "The g2 fitting parameters are saved in /XF11ID/analysis/2017_2/hilmar/Results/67417b01-654a-45fb-8ee0-a1eeff3b8726/uid=67417b_fra_5_2000_g2_fit_paras.csv\n",
      "The combined image is saved as: /XF11ID/analysis/2017_2/hilmar/Results/67417b01-654a-45fb-8ee0-a1eeff3b8726/uid=67417b_fra_5_2000_g2_fit__joint.png\n",
      "The fitted diffusion coefficient D0 is:  2.094e+01   A^2S-1\n"
     ]
    },
    {
     "name": "stderr",
     "output_type": "stream",
     "text": [
      "100%|██████████| 1995/1995 [00:32<00:00, 61.48it/s]\n",
      "100%|██████████| 32/32 [01:03<00:00,  2.99s/it]\n"
     ]
    },
    {
     "name": "stdout",
     "output_type": "stream",
     "text": [
      "Total time: 1.078 min\n",
      "Total time: 0.505 sec\n",
      "The correlation function is saved in /XF11ID/analysis/2017_2/hilmar/Results/67417b01-654a-45fb-8ee0-a1eeff3b8726/ with filename as uid=67417b_fra_5_2000_g2b.csv\n",
      "The g2 fitting parameters are saved in /XF11ID/analysis/2017_2/hilmar/Results/67417b01-654a-45fb-8ee0-a1eeff3b8726/uid=67417b_fra_5_2000_g2b_fit_paras.csv\n",
      "The fitted diffusion coefficient D0 is:  2.137e+01   A^2S-1\n",
      "The combined image is saved as: /XF11ID/analysis/2017_2/hilmar/Results/67417b01-654a-45fb-8ee0-a1eeff3b8726/uid=67417b_fra_5_2000_g2_b_fit__joint.png\n",
      "The combined image is saved as: /XF11ID/analysis/2017_2/hilmar/Results/67417b01-654a-45fb-8ee0-a1eeff3b8726/uid=67417b_fra_5_2000_g2_two_g2__joint.png\n",
      "UID: 67417b01-654a-45fb-8ee0-a1eeff3b8726 is in processing...\n",
      "The two time correlation function for uid=67417b01-654a-45fb-8ee0-a1eeff3b8726 is already calculated. Just pass...\n",
      "UID: 67417b01-654a-45fb-8ee0-a1eeff3b8726 is in processing...\n",
      "uid: 67417b01-654a-45fb-8ee0-a1eeff3b8726--> fra_num_by_dose: [  62  125  250  500 1000 1500 1980]\n",
      "The combined image is saved as: /XF11ID/analysis/2017_2/hilmar/Results/67417b01-654a-45fb-8ee0-a1eeff3b8726/uid=67417b_fra_5_2000_dose_analysis__joint.png\n",
      "The xpcs analysis results are exported to /XF11ID/analysis/2017_2/hilmar/Results/67417b01-654a-45fb-8ee0-a1eeff3b8726/ with filename as uid=67417b01-654a-45fb-8ee0-a1eeff3b8726_Res.h5\n",
      "/XF11ID/analysis/2017_2/hilmar/Results/67417b01-654a-45fb-8ee0-a1eeff3b8726/ 67417b /XF11ID/analysis/2017_2/hilmar/Results/ XPCS_Analysis_Report_for_uid=67417b01-654a-45fb-8ee0-a1eeff3b8726_ROI32_.pdf hilmar\n",
      "\n",
      "****************************************\n",
      "The pdf report is created with filename as: /XF11ID/analysis/2017_2/hilmar/Results/XPCS_Analysis_Report_for_uid=67417b01-654a-45fb-8ee0-a1eeff3b8726_ROI32_.pdf\n",
      "****************************************\n",
      "The url=https://logbook.nsls2.bnl.gov/Olog-11-ID/Olog was successfully updated with Add XPCS Analysis PDF Report and with the attachments\n",
      "**************************************************\n",
      "**************************************************\n",
      "Starting analysis for f726f62b-f1bc-4146-8621-7321677c2507 now...\n",
      "The data acquistion finished.\n",
      "Starting to do something here...\n",
      "Results from this analysis will be stashed in the directory /XF11ID/analysis/2017_2/hilmar/Results/\n",
      "****************************************\n",
      "*****The processing uid is: f726f62b-f1bc-4146-8621-7321677c2507*****\n",
      "****************************************\n",
      "Results from this analysis will be stashed in the directory /XF11ID/analysis/2017_2/hilmar/Results/f726f62b-f1bc-4146-8621-7321677c2507/\n",
      "The beam center is: [1093, 999]\n",
      "The data are: Sliced and/or processed EigerImages2. Original repr:\n",
      "    <Frames>\n",
      "    Length: 5000 frames\n",
      "    Frame Shape: 2167 x 2070\n",
      "    Pixel Datatype: uint32\n",
      "The non-zeros photon occupation is 0.2907220516798976.\n",
      "Will Always DO apply compress process.\n",
      "Create a new compress file with filename as :/XF11ID/analysis/Compressed_Data/uid_f726f62b-f1bc-4146-8621-7321677c2507.cmp.\n",
      "Using a multiprocess to compress the data.\n",
      "It will create 50 temporary files for parallel compression.\n",
      "##################################################No bad frames are involved.\n",
      "Combining the seperated compressed files together...\n",
      "The good_start frame number is: 5 \n",
      "uid=f726f6_fra_5_5000\n",
      "Total time: 3.543 min\n"
     ]
    },
    {
     "name": "stderr",
     "output_type": "stream",
     "text": [
      "/opt/conda_envs/analysis/lib/python3.5/site-packages/chxanalys-unknown-py3.5.egg/chxanalys/chx_generic_functions.py:515: RankWarning: Polyfit may be poorly conditioned\n"
     ]
    },
    {
     "name": "stdout",
     "output_type": "stream",
     "text": [
      "The bad frame list length is: 9\n"
     ]
    },
    {
     "name": "stderr",
     "output_type": "stream",
     "text": [
      "Averaging 1 images: 100%|██████████| 1/1 [00:00<00:00, 65.55it/s]\n",
      "Averaging 1 images: 100%|██████████| 1/1 [00:00<00:00,  5.17it/s]\n",
      "Averaging 1 images: 100%|██████████| 1/1 [00:00<00:00,  5.70it/s]\n"
     ]
    },
    {
     "name": "stdout",
     "output_type": "stream",
     "text": [
      "The file: uid=f726f6_q_Iqt is saved in /XF11ID/analysis/2017_2/hilmar/Results/f726f62b-f1bc-4146-8621-7321677c2507/\n"
     ]
    },
    {
     "name": "stderr",
     "output_type": "stream",
     "text": [
      "Get ROI intensity of each frame: 100%|██████████| 4995/4995 [01:16<00:00, 64.94it/s]\n"
     ]
    },
    {
     "name": "stdout",
     "output_type": "stream",
     "text": [
      "The file: uid=f726f6_t_ROIs is saved in /XF11ID/analysis/2017_2/hilmar/Results/f726f62b-f1bc-4146-8621-7321677c2507/\n",
      "In this g2 calculation, the buf and lev number are: 8--11--\n",
      "9 Bad frames involved and will be discarded!\n",
      "4992 frames will be processed...\n"
     ]
    },
    {
     "name": "stderr",
     "output_type": "stream",
     "text": [
      "\r",
      "  0%|          | 0/32 [00:00<?, ?it/s]"
     ]
    },
    {
     "name": "stdout",
     "output_type": "stream",
     "text": [
      "Starting assign the tasks...\n"
     ]
    },
    {
     "name": "stderr",
     "output_type": "stream",
     "text": [
      "100%|██████████| 32/32 [00:05<00:00,  4.98it/s]\n",
      "  0%|          | 0/32 [00:00<?, ?it/s]"
     ]
    },
    {
     "name": "stdout",
     "output_type": "stream",
     "text": [
      "Starting running the tasks...\n"
     ]
    },
    {
     "name": "stderr",
     "output_type": "stream",
     "text": [
      "100%|██████████| 32/32 [03:01<00:00,  5.67s/it]\n"
     ]
    },
    {
     "name": "stdout",
     "output_type": "stream",
     "text": [
      "G2 calculation DONE!\n",
      "Total time: 3.971 min\n",
      "The correlation function is saved in /XF11ID/analysis/2017_2/hilmar/Results/f726f62b-f1bc-4146-8621-7321677c2507/ with filename as uid=f726f6_fra_5_5000_g2.csv\n",
      "The g2 fitting parameters are saved in /XF11ID/analysis/2017_2/hilmar/Results/f726f62b-f1bc-4146-8621-7321677c2507/uid=f726f6_fra_5_5000_g2_fit_paras.csv\n",
      "The combined image is saved as: /XF11ID/analysis/2017_2/hilmar/Results/f726f62b-f1bc-4146-8621-7321677c2507/uid=f726f6_fra_5_5000_g2_fit__joint.png\n",
      "The fitted diffusion coefficient D0 is:  1.769e+01   A^2S-1\n"
     ]
    },
    {
     "name": "stderr",
     "output_type": "stream",
     "text": [
      "100%|██████████| 4995/4995 [05:10<00:00, 16.11it/s]\n",
      "100%|██████████| 32/32 [03:51<00:00, 10.63s/it]\n"
     ]
    },
    {
     "name": "stdout",
     "output_type": "stream",
     "text": [
      "Total time: 3.919 min\n",
      "Total time: 3.091 sec\n",
      "The correlation function is saved in /XF11ID/analysis/2017_2/hilmar/Results/f726f62b-f1bc-4146-8621-7321677c2507/ with filename as uid=f726f6_fra_5_5000_g2b.csv\n",
      "The g2 fitting parameters are saved in /XF11ID/analysis/2017_2/hilmar/Results/f726f62b-f1bc-4146-8621-7321677c2507/uid=f726f6_fra_5_5000_g2b_fit_paras.csv\n",
      "The fitted diffusion coefficient D0 is:  1.797e+01   A^2S-1\n",
      "The combined image is saved as: /XF11ID/analysis/2017_2/hilmar/Results/f726f62b-f1bc-4146-8621-7321677c2507/uid=f726f6_fra_5_5000_g2_b_fit__joint.png\n",
      "The combined image is saved as: /XF11ID/analysis/2017_2/hilmar/Results/f726f62b-f1bc-4146-8621-7321677c2507/uid=f726f6_fra_5_5000_g2_two_g2__joint.png\n",
      "UID: f726f62b-f1bc-4146-8621-7321677c2507 is in processing...\n",
      "The two time correlation function for uid=f726f62b-f1bc-4146-8621-7321677c2507 is already calculated. Just pass...\n",
      "UID: f726f62b-f1bc-4146-8621-7321677c2507 is in processing...\n",
      "uid: f726f62b-f1bc-4146-8621-7321677c2507--> fra_num_by_dose: [ 156  312  625 1250 2500 3749 4950]\n",
      "The combined image is saved as: /XF11ID/analysis/2017_2/hilmar/Results/f726f62b-f1bc-4146-8621-7321677c2507/uid=f726f6_fra_5_5000_dose_analysis__joint.png\n",
      "The xpcs analysis results are exported to /XF11ID/analysis/2017_2/hilmar/Results/f726f62b-f1bc-4146-8621-7321677c2507/ with filename as uid=f726f62b-f1bc-4146-8621-7321677c2507_Res.h5\n",
      "/XF11ID/analysis/2017_2/hilmar/Results/f726f62b-f1bc-4146-8621-7321677c2507/ f726f6 /XF11ID/analysis/2017_2/hilmar/Results/ XPCS_Analysis_Report_for_uid=f726f62b-f1bc-4146-8621-7321677c2507_ROI32_.pdf hilmar\n",
      "\n",
      "****************************************\n",
      "The pdf report is created with filename as: /XF11ID/analysis/2017_2/hilmar/Results/XPCS_Analysis_Report_for_uid=f726f62b-f1bc-4146-8621-7321677c2507_ROI32_.pdf\n",
      "****************************************\n",
      "The url=https://logbook.nsls2.bnl.gov/Olog-11-ID/Olog was successfully updated with Add XPCS Analysis PDF Report and with the attachments\n",
      "**************************************************\n",
      "**************************************************\n",
      "Starting analysis for 89885207-a3b5-4d02-bdb8-81073675e229 now...\n",
      "The data acquistion finished.\n",
      "Starting to do something here...\n",
      "Results from this analysis will be stashed in the directory /XF11ID/analysis/2017_2/hilmar/Results/\n",
      "****************************************\n",
      "*****The processing uid is: 89885207-a3b5-4d02-bdb8-81073675e229*****\n",
      "****************************************\n",
      "Results from this analysis will be stashed in the directory /XF11ID/analysis/2017_2/hilmar/Results/89885207-a3b5-4d02-bdb8-81073675e229/\n",
      "The beam center is: [1093, 999]\n",
      "The data are: Sliced and/or processed EigerImages2. Original repr:\n",
      "    <Frames>\n",
      "    Length: 2000 frames\n",
      "    Frame Shape: 2167 x 2070\n",
      "    Pixel Datatype: uint16\n",
      "The non-zeros photon occupation is 0.07772650361482848.\n",
      "Will Always DO apply compress process.\n",
      "Create a new compress file with filename as :/XF11ID/analysis/Compressed_Data/uid_89885207-a3b5-4d02-bdb8-81073675e229.cmp.\n",
      "Using a multiprocess to compress the data.\n",
      "It will create 20 temporary files for parallel compression.\n",
      "####################No bad frames are involved.\n",
      "Combining the seperated compressed files together...\n",
      "The good_start frame number is: 5 \n",
      "uid=898852_fra_5_2000\n",
      "Total time: 56.716 sec\n"
     ]
    },
    {
     "name": "stderr",
     "output_type": "stream",
     "text": [
      "/opt/conda_envs/analysis/lib/python3.5/site-packages/chxanalys-unknown-py3.5.egg/chxanalys/chx_generic_functions.py:515: RankWarning: Polyfit may be poorly conditioned\n"
     ]
    },
    {
     "name": "stdout",
     "output_type": "stream",
     "text": [
      "The bad frame list length is: 5\n"
     ]
    },
    {
     "name": "stderr",
     "output_type": "stream",
     "text": [
      "Averaging 1 images: 100%|██████████| 1/1 [00:00<00:00, 364.85it/s]\n",
      "Averaging 1 images: 100%|██████████| 1/1 [00:00<00:00, 42.13it/s]\n",
      "Averaging 1 images: 100%|██████████| 1/1 [00:00<00:00, 20.99it/s]\n"
     ]
    },
    {
     "name": "stdout",
     "output_type": "stream",
     "text": [
      "The file: uid=898852_q_Iqt is saved in /XF11ID/analysis/2017_2/hilmar/Results/89885207-a3b5-4d02-bdb8-81073675e229/\n"
     ]
    },
    {
     "name": "stderr",
     "output_type": "stream",
     "text": [
      "Get ROI intensity of each frame: 100%|██████████| 1995/1995 [00:06<00:00, 309.95it/s]\n"
     ]
    },
    {
     "name": "stdout",
     "output_type": "stream",
     "text": [
      "The file: uid=898852_t_ROIs is saved in /XF11ID/analysis/2017_2/hilmar/Results/89885207-a3b5-4d02-bdb8-81073675e229/\n",
      "In this g2 calculation, the buf and lev number are: 8--10--\n",
      "5 Bad frames involved and will be discarded!\n",
      "1996 frames will be processed...\n"
     ]
    },
    {
     "name": "stderr",
     "output_type": "stream",
     "text": [
      "\r",
      "  0%|          | 0/32 [00:00<?, ?it/s]"
     ]
    },
    {
     "name": "stdout",
     "output_type": "stream",
     "text": [
      "Starting assign the tasks...\n"
     ]
    },
    {
     "name": "stderr",
     "output_type": "stream",
     "text": [
      "100%|██████████| 32/32 [00:05<00:00,  5.66it/s]\n",
      "  0%|          | 0/32 [00:00<?, ?it/s]"
     ]
    },
    {
     "name": "stdout",
     "output_type": "stream",
     "text": [
      "Starting running the tasks...\n"
     ]
    },
    {
     "name": "stderr",
     "output_type": "stream",
     "text": [
      "100%|██████████| 32/32 [00:26<00:00,  1.20it/s]\n"
     ]
    },
    {
     "name": "stdout",
     "output_type": "stream",
     "text": [
      "G2 calculation DONE!\n",
      "Total time: 1.223 min\n",
      "The correlation function is saved in /XF11ID/analysis/2017_2/hilmar/Results/89885207-a3b5-4d02-bdb8-81073675e229/ with filename as uid=898852_fra_5_2000_g2.csv\n",
      "The g2 fitting parameters are saved in /XF11ID/analysis/2017_2/hilmar/Results/89885207-a3b5-4d02-bdb8-81073675e229/uid=898852_fra_5_2000_g2_fit_paras.csv\n",
      "The combined image is saved as: /XF11ID/analysis/2017_2/hilmar/Results/89885207-a3b5-4d02-bdb8-81073675e229/uid=898852_fra_5_2000_g2_fit__joint.png\n",
      "The fitted diffusion coefficient D0 is:  2.665e+01   A^2S-1\n"
     ]
    },
    {
     "name": "stderr",
     "output_type": "stream",
     "text": [
      "100%|██████████| 1995/1995 [00:12<00:00, 159.91it/s]\n",
      "100%|██████████| 32/32 [01:03<00:00,  3.02s/it]\n"
     ]
    },
    {
     "name": "stdout",
     "output_type": "stream",
     "text": [
      "Total time: 1.068 min\n",
      "Total time: 0.685 sec\n",
      "The correlation function is saved in /XF11ID/analysis/2017_2/hilmar/Results/89885207-a3b5-4d02-bdb8-81073675e229/ with filename as uid=898852_fra_5_2000_g2b.csv\n",
      "The g2 fitting parameters are saved in /XF11ID/analysis/2017_2/hilmar/Results/89885207-a3b5-4d02-bdb8-81073675e229/uid=898852_fra_5_2000_g2b_fit_paras.csv\n",
      "The fitted diffusion coefficient D0 is:  2.634e+01   A^2S-1\n",
      "The combined image is saved as: /XF11ID/analysis/2017_2/hilmar/Results/89885207-a3b5-4d02-bdb8-81073675e229/uid=898852_fra_5_2000_g2_b_fit__joint.png\n",
      "The combined image is saved as: /XF11ID/analysis/2017_2/hilmar/Results/89885207-a3b5-4d02-bdb8-81073675e229/uid=898852_fra_5_2000_g2_two_g2__joint.png\n",
      "UID: 89885207-a3b5-4d02-bdb8-81073675e229 is in processing...\n",
      "The two time correlation function for uid=89885207-a3b5-4d02-bdb8-81073675e229 is already calculated. Just pass...\n",
      "UID: 89885207-a3b5-4d02-bdb8-81073675e229 is in processing...\n",
      "uid: 89885207-a3b5-4d02-bdb8-81073675e229--> fra_num_by_dose: [  62  125  250  500 1000 1500 1980]\n",
      "The combined image is saved as: /XF11ID/analysis/2017_2/hilmar/Results/89885207-a3b5-4d02-bdb8-81073675e229/uid=898852_fra_5_2000_dose_analysis__joint.png\n",
      "The xpcs analysis results are exported to /XF11ID/analysis/2017_2/hilmar/Results/89885207-a3b5-4d02-bdb8-81073675e229/ with filename as uid=89885207-a3b5-4d02-bdb8-81073675e229_Res.h5\n",
      "/XF11ID/analysis/2017_2/hilmar/Results/89885207-a3b5-4d02-bdb8-81073675e229/ 898852 /XF11ID/analysis/2017_2/hilmar/Results/ XPCS_Analysis_Report_for_uid=89885207-a3b5-4d02-bdb8-81073675e229_ROI32_.pdf hilmar\n",
      "\n",
      "****************************************\n",
      "The pdf report is created with filename as: /XF11ID/analysis/2017_2/hilmar/Results/XPCS_Analysis_Report_for_uid=89885207-a3b5-4d02-bdb8-81073675e229_ROI32_.pdf\n",
      "****************************************\n",
      "The url=https://logbook.nsls2.bnl.gov/Olog-11-ID/Olog was successfully updated with Add XPCS Analysis PDF Report and with the attachments\n",
      "**************************************************\n",
      "**************************************************\n",
      "Starting analysis for cffd412f-b245-4c01-aa44-cd383c6604ab now...\n",
      "The data acquistion finished.\n",
      "Starting to do something here...\n",
      "Results from this analysis will be stashed in the directory /XF11ID/analysis/2017_2/hilmar/Results/\n",
      "****************************************\n",
      "*****The processing uid is: cffd412f-b245-4c01-aa44-cd383c6604ab*****\n",
      "****************************************\n",
      "Results from this analysis will be stashed in the directory /XF11ID/analysis/2017_2/hilmar/Results/cffd412f-b245-4c01-aa44-cd383c6604ab/\n",
      "The beam center is: [1093, 999]\n",
      "The data are: Sliced and/or processed EigerImages2. Original repr:\n",
      "    <Frames>\n",
      "    Length: 2000 frames\n",
      "    Frame Shape: 2167 x 2070\n",
      "    Pixel Datatype: uint16\n",
      "The non-zeros photon occupation is 0.26754390071538603.\n",
      "Will Always DO apply compress process.\n",
      "Create a new compress file with filename as :/XF11ID/analysis/Compressed_Data/uid_cffd412f-b245-4c01-aa44-cd383c6604ab.cmp.\n",
      "Using a multiprocess to compress the data.\n",
      "It will create 20 temporary files for parallel compression.\n",
      "####################No bad frames are involved.\n",
      "Combining the seperated compressed files together...\n",
      "The good_start frame number is: 5 \n",
      "uid=cffd41_fra_5_2000\n",
      "Total time: 1.461 min\n"
     ]
    },
    {
     "name": "stderr",
     "output_type": "stream",
     "text": [
      "/opt/conda_envs/analysis/lib/python3.5/site-packages/chxanalys-unknown-py3.5.egg/chxanalys/chx_generic_functions.py:515: RankWarning: Polyfit may be poorly conditioned\n"
     ]
    },
    {
     "name": "stdout",
     "output_type": "stream",
     "text": [
      "The bad frame list length is: 5\n"
     ]
    },
    {
     "name": "stderr",
     "output_type": "stream",
     "text": [
      "Averaging 1 images: 100%|██████████| 1/1 [00:00<00:00, 88.03it/s]\n",
      "Averaging 1 images: 100%|██████████| 1/1 [00:00<00:00, 29.75it/s]\n",
      "Averaging 1 images: 100%|██████████| 1/1 [00:00<00:00, 17.78it/s]\n"
     ]
    },
    {
     "name": "stdout",
     "output_type": "stream",
     "text": [
      "The file: uid=cffd41_q_Iqt is saved in /XF11ID/analysis/2017_2/hilmar/Results/cffd412f-b245-4c01-aa44-cd383c6604ab/\n"
     ]
    },
    {
     "name": "stderr",
     "output_type": "stream",
     "text": [
      "Get ROI intensity of each frame: 100%|██████████| 1995/1995 [00:25<00:00, 78.12it/s]\n"
     ]
    },
    {
     "name": "stdout",
     "output_type": "stream",
     "text": [
      "The file: uid=cffd41_t_ROIs is saved in /XF11ID/analysis/2017_2/hilmar/Results/cffd412f-b245-4c01-aa44-cd383c6604ab/\n",
      "In this g2 calculation, the buf and lev number are: 8--10--\n",
      "5 Bad frames involved and will be discarded!\n",
      "1996 frames will be processed...\n"
     ]
    },
    {
     "name": "stderr",
     "output_type": "stream",
     "text": [
      "\r",
      "  0%|          | 0/32 [00:00<?, ?it/s]"
     ]
    },
    {
     "name": "stdout",
     "output_type": "stream",
     "text": [
      "Starting assign the tasks...\n"
     ]
    },
    {
     "name": "stderr",
     "output_type": "stream",
     "text": [
      "100%|██████████| 32/32 [00:05<00:00,  5.13it/s]\n",
      "  0%|          | 0/32 [00:00<?, ?it/s]"
     ]
    },
    {
     "name": "stdout",
     "output_type": "stream",
     "text": [
      "Starting running the tasks...\n"
     ]
    },
    {
     "name": "stderr",
     "output_type": "stream",
     "text": [
      "100%|██████████| 32/32 [00:47<00:00,  1.48s/it]\n"
     ]
    },
    {
     "name": "stdout",
     "output_type": "stream",
     "text": [
      "G2 calculation DONE!\n",
      "Total time: 1.648 min\n",
      "The correlation function is saved in /XF11ID/analysis/2017_2/hilmar/Results/cffd412f-b245-4c01-aa44-cd383c6604ab/ with filename as uid=cffd41_fra_5_2000_g2.csv\n",
      "The g2 fitting parameters are saved in /XF11ID/analysis/2017_2/hilmar/Results/cffd412f-b245-4c01-aa44-cd383c6604ab/uid=cffd41_fra_5_2000_g2_fit_paras.csv\n",
      "The combined image is saved as: /XF11ID/analysis/2017_2/hilmar/Results/cffd412f-b245-4c01-aa44-cd383c6604ab/uid=cffd41_fra_5_2000_g2_fit__joint.png\n",
      "The fitted diffusion coefficient D0 is:  3.885e+01   A^2S-1\n"
     ]
    },
    {
     "name": "stderr",
     "output_type": "stream",
     "text": [
      "100%|██████████| 1995/1995 [00:30<00:00, 65.51it/s]\n",
      "100%|██████████| 32/32 [01:00<00:00,  2.74s/it]\n"
     ]
    },
    {
     "name": "stdout",
     "output_type": "stream",
     "text": [
      "Total time: 1.015 min\n",
      "Total time: 0.759 sec\n",
      "The correlation function is saved in /XF11ID/analysis/2017_2/hilmar/Results/cffd412f-b245-4c01-aa44-cd383c6604ab/ with filename as uid=cffd41_fra_5_2000_g2b.csv\n",
      "The g2 fitting parameters are saved in /XF11ID/analysis/2017_2/hilmar/Results/cffd412f-b245-4c01-aa44-cd383c6604ab/uid=cffd41_fra_5_2000_g2b_fit_paras.csv\n",
      "The fitted diffusion coefficient D0 is:  3.893e+01   A^2S-1\n",
      "The combined image is saved as: /XF11ID/analysis/2017_2/hilmar/Results/cffd412f-b245-4c01-aa44-cd383c6604ab/uid=cffd41_fra_5_2000_g2_b_fit__joint.png\n",
      "The combined image is saved as: /XF11ID/analysis/2017_2/hilmar/Results/cffd412f-b245-4c01-aa44-cd383c6604ab/uid=cffd41_fra_5_2000_g2_two_g2__joint.png\n",
      "UID: cffd412f-b245-4c01-aa44-cd383c6604ab is in processing...\n",
      "The two time correlation function for uid=cffd412f-b245-4c01-aa44-cd383c6604ab is already calculated. Just pass...\n",
      "UID: cffd412f-b245-4c01-aa44-cd383c6604ab is in processing...\n",
      "uid: cffd412f-b245-4c01-aa44-cd383c6604ab--> fra_num_by_dose: [  62  125  250  500 1000 1500 1980]\n",
      "The combined image is saved as: /XF11ID/analysis/2017_2/hilmar/Results/cffd412f-b245-4c01-aa44-cd383c6604ab/uid=cffd41_fra_5_2000_dose_analysis__joint.png\n",
      "The xpcs analysis results are exported to /XF11ID/analysis/2017_2/hilmar/Results/cffd412f-b245-4c01-aa44-cd383c6604ab/ with filename as uid=cffd412f-b245-4c01-aa44-cd383c6604ab_Res.h5\n",
      "/XF11ID/analysis/2017_2/hilmar/Results/cffd412f-b245-4c01-aa44-cd383c6604ab/ cffd41 /XF11ID/analysis/2017_2/hilmar/Results/ XPCS_Analysis_Report_for_uid=cffd412f-b245-4c01-aa44-cd383c6604ab_ROI32_.pdf hilmar\n",
      "\n",
      "****************************************\n",
      "The pdf report is created with filename as: /XF11ID/analysis/2017_2/hilmar/Results/XPCS_Analysis_Report_for_uid=cffd412f-b245-4c01-aa44-cd383c6604ab_ROI32_.pdf\n",
      "****************************************\n",
      "The url=https://logbook.nsls2.bnl.gov/Olog-11-ID/Olog was successfully updated with Add XPCS Analysis PDF Report and with the attachments\n",
      "**************************************************\n",
      "**************************************************\n",
      "Starting analysis for f1c1e02e-57c7-41d3-a070-d500b5a19daa now...\n",
      "The data acquistion finished.\n",
      "Starting to do something here...\n",
      "Results from this analysis will be stashed in the directory /XF11ID/analysis/2017_2/hilmar/Results/\n",
      "****************************************\n",
      "*****The processing uid is: f1c1e02e-57c7-41d3-a070-d500b5a19daa*****\n",
      "****************************************\n",
      "Results from this analysis will be stashed in the directory /XF11ID/analysis/2017_2/hilmar/Results/f1c1e02e-57c7-41d3-a070-d500b5a19daa/\n",
      "The beam center is: [1093, 999]\n",
      "The data are: Sliced and/or processed EigerImages2. Original repr:\n",
      "    <Frames>\n",
      "    Length: 5000 frames\n",
      "    Frame Shape: 2167 x 2070\n",
      "    Pixel Datatype: uint32\n",
      "The non-zeros photon occupation is 0.27603913779151035.\n",
      "Will Always DO apply compress process.\n",
      "Create a new compress file with filename as :/XF11ID/analysis/Compressed_Data/uid_f1c1e02e-57c7-41d3-a070-d500b5a19daa.cmp.\n",
      "Using a multiprocess to compress the data.\n",
      "It will create 50 temporary files for parallel compression.\n",
      "##################################################No bad frames are involved.\n",
      "Combining the seperated compressed files together...\n",
      "The good_start frame number is: 5 \n",
      "uid=f1c1e0_fra_5_5000\n",
      "Total time: 3.406 min\n"
     ]
    },
    {
     "name": "stderr",
     "output_type": "stream",
     "text": [
      "/opt/conda_envs/analysis/lib/python3.5/site-packages/chxanalys-unknown-py3.5.egg/chxanalys/chx_generic_functions.py:515: RankWarning: Polyfit may be poorly conditioned\n"
     ]
    },
    {
     "name": "stdout",
     "output_type": "stream",
     "text": [
      "The bad frame list length is: 10\n"
     ]
    },
    {
     "name": "stderr",
     "output_type": "stream",
     "text": [
      "Averaging 1 images: 100%|██████████| 1/1 [00:00<00:00, 86.00it/s]\n",
      "Averaging 1 images: 100%|██████████| 1/1 [00:00<00:00, 15.02it/s]\n",
      "Averaging 1 images: 100%|██████████| 1/1 [00:00<00:00,  8.02it/s]\n"
     ]
    },
    {
     "name": "stdout",
     "output_type": "stream",
     "text": [
      "The file: uid=f1c1e0_q_Iqt is saved in /XF11ID/analysis/2017_2/hilmar/Results/f1c1e02e-57c7-41d3-a070-d500b5a19daa/\n"
     ]
    },
    {
     "name": "stderr",
     "output_type": "stream",
     "text": [
      "Get ROI intensity of each frame: 100%|██████████| 4995/4995 [01:08<00:00, 72.73it/s]\n"
     ]
    },
    {
     "name": "stdout",
     "output_type": "stream",
     "text": [
      "The file: uid=f1c1e0_t_ROIs is saved in /XF11ID/analysis/2017_2/hilmar/Results/f1c1e02e-57c7-41d3-a070-d500b5a19daa/\n",
      "In this g2 calculation, the buf and lev number are: 8--11--\n",
      "10 Bad frames involved and will be discarded!\n",
      "4991 frames will be processed...\n"
     ]
    },
    {
     "name": "stderr",
     "output_type": "stream",
     "text": [
      "\r",
      "  0%|          | 0/32 [00:00<?, ?it/s]"
     ]
    },
    {
     "name": "stdout",
     "output_type": "stream",
     "text": [
      "Starting assign the tasks...\n"
     ]
    },
    {
     "name": "stderr",
     "output_type": "stream",
     "text": [
      "100%|██████████| 32/32 [00:07<00:00,  4.45it/s]\n",
      "  0%|          | 0/32 [00:00<?, ?it/s]"
     ]
    },
    {
     "name": "stdout",
     "output_type": "stream",
     "text": [
      "Starting running the tasks...\n"
     ]
    },
    {
     "name": "stderr",
     "output_type": "stream",
     "text": [
      "100%|██████████| 32/32 [02:35<00:00,  4.86s/it]  \n"
     ]
    },
    {
     "name": "stdout",
     "output_type": "stream",
     "text": [
      "G2 calculation DONE!\n",
      "Total time: 3.682 min\n",
      "The correlation function is saved in /XF11ID/analysis/2017_2/hilmar/Results/f1c1e02e-57c7-41d3-a070-d500b5a19daa/ with filename as uid=f1c1e0_fra_5_5000_g2.csv\n",
      "The g2 fitting parameters are saved in /XF11ID/analysis/2017_2/hilmar/Results/f1c1e02e-57c7-41d3-a070-d500b5a19daa/uid=f1c1e0_fra_5_5000_g2_fit_paras.csv\n",
      "The combined image is saved as: /XF11ID/analysis/2017_2/hilmar/Results/f1c1e02e-57c7-41d3-a070-d500b5a19daa/uid=f1c1e0_fra_5_5000_g2_fit__joint.png\n",
      "The fitted diffusion coefficient D0 is:  2.892e+01   A^2S-1\n"
     ]
    },
    {
     "name": "stderr",
     "output_type": "stream",
     "text": [
      "100%|██████████| 4995/4995 [04:36<00:00, 18.06it/s]\n",
      "100%|██████████| 32/32 [03:48<00:00, 10.25s/it]\n"
     ]
    },
    {
     "name": "stdout",
     "output_type": "stream",
     "text": [
      "Total time: 3.862 min\n",
      "Total time: 3.579 sec\n",
      "The correlation function is saved in /XF11ID/analysis/2017_2/hilmar/Results/f1c1e02e-57c7-41d3-a070-d500b5a19daa/ with filename as uid=f1c1e0_fra_5_5000_g2b.csv\n",
      "The g2 fitting parameters are saved in /XF11ID/analysis/2017_2/hilmar/Results/f1c1e02e-57c7-41d3-a070-d500b5a19daa/uid=f1c1e0_fra_5_5000_g2b_fit_paras.csv\n",
      "The fitted diffusion coefficient D0 is:  2.912e+01   A^2S-1\n",
      "The combined image is saved as: /XF11ID/analysis/2017_2/hilmar/Results/f1c1e02e-57c7-41d3-a070-d500b5a19daa/uid=f1c1e0_fra_5_5000_g2_b_fit__joint.png\n",
      "The combined image is saved as: /XF11ID/analysis/2017_2/hilmar/Results/f1c1e02e-57c7-41d3-a070-d500b5a19daa/uid=f1c1e0_fra_5_5000_g2_two_g2__joint.png\n",
      "UID: f1c1e02e-57c7-41d3-a070-d500b5a19daa is in processing...\n",
      "The two time correlation function for uid=f1c1e02e-57c7-41d3-a070-d500b5a19daa is already calculated. Just pass...\n",
      "UID: f1c1e02e-57c7-41d3-a070-d500b5a19daa is in processing...\n",
      "uid: f1c1e02e-57c7-41d3-a070-d500b5a19daa--> fra_num_by_dose: [ 156  312  625 1250 2500 3749 4950]\n",
      "The combined image is saved as: /XF11ID/analysis/2017_2/hilmar/Results/f1c1e02e-57c7-41d3-a070-d500b5a19daa/uid=f1c1e0_fra_5_5000_dose_analysis__joint.png\n",
      "The xpcs analysis results are exported to /XF11ID/analysis/2017_2/hilmar/Results/f1c1e02e-57c7-41d3-a070-d500b5a19daa/ with filename as uid=f1c1e02e-57c7-41d3-a070-d500b5a19daa_Res.h5\n",
      "/XF11ID/analysis/2017_2/hilmar/Results/f1c1e02e-57c7-41d3-a070-d500b5a19daa/ f1c1e0 /XF11ID/analysis/2017_2/hilmar/Results/ XPCS_Analysis_Report_for_uid=f1c1e02e-57c7-41d3-a070-d500b5a19daa_ROI32_.pdf hilmar\n",
      "\n",
      "****************************************\n",
      "The pdf report is created with filename as: /XF11ID/analysis/2017_2/hilmar/Results/XPCS_Analysis_Report_for_uid=f1c1e02e-57c7-41d3-a070-d500b5a19daa_ROI32_.pdf\n",
      "****************************************\n",
      "The url=https://logbook.nsls2.bnl.gov/Olog-11-ID/Olog was successfully updated with Add XPCS Analysis PDF Report and with the attachments\n",
      "**************************************************\n",
      "**************************************************\n",
      "Starting analysis for 083d01c4-1721-4726-9c73-5292d0bf1868 now...\n",
      "The data acquistion finished.\n",
      "Starting to do something here...\n",
      "Results from this analysis will be stashed in the directory /XF11ID/analysis/2017_2/hilmar/Results/\n",
      "****************************************\n",
      "*****The processing uid is: 083d01c4-1721-4726-9c73-5292d0bf1868*****\n",
      "****************************************\n",
      "Results from this analysis will be stashed in the directory /XF11ID/analysis/2017_2/hilmar/Results/083d01c4-1721-4726-9c73-5292d0bf1868/\n",
      "The beam center is: [1093, 999]\n",
      "The data are: Sliced and/or processed EigerImages2. Original repr:\n",
      "    <Frames>\n",
      "    Length: 2000 frames\n",
      "    Frame Shape: 2167 x 2070\n",
      "    Pixel Datatype: uint16\n",
      "The non-zeros photon occupation is 0.07458763311775891.\n",
      "Will Always DO apply compress process.\n",
      "Create a new compress file with filename as :/XF11ID/analysis/Compressed_Data/uid_083d01c4-1721-4726-9c73-5292d0bf1868.cmp.\n",
      "Using a multiprocess to compress the data.\n",
      "It will create 20 temporary files for parallel compression.\n",
      "####################No bad frames are involved.\n",
      "Combining the seperated compressed files together...\n",
      "The good_start frame number is: 5 \n",
      "uid=083d01_fra_5_2000\n",
      "Total time: 1.271 min\n"
     ]
    },
    {
     "name": "stderr",
     "output_type": "stream",
     "text": [
      "/opt/conda_envs/analysis/lib/python3.5/site-packages/chxanalys-unknown-py3.5.egg/chxanalys/chx_generic_functions.py:515: RankWarning: Polyfit may be poorly conditioned\n"
     ]
    },
    {
     "name": "stdout",
     "output_type": "stream",
     "text": [
      "The bad frame list length is: 5\n"
     ]
    },
    {
     "name": "stderr",
     "output_type": "stream",
     "text": [
      "Averaging 1 images: 100%|██████████| 1/1 [00:00<00:00, 352.37it/s]\n",
      "Averaging 1 images: 100%|██████████| 1/1 [00:00<00:00, 35.82it/s]\n",
      "Averaging 1 images: 100%|██████████| 1/1 [00:00<00:00, 18.85it/s]\n"
     ]
    },
    {
     "name": "stdout",
     "output_type": "stream",
     "text": [
      "The file: uid=083d01_q_Iqt is saved in /XF11ID/analysis/2017_2/hilmar/Results/083d01c4-1721-4726-9c73-5292d0bf1868/\n"
     ]
    },
    {
     "name": "stderr",
     "output_type": "stream",
     "text": [
      "Get ROI intensity of each frame: 100%|██████████| 1995/1995 [00:10<00:00, 181.46it/s]\n"
     ]
    },
    {
     "name": "stdout",
     "output_type": "stream",
     "text": [
      "The file: uid=083d01_t_ROIs is saved in /XF11ID/analysis/2017_2/hilmar/Results/083d01c4-1721-4726-9c73-5292d0bf1868/\n",
      "In this g2 calculation, the buf and lev number are: 8--10--\n",
      "5 Bad frames involved and will be discarded!\n",
      "1996 frames will be processed...\n"
     ]
    },
    {
     "name": "stderr",
     "output_type": "stream",
     "text": [
      "\r",
      "  0%|          | 0/32 [00:00<?, ?it/s]"
     ]
    },
    {
     "name": "stdout",
     "output_type": "stream",
     "text": [
      "Starting assign the tasks...\n"
     ]
    },
    {
     "name": "stderr",
     "output_type": "stream",
     "text": [
      "100%|██████████| 32/32 [00:05<00:00,  5.33it/s]\n",
      "  0%|          | 0/32 [00:00<?, ?it/s]"
     ]
    },
    {
     "name": "stdout",
     "output_type": "stream",
     "text": [
      "Starting running the tasks...\n"
     ]
    },
    {
     "name": "stderr",
     "output_type": "stream",
     "text": [
      "100%|██████████| 32/32 [00:27<00:00,  1.15it/s]\n"
     ]
    },
    {
     "name": "stdout",
     "output_type": "stream",
     "text": [
      "G2 calculation DONE!\n",
      "Total time: 1.785 min\n",
      "The correlation function is saved in /XF11ID/analysis/2017_2/hilmar/Results/083d01c4-1721-4726-9c73-5292d0bf1868/ with filename as uid=083d01_fra_5_2000_g2.csv\n",
      "The g2 fitting parameters are saved in /XF11ID/analysis/2017_2/hilmar/Results/083d01c4-1721-4726-9c73-5292d0bf1868/uid=083d01_fra_5_2000_g2_fit_paras.csv\n",
      "The combined image is saved as: /XF11ID/analysis/2017_2/hilmar/Results/083d01c4-1721-4726-9c73-5292d0bf1868/uid=083d01_fra_5_2000_g2_fit__joint.png\n",
      "The fitted diffusion coefficient D0 is:  4.121e+01   A^2S-1\n"
     ]
    },
    {
     "name": "stderr",
     "output_type": "stream",
     "text": [
      "100%|██████████| 1995/1995 [00:11<00:00, 178.40it/s]\n",
      "100%|██████████| 32/32 [01:02<00:00,  2.91s/it]\n"
     ]
    },
    {
     "name": "stdout",
     "output_type": "stream",
     "text": [
      "Total time: 1.050 min\n",
      "Total time: 0.474 sec\n",
      "The correlation function is saved in /XF11ID/analysis/2017_2/hilmar/Results/083d01c4-1721-4726-9c73-5292d0bf1868/ with filename as uid=083d01_fra_5_2000_g2b.csv\n",
      "The g2 fitting parameters are saved in /XF11ID/analysis/2017_2/hilmar/Results/083d01c4-1721-4726-9c73-5292d0bf1868/uid=083d01_fra_5_2000_g2b_fit_paras.csv\n",
      "The fitted diffusion coefficient D0 is:  3.783e+01   A^2S-1\n",
      "The combined image is saved as: /XF11ID/analysis/2017_2/hilmar/Results/083d01c4-1721-4726-9c73-5292d0bf1868/uid=083d01_fra_5_2000_g2_b_fit__joint.png\n",
      "The combined image is saved as: /XF11ID/analysis/2017_2/hilmar/Results/083d01c4-1721-4726-9c73-5292d0bf1868/uid=083d01_fra_5_2000_g2_two_g2__joint.png\n",
      "UID: 083d01c4-1721-4726-9c73-5292d0bf1868 is in processing...\n",
      "The two time correlation function for uid=083d01c4-1721-4726-9c73-5292d0bf1868 is already calculated. Just pass...\n",
      "UID: 083d01c4-1721-4726-9c73-5292d0bf1868 is in processing...\n",
      "uid: 083d01c4-1721-4726-9c73-5292d0bf1868--> fra_num_by_dose: [  62  125  250  500 1000 1500 1980]\n",
      "The combined image is saved as: /XF11ID/analysis/2017_2/hilmar/Results/083d01c4-1721-4726-9c73-5292d0bf1868/uid=083d01_fra_5_2000_dose_analysis__joint.png\n",
      "The xpcs analysis results are exported to /XF11ID/analysis/2017_2/hilmar/Results/083d01c4-1721-4726-9c73-5292d0bf1868/ with filename as uid=083d01c4-1721-4726-9c73-5292d0bf1868_Res.h5\n",
      "/XF11ID/analysis/2017_2/hilmar/Results/083d01c4-1721-4726-9c73-5292d0bf1868/ 083d01 /XF11ID/analysis/2017_2/hilmar/Results/ XPCS_Analysis_Report_for_uid=083d01c4-1721-4726-9c73-5292d0bf1868_ROI32_.pdf hilmar\n",
      "\n",
      "****************************************\n",
      "The pdf report is created with filename as: /XF11ID/analysis/2017_2/hilmar/Results/XPCS_Analysis_Report_for_uid=083d01c4-1721-4726-9c73-5292d0bf1868_ROI32_.pdf\n",
      "****************************************\n",
      "The url=https://logbook.nsls2.bnl.gov/Olog-11-ID/Olog was successfully updated with Add XPCS Analysis PDF Report and with the attachments\n",
      "**************************************************\n",
      "**************************************************\n",
      "Starting analysis for 94da77c8-cf11-4e99-80fe-9f8aabfee9fc now...\n",
      "The data acquistion finished.\n",
      "Starting to do something here...\n",
      "Results from this analysis will be stashed in the directory /XF11ID/analysis/2017_2/hilmar/Results/\n",
      "****************************************\n",
      "*****The processing uid is: 94da77c8-cf11-4e99-80fe-9f8aabfee9fc*****\n",
      "****************************************\n",
      "Results from this analysis will be stashed in the directory /XF11ID/analysis/2017_2/hilmar/Results/94da77c8-cf11-4e99-80fe-9f8aabfee9fc/\n",
      "The beam center is: [1093, 999]\n",
      "The data are: Sliced and/or processed EigerImages2. Original repr:\n",
      "    <Frames>\n",
      "    Length: 2000 frames\n",
      "    Frame Shape: 2167 x 2070\n",
      "    Pixel Datatype: uint16\n",
      "The non-zeros photon occupation is 0.2843631637496127.\n",
      "Will Always DO apply compress process.\n",
      "Create a new compress file with filename as :/XF11ID/analysis/Compressed_Data/uid_94da77c8-cf11-4e99-80fe-9f8aabfee9fc.cmp.\n",
      "Using a multiprocess to compress the data.\n",
      "It will create 20 temporary files for parallel compression.\n",
      "####################No bad frames are involved.\n",
      "Combining the seperated compressed files together...\n",
      "The good_start frame number is: 5 \n",
      "uid=94da77_fra_5_2000\n",
      "Total time: 1.850 min\n"
     ]
    },
    {
     "name": "stderr",
     "output_type": "stream",
     "text": [
      "/opt/conda_envs/analysis/lib/python3.5/site-packages/chxanalys-unknown-py3.5.egg/chxanalys/chx_generic_functions.py:515: RankWarning: Polyfit may be poorly conditioned\n"
     ]
    },
    {
     "name": "stdout",
     "output_type": "stream",
     "text": [
      "The bad frame list length is: 9\n"
     ]
    },
    {
     "name": "stderr",
     "output_type": "stream",
     "text": [
      "Averaging 1 images: 100%|██████████| 1/1 [00:00<00:00, 80.91it/s]\n",
      "Averaging 1 images: 100%|██████████| 1/1 [00:00<00:00, 28.08it/s]\n",
      "Averaging 1 images: 100%|██████████| 1/1 [00:00<00:00, 16.98it/s]\n"
     ]
    },
    {
     "name": "stdout",
     "output_type": "stream",
     "text": [
      "The file: uid=94da77_q_Iqt is saved in /XF11ID/analysis/2017_2/hilmar/Results/94da77c8-cf11-4e99-80fe-9f8aabfee9fc/\n"
     ]
    },
    {
     "name": "stderr",
     "output_type": "stream",
     "text": [
      "Get ROI intensity of each frame: 100%|██████████| 1995/1995 [00:25<00:00, 79.26it/s]\n"
     ]
    },
    {
     "name": "stdout",
     "output_type": "stream",
     "text": [
      "The file: uid=94da77_t_ROIs is saved in /XF11ID/analysis/2017_2/hilmar/Results/94da77c8-cf11-4e99-80fe-9f8aabfee9fc/\n",
      "In this g2 calculation, the buf and lev number are: 8--10--\n",
      "9 Bad frames involved and will be discarded!\n",
      "1992 frames will be processed...\n"
     ]
    },
    {
     "name": "stderr",
     "output_type": "stream",
     "text": [
      "\r",
      "  0%|          | 0/32 [00:00<?, ?it/s]"
     ]
    },
    {
     "name": "stdout",
     "output_type": "stream",
     "text": [
      "Starting assign the tasks...\n"
     ]
    },
    {
     "name": "stderr",
     "output_type": "stream",
     "text": [
      "100%|██████████| 32/32 [00:06<00:00,  4.64it/s]\n",
      "  0%|          | 0/32 [00:00<?, ?it/s]"
     ]
    },
    {
     "name": "stdout",
     "output_type": "stream",
     "text": [
      "Starting running the tasks...\n"
     ]
    },
    {
     "name": "stderr",
     "output_type": "stream",
     "text": [
      "100%|██████████| 32/32 [00:54<00:00,  1.70s/it]\n"
     ]
    },
    {
     "name": "stdout",
     "output_type": "stream",
     "text": [
      "G2 calculation DONE!\n",
      "Total time: 1.360 min\n",
      "The correlation function is saved in /XF11ID/analysis/2017_2/hilmar/Results/94da77c8-cf11-4e99-80fe-9f8aabfee9fc/ with filename as uid=94da77_fra_5_2000_g2.csv\n",
      "The g2 fitting parameters are saved in /XF11ID/analysis/2017_2/hilmar/Results/94da77c8-cf11-4e99-80fe-9f8aabfee9fc/uid=94da77_fra_5_2000_g2_fit_paras.csv\n",
      "The combined image is saved as: /XF11ID/analysis/2017_2/hilmar/Results/94da77c8-cf11-4e99-80fe-9f8aabfee9fc/uid=94da77_fra_5_2000_g2_fit__joint.png\n",
      "The fitted diffusion coefficient D0 is:  5.213e+01   A^2S-1\n"
     ]
    },
    {
     "name": "stderr",
     "output_type": "stream",
     "text": [
      "100%|██████████| 1995/1995 [00:40<00:00, 58.97it/s]\n",
      "100%|██████████| 32/32 [01:05<00:00,  3.08s/it]\n"
     ]
    },
    {
     "name": "stdout",
     "output_type": "stream",
     "text": [
      "Total time: 1.099 min\n",
      "Total time: 0.564 sec\n",
      "The correlation function is saved in /XF11ID/analysis/2017_2/hilmar/Results/94da77c8-cf11-4e99-80fe-9f8aabfee9fc/ with filename as uid=94da77_fra_5_2000_g2b.csv\n",
      "The g2 fitting parameters are saved in /XF11ID/analysis/2017_2/hilmar/Results/94da77c8-cf11-4e99-80fe-9f8aabfee9fc/uid=94da77_fra_5_2000_g2b_fit_paras.csv\n",
      "The fitted diffusion coefficient D0 is:  5.328e+01   A^2S-1\n",
      "The combined image is saved as: /XF11ID/analysis/2017_2/hilmar/Results/94da77c8-cf11-4e99-80fe-9f8aabfee9fc/uid=94da77_fra_5_2000_g2_b_fit__joint.png\n",
      "The combined image is saved as: /XF11ID/analysis/2017_2/hilmar/Results/94da77c8-cf11-4e99-80fe-9f8aabfee9fc/uid=94da77_fra_5_2000_g2_two_g2__joint.png\n",
      "UID: 94da77c8-cf11-4e99-80fe-9f8aabfee9fc is in processing...\n",
      "The two time correlation function for uid=94da77c8-cf11-4e99-80fe-9f8aabfee9fc is already calculated. Just pass...\n",
      "UID: 94da77c8-cf11-4e99-80fe-9f8aabfee9fc is in processing...\n",
      "uid: 94da77c8-cf11-4e99-80fe-9f8aabfee9fc--> fra_num_by_dose: [  62  125  250  500 1000 1500 1980]\n",
      "The combined image is saved as: /XF11ID/analysis/2017_2/hilmar/Results/94da77c8-cf11-4e99-80fe-9f8aabfee9fc/uid=94da77_fra_5_2000_dose_analysis__joint.png\n",
      "The xpcs analysis results are exported to /XF11ID/analysis/2017_2/hilmar/Results/94da77c8-cf11-4e99-80fe-9f8aabfee9fc/ with filename as uid=94da77c8-cf11-4e99-80fe-9f8aabfee9fc_Res.h5\n",
      "/XF11ID/analysis/2017_2/hilmar/Results/94da77c8-cf11-4e99-80fe-9f8aabfee9fc/ 94da77 /XF11ID/analysis/2017_2/hilmar/Results/ XPCS_Analysis_Report_for_uid=94da77c8-cf11-4e99-80fe-9f8aabfee9fc_ROI32_.pdf hilmar\n",
      "\n",
      "****************************************\n",
      "The pdf report is created with filename as: /XF11ID/analysis/2017_2/hilmar/Results/XPCS_Analysis_Report_for_uid=94da77c8-cf11-4e99-80fe-9f8aabfee9fc_ROI32_.pdf\n",
      "****************************************\n",
      "The url=https://logbook.nsls2.bnl.gov/Olog-11-ID/Olog was successfully updated with Add XPCS Analysis PDF Report and with the attachments\n",
      "**************************************************\n",
      "**************************************************\n",
      "Starting analysis for 4ad7d52b-3205-4aaf-8eda-a27f0272d450 now...\n",
      "The data acquistion finished.\n",
      "Starting to do something here...\n",
      "Results from this analysis will be stashed in the directory /XF11ID/analysis/2017_2/hilmar/Results/\n",
      "****************************************\n",
      "*****The processing uid is: 4ad7d52b-3205-4aaf-8eda-a27f0272d450*****\n",
      "****************************************\n",
      "Results from this analysis will be stashed in the directory /XF11ID/analysis/2017_2/hilmar/Results/4ad7d52b-3205-4aaf-8eda-a27f0272d450/\n",
      "The beam center is: [1093, 999]\n",
      "The data are: Sliced and/or processed EigerImages2. Original repr:\n",
      "    <Frames>\n",
      "    Length: 5000 frames\n",
      "    Frame Shape: 2167 x 2070\n",
      "    Pixel Datatype: uint32\n",
      "The non-zeros photon occupation is 0.2894522358879013.\n",
      "Will Always DO apply compress process.\n",
      "Create a new compress file with filename as :/XF11ID/analysis/Compressed_Data/uid_4ad7d52b-3205-4aaf-8eda-a27f0272d450.cmp.\n",
      "Using a multiprocess to compress the data.\n",
      "It will create 50 temporary files for parallel compression.\n",
      "##################################################No bad frames are involved.\n",
      "Combining the seperated compressed files together...\n",
      "The good_start frame number is: 5 \n",
      "uid=4ad7d5_fra_5_5000\n",
      "Total time: 3.350 min\n"
     ]
    },
    {
     "name": "stderr",
     "output_type": "stream",
     "text": [
      "/opt/conda_envs/analysis/lib/python3.5/site-packages/chxanalys-unknown-py3.5.egg/chxanalys/chx_generic_functions.py:515: RankWarning: Polyfit may be poorly conditioned\n"
     ]
    },
    {
     "name": "stdout",
     "output_type": "stream",
     "text": [
      "The bad frame list length is: 11\n"
     ]
    },
    {
     "name": "stderr",
     "output_type": "stream",
     "text": [
      "Averaging 1 images: 100%|██████████| 1/1 [00:00<00:00, 80.53it/s]\n",
      "Averaging 1 images: 100%|██████████| 1/1 [00:00<00:00, 15.11it/s]\n",
      "Averaging 1 images: 100%|██████████| 1/1 [00:00<00:00,  8.62it/s]\n"
     ]
    },
    {
     "name": "stdout",
     "output_type": "stream",
     "text": [
      "The file: uid=4ad7d5_q_Iqt is saved in /XF11ID/analysis/2017_2/hilmar/Results/4ad7d52b-3205-4aaf-8eda-a27f0272d450/\n"
     ]
    },
    {
     "name": "stderr",
     "output_type": "stream",
     "text": [
      "Get ROI intensity of each frame: 100%|██████████| 4995/4995 [01:21<00:00, 33.40it/s]\n"
     ]
    },
    {
     "name": "stdout",
     "output_type": "stream",
     "text": [
      "The file: uid=4ad7d5_t_ROIs is saved in /XF11ID/analysis/2017_2/hilmar/Results/4ad7d52b-3205-4aaf-8eda-a27f0272d450/\n",
      "In this g2 calculation, the buf and lev number are: 8--11--\n",
      "11 Bad frames involved and will be discarded!\n",
      "4990 frames will be processed...\n"
     ]
    },
    {
     "name": "stderr",
     "output_type": "stream",
     "text": [
      "\r",
      "  0%|          | 0/32 [00:00<?, ?it/s]"
     ]
    },
    {
     "name": "stdout",
     "output_type": "stream",
     "text": [
      "Starting assign the tasks...\n"
     ]
    },
    {
     "name": "stderr",
     "output_type": "stream",
     "text": [
      "100%|██████████| 32/32 [00:06<00:00,  4.27it/s]\n",
      "  0%|          | 0/32 [00:00<?, ?it/s]"
     ]
    },
    {
     "name": "stdout",
     "output_type": "stream",
     "text": [
      "Starting running the tasks...\n"
     ]
    },
    {
     "name": "stderr",
     "output_type": "stream",
     "text": [
      "100%|██████████| 32/32 [07:10<00:00, 13.46s/it]  \n"
     ]
    },
    {
     "name": "stdout",
     "output_type": "stream",
     "text": [
      "G2 calculation DONE!\n",
      "Total time: 7.854 min\n",
      "The correlation function is saved in /XF11ID/analysis/2017_2/hilmar/Results/4ad7d52b-3205-4aaf-8eda-a27f0272d450/ with filename as uid=4ad7d5_fra_5_5000_g2.csv\n",
      "The g2 fitting parameters are saved in /XF11ID/analysis/2017_2/hilmar/Results/4ad7d52b-3205-4aaf-8eda-a27f0272d450/uid=4ad7d5_fra_5_5000_g2_fit_paras.csv\n",
      "The combined image is saved as: /XF11ID/analysis/2017_2/hilmar/Results/4ad7d52b-3205-4aaf-8eda-a27f0272d450/uid=4ad7d5_fra_5_5000_g2_fit__joint.png\n",
      "The fitted diffusion coefficient D0 is:  3.034e+01   A^2S-1\n"
     ]
    },
    {
     "name": "stderr",
     "output_type": "stream",
     "text": [
      "100%|██████████| 4995/4995 [01:45<00:00, 47.14it/s]\n",
      "100%|██████████| 32/32 [03:51<00:00, 10.42s/it]\n"
     ]
    },
    {
     "name": "stdout",
     "output_type": "stream",
     "text": [
      "Total time: 3.922 min\n",
      "Total time: 3.160 sec\n",
      "The correlation function is saved in /XF11ID/analysis/2017_2/hilmar/Results/4ad7d52b-3205-4aaf-8eda-a27f0272d450/ with filename as uid=4ad7d5_fra_5_5000_g2b.csv\n",
      "The g2 fitting parameters are saved in /XF11ID/analysis/2017_2/hilmar/Results/4ad7d52b-3205-4aaf-8eda-a27f0272d450/uid=4ad7d5_fra_5_5000_g2b_fit_paras.csv\n",
      "The fitted diffusion coefficient D0 is:  3.086e+01   A^2S-1\n",
      "The combined image is saved as: /XF11ID/analysis/2017_2/hilmar/Results/4ad7d52b-3205-4aaf-8eda-a27f0272d450/uid=4ad7d5_fra_5_5000_g2_b_fit__joint.png\n",
      "The combined image is saved as: /XF11ID/analysis/2017_2/hilmar/Results/4ad7d52b-3205-4aaf-8eda-a27f0272d450/uid=4ad7d5_fra_5_5000_g2_two_g2__joint.png\n",
      "UID: 4ad7d52b-3205-4aaf-8eda-a27f0272d450 is in processing...\n",
      "The two time correlation function for uid=4ad7d52b-3205-4aaf-8eda-a27f0272d450 is already calculated. Just pass...\n",
      "UID: 4ad7d52b-3205-4aaf-8eda-a27f0272d450 is in processing...\n",
      "uid: 4ad7d52b-3205-4aaf-8eda-a27f0272d450--> fra_num_by_dose: [ 156  312  625 1250 2500 3749 4950]\n",
      "The combined image is saved as: /XF11ID/analysis/2017_2/hilmar/Results/4ad7d52b-3205-4aaf-8eda-a27f0272d450/uid=4ad7d5_fra_5_5000_dose_analysis__joint.png\n",
      "The xpcs analysis results are exported to /XF11ID/analysis/2017_2/hilmar/Results/4ad7d52b-3205-4aaf-8eda-a27f0272d450/ with filename as uid=4ad7d52b-3205-4aaf-8eda-a27f0272d450_Res.h5\n",
      "/XF11ID/analysis/2017_2/hilmar/Results/4ad7d52b-3205-4aaf-8eda-a27f0272d450/ 4ad7d5 /XF11ID/analysis/2017_2/hilmar/Results/ XPCS_Analysis_Report_for_uid=4ad7d52b-3205-4aaf-8eda-a27f0272d450_ROI32_.pdf hilmar\n",
      "\n",
      "****************************************\n",
      "The pdf report is created with filename as: /XF11ID/analysis/2017_2/hilmar/Results/XPCS_Analysis_Report_for_uid=4ad7d52b-3205-4aaf-8eda-a27f0272d450_ROI32_.pdf\n",
      "****************************************\n",
      "The url=https://logbook.nsls2.bnl.gov/Olog-11-ID/Olog was successfully updated with Add XPCS Analysis PDF Report and with the attachments\n",
      "**************************************************\n",
      "**************************************************\n",
      "Starting analysis for e91f4418-e25b-4a61-895f-9c5e43299c1a now...\n",
      "The data acquistion finished.\n",
      "Starting to do something here...\n",
      "Results from this analysis will be stashed in the directory /XF11ID/analysis/2017_2/hilmar/Results/\n",
      "****************************************\n",
      "*****The processing uid is: e91f4418-e25b-4a61-895f-9c5e43299c1a*****\n",
      "****************************************\n",
      "Results from this analysis will be stashed in the directory /XF11ID/analysis/2017_2/hilmar/Results/e91f4418-e25b-4a61-895f-9c5e43299c1a/\n",
      "The beam center is: [1093, 999]\n",
      "The data are: Sliced and/or processed EigerImages2. Original repr:\n",
      "    <Frames>\n",
      "    Length: 2000 frames\n",
      "    Frame Shape: 2167 x 2070\n",
      "    Pixel Datatype: uint16\n",
      "The non-zeros photon occupation is 0.0733140274963272.\n",
      "Will Always DO apply compress process.\n",
      "Create a new compress file with filename as :/XF11ID/analysis/Compressed_Data/uid_e91f4418-e25b-4a61-895f-9c5e43299c1a.cmp.\n",
      "Using a multiprocess to compress the data.\n",
      "It will create 20 temporary files for parallel compression.\n",
      "####################No bad frames are involved.\n",
      "Combining the seperated compressed files together...\n",
      "The good_start frame number is: 5 \n",
      "uid=e91f44_fra_5_2000\n",
      "Total time: 1.076 min\n"
     ]
    },
    {
     "name": "stderr",
     "output_type": "stream",
     "text": [
      "/opt/conda_envs/analysis/lib/python3.5/site-packages/chxanalys-unknown-py3.5.egg/chxanalys/chx_generic_functions.py:515: RankWarning: Polyfit may be poorly conditioned\n"
     ]
    },
    {
     "name": "stdout",
     "output_type": "stream",
     "text": [
      "The bad frame list length is: 5\n"
     ]
    },
    {
     "name": "stderr",
     "output_type": "stream",
     "text": [
      "Averaging 1 images: 100%|██████████| 1/1 [00:00<00:00, 343.15it/s]\n",
      "Averaging 1 images: 100%|██████████| 1/1 [00:00<00:00, 39.83it/s]\n",
      "Averaging 1 images: 100%|██████████| 1/1 [00:00<00:00, 20.63it/s]\n"
     ]
    },
    {
     "name": "stdout",
     "output_type": "stream",
     "text": [
      "The file: uid=e91f44_q_Iqt is saved in /XF11ID/analysis/2017_2/hilmar/Results/e91f4418-e25b-4a61-895f-9c5e43299c1a/\n"
     ]
    },
    {
     "name": "stderr",
     "output_type": "stream",
     "text": [
      "Get ROI intensity of each frame: 100%|██████████| 1995/1995 [00:12<00:00, 161.68it/s]\n"
     ]
    },
    {
     "name": "stdout",
     "output_type": "stream",
     "text": [
      "The file: uid=e91f44_t_ROIs is saved in /XF11ID/analysis/2017_2/hilmar/Results/e91f4418-e25b-4a61-895f-9c5e43299c1a/\n",
      "In this g2 calculation, the buf and lev number are: 8--10--\n",
      "5 Bad frames involved and will be discarded!\n",
      "1996 frames will be processed...\n"
     ]
    },
    {
     "name": "stderr",
     "output_type": "stream",
     "text": [
      "\r",
      "  0%|          | 0/32 [00:00<?, ?it/s]"
     ]
    },
    {
     "name": "stdout",
     "output_type": "stream",
     "text": [
      "Starting assign the tasks...\n"
     ]
    },
    {
     "name": "stderr",
     "output_type": "stream",
     "text": [
      "100%|██████████| 32/32 [00:05<00:00,  5.15it/s]\n",
      "  0%|          | 0/32 [00:00<?, ?it/s]"
     ]
    },
    {
     "name": "stdout",
     "output_type": "stream",
     "text": [
      "Starting running the tasks...\n"
     ]
    },
    {
     "name": "stderr",
     "output_type": "stream",
     "text": [
      "100%|██████████| 32/32 [00:25<00:00,  1.25it/s]\n"
     ]
    },
    {
     "name": "stdout",
     "output_type": "stream",
     "text": [
      "G2 calculation DONE!\n",
      "Total time: 1.445 min\n",
      "The correlation function is saved in /XF11ID/analysis/2017_2/hilmar/Results/e91f4418-e25b-4a61-895f-9c5e43299c1a/ with filename as uid=e91f44_fra_5_2000_g2.csv\n",
      "The g2 fitting parameters are saved in /XF11ID/analysis/2017_2/hilmar/Results/e91f4418-e25b-4a61-895f-9c5e43299c1a/uid=e91f44_fra_5_2000_g2_fit_paras.csv\n",
      "The combined image is saved as: /XF11ID/analysis/2017_2/hilmar/Results/e91f4418-e25b-4a61-895f-9c5e43299c1a/uid=e91f44_fra_5_2000_g2_fit__joint.png\n",
      "The fitted diffusion coefficient D0 is:  1.147e+02   A^2S-1\n"
     ]
    },
    {
     "name": "stderr",
     "output_type": "stream",
     "text": [
      "100%|██████████| 1995/1995 [00:10<00:00, 185.02it/s]\n",
      "100%|██████████| 32/32 [01:03<00:00,  3.04s/it]\n"
     ]
    },
    {
     "name": "stdout",
     "output_type": "stream",
     "text": [
      "Total time: 1.071 min\n",
      "Total time: 0.590 sec\n",
      "The correlation function is saved in /XF11ID/analysis/2017_2/hilmar/Results/e91f4418-e25b-4a61-895f-9c5e43299c1a/ with filename as uid=e91f44_fra_5_2000_g2b.csv\n",
      "The g2 fitting parameters are saved in /XF11ID/analysis/2017_2/hilmar/Results/e91f4418-e25b-4a61-895f-9c5e43299c1a/uid=e91f44_fra_5_2000_g2b_fit_paras.csv\n",
      "The fitted diffusion coefficient D0 is:  1.248e+02   A^2S-1\n",
      "The combined image is saved as: /XF11ID/analysis/2017_2/hilmar/Results/e91f4418-e25b-4a61-895f-9c5e43299c1a/uid=e91f44_fra_5_2000_g2_b_fit__joint.png\n",
      "The combined image is saved as: /XF11ID/analysis/2017_2/hilmar/Results/e91f4418-e25b-4a61-895f-9c5e43299c1a/uid=e91f44_fra_5_2000_g2_two_g2__joint.png\n",
      "UID: e91f4418-e25b-4a61-895f-9c5e43299c1a is in processing...\n",
      "The two time correlation function for uid=e91f4418-e25b-4a61-895f-9c5e43299c1a is already calculated. Just pass...\n",
      "UID: e91f4418-e25b-4a61-895f-9c5e43299c1a is in processing...\n",
      "uid: e91f4418-e25b-4a61-895f-9c5e43299c1a--> fra_num_by_dose: [  62  125  250  500 1000 1500 1980]\n",
      "The combined image is saved as: /XF11ID/analysis/2017_2/hilmar/Results/e91f4418-e25b-4a61-895f-9c5e43299c1a/uid=e91f44_fra_5_2000_dose_analysis__joint.png\n",
      "The xpcs analysis results are exported to /XF11ID/analysis/2017_2/hilmar/Results/e91f4418-e25b-4a61-895f-9c5e43299c1a/ with filename as uid=e91f4418-e25b-4a61-895f-9c5e43299c1a_Res.h5\n",
      "/XF11ID/analysis/2017_2/hilmar/Results/e91f4418-e25b-4a61-895f-9c5e43299c1a/ e91f44 /XF11ID/analysis/2017_2/hilmar/Results/ XPCS_Analysis_Report_for_uid=e91f4418-e25b-4a61-895f-9c5e43299c1a_ROI32_.pdf hilmar\n",
      "\n",
      "****************************************\n",
      "The pdf report is created with filename as: /XF11ID/analysis/2017_2/hilmar/Results/XPCS_Analysis_Report_for_uid=e91f4418-e25b-4a61-895f-9c5e43299c1a_ROI32_.pdf\n",
      "****************************************\n",
      "The url=https://logbook.nsls2.bnl.gov/Olog-11-ID/Olog was successfully updated with Add XPCS Analysis PDF Report and with the attachments\n",
      "**************************************************\n",
      "**************************************************\n",
      "Starting analysis for 953f5eda-c15e-4848-af10-10341fdc580d now...\n",
      "The data acquistion finished.\n",
      "Starting to do something here...\n",
      "Results from this analysis will be stashed in the directory /XF11ID/analysis/2017_2/hilmar/Results/\n",
      "****************************************\n",
      "*****The processing uid is: 953f5eda-c15e-4848-af10-10341fdc580d*****\n",
      "****************************************\n",
      "Results from this analysis will be stashed in the directory /XF11ID/analysis/2017_2/hilmar/Results/953f5eda-c15e-4848-af10-10341fdc580d/\n",
      "The beam center is: [1093, 999]\n",
      "The data are: Sliced and/or processed EigerImages2. Original repr:\n",
      "    <Frames>\n",
      "    Length: 2000 frames\n",
      "    Frame Shape: 2167 x 2070\n",
      "    Pixel Datatype: uint16\n",
      "The non-zeros photon occupation is 0.26607210930759817.\n",
      "Will Always DO apply compress process.\n",
      "Create a new compress file with filename as :/XF11ID/analysis/Compressed_Data/uid_953f5eda-c15e-4848-af10-10341fdc580d.cmp.\n",
      "Using a multiprocess to compress the data.\n",
      "It will create 20 temporary files for parallel compression.\n",
      "####################No bad frames are involved.\n",
      "Combining the seperated compressed files together...\n",
      "The good_start frame number is: 5 \n",
      "uid=953f5e_fra_5_2000\n",
      "Total time: 1.703 min\n"
     ]
    },
    {
     "name": "stderr",
     "output_type": "stream",
     "text": [
      "/opt/conda_envs/analysis/lib/python3.5/site-packages/chxanalys-unknown-py3.5.egg/chxanalys/chx_generic_functions.py:515: RankWarning: Polyfit may be poorly conditioned\n"
     ]
    },
    {
     "name": "stdout",
     "output_type": "stream",
     "text": [
      "The bad frame list length is: 5\n"
     ]
    },
    {
     "name": "stderr",
     "output_type": "stream",
     "text": [
      "Averaging 1 images: 100%|██████████| 1/1 [00:00<00:00, 72.73it/s]\n",
      "Averaging 1 images: 100%|██████████| 1/1 [00:00<00:00, 19.58it/s]\n",
      "Averaging 1 images: 100%|██████████| 1/1 [00:00<00:00, 16.40it/s]\n"
     ]
    },
    {
     "name": "stdout",
     "output_type": "stream",
     "text": [
      "The file: uid=953f5e_q_Iqt is saved in /XF11ID/analysis/2017_2/hilmar/Results/953f5eda-c15e-4848-af10-10341fdc580d/\n"
     ]
    },
    {
     "name": "stderr",
     "output_type": "stream",
     "text": [
      "Get ROI intensity of each frame: 100%|██████████| 1995/1995 [00:28<00:00, 86.45it/s]\n"
     ]
    },
    {
     "name": "stdout",
     "output_type": "stream",
     "text": [
      "The file: uid=953f5e_t_ROIs is saved in /XF11ID/analysis/2017_2/hilmar/Results/953f5eda-c15e-4848-af10-10341fdc580d/\n",
      "In this g2 calculation, the buf and lev number are: 8--10--\n",
      "5 Bad frames involved and will be discarded!\n",
      "1996 frames will be processed...\n"
     ]
    },
    {
     "name": "stderr",
     "output_type": "stream",
     "text": [
      "\r",
      "  0%|          | 0/32 [00:00<?, ?it/s]"
     ]
    },
    {
     "name": "stdout",
     "output_type": "stream",
     "text": [
      "Starting assign the tasks...\n"
     ]
    },
    {
     "name": "stderr",
     "output_type": "stream",
     "text": [
      "100%|██████████| 32/32 [00:06<00:00,  4.09it/s]\n",
      "  0%|          | 0/32 [00:00<?, ?it/s]"
     ]
    },
    {
     "name": "stdout",
     "output_type": "stream",
     "text": [
      "Starting running the tasks...\n"
     ]
    },
    {
     "name": "stderr",
     "output_type": "stream",
     "text": [
      "100%|██████████| 32/32 [00:54<00:00,  1.70s/it]\n"
     ]
    },
    {
     "name": "stdout",
     "output_type": "stream",
     "text": [
      "G2 calculation DONE!\n",
      "Total time: 1.985 min\n",
      "The correlation function is saved in /XF11ID/analysis/2017_2/hilmar/Results/953f5eda-c15e-4848-af10-10341fdc580d/ with filename as uid=953f5e_fra_5_2000_g2.csv\n",
      "The g2 fitting parameters are saved in /XF11ID/analysis/2017_2/hilmar/Results/953f5eda-c15e-4848-af10-10341fdc580d/uid=953f5e_fra_5_2000_g2_fit_paras.csv\n",
      "The combined image is saved as: /XF11ID/analysis/2017_2/hilmar/Results/953f5eda-c15e-4848-af10-10341fdc580d/uid=953f5e_fra_5_2000_g2_fit__joint.png\n",
      "The fitted diffusion coefficient D0 is:  5.318e+01   A^2S-1\n"
     ]
    },
    {
     "name": "stderr",
     "output_type": "stream",
     "text": [
      "100%|██████████| 1995/1995 [00:32<00:00, 61.52it/s]\n",
      "100%|██████████| 32/32 [01:04<00:00,  2.99s/it]\n"
     ]
    },
    {
     "name": "stdout",
     "output_type": "stream",
     "text": [
      "Total time: 1.087 min\n",
      "Total time: 0.637 sec\n",
      "The correlation function is saved in /XF11ID/analysis/2017_2/hilmar/Results/953f5eda-c15e-4848-af10-10341fdc580d/ with filename as uid=953f5e_fra_5_2000_g2b.csv\n",
      "The g2 fitting parameters are saved in /XF11ID/analysis/2017_2/hilmar/Results/953f5eda-c15e-4848-af10-10341fdc580d/uid=953f5e_fra_5_2000_g2b_fit_paras.csv\n",
      "The fitted diffusion coefficient D0 is:  5.360e+01   A^2S-1\n",
      "The combined image is saved as: /XF11ID/analysis/2017_2/hilmar/Results/953f5eda-c15e-4848-af10-10341fdc580d/uid=953f5e_fra_5_2000_g2_b_fit__joint.png\n",
      "The combined image is saved as: /XF11ID/analysis/2017_2/hilmar/Results/953f5eda-c15e-4848-af10-10341fdc580d/uid=953f5e_fra_5_2000_g2_two_g2__joint.png\n",
      "UID: 953f5eda-c15e-4848-af10-10341fdc580d is in processing...\n",
      "The two time correlation function for uid=953f5eda-c15e-4848-af10-10341fdc580d is already calculated. Just pass...\n",
      "UID: 953f5eda-c15e-4848-af10-10341fdc580d is in processing...\n",
      "uid: 953f5eda-c15e-4848-af10-10341fdc580d--> fra_num_by_dose: [  62  125  250  500 1000 1500 1980]\n",
      "The combined image is saved as: /XF11ID/analysis/2017_2/hilmar/Results/953f5eda-c15e-4848-af10-10341fdc580d/uid=953f5e_fra_5_2000_dose_analysis__joint.png\n",
      "The xpcs analysis results are exported to /XF11ID/analysis/2017_2/hilmar/Results/953f5eda-c15e-4848-af10-10341fdc580d/ with filename as uid=953f5eda-c15e-4848-af10-10341fdc580d_Res.h5\n",
      "/XF11ID/analysis/2017_2/hilmar/Results/953f5eda-c15e-4848-af10-10341fdc580d/ 953f5e /XF11ID/analysis/2017_2/hilmar/Results/ XPCS_Analysis_Report_for_uid=953f5eda-c15e-4848-af10-10341fdc580d_ROI32_.pdf hilmar\n",
      "\n",
      "****************************************\n",
      "The pdf report is created with filename as: /XF11ID/analysis/2017_2/hilmar/Results/XPCS_Analysis_Report_for_uid=953f5eda-c15e-4848-af10-10341fdc580d_ROI32_.pdf\n",
      "****************************************\n",
      "The url=https://logbook.nsls2.bnl.gov/Olog-11-ID/Olog was successfully updated with Add XPCS Analysis PDF Report and with the attachments\n",
      "**************************************************\n",
      "**************************************************\n",
      "Starting analysis for 97d800c9-b1db-464d-a9cd-23f8e70f5248 now...\n",
      "The data acquistion finished.\n",
      "Starting to do something here...\n",
      "Results from this analysis will be stashed in the directory /XF11ID/analysis/2017_2/hilmar/Results/\n",
      "****************************************\n",
      "*****The processing uid is: 97d800c9-b1db-464d-a9cd-23f8e70f5248*****\n",
      "****************************************\n",
      "Results from this analysis will be stashed in the directory /XF11ID/analysis/2017_2/hilmar/Results/97d800c9-b1db-464d-a9cd-23f8e70f5248/\n",
      "The beam center is: [1093, 999]\n",
      "The data are: Sliced and/or processed EigerImages2. Original repr:\n",
      "    <Frames>\n",
      "    Length: 5000 frames\n",
      "    Frame Shape: 2167 x 2070\n",
      "    Pixel Datatype: uint32\n",
      "The non-zeros photon occupation is 0.2828494612868923.\n",
      "Will Always DO apply compress process.\n",
      "Create a new compress file with filename as :/XF11ID/analysis/Compressed_Data/uid_97d800c9-b1db-464d-a9cd-23f8e70f5248.cmp.\n",
      "Using a multiprocess to compress the data.\n",
      "It will create 50 temporary files for parallel compression.\n",
      "##################################################No bad frames are involved.\n",
      "Combining the seperated compressed files together...\n",
      "The good_start frame number is: 5 \n",
      "uid=97d800_fra_5_5000\n",
      "Total time: 3.644 min\n"
     ]
    },
    {
     "name": "stderr",
     "output_type": "stream",
     "text": [
      "/opt/conda_envs/analysis/lib/python3.5/site-packages/chxanalys-unknown-py3.5.egg/chxanalys/chx_generic_functions.py:515: RankWarning: Polyfit may be poorly conditioned\n"
     ]
    },
    {
     "name": "stdout",
     "output_type": "stream",
     "text": [
      "The bad frame list length is: 11\n"
     ]
    },
    {
     "name": "stderr",
     "output_type": "stream",
     "text": [
      "Averaging 1 images: 100%|██████████| 1/1 [00:00<00:00, 60.77it/s]\n",
      "Averaging 1 images: 100%|██████████| 1/1 [00:00<00:00, 14.00it/s]\n",
      "Averaging 1 images: 100%|██████████| 1/1 [00:00<00:00,  7.42it/s]\n"
     ]
    },
    {
     "name": "stdout",
     "output_type": "stream",
     "text": [
      "The file: uid=97d800_q_Iqt is saved in /XF11ID/analysis/2017_2/hilmar/Results/97d800c9-b1db-464d-a9cd-23f8e70f5248/\n"
     ]
    },
    {
     "name": "stderr",
     "output_type": "stream",
     "text": [
      "Get ROI intensity of each frame: 100%|██████████| 4995/4995 [02:24<00:00, 34.68it/s]\n"
     ]
    },
    {
     "name": "stdout",
     "output_type": "stream",
     "text": [
      "The file: uid=97d800_t_ROIs is saved in /XF11ID/analysis/2017_2/hilmar/Results/97d800c9-b1db-464d-a9cd-23f8e70f5248/\n",
      "In this g2 calculation, the buf and lev number are: 8--11--\n",
      "11 Bad frames involved and will be discarded!\n",
      "4990 frames will be processed...\n"
     ]
    },
    {
     "name": "stderr",
     "output_type": "stream",
     "text": [
      "\r",
      "  0%|          | 0/32 [00:00<?, ?it/s]"
     ]
    },
    {
     "name": "stdout",
     "output_type": "stream",
     "text": [
      "Starting assign the tasks...\n"
     ]
    },
    {
     "name": "stderr",
     "output_type": "stream",
     "text": [
      "100%|██████████| 32/32 [00:07<00:00,  4.01it/s]\n",
      "  0%|          | 0/32 [00:00<?, ?it/s]"
     ]
    },
    {
     "name": "stdout",
     "output_type": "stream",
     "text": [
      "Starting running the tasks...\n"
     ]
    },
    {
     "name": "stderr",
     "output_type": "stream",
     "text": [
      "100%|██████████| 32/32 [03:07<00:00,  5.85s/it]  \n"
     ]
    },
    {
     "name": "stdout",
     "output_type": "stream",
     "text": [
      "G2 calculation DONE!\n",
      "Total time: 4.956 min\n",
      "The correlation function is saved in /XF11ID/analysis/2017_2/hilmar/Results/97d800c9-b1db-464d-a9cd-23f8e70f5248/ with filename as uid=97d800_fra_5_5000_g2.csv\n",
      "The g2 fitting parameters are saved in /XF11ID/analysis/2017_2/hilmar/Results/97d800c9-b1db-464d-a9cd-23f8e70f5248/uid=97d800_fra_5_5000_g2_fit_paras.csv\n",
      "The combined image is saved as: /XF11ID/analysis/2017_2/hilmar/Results/97d800c9-b1db-464d-a9cd-23f8e70f5248/uid=97d800_fra_5_5000_g2_fit__joint.png\n",
      "The fitted diffusion coefficient D0 is:  2.853e+01   A^2S-1\n"
     ]
    },
    {
     "name": "stderr",
     "output_type": "stream",
     "text": [
      "100%|██████████| 4995/4995 [02:20<00:00, 35.50it/s]\n",
      "100%|██████████| 32/32 [03:57<00:00, 10.58s/it]\n"
     ]
    },
    {
     "name": "stdout",
     "output_type": "stream",
     "text": [
      "Total time: 4.006 min\n",
      "Total time: 2.596 sec\n",
      "The correlation function is saved in /XF11ID/analysis/2017_2/hilmar/Results/97d800c9-b1db-464d-a9cd-23f8e70f5248/ with filename as uid=97d800_fra_5_5000_g2b.csv\n",
      "The g2 fitting parameters are saved in /XF11ID/analysis/2017_2/hilmar/Results/97d800c9-b1db-464d-a9cd-23f8e70f5248/uid=97d800_fra_5_5000_g2b_fit_paras.csv\n",
      "The fitted diffusion coefficient D0 is:  2.884e+01   A^2S-1\n",
      "The combined image is saved as: /XF11ID/analysis/2017_2/hilmar/Results/97d800c9-b1db-464d-a9cd-23f8e70f5248/uid=97d800_fra_5_5000_g2_b_fit__joint.png\n",
      "The combined image is saved as: /XF11ID/analysis/2017_2/hilmar/Results/97d800c9-b1db-464d-a9cd-23f8e70f5248/uid=97d800_fra_5_5000_g2_two_g2__joint.png\n",
      "UID: 97d800c9-b1db-464d-a9cd-23f8e70f5248 is in processing...\n",
      "The two time correlation function for uid=97d800c9-b1db-464d-a9cd-23f8e70f5248 is already calculated. Just pass...\n",
      "UID: 97d800c9-b1db-464d-a9cd-23f8e70f5248 is in processing...\n",
      "uid: 97d800c9-b1db-464d-a9cd-23f8e70f5248--> fra_num_by_dose: [ 156  312  625 1250 2500 3749 4950]\n",
      "The combined image is saved as: /XF11ID/analysis/2017_2/hilmar/Results/97d800c9-b1db-464d-a9cd-23f8e70f5248/uid=97d800_fra_5_5000_dose_analysis__joint.png\n",
      "The xpcs analysis results are exported to /XF11ID/analysis/2017_2/hilmar/Results/97d800c9-b1db-464d-a9cd-23f8e70f5248/ with filename as uid=97d800c9-b1db-464d-a9cd-23f8e70f5248_Res.h5\n",
      "/XF11ID/analysis/2017_2/hilmar/Results/97d800c9-b1db-464d-a9cd-23f8e70f5248/ 97d800 /XF11ID/analysis/2017_2/hilmar/Results/ XPCS_Analysis_Report_for_uid=97d800c9-b1db-464d-a9cd-23f8e70f5248_ROI32_.pdf hilmar\n",
      "\n",
      "****************************************\n",
      "The pdf report is created with filename as: /XF11ID/analysis/2017_2/hilmar/Results/XPCS_Analysis_Report_for_uid=97d800c9-b1db-464d-a9cd-23f8e70f5248_ROI32_.pdf\n",
      "****************************************\n",
      "The url=https://logbook.nsls2.bnl.gov/Olog-11-ID/Olog was successfully updated with Add XPCS Analysis PDF Report and with the attachments\n",
      "**************************************************\n",
      "**************************************************\n",
      "Starting analysis for 8ca4cfbe-9227-4454-809a-9c36bff7355e now...\n",
      "The data acquistion finished.\n",
      "Starting to do something here...\n",
      "Results from this analysis will be stashed in the directory /XF11ID/analysis/2017_2/hilmar/Results/\n",
      "****************************************\n",
      "*****The processing uid is: 8ca4cfbe-9227-4454-809a-9c36bff7355e*****\n",
      "****************************************\n",
      "Results from this analysis will be stashed in the directory /XF11ID/analysis/2017_2/hilmar/Results/8ca4cfbe-9227-4454-809a-9c36bff7355e/\n",
      "The beam center is: [1093, 999]\n",
      "The data are: Sliced and/or processed EigerImages2. Original repr:\n",
      "    <Frames>\n",
      "    Length: 2000 frames\n",
      "    Frame Shape: 2167 x 2070\n",
      "    Pixel Datatype: uint16\n",
      "The non-zeros photon occupation is 0.07411011460890075.\n",
      "Will Always DO apply compress process.\n",
      "Create a new compress file with filename as :/XF11ID/analysis/Compressed_Data/uid_8ca4cfbe-9227-4454-809a-9c36bff7355e.cmp.\n",
      "Using a multiprocess to compress the data.\n",
      "It will create 20 temporary files for parallel compression.\n",
      "####################No bad frames are involved.\n",
      "Combining the seperated compressed files together...\n",
      "The good_start frame number is: 5 \n",
      "uid=8ca4cf_fra_5_2000\n",
      "Total time: 1.381 min\n"
     ]
    },
    {
     "name": "stderr",
     "output_type": "stream",
     "text": [
      "/opt/conda_envs/analysis/lib/python3.5/site-packages/chxanalys-unknown-py3.5.egg/chxanalys/chx_generic_functions.py:515: RankWarning: Polyfit may be poorly conditioned\n"
     ]
    },
    {
     "name": "stdout",
     "output_type": "stream",
     "text": [
      "The bad frame list length is: 5\n"
     ]
    },
    {
     "name": "stderr",
     "output_type": "stream",
     "text": [
      "Averaging 1 images: 100%|██████████| 1/1 [00:00<00:00, 227.51it/s]\n",
      "Averaging 1 images: 100%|██████████| 1/1 [00:00<00:00, 37.10it/s]\n",
      "Averaging 1 images: 100%|██████████| 1/1 [00:00<00:00, 20.49it/s]\n"
     ]
    },
    {
     "name": "stdout",
     "output_type": "stream",
     "text": [
      "The file: uid=8ca4cf_q_Iqt is saved in /XF11ID/analysis/2017_2/hilmar/Results/8ca4cfbe-9227-4454-809a-9c36bff7355e/\n"
     ]
    },
    {
     "name": "stderr",
     "output_type": "stream",
     "text": [
      "Get ROI intensity of each frame: 100%|██████████| 1995/1995 [00:08<00:00, 235.16it/s]\n"
     ]
    },
    {
     "name": "stdout",
     "output_type": "stream",
     "text": [
      "The file: uid=8ca4cf_t_ROIs is saved in /XF11ID/analysis/2017_2/hilmar/Results/8ca4cfbe-9227-4454-809a-9c36bff7355e/\n",
      "In this g2 calculation, the buf and lev number are: 8--10--\n",
      "5 Bad frames involved and will be discarded!\n",
      "1996 frames will be processed...\n"
     ]
    },
    {
     "name": "stderr",
     "output_type": "stream",
     "text": [
      "\r",
      "  0%|          | 0/32 [00:00<?, ?it/s]"
     ]
    },
    {
     "name": "stdout",
     "output_type": "stream",
     "text": [
      "Starting assign the tasks...\n"
     ]
    },
    {
     "name": "stderr",
     "output_type": "stream",
     "text": [
      "100%|██████████| 32/32 [00:05<00:00,  5.46it/s]\n",
      "  0%|          | 0/32 [00:00<?, ?it/s]"
     ]
    },
    {
     "name": "stdout",
     "output_type": "stream",
     "text": [
      "Starting running the tasks...\n"
     ]
    },
    {
     "name": "stderr",
     "output_type": "stream",
     "text": [
      "100%|██████████| 32/32 [00:28<00:00,  1.11it/s]\n"
     ]
    },
    {
     "name": "stdout",
     "output_type": "stream",
     "text": [
      "G2 calculation DONE!\n",
      "Total time: 1.982 min\n",
      "The correlation function is saved in /XF11ID/analysis/2017_2/hilmar/Results/8ca4cfbe-9227-4454-809a-9c36bff7355e/ with filename as uid=8ca4cf_fra_5_2000_g2.csv\n",
      "The g2 fitting parameters are saved in /XF11ID/analysis/2017_2/hilmar/Results/8ca4cfbe-9227-4454-809a-9c36bff7355e/uid=8ca4cf_fra_5_2000_g2_fit_paras.csv\n",
      "The combined image is saved as: /XF11ID/analysis/2017_2/hilmar/Results/8ca4cfbe-9227-4454-809a-9c36bff7355e/uid=8ca4cf_fra_5_2000_g2_fit__joint.png\n",
      "The fitted diffusion coefficient D0 is:  6.853e+01   A^2S-1\n"
     ]
    },
    {
     "name": "stderr",
     "output_type": "stream",
     "text": [
      "100%|██████████| 1995/1995 [00:18<00:00, 109.31it/s]\n",
      "100%|██████████| 32/32 [01:04<00:00,  3.03s/it]\n"
     ]
    },
    {
     "name": "stdout",
     "output_type": "stream",
     "text": [
      "Total time: 1.087 min\n",
      "Total time: 0.705 sec\n",
      "The correlation function is saved in /XF11ID/analysis/2017_2/hilmar/Results/8ca4cfbe-9227-4454-809a-9c36bff7355e/ with filename as uid=8ca4cf_fra_5_2000_g2b.csv\n",
      "The g2 fitting parameters are saved in /XF11ID/analysis/2017_2/hilmar/Results/8ca4cfbe-9227-4454-809a-9c36bff7355e/uid=8ca4cf_fra_5_2000_g2b_fit_paras.csv\n",
      "The fitted diffusion coefficient D0 is:  7.008e+01   A^2S-1\n",
      "The combined image is saved as: /XF11ID/analysis/2017_2/hilmar/Results/8ca4cfbe-9227-4454-809a-9c36bff7355e/uid=8ca4cf_fra_5_2000_g2_b_fit__joint.png\n",
      "The combined image is saved as: /XF11ID/analysis/2017_2/hilmar/Results/8ca4cfbe-9227-4454-809a-9c36bff7355e/uid=8ca4cf_fra_5_2000_g2_two_g2__joint.png\n",
      "UID: 8ca4cfbe-9227-4454-809a-9c36bff7355e is in processing...\n",
      "The two time correlation function for uid=8ca4cfbe-9227-4454-809a-9c36bff7355e is already calculated. Just pass...\n",
      "UID: 8ca4cfbe-9227-4454-809a-9c36bff7355e is in processing...\n",
      "uid: 8ca4cfbe-9227-4454-809a-9c36bff7355e--> fra_num_by_dose: [  62  125  250  500 1000 1500 1980]\n",
      "The combined image is saved as: /XF11ID/analysis/2017_2/hilmar/Results/8ca4cfbe-9227-4454-809a-9c36bff7355e/uid=8ca4cf_fra_5_2000_dose_analysis__joint.png\n",
      "The xpcs analysis results are exported to /XF11ID/analysis/2017_2/hilmar/Results/8ca4cfbe-9227-4454-809a-9c36bff7355e/ with filename as uid=8ca4cfbe-9227-4454-809a-9c36bff7355e_Res.h5\n",
      "/XF11ID/analysis/2017_2/hilmar/Results/8ca4cfbe-9227-4454-809a-9c36bff7355e/ 8ca4cf /XF11ID/analysis/2017_2/hilmar/Results/ XPCS_Analysis_Report_for_uid=8ca4cfbe-9227-4454-809a-9c36bff7355e_ROI32_.pdf hilmar\n",
      "\n",
      "****************************************\n",
      "The pdf report is created with filename as: /XF11ID/analysis/2017_2/hilmar/Results/XPCS_Analysis_Report_for_uid=8ca4cfbe-9227-4454-809a-9c36bff7355e_ROI32_.pdf\n",
      "****************************************\n",
      "The url=https://logbook.nsls2.bnl.gov/Olog-11-ID/Olog was successfully updated with Add XPCS Analysis PDF Report and with the attachments\n",
      "**************************************************\n",
      "**************************************************\n",
      "Starting analysis for 084631b6-58c2-420a-a0ce-18f53770556e now...\n",
      "The data acquistion finished.\n",
      "Starting to do something here...\n",
      "Results from this analysis will be stashed in the directory /XF11ID/analysis/2017_2/hilmar/Results/\n",
      "****************************************\n",
      "*****The processing uid is: 084631b6-58c2-420a-a0ce-18f53770556e*****\n",
      "****************************************\n",
      "Results from this analysis will be stashed in the directory /XF11ID/analysis/2017_2/hilmar/Results/084631b6-58c2-420a-a0ce-18f53770556e/\n",
      "The beam center is: [1093, 999]\n",
      "The data are: Sliced and/or processed EigerImages2. Original repr:\n",
      "    <Frames>\n",
      "    Length: 2000 frames\n",
      "    Frame Shape: 2167 x 2070\n",
      "    Pixel Datatype: uint16\n",
      "The non-zeros photon occupation is 0.2637172876413662.\n",
      "Will Always DO apply compress process.\n",
      "Create a new compress file with filename as :/XF11ID/analysis/Compressed_Data/uid_084631b6-58c2-420a-a0ce-18f53770556e.cmp.\n",
      "Using a multiprocess to compress the data.\n",
      "It will create 20 temporary files for parallel compression.\n",
      "####################No bad frames are involved.\n",
      "Combining the seperated compressed files together...\n",
      "The good_start frame number is: 5 \n",
      "uid=084631_fra_5_2000\n",
      "Total time: 1.338 min\n"
     ]
    },
    {
     "name": "stderr",
     "output_type": "stream",
     "text": [
      "/opt/conda_envs/analysis/lib/python3.5/site-packages/chxanalys-unknown-py3.5.egg/chxanalys/chx_generic_functions.py:515: RankWarning: Polyfit may be poorly conditioned\n"
     ]
    },
    {
     "name": "stdout",
     "output_type": "stream",
     "text": [
      "The bad frame list length is: 5\n"
     ]
    },
    {
     "name": "stderr",
     "output_type": "stream",
     "text": [
      "Averaging 1 images: 100%|██████████| 1/1 [00:00<00:00, 78.42it/s]\n",
      "Averaging 1 images: 100%|██████████| 1/1 [00:00<00:00, 30.54it/s]\n",
      "Averaging 1 images: 100%|██████████| 1/1 [00:00<00:00, 18.71it/s]\n"
     ]
    },
    {
     "name": "stdout",
     "output_type": "stream",
     "text": [
      "The file: uid=084631_q_Iqt is saved in /XF11ID/analysis/2017_2/hilmar/Results/084631b6-58c2-420a-a0ce-18f53770556e/\n"
     ]
    },
    {
     "name": "stderr",
     "output_type": "stream",
     "text": [
      "Get ROI intensity of each frame: 100%|██████████| 1995/1995 [00:23<00:00, 83.71it/s]\n"
     ]
    },
    {
     "name": "stdout",
     "output_type": "stream",
     "text": [
      "The file: uid=084631_t_ROIs is saved in /XF11ID/analysis/2017_2/hilmar/Results/084631b6-58c2-420a-a0ce-18f53770556e/\n",
      "In this g2 calculation, the buf and lev number are: 8--10--\n",
      "5 Bad frames involved and will be discarded!\n",
      "1996 frames will be processed...\n"
     ]
    },
    {
     "name": "stderr",
     "output_type": "stream",
     "text": [
      "\r",
      "  0%|          | 0/32 [00:00<?, ?it/s]"
     ]
    },
    {
     "name": "stdout",
     "output_type": "stream",
     "text": [
      "Starting assign the tasks...\n"
     ]
    },
    {
     "name": "stderr",
     "output_type": "stream",
     "text": [
      "100%|██████████| 32/32 [00:06<00:00,  3.74it/s]\n",
      "  0%|          | 0/32 [00:00<?, ?it/s]"
     ]
    },
    {
     "name": "stdout",
     "output_type": "stream",
     "text": [
      "Starting running the tasks...\n"
     ]
    },
    {
     "name": "stderr",
     "output_type": "stream",
     "text": [
      "100%|██████████| 32/32 [01:02<00:00,  1.94s/it]\n"
     ]
    },
    {
     "name": "stdout",
     "output_type": "stream",
     "text": [
      "G2 calculation DONE!\n",
      "Total time: 1.602 min\n",
      "The correlation function is saved in /XF11ID/analysis/2017_2/hilmar/Results/084631b6-58c2-420a-a0ce-18f53770556e/ with filename as uid=084631_fra_5_2000_g2.csv\n",
      "The g2 fitting parameters are saved in /XF11ID/analysis/2017_2/hilmar/Results/084631b6-58c2-420a-a0ce-18f53770556e/uid=084631_fra_5_2000_g2_fit_paras.csv\n",
      "The combined image is saved as: /XF11ID/analysis/2017_2/hilmar/Results/084631b6-58c2-420a-a0ce-18f53770556e/uid=084631_fra_5_2000_g2_fit__joint.png\n",
      "The fitted diffusion coefficient D0 is:  3.936e+01   A^2S-1\n"
     ]
    },
    {
     "name": "stderr",
     "output_type": "stream",
     "text": [
      "100%|██████████| 1995/1995 [00:33<00:00, 60.40it/s]\n",
      "100%|██████████| 32/32 [01:04<00:00,  2.96s/it]\n"
     ]
    },
    {
     "name": "stdout",
     "output_type": "stream",
     "text": [
      "Total time: 1.084 min\n",
      "Total time: 0.700 sec\n",
      "The correlation function is saved in /XF11ID/analysis/2017_2/hilmar/Results/084631b6-58c2-420a-a0ce-18f53770556e/ with filename as uid=084631_fra_5_2000_g2b.csv\n",
      "The g2 fitting parameters are saved in /XF11ID/analysis/2017_2/hilmar/Results/084631b6-58c2-420a-a0ce-18f53770556e/uid=084631_fra_5_2000_g2b_fit_paras.csv\n",
      "The fitted diffusion coefficient D0 is:  3.954e+01   A^2S-1\n",
      "The combined image is saved as: /XF11ID/analysis/2017_2/hilmar/Results/084631b6-58c2-420a-a0ce-18f53770556e/uid=084631_fra_5_2000_g2_b_fit__joint.png\n",
      "The combined image is saved as: /XF11ID/analysis/2017_2/hilmar/Results/084631b6-58c2-420a-a0ce-18f53770556e/uid=084631_fra_5_2000_g2_two_g2__joint.png\n",
      "UID: 084631b6-58c2-420a-a0ce-18f53770556e is in processing...\n",
      "The two time correlation function for uid=084631b6-58c2-420a-a0ce-18f53770556e is already calculated. Just pass...\n",
      "UID: 084631b6-58c2-420a-a0ce-18f53770556e is in processing...\n",
      "uid: 084631b6-58c2-420a-a0ce-18f53770556e--> fra_num_by_dose: [  62  125  250  500 1000 1500 1980]\n",
      "The combined image is saved as: /XF11ID/analysis/2017_2/hilmar/Results/084631b6-58c2-420a-a0ce-18f53770556e/uid=084631_fra_5_2000_dose_analysis__joint.png\n",
      "The xpcs analysis results are exported to /XF11ID/analysis/2017_2/hilmar/Results/084631b6-58c2-420a-a0ce-18f53770556e/ with filename as uid=084631b6-58c2-420a-a0ce-18f53770556e_Res.h5\n",
      "/XF11ID/analysis/2017_2/hilmar/Results/084631b6-58c2-420a-a0ce-18f53770556e/ 084631 /XF11ID/analysis/2017_2/hilmar/Results/ XPCS_Analysis_Report_for_uid=084631b6-58c2-420a-a0ce-18f53770556e_ROI32_.pdf hilmar\n",
      "\n",
      "****************************************\n",
      "The pdf report is created with filename as: /XF11ID/analysis/2017_2/hilmar/Results/XPCS_Analysis_Report_for_uid=084631b6-58c2-420a-a0ce-18f53770556e_ROI32_.pdf\n",
      "****************************************\n",
      "The url=https://logbook.nsls2.bnl.gov/Olog-11-ID/Olog was successfully updated with Add XPCS Analysis PDF Report and with the attachments\n",
      "**************************************************\n",
      "**************************************************\n",
      "Starting analysis for 04a7e2dd-27f9-4320-a736-46e30138c84c now...\n",
      "The data acquistion finished.\n",
      "Starting to do something here...\n",
      "Results from this analysis will be stashed in the directory /XF11ID/analysis/2017_2/hilmar/Results/\n",
      "****************************************\n",
      "*****The processing uid is: 04a7e2dd-27f9-4320-a736-46e30138c84c*****\n",
      "****************************************\n",
      "Results from this analysis will be stashed in the directory /XF11ID/analysis/2017_2/hilmar/Results/04a7e2dd-27f9-4320-a736-46e30138c84c/\n",
      "The beam center is: [1093, 999]\n",
      "The data are: Sliced and/or processed EigerImages2. Original repr:\n",
      "    <Frames>\n",
      "    Length: 5000 frames\n",
      "    Frame Shape: 2167 x 2070\n",
      "    Pixel Datatype: uint32\n",
      "The non-zeros photon occupation is 0.2805546080981967.\n",
      "Will Always DO apply compress process.\n",
      "Create a new compress file with filename as :/XF11ID/analysis/Compressed_Data/uid_04a7e2dd-27f9-4320-a736-46e30138c84c.cmp.\n",
      "Using a multiprocess to compress the data.\n",
      "It will create 50 temporary files for parallel compression.\n",
      "##################################################No bad frames are involved.\n",
      "Combining the seperated compressed files together...\n",
      "The good_start frame number is: 5 \n",
      "uid=04a7e2_fra_5_5000\n",
      "Total time: 2.941 min\n"
     ]
    },
    {
     "name": "stderr",
     "output_type": "stream",
     "text": [
      "/opt/conda_envs/analysis/lib/python3.5/site-packages/chxanalys-unknown-py3.5.egg/chxanalys/chx_generic_functions.py:515: RankWarning: Polyfit may be poorly conditioned\n"
     ]
    },
    {
     "name": "stdout",
     "output_type": "stream",
     "text": [
      "The bad frame list length is: 11\n"
     ]
    },
    {
     "name": "stderr",
     "output_type": "stream",
     "text": [
      "Averaging 1 images: 100%|██████████| 1/1 [00:00<00:00, 70.08it/s]\n",
      "Averaging 1 images: 100%|██████████| 1/1 [00:00<00:00, 13.75it/s]\n",
      "Averaging 1 images: 100%|██████████| 1/1 [00:00<00:00,  4.68it/s]\n"
     ]
    },
    {
     "name": "stdout",
     "output_type": "stream",
     "text": [
      "The file: uid=04a7e2_q_Iqt is saved in /XF11ID/analysis/2017_2/hilmar/Results/04a7e2dd-27f9-4320-a736-46e30138c84c/\n"
     ]
    },
    {
     "name": "stderr",
     "output_type": "stream",
     "text": [
      "Get ROI intensity of each frame: 100%|██████████| 4995/4995 [02:37<00:00, 31.65it/s]\n"
     ]
    },
    {
     "name": "stdout",
     "output_type": "stream",
     "text": [
      "The file: uid=04a7e2_t_ROIs is saved in /XF11ID/analysis/2017_2/hilmar/Results/04a7e2dd-27f9-4320-a736-46e30138c84c/\n",
      "In this g2 calculation, the buf and lev number are: 8--11--\n",
      "11 Bad frames involved and will be discarded!\n",
      "4990 frames will be processed...\n"
     ]
    },
    {
     "name": "stderr",
     "output_type": "stream",
     "text": [
      "\r",
      "  0%|          | 0/32 [00:00<?, ?it/s]"
     ]
    },
    {
     "name": "stdout",
     "output_type": "stream",
     "text": [
      "Starting assign the tasks...\n"
     ]
    },
    {
     "name": "stderr",
     "output_type": "stream",
     "text": [
      "100%|██████████| 32/32 [00:07<00:00,  3.33it/s]\n",
      "  0%|          | 0/32 [00:00<?, ?it/s]"
     ]
    },
    {
     "name": "stdout",
     "output_type": "stream",
     "text": [
      "Starting running the tasks...\n"
     ]
    },
    {
     "name": "stderr",
     "output_type": "stream",
     "text": [
      "100%|██████████| 32/32 [02:35<00:00,  4.87s/it]\n"
     ]
    },
    {
     "name": "stdout",
     "output_type": "stream",
     "text": [
      "G2 calculation DONE!\n",
      "Total time: 3.335 min\n",
      "The correlation function is saved in /XF11ID/analysis/2017_2/hilmar/Results/04a7e2dd-27f9-4320-a736-46e30138c84c/ with filename as uid=04a7e2_fra_5_5000_g2.csv\n",
      "The g2 fitting parameters are saved in /XF11ID/analysis/2017_2/hilmar/Results/04a7e2dd-27f9-4320-a736-46e30138c84c/uid=04a7e2_fra_5_5000_g2_fit_paras.csv\n",
      "The combined image is saved as: /XF11ID/analysis/2017_2/hilmar/Results/04a7e2dd-27f9-4320-a736-46e30138c84c/uid=04a7e2_fra_5_5000_g2_fit__joint.png\n",
      "The fitted diffusion coefficient D0 is:  1.465e+01   A^2S-1\n"
     ]
    },
    {
     "name": "stderr",
     "output_type": "stream",
     "text": [
      "100%|██████████| 4995/4995 [01:22<00:00, 60.56it/s]\n",
      "100%|██████████| 32/32 [03:53<00:00, 10.73s/it]\n"
     ]
    },
    {
     "name": "stdout",
     "output_type": "stream",
     "text": [
      "Total time: 3.952 min\n",
      "Total time: 3.729 sec\n",
      "The correlation function is saved in /XF11ID/analysis/2017_2/hilmar/Results/04a7e2dd-27f9-4320-a736-46e30138c84c/ with filename as uid=04a7e2_fra_5_5000_g2b.csv\n",
      "The g2 fitting parameters are saved in /XF11ID/analysis/2017_2/hilmar/Results/04a7e2dd-27f9-4320-a736-46e30138c84c/uid=04a7e2_fra_5_5000_g2b_fit_paras.csv\n",
      "The fitted diffusion coefficient D0 is:  1.479e+01   A^2S-1\n",
      "The combined image is saved as: /XF11ID/analysis/2017_2/hilmar/Results/04a7e2dd-27f9-4320-a736-46e30138c84c/uid=04a7e2_fra_5_5000_g2_b_fit__joint.png\n",
      "The combined image is saved as: /XF11ID/analysis/2017_2/hilmar/Results/04a7e2dd-27f9-4320-a736-46e30138c84c/uid=04a7e2_fra_5_5000_g2_two_g2__joint.png\n",
      "UID: 04a7e2dd-27f9-4320-a736-46e30138c84c is in processing...\n",
      "The two time correlation function for uid=04a7e2dd-27f9-4320-a736-46e30138c84c is already calculated. Just pass...\n",
      "UID: 04a7e2dd-27f9-4320-a736-46e30138c84c is in processing...\n",
      "uid: 04a7e2dd-27f9-4320-a736-46e30138c84c--> fra_num_by_dose: [ 156  312  625 1250 2500 3749 4950]\n",
      "The combined image is saved as: /XF11ID/analysis/2017_2/hilmar/Results/04a7e2dd-27f9-4320-a736-46e30138c84c/uid=04a7e2_fra_5_5000_dose_analysis__joint.png\n",
      "The xpcs analysis results are exported to /XF11ID/analysis/2017_2/hilmar/Results/04a7e2dd-27f9-4320-a736-46e30138c84c/ with filename as uid=04a7e2dd-27f9-4320-a736-46e30138c84c_Res.h5\n",
      "/XF11ID/analysis/2017_2/hilmar/Results/04a7e2dd-27f9-4320-a736-46e30138c84c/ 04a7e2 /XF11ID/analysis/2017_2/hilmar/Results/ XPCS_Analysis_Report_for_uid=04a7e2dd-27f9-4320-a736-46e30138c84c_ROI32_.pdf hilmar\n",
      "\n",
      "****************************************\n",
      "The pdf report is created with filename as: /XF11ID/analysis/2017_2/hilmar/Results/XPCS_Analysis_Report_for_uid=04a7e2dd-27f9-4320-a736-46e30138c84c_ROI32_.pdf\n",
      "****************************************\n",
      "The url=https://logbook.nsls2.bnl.gov/Olog-11-ID/Olog was successfully updated with Add XPCS Analysis PDF Report and with the attachments\n",
      "**************************************************\n",
      "**************************************************\n",
      "Starting analysis for 56819823-a8a1-48e5-8822-c6634ecb5459 now...\n",
      "The data acquistion finished.\n",
      "Starting to do something here...\n",
      "Results from this analysis will be stashed in the directory /XF11ID/analysis/2017_2/hilmar/Results/\n",
      "****************************************\n",
      "*****The processing uid is: 56819823-a8a1-48e5-8822-c6634ecb5459*****\n",
      "****************************************\n",
      "Results from this analysis will be stashed in the directory /XF11ID/analysis/2017_2/hilmar/Results/56819823-a8a1-48e5-8822-c6634ecb5459/\n",
      "The beam center is: [1093, 999]\n",
      "The data are: Sliced and/or processed EigerImages2. Original repr:\n",
      "    <Frames>\n",
      "    Length: 2000 frames\n",
      "    Frame Shape: 2167 x 2070\n",
      "    Pixel Datatype: uint16\n",
      "The non-zeros photon occupation is 0.07365488921436836.\n",
      "Will Always DO apply compress process.\n",
      "Create a new compress file with filename as :/XF11ID/analysis/Compressed_Data/uid_56819823-a8a1-48e5-8822-c6634ecb5459.cmp.\n",
      "Using a multiprocess to compress the data.\n",
      "It will create 20 temporary files for parallel compression.\n",
      "####################No bad frames are involved.\n",
      "Combining the seperated compressed files together...\n",
      "The good_start frame number is: 5 \n",
      "uid=568198_fra_5_2000\n",
      "Total time: 1.113 min\n"
     ]
    },
    {
     "name": "stderr",
     "output_type": "stream",
     "text": [
      "/opt/conda_envs/analysis/lib/python3.5/site-packages/chxanalys-unknown-py3.5.egg/chxanalys/chx_generic_functions.py:515: RankWarning: Polyfit may be poorly conditioned\n"
     ]
    },
    {
     "name": "stdout",
     "output_type": "stream",
     "text": [
      "The bad frame list length is: 5\n"
     ]
    },
    {
     "name": "stderr",
     "output_type": "stream",
     "text": [
      "Averaging 1 images: 100%|██████████| 1/1 [00:00<00:00, 316.50it/s]\n",
      "Averaging 1 images: 100%|██████████| 1/1 [00:00<00:00, 42.70it/s]\n",
      "Averaging 1 images: 100%|██████████| 1/1 [00:00<00:00, 22.89it/s]\n"
     ]
    },
    {
     "name": "stdout",
     "output_type": "stream",
     "text": [
      "The file: uid=568198_q_Iqt is saved in /XF11ID/analysis/2017_2/hilmar/Results/56819823-a8a1-48e5-8822-c6634ecb5459/\n"
     ]
    },
    {
     "name": "stderr",
     "output_type": "stream",
     "text": [
      "Get ROI intensity of each frame: 100%|██████████| 1995/1995 [00:05<00:00, 365.90it/s]\n"
     ]
    },
    {
     "name": "stdout",
     "output_type": "stream",
     "text": [
      "The file: uid=568198_t_ROIs is saved in /XF11ID/analysis/2017_2/hilmar/Results/56819823-a8a1-48e5-8822-c6634ecb5459/\n",
      "In this g2 calculation, the buf and lev number are: 8--10--\n",
      "5 Bad frames involved and will be discarded!\n",
      "1996 frames will be processed...\n"
     ]
    },
    {
     "name": "stderr",
     "output_type": "stream",
     "text": [
      "\r",
      "  0%|          | 0/32 [00:00<?, ?it/s]"
     ]
    },
    {
     "name": "stdout",
     "output_type": "stream",
     "text": [
      "Starting assign the tasks...\n"
     ]
    },
    {
     "name": "stderr",
     "output_type": "stream",
     "text": [
      "100%|██████████| 32/32 [00:05<00:00,  4.79it/s]\n",
      "  0%|          | 0/32 [00:00<?, ?it/s]"
     ]
    },
    {
     "name": "stdout",
     "output_type": "stream",
     "text": [
      "Starting running the tasks...\n"
     ]
    },
    {
     "name": "stderr",
     "output_type": "stream",
     "text": [
      "100%|██████████| 32/32 [00:24<00:00,  1.30it/s]\n"
     ]
    },
    {
     "name": "stdout",
     "output_type": "stream",
     "text": [
      "G2 calculation DONE!\n",
      "Total time: 1.659 min\n",
      "The correlation function is saved in /XF11ID/analysis/2017_2/hilmar/Results/56819823-a8a1-48e5-8822-c6634ecb5459/ with filename as uid=568198_fra_5_2000_g2.csv\n",
      "The g2 fitting parameters are saved in /XF11ID/analysis/2017_2/hilmar/Results/56819823-a8a1-48e5-8822-c6634ecb5459/uid=568198_fra_5_2000_g2_fit_paras.csv\n",
      "The combined image is saved as: /XF11ID/analysis/2017_2/hilmar/Results/56819823-a8a1-48e5-8822-c6634ecb5459/uid=568198_fra_5_2000_g2_fit__joint.png\n",
      "The fitted diffusion coefficient D0 is:  6.060e+01   A^2S-1\n"
     ]
    },
    {
     "name": "stderr",
     "output_type": "stream",
     "text": [
      "100%|██████████| 1995/1995 [00:15<00:00, 124.86it/s]\n",
      "100%|██████████| 32/32 [01:02<00:00,  2.87s/it]\n"
     ]
    },
    {
     "name": "stdout",
     "output_type": "stream",
     "text": [
      "Total time: 1.055 min\n",
      "Total time: 0.610 sec\n",
      "The correlation function is saved in /XF11ID/analysis/2017_2/hilmar/Results/56819823-a8a1-48e5-8822-c6634ecb5459/ with filename as uid=568198_fra_5_2000_g2b.csv\n",
      "The g2 fitting parameters are saved in /XF11ID/analysis/2017_2/hilmar/Results/56819823-a8a1-48e5-8822-c6634ecb5459/uid=568198_fra_5_2000_g2b_fit_paras.csv\n",
      "The fitted diffusion coefficient D0 is:  5.395e+01   A^2S-1\n",
      "The combined image is saved as: /XF11ID/analysis/2017_2/hilmar/Results/56819823-a8a1-48e5-8822-c6634ecb5459/uid=568198_fra_5_2000_g2_b_fit__joint.png\n",
      "The combined image is saved as: /XF11ID/analysis/2017_2/hilmar/Results/56819823-a8a1-48e5-8822-c6634ecb5459/uid=568198_fra_5_2000_g2_two_g2__joint.png\n",
      "UID: 56819823-a8a1-48e5-8822-c6634ecb5459 is in processing...\n",
      "The two time correlation function for uid=56819823-a8a1-48e5-8822-c6634ecb5459 is already calculated. Just pass...\n",
      "UID: 56819823-a8a1-48e5-8822-c6634ecb5459 is in processing...\n",
      "uid: 56819823-a8a1-48e5-8822-c6634ecb5459--> fra_num_by_dose: [  62  125  250  500 1000 1500 1980]\n",
      "The combined image is saved as: /XF11ID/analysis/2017_2/hilmar/Results/56819823-a8a1-48e5-8822-c6634ecb5459/uid=568198_fra_5_2000_dose_analysis__joint.png\n",
      "The xpcs analysis results are exported to /XF11ID/analysis/2017_2/hilmar/Results/56819823-a8a1-48e5-8822-c6634ecb5459/ with filename as uid=56819823-a8a1-48e5-8822-c6634ecb5459_Res.h5\n",
      "/XF11ID/analysis/2017_2/hilmar/Results/56819823-a8a1-48e5-8822-c6634ecb5459/ 568198 /XF11ID/analysis/2017_2/hilmar/Results/ XPCS_Analysis_Report_for_uid=56819823-a8a1-48e5-8822-c6634ecb5459_ROI32_.pdf hilmar\n",
      "\n",
      "****************************************\n",
      "The pdf report is created with filename as: /XF11ID/analysis/2017_2/hilmar/Results/XPCS_Analysis_Report_for_uid=56819823-a8a1-48e5-8822-c6634ecb5459_ROI32_.pdf\n",
      "****************************************\n",
      "The url=https://logbook.nsls2.bnl.gov/Olog-11-ID/Olog was successfully updated with Add XPCS Analysis PDF Report and with the attachments\n",
      "**************************************************\n",
      "**************************************************\n",
      "Starting analysis for 72753e73-9e6f-4c09-8e46-2f99141d0643 now...\n",
      "The data acquistion finished.\n",
      "Starting to do something here...\n",
      "Results from this analysis will be stashed in the directory /XF11ID/analysis/2017_2/hilmar/Results/\n",
      "****************************************\n",
      "*****The processing uid is: 72753e73-9e6f-4c09-8e46-2f99141d0643*****\n",
      "****************************************\n",
      "Results from this analysis will be stashed in the directory /XF11ID/analysis/2017_2/hilmar/Results/72753e73-9e6f-4c09-8e46-2f99141d0643/\n",
      "The beam center is: [1093, 999]\n",
      "The data are: Sliced and/or processed EigerImages2. Original repr:\n",
      "    <Frames>\n",
      "    Length: 2000 frames\n",
      "    Frame Shape: 2167 x 2070\n",
      "    Pixel Datatype: uint16\n",
      "The non-zeros photon occupation is 0.2662277152455921.\n",
      "Will Always DO apply compress process.\n",
      "Create a new compress file with filename as :/XF11ID/analysis/Compressed_Data/uid_72753e73-9e6f-4c09-8e46-2f99141d0643.cmp.\n",
      "Using a multiprocess to compress the data.\n",
      "It will create 20 temporary files for parallel compression.\n",
      "####################No bad frames are involved.\n",
      "Combining the seperated compressed files together...\n",
      "The good_start frame number is: 5 \n",
      "uid=72753e_fra_5_2000\n",
      "Total time: 1.737 min\n"
     ]
    },
    {
     "name": "stderr",
     "output_type": "stream",
     "text": [
      "/opt/conda_envs/analysis/lib/python3.5/site-packages/chxanalys-unknown-py3.5.egg/chxanalys/chx_generic_functions.py:515: RankWarning: Polyfit may be poorly conditioned\n"
     ]
    },
    {
     "name": "stdout",
     "output_type": "stream",
     "text": [
      "The bad frame list length is: 9\n"
     ]
    },
    {
     "name": "stderr",
     "output_type": "stream",
     "text": [
      "Averaging 1 images: 100%|██████████| 1/1 [00:00<00:00, 85.94it/s]\n",
      "Averaging 1 images: 100%|██████████| 1/1 [00:00<00:00, 28.48it/s]\n",
      "Averaging 1 images: 100%|██████████| 1/1 [00:00<00:00, 17.77it/s]\n"
     ]
    },
    {
     "name": "stdout",
     "output_type": "stream",
     "text": [
      "The file: uid=72753e_q_Iqt is saved in /XF11ID/analysis/2017_2/hilmar/Results/72753e73-9e6f-4c09-8e46-2f99141d0643/\n"
     ]
    },
    {
     "name": "stderr",
     "output_type": "stream",
     "text": [
      "Get ROI intensity of each frame: 100%|██████████| 1995/1995 [00:25<00:00, 77.29it/s]\n"
     ]
    },
    {
     "name": "stdout",
     "output_type": "stream",
     "text": [
      "The file: uid=72753e_t_ROIs is saved in /XF11ID/analysis/2017_2/hilmar/Results/72753e73-9e6f-4c09-8e46-2f99141d0643/\n",
      "In this g2 calculation, the buf and lev number are: 8--10--\n",
      "9 Bad frames involved and will be discarded!\n",
      "1992 frames will be processed...\n"
     ]
    },
    {
     "name": "stderr",
     "output_type": "stream",
     "text": [
      "\r",
      "  0%|          | 0/32 [00:00<?, ?it/s]"
     ]
    },
    {
     "name": "stdout",
     "output_type": "stream",
     "text": [
      "Starting assign the tasks...\n"
     ]
    },
    {
     "name": "stderr",
     "output_type": "stream",
     "text": [
      "100%|██████████| 32/32 [00:06<00:00,  3.64it/s]\n",
      "  0%|          | 0/32 [00:00<?, ?it/s]"
     ]
    },
    {
     "name": "stdout",
     "output_type": "stream",
     "text": [
      "Starting running the tasks...\n"
     ]
    },
    {
     "name": "stderr",
     "output_type": "stream",
     "text": [
      "100%|██████████| 32/32 [00:56<00:00,  1.78s/it]\n"
     ]
    },
    {
     "name": "stdout",
     "output_type": "stream",
     "text": [
      "G2 calculation DONE!\n",
      "Total time: 2.351 min\n",
      "The correlation function is saved in /XF11ID/analysis/2017_2/hilmar/Results/72753e73-9e6f-4c09-8e46-2f99141d0643/ with filename as uid=72753e_fra_5_2000_g2.csv\n",
      "The g2 fitting parameters are saved in /XF11ID/analysis/2017_2/hilmar/Results/72753e73-9e6f-4c09-8e46-2f99141d0643/uid=72753e_fra_5_2000_g2_fit_paras.csv\n",
      "The combined image is saved as: /XF11ID/analysis/2017_2/hilmar/Results/72753e73-9e6f-4c09-8e46-2f99141d0643/uid=72753e_fra_5_2000_g2_fit__joint.png\n",
      "The fitted diffusion coefficient D0 is:  5.124e+01   A^2S-1\n"
     ]
    },
    {
     "name": "stderr",
     "output_type": "stream",
     "text": [
      "100%|██████████| 1995/1995 [00:29<00:00, 66.66it/s]\n",
      "100%|██████████| 32/32 [01:02<00:00,  2.96s/it]\n"
     ]
    },
    {
     "name": "stdout",
     "output_type": "stream",
     "text": [
      "Total time: 1.062 min\n",
      "Total time: 0.775 sec\n",
      "The correlation function is saved in /XF11ID/analysis/2017_2/hilmar/Results/72753e73-9e6f-4c09-8e46-2f99141d0643/ with filename as uid=72753e_fra_5_2000_g2b.csv\n",
      "The g2 fitting parameters are saved in /XF11ID/analysis/2017_2/hilmar/Results/72753e73-9e6f-4c09-8e46-2f99141d0643/uid=72753e_fra_5_2000_g2b_fit_paras.csv\n",
      "The fitted diffusion coefficient D0 is:  5.135e+01   A^2S-1\n",
      "The combined image is saved as: /XF11ID/analysis/2017_2/hilmar/Results/72753e73-9e6f-4c09-8e46-2f99141d0643/uid=72753e_fra_5_2000_g2_b_fit__joint.png\n",
      "The combined image is saved as: /XF11ID/analysis/2017_2/hilmar/Results/72753e73-9e6f-4c09-8e46-2f99141d0643/uid=72753e_fra_5_2000_g2_two_g2__joint.png\n",
      "UID: 72753e73-9e6f-4c09-8e46-2f99141d0643 is in processing...\n",
      "The two time correlation function for uid=72753e73-9e6f-4c09-8e46-2f99141d0643 is already calculated. Just pass...\n",
      "UID: 72753e73-9e6f-4c09-8e46-2f99141d0643 is in processing...\n",
      "uid: 72753e73-9e6f-4c09-8e46-2f99141d0643--> fra_num_by_dose: [  62  125  250  500 1000 1500 1980]\n",
      "The combined image is saved as: /XF11ID/analysis/2017_2/hilmar/Results/72753e73-9e6f-4c09-8e46-2f99141d0643/uid=72753e_fra_5_2000_dose_analysis__joint.png\n",
      "The xpcs analysis results are exported to /XF11ID/analysis/2017_2/hilmar/Results/72753e73-9e6f-4c09-8e46-2f99141d0643/ with filename as uid=72753e73-9e6f-4c09-8e46-2f99141d0643_Res.h5\n",
      "/XF11ID/analysis/2017_2/hilmar/Results/72753e73-9e6f-4c09-8e46-2f99141d0643/ 72753e /XF11ID/analysis/2017_2/hilmar/Results/ XPCS_Analysis_Report_for_uid=72753e73-9e6f-4c09-8e46-2f99141d0643_ROI32_.pdf hilmar\n",
      "\n",
      "****************************************\n",
      "The pdf report is created with filename as: /XF11ID/analysis/2017_2/hilmar/Results/XPCS_Analysis_Report_for_uid=72753e73-9e6f-4c09-8e46-2f99141d0643_ROI32_.pdf\n",
      "****************************************\n",
      "The url=https://logbook.nsls2.bnl.gov/Olog-11-ID/Olog was successfully updated with Add XPCS Analysis PDF Report and with the attachments\n",
      "**************************************************\n",
      "**************************************************\n",
      "Starting analysis for 80d5b7d1-43a2-46e9-901a-5b4b1ee3f45d now...\n",
      "The data acquistion finished.\n",
      "Starting to do something here...\n",
      "Results from this analysis will be stashed in the directory /XF11ID/analysis/2017_2/hilmar/Results/\n",
      "****************************************\n",
      "*****The processing uid is: 80d5b7d1-43a2-46e9-901a-5b4b1ee3f45d*****\n",
      "****************************************\n",
      "Results from this analysis will be stashed in the directory /XF11ID/analysis/2017_2/hilmar/Results/80d5b7d1-43a2-46e9-901a-5b4b1ee3f45d/\n",
      "The beam center is: [1093, 999]\n",
      "The data are: Sliced and/or processed EigerImages2. Original repr:\n",
      "    <Frames>\n",
      "    Length: 5000 frames\n",
      "    Frame Shape: 2167 x 2070\n",
      "    Pixel Datatype: uint32\n",
      "The non-zeros photon occupation is 0.26772848770200347.\n",
      "Will Always DO apply compress process.\n",
      "Create a new compress file with filename as :/XF11ID/analysis/Compressed_Data/uid_80d5b7d1-43a2-46e9-901a-5b4b1ee3f45d.cmp.\n",
      "Using a multiprocess to compress the data.\n",
      "It will create 50 temporary files for parallel compression.\n",
      "##################################################No bad frames are involved.\n",
      "Combining the seperated compressed files together...\n",
      "The good_start frame number is: 5 \n",
      "uid=80d5b7_fra_5_5000\n",
      "Total time: 4.453 min\n"
     ]
    },
    {
     "name": "stderr",
     "output_type": "stream",
     "text": [
      "/opt/conda_envs/analysis/lib/python3.5/site-packages/chxanalys-unknown-py3.5.egg/chxanalys/chx_generic_functions.py:515: RankWarning: Polyfit may be poorly conditioned\n"
     ]
    },
    {
     "name": "stdout",
     "output_type": "stream",
     "text": [
      "The bad frame list length is: 10\n"
     ]
    },
    {
     "name": "stderr",
     "output_type": "stream",
     "text": [
      "Averaging 1 images: 100%|██████████| 1/1 [00:00<00:00, 39.80it/s]\n",
      "Averaging 1 images: 100%|██████████| 1/1 [00:00<00:00,  5.52it/s]\n",
      "Averaging 1 images: 100%|██████████| 1/1 [00:00<00:00,  6.84it/s]\n"
     ]
    },
    {
     "name": "stdout",
     "output_type": "stream",
     "text": [
      "The file: uid=80d5b7_q_Iqt is saved in /XF11ID/analysis/2017_2/hilmar/Results/80d5b7d1-43a2-46e9-901a-5b4b1ee3f45d/\n"
     ]
    },
    {
     "name": "stderr",
     "output_type": "stream",
     "text": [
      "Get ROI intensity of each frame: 100%|██████████| 4995/4995 [02:18<00:00, 36.09it/s]\n"
     ]
    },
    {
     "name": "stdout",
     "output_type": "stream",
     "text": [
      "The file: uid=80d5b7_t_ROIs is saved in /XF11ID/analysis/2017_2/hilmar/Results/80d5b7d1-43a2-46e9-901a-5b4b1ee3f45d/\n",
      "In this g2 calculation, the buf and lev number are: 8--11--\n",
      "10 Bad frames involved and will be discarded!\n",
      "4991 frames will be processed...\n"
     ]
    },
    {
     "name": "stderr",
     "output_type": "stream",
     "text": [
      "\r",
      "  0%|          | 0/32 [00:00<?, ?it/s]"
     ]
    },
    {
     "name": "stdout",
     "output_type": "stream",
     "text": [
      "Starting assign the tasks...\n"
     ]
    },
    {
     "name": "stderr",
     "output_type": "stream",
     "text": [
      "100%|██████████| 32/32 [00:07<00:00,  3.82it/s]\n",
      "  0%|          | 0/32 [00:00<?, ?it/s]"
     ]
    },
    {
     "name": "stdout",
     "output_type": "stream",
     "text": [
      "Starting running the tasks...\n"
     ]
    },
    {
     "name": "stderr",
     "output_type": "stream",
     "text": [
      "100%|██████████| 32/32 [02:15<00:00,  5.66s/it]\n"
     ]
    },
    {
     "name": "stdout",
     "output_type": "stream",
     "text": [
      "G2 calculation DONE!\n",
      "Total time: 3.618 min\n",
      "The correlation function is saved in /XF11ID/analysis/2017_2/hilmar/Results/80d5b7d1-43a2-46e9-901a-5b4b1ee3f45d/ with filename as uid=80d5b7_fra_5_5000_g2.csv\n",
      "The g2 fitting parameters are saved in /XF11ID/analysis/2017_2/hilmar/Results/80d5b7d1-43a2-46e9-901a-5b4b1ee3f45d/uid=80d5b7_fra_5_5000_g2_fit_paras.csv\n",
      "The combined image is saved as: /XF11ID/analysis/2017_2/hilmar/Results/80d5b7d1-43a2-46e9-901a-5b4b1ee3f45d/uid=80d5b7_fra_5_5000_g2_fit__joint.png\n",
      "The fitted diffusion coefficient D0 is:  8.689e+00   A^2S-1\n"
     ]
    },
    {
     "name": "stderr",
     "output_type": "stream",
     "text": [
      "100%|██████████| 4995/4995 [01:21<00:00, 65.63it/s]\n",
      "100%|██████████| 32/32 [03:55<00:00, 10.87s/it]\n"
     ]
    },
    {
     "name": "stdout",
     "output_type": "stream",
     "text": [
      "Total time: 3.998 min\n",
      "Total time: 3.114 sec\n",
      "The correlation function is saved in /XF11ID/analysis/2017_2/hilmar/Results/80d5b7d1-43a2-46e9-901a-5b4b1ee3f45d/ with filename as uid=80d5b7_fra_5_5000_g2b.csv\n",
      "The g2 fitting parameters are saved in /XF11ID/analysis/2017_2/hilmar/Results/80d5b7d1-43a2-46e9-901a-5b4b1ee3f45d/uid=80d5b7_fra_5_5000_g2b_fit_paras.csv\n",
      "The fitted diffusion coefficient D0 is:  8.819e+00   A^2S-1\n",
      "The combined image is saved as: /XF11ID/analysis/2017_2/hilmar/Results/80d5b7d1-43a2-46e9-901a-5b4b1ee3f45d/uid=80d5b7_fra_5_5000_g2_b_fit__joint.png\n",
      "The combined image is saved as: /XF11ID/analysis/2017_2/hilmar/Results/80d5b7d1-43a2-46e9-901a-5b4b1ee3f45d/uid=80d5b7_fra_5_5000_g2_two_g2__joint.png\n",
      "UID: 80d5b7d1-43a2-46e9-901a-5b4b1ee3f45d is in processing...\n",
      "The two time correlation function for uid=80d5b7d1-43a2-46e9-901a-5b4b1ee3f45d is already calculated. Just pass...\n",
      "UID: 80d5b7d1-43a2-46e9-901a-5b4b1ee3f45d is in processing...\n",
      "uid: 80d5b7d1-43a2-46e9-901a-5b4b1ee3f45d--> fra_num_by_dose: [ 156  312  625 1250 2500 3749 4950]\n",
      "The combined image is saved as: /XF11ID/analysis/2017_2/hilmar/Results/80d5b7d1-43a2-46e9-901a-5b4b1ee3f45d/uid=80d5b7_fra_5_5000_dose_analysis__joint.png\n",
      "The xpcs analysis results are exported to /XF11ID/analysis/2017_2/hilmar/Results/80d5b7d1-43a2-46e9-901a-5b4b1ee3f45d/ with filename as uid=80d5b7d1-43a2-46e9-901a-5b4b1ee3f45d_Res.h5\n",
      "/XF11ID/analysis/2017_2/hilmar/Results/80d5b7d1-43a2-46e9-901a-5b4b1ee3f45d/ 80d5b7 /XF11ID/analysis/2017_2/hilmar/Results/ XPCS_Analysis_Report_for_uid=80d5b7d1-43a2-46e9-901a-5b4b1ee3f45d_ROI32_.pdf hilmar\n",
      "\n",
      "****************************************\n",
      "The pdf report is created with filename as: /XF11ID/analysis/2017_2/hilmar/Results/XPCS_Analysis_Report_for_uid=80d5b7d1-43a2-46e9-901a-5b4b1ee3f45d_ROI32_.pdf\n",
      "****************************************\n",
      "The url=https://logbook.nsls2.bnl.gov/Olog-11-ID/Olog was successfully updated with Add XPCS Analysis PDF Report and with the attachments\n",
      "**************************************************\n",
      "**************************************************\n",
      "Starting analysis for be90c7eb-f75f-40c7-b47e-fc311b928a7a now...\n",
      "The data acquistion finished.\n",
      "Starting to do something here...\n",
      "Results from this analysis will be stashed in the directory /XF11ID/analysis/2017_2/hilmar/Results/\n",
      "****************************************\n",
      "*****The processing uid is: be90c7eb-f75f-40c7-b47e-fc311b928a7a*****\n",
      "****************************************\n",
      "Results from this analysis will be stashed in the directory /XF11ID/analysis/2017_2/hilmar/Results/be90c7eb-f75f-40c7-b47e-fc311b928a7a/\n",
      "The beam center is: [1093, 999]\n",
      "The data are: Sliced and/or processed EigerImages2. Original repr:\n",
      "    <Frames>\n",
      "    Length: 2000 frames\n",
      "    Frame Shape: 2167 x 2070\n",
      "    Pixel Datatype: uint16\n",
      "The non-zeros photon occupation is 0.06646937260488353.\n",
      "Will Always DO apply compress process.\n",
      "Create a new compress file with filename as :/XF11ID/analysis/Compressed_Data/uid_be90c7eb-f75f-40c7-b47e-fc311b928a7a.cmp.\n",
      "Using a multiprocess to compress the data.\n",
      "It will create 20 temporary files for parallel compression.\n",
      "####################No bad frames are involved.\n",
      "Combining the seperated compressed files together...\n",
      "The good_start frame number is: 5 \n",
      "uid=be90c7_fra_5_2000\n",
      "Total time: 1.603 min\n"
     ]
    },
    {
     "name": "stderr",
     "output_type": "stream",
     "text": [
      "/opt/conda_envs/analysis/lib/python3.5/site-packages/chxanalys-unknown-py3.5.egg/chxanalys/chx_generic_functions.py:515: RankWarning: Polyfit may be poorly conditioned\n"
     ]
    },
    {
     "name": "stdout",
     "output_type": "stream",
     "text": [
      "The bad frame list length is: 5\n"
     ]
    },
    {
     "name": "stderr",
     "output_type": "stream",
     "text": [
      "Averaging 1 images: 100%|██████████| 1/1 [00:00<00:00, 351.25it/s]\n",
      "Averaging 1 images: 100%|██████████| 1/1 [00:00<00:00, 39.05it/s]\n",
      "Averaging 1 images: 100%|██████████| 1/1 [00:00<00:00, 20.29it/s]\n"
     ]
    },
    {
     "name": "stdout",
     "output_type": "stream",
     "text": [
      "The file: uid=be90c7_q_Iqt is saved in /XF11ID/analysis/2017_2/hilmar/Results/be90c7eb-f75f-40c7-b47e-fc311b928a7a/\n"
     ]
    },
    {
     "name": "stderr",
     "output_type": "stream",
     "text": [
      "Get ROI intensity of each frame: 100%|██████████| 1995/1995 [00:13<00:00, 142.94it/s]\n"
     ]
    },
    {
     "name": "stdout",
     "output_type": "stream",
     "text": [
      "The file: uid=be90c7_t_ROIs is saved in /XF11ID/analysis/2017_2/hilmar/Results/be90c7eb-f75f-40c7-b47e-fc311b928a7a/\n",
      "In this g2 calculation, the buf and lev number are: 8--10--\n",
      "5 Bad frames involved and will be discarded!\n",
      "1996 frames will be processed...\n"
     ]
    },
    {
     "name": "stderr",
     "output_type": "stream",
     "text": [
      "\r",
      "  0%|          | 0/32 [00:00<?, ?it/s]"
     ]
    },
    {
     "name": "stdout",
     "output_type": "stream",
     "text": [
      "Starting assign the tasks...\n"
     ]
    },
    {
     "name": "stderr",
     "output_type": "stream",
     "text": [
      "100%|██████████| 32/32 [00:05<00:00,  5.11it/s]\n",
      "  0%|          | 0/32 [00:00<?, ?it/s]"
     ]
    },
    {
     "name": "stdout",
     "output_type": "stream",
     "text": [
      "Starting running the tasks...\n"
     ]
    },
    {
     "name": "stderr",
     "output_type": "stream",
     "text": [
      "100%|██████████| 32/32 [00:25<00:00,  1.27it/s]\n"
     ]
    },
    {
     "name": "stdout",
     "output_type": "stream",
     "text": [
      "G2 calculation DONE!\n",
      "Total time: 2.229 min\n",
      "The correlation function is saved in /XF11ID/analysis/2017_2/hilmar/Results/be90c7eb-f75f-40c7-b47e-fc311b928a7a/ with filename as uid=be90c7_fra_5_2000_g2.csv\n",
      "The g2 fitting parameters are saved in /XF11ID/analysis/2017_2/hilmar/Results/be90c7eb-f75f-40c7-b47e-fc311b928a7a/uid=be90c7_fra_5_2000_g2_fit_paras.csv\n",
      "The combined image is saved as: /XF11ID/analysis/2017_2/hilmar/Results/be90c7eb-f75f-40c7-b47e-fc311b928a7a/uid=be90c7_fra_5_2000_g2_fit__joint.png\n",
      "The fitted diffusion coefficient D0 is:  4.177e+01   A^2S-1\n"
     ]
    },
    {
     "name": "stderr",
     "output_type": "stream",
     "text": [
      "100%|██████████| 1995/1995 [00:15<00:00, 130.38it/s]\n",
      "100%|██████████| 32/32 [01:03<00:00,  2.91s/it]\n"
     ]
    },
    {
     "name": "stdout",
     "output_type": "stream",
     "text": [
      "Total time: 1.080 min\n",
      "Total time: 0.600 sec\n",
      "The correlation function is saved in /XF11ID/analysis/2017_2/hilmar/Results/be90c7eb-f75f-40c7-b47e-fc311b928a7a/ with filename as uid=be90c7_fra_5_2000_g2b.csv\n",
      "The g2 fitting parameters are saved in /XF11ID/analysis/2017_2/hilmar/Results/be90c7eb-f75f-40c7-b47e-fc311b928a7a/uid=be90c7_fra_5_2000_g2b_fit_paras.csv\n",
      "The fitted diffusion coefficient D0 is:  3.994e+01   A^2S-1\n",
      "The combined image is saved as: /XF11ID/analysis/2017_2/hilmar/Results/be90c7eb-f75f-40c7-b47e-fc311b928a7a/uid=be90c7_fra_5_2000_g2_b_fit__joint.png\n",
      "The combined image is saved as: /XF11ID/analysis/2017_2/hilmar/Results/be90c7eb-f75f-40c7-b47e-fc311b928a7a/uid=be90c7_fra_5_2000_g2_two_g2__joint.png\n",
      "UID: be90c7eb-f75f-40c7-b47e-fc311b928a7a is in processing...\n",
      "The two time correlation function for uid=be90c7eb-f75f-40c7-b47e-fc311b928a7a is already calculated. Just pass...\n",
      "UID: be90c7eb-f75f-40c7-b47e-fc311b928a7a is in processing...\n",
      "uid: be90c7eb-f75f-40c7-b47e-fc311b928a7a--> fra_num_by_dose: [  62  125  250  500 1000 1500 1980]\n",
      "The combined image is saved as: /XF11ID/analysis/2017_2/hilmar/Results/be90c7eb-f75f-40c7-b47e-fc311b928a7a/uid=be90c7_fra_5_2000_dose_analysis__joint.png\n",
      "The xpcs analysis results are exported to /XF11ID/analysis/2017_2/hilmar/Results/be90c7eb-f75f-40c7-b47e-fc311b928a7a/ with filename as uid=be90c7eb-f75f-40c7-b47e-fc311b928a7a_Res.h5\n",
      "/XF11ID/analysis/2017_2/hilmar/Results/be90c7eb-f75f-40c7-b47e-fc311b928a7a/ be90c7 /XF11ID/analysis/2017_2/hilmar/Results/ XPCS_Analysis_Report_for_uid=be90c7eb-f75f-40c7-b47e-fc311b928a7a_ROI32_.pdf hilmar\n",
      "\n",
      "****************************************\n",
      "The pdf report is created with filename as: /XF11ID/analysis/2017_2/hilmar/Results/XPCS_Analysis_Report_for_uid=be90c7eb-f75f-40c7-b47e-fc311b928a7a_ROI32_.pdf\n",
      "****************************************\n",
      "The url=https://logbook.nsls2.bnl.gov/Olog-11-ID/Olog was successfully updated with Add XPCS Analysis PDF Report and with the attachments\n",
      "**************************************************\n",
      "**************************************************\n",
      "Starting analysis for 30411df8-08fa-4792-8f1d-c4536560f5d2 now...\n",
      "The data acquistion finished.\n",
      "Starting to do something here...\n",
      "Results from this analysis will be stashed in the directory /XF11ID/analysis/2017_2/hilmar/Results/\n",
      "****************************************\n",
      "*****The processing uid is: 30411df8-08fa-4792-8f1d-c4536560f5d2*****\n",
      "****************************************\n",
      "Results from this analysis will be stashed in the directory /XF11ID/analysis/2017_2/hilmar/Results/30411df8-08fa-4792-8f1d-c4536560f5d2/\n",
      "The beam center is: [1093, 999]\n",
      "The data are: Sliced and/or processed EigerImages2. Original repr:\n",
      "    <Frames>\n",
      "    Length: 2000 frames\n",
      "    Frame Shape: 2167 x 2070\n",
      "    Pixel Datatype: uint16\n",
      "The non-zeros photon occupation is 0.26065086976585544.\n",
      "Will Always DO apply compress process.\n",
      "Create a new compress file with filename as :/XF11ID/analysis/Compressed_Data/uid_30411df8-08fa-4792-8f1d-c4536560f5d2.cmp.\n",
      "Using a multiprocess to compress the data.\n",
      "It will create 20 temporary files for parallel compression.\n",
      "####################No bad frames are involved.\n",
      "Combining the seperated compressed files together...\n",
      "The good_start frame number is: 5 \n",
      "uid=30411d_fra_5_2000\n",
      "Total time: 1.414 min\n"
     ]
    },
    {
     "name": "stderr",
     "output_type": "stream",
     "text": [
      "/opt/conda_envs/analysis/lib/python3.5/site-packages/chxanalys-unknown-py3.5.egg/chxanalys/chx_generic_functions.py:515: RankWarning: Polyfit may be poorly conditioned\n"
     ]
    },
    {
     "name": "stdout",
     "output_type": "stream",
     "text": [
      "The bad frame list length is: 5\n",
      "There are something wrong with this data: 30411df8-08fa-4792-8f1d-c4536560f5d2...\n",
      "**************************************************\n",
      "**************************************************\n",
      "Starting analysis for a0ecaeab-24d3-446e-b408-00c0dc619909 now...\n",
      "The data acquistion finished.\n",
      "Starting to do something here...\n",
      "Results from this analysis will be stashed in the directory /XF11ID/analysis/2017_2/hilmar/Results/\n",
      "****************************************\n",
      "*****The processing uid is: a0ecaeab-24d3-446e-b408-00c0dc619909*****\n",
      "****************************************\n",
      "Results from this analysis will be stashed in the directory /XF11ID/analysis/2017_2/hilmar/Results/a0ecaeab-24d3-446e-b408-00c0dc619909/\n",
      "The beam center is: [1093, 999]\n",
      "The data are: Sliced and/or processed EigerImages2. Original repr:\n",
      "    <Frames>\n",
      "    Length: 5000 frames\n",
      "    Frame Shape: 2167 x 2070\n",
      "    Pixel Datatype: uint32\n",
      "The non-zeros photon occupation is 0.26959464430221436.\n",
      "Will Always DO apply compress process.\n",
      "Create a new compress file with filename as :/XF11ID/analysis/Compressed_Data/uid_a0ecaeab-24d3-446e-b408-00c0dc619909.cmp.\n",
      "Using a multiprocess to compress the data.\n",
      "It will create 50 temporary files for parallel compression.\n",
      "##################################################No bad frames are involved.\n",
      "Combining the seperated compressed files together...\n",
      "The good_start frame number is: 5 \n",
      "uid=a0ecae_fra_5_5000\n",
      "Total time: 3.255 min\n"
     ]
    },
    {
     "name": "stderr",
     "output_type": "stream",
     "text": [
      "/opt/conda_envs/analysis/lib/python3.5/site-packages/chxanalys-unknown-py3.5.egg/chxanalys/chx_generic_functions.py:515: RankWarning: Polyfit may be poorly conditioned\n"
     ]
    },
    {
     "name": "stdout",
     "output_type": "stream",
     "text": [
      "The bad frame list length is: 10\n"
     ]
    },
    {
     "name": "stderr",
     "output_type": "stream",
     "text": [
      "Averaging 1 images: 100%|██████████| 1/1 [00:00<00:00, 87.79it/s]\n",
      "Averaging 1 images: 100%|██████████| 1/1 [00:00<00:00, 13.77it/s]\n",
      "Averaging 1 images: 100%|██████████| 1/1 [00:00<00:00,  3.67it/s]\n"
     ]
    },
    {
     "name": "stdout",
     "output_type": "stream",
     "text": [
      "The file: uid=a0ecae_q_Iqt is saved in /XF11ID/analysis/2017_2/hilmar/Results/a0ecaeab-24d3-446e-b408-00c0dc619909/\n"
     ]
    },
    {
     "name": "stderr",
     "output_type": "stream",
     "text": [
      "Get ROI intensity of each frame: 100%|██████████| 4995/4995 [01:01<00:00, 81.16it/s]\n"
     ]
    },
    {
     "name": "stdout",
     "output_type": "stream",
     "text": [
      "The file: uid=a0ecae_t_ROIs is saved in /XF11ID/analysis/2017_2/hilmar/Results/a0ecaeab-24d3-446e-b408-00c0dc619909/\n",
      "In this g2 calculation, the buf and lev number are: 8--11--\n",
      "10 Bad frames involved and will be discarded!\n",
      "4991 frames will be processed...\n"
     ]
    },
    {
     "name": "stderr",
     "output_type": "stream",
     "text": [
      "\r",
      "  0%|          | 0/32 [00:00<?, ?it/s]"
     ]
    },
    {
     "name": "stdout",
     "output_type": "stream",
     "text": [
      "Starting assign the tasks...\n"
     ]
    },
    {
     "name": "stderr",
     "output_type": "stream",
     "text": [
      "100%|██████████| 32/32 [00:06<00:00,  4.27it/s]\n",
      "  0%|          | 0/32 [00:00<?, ?it/s]"
     ]
    },
    {
     "name": "stdout",
     "output_type": "stream",
     "text": [
      "Starting running the tasks...\n"
     ]
    },
    {
     "name": "stderr",
     "output_type": "stream",
     "text": [
      "100%|██████████| 32/32 [05:44<00:00, 10.76s/it]  \n"
     ]
    },
    {
     "name": "stdout",
     "output_type": "stream",
     "text": [
      "G2 calculation DONE!\n",
      "Total time: 6.357 min\n",
      "The correlation function is saved in /XF11ID/analysis/2017_2/hilmar/Results/a0ecaeab-24d3-446e-b408-00c0dc619909/ with filename as uid=a0ecae_fra_5_5000_g2.csv\n",
      "The g2 fitting parameters are saved in /XF11ID/analysis/2017_2/hilmar/Results/a0ecaeab-24d3-446e-b408-00c0dc619909/uid=a0ecae_fra_5_5000_g2_fit_paras.csv\n",
      "The combined image is saved as: /XF11ID/analysis/2017_2/hilmar/Results/a0ecaeab-24d3-446e-b408-00c0dc619909/uid=a0ecae_fra_5_5000_g2_fit__joint.png\n",
      "The fitted diffusion coefficient D0 is:  4.937e+00   A^2S-1\n"
     ]
    },
    {
     "name": "stderr",
     "output_type": "stream",
     "text": [
      "100%|██████████| 4995/4995 [02:11<00:00, 38.03it/s]\n",
      "100%|██████████| 32/32 [03:55<00:00, 10.77s/it]\n"
     ]
    },
    {
     "name": "stdout",
     "output_type": "stream",
     "text": [
      "Total time: 3.973 min\n",
      "Total time: 3.128 sec\n",
      "The correlation function is saved in /XF11ID/analysis/2017_2/hilmar/Results/a0ecaeab-24d3-446e-b408-00c0dc619909/ with filename as uid=a0ecae_fra_5_5000_g2b.csv\n",
      "The g2 fitting parameters are saved in /XF11ID/analysis/2017_2/hilmar/Results/a0ecaeab-24d3-446e-b408-00c0dc619909/uid=a0ecae_fra_5_5000_g2b_fit_paras.csv\n",
      "The fitted diffusion coefficient D0 is:  4.968e+00   A^2S-1\n",
      "The combined image is saved as: /XF11ID/analysis/2017_2/hilmar/Results/a0ecaeab-24d3-446e-b408-00c0dc619909/uid=a0ecae_fra_5_5000_g2_b_fit__joint.png\n",
      "The combined image is saved as: /XF11ID/analysis/2017_2/hilmar/Results/a0ecaeab-24d3-446e-b408-00c0dc619909/uid=a0ecae_fra_5_5000_g2_two_g2__joint.png\n",
      "UID: a0ecaeab-24d3-446e-b408-00c0dc619909 is in processing...\n",
      "The two time correlation function for uid=a0ecaeab-24d3-446e-b408-00c0dc619909 is already calculated. Just pass...\n",
      "UID: a0ecaeab-24d3-446e-b408-00c0dc619909 is in processing...\n",
      "uid: a0ecaeab-24d3-446e-b408-00c0dc619909--> fra_num_by_dose: [ 156  312  625 1250 2500 3749 4950]\n",
      "The combined image is saved as: /XF11ID/analysis/2017_2/hilmar/Results/a0ecaeab-24d3-446e-b408-00c0dc619909/uid=a0ecae_fra_5_5000_dose_analysis__joint.png\n",
      "The xpcs analysis results are exported to /XF11ID/analysis/2017_2/hilmar/Results/a0ecaeab-24d3-446e-b408-00c0dc619909/ with filename as uid=a0ecaeab-24d3-446e-b408-00c0dc619909_Res.h5\n",
      "/XF11ID/analysis/2017_2/hilmar/Results/a0ecaeab-24d3-446e-b408-00c0dc619909/ a0ecae /XF11ID/analysis/2017_2/hilmar/Results/ XPCS_Analysis_Report_for_uid=a0ecaeab-24d3-446e-b408-00c0dc619909_ROI32_.pdf hilmar\n",
      "\n",
      "****************************************\n",
      "The pdf report is created with filename as: /XF11ID/analysis/2017_2/hilmar/Results/XPCS_Analysis_Report_for_uid=a0ecaeab-24d3-446e-b408-00c0dc619909_ROI32_.pdf\n",
      "****************************************\n",
      "The url=https://logbook.nsls2.bnl.gov/Olog-11-ID/Olog was successfully updated with Add XPCS Analysis PDF Report and with the attachments\n",
      "**************************************************\n",
      "**************************************************\n",
      "Starting analysis for c038952b-97ac-42fb-93f0-50809d9aa890 now...\n",
      "The data acquistion finished.\n",
      "Starting to do something here...\n",
      "Results from this analysis will be stashed in the directory /XF11ID/analysis/2017_2/hilmar/Results/\n",
      "****************************************\n",
      "*****The processing uid is: c038952b-97ac-42fb-93f0-50809d9aa890*****\n",
      "****************************************\n",
      "Results from this analysis will be stashed in the directory /XF11ID/analysis/2017_2/hilmar/Results/c038952b-97ac-42fb-93f0-50809d9aa890/\n",
      "The beam center is: [1093, 999]\n",
      "The data are: Sliced and/or processed EigerImages2. Original repr:\n",
      "    <Frames>\n",
      "    Length: 2000 frames\n",
      "    Frame Shape: 2167 x 2070\n",
      "    Pixel Datatype: uint16\n",
      "The non-zeros photon occupation is 0.06978948612142168.\n",
      "Will Always DO apply compress process.\n",
      "Create a new compress file with filename as :/XF11ID/analysis/Compressed_Data/uid_c038952b-97ac-42fb-93f0-50809d9aa890.cmp.\n",
      "Using a multiprocess to compress the data.\n",
      "It will create 20 temporary files for parallel compression.\n",
      "####################No bad frames are involved.\n",
      "Combining the seperated compressed files together...\n",
      "The good_start frame number is: 5 \n",
      "uid=c03895_fra_5_2000\n",
      "Total time: 1.023 min\n"
     ]
    },
    {
     "name": "stderr",
     "output_type": "stream",
     "text": [
      "/opt/conda_envs/analysis/lib/python3.5/site-packages/chxanalys-unknown-py3.5.egg/chxanalys/chx_generic_functions.py:515: RankWarning: Polyfit may be poorly conditioned\n"
     ]
    },
    {
     "name": "stdout",
     "output_type": "stream",
     "text": [
      "The bad frame list length is: 5\n"
     ]
    },
    {
     "name": "stderr",
     "output_type": "stream",
     "text": [
      "Averaging 1 images: 100%|██████████| 1/1 [00:00<00:00, 380.09it/s]\n",
      "Averaging 1 images: 100%|██████████| 1/1 [00:00<00:00, 37.44it/s]\n",
      "Averaging 1 images: 100%|██████████| 1/1 [00:00<00:00, 20.02it/s]\n"
     ]
    },
    {
     "name": "stdout",
     "output_type": "stream",
     "text": [
      "The file: uid=c03895_q_Iqt is saved in /XF11ID/analysis/2017_2/hilmar/Results/c038952b-97ac-42fb-93f0-50809d9aa890/\n"
     ]
    },
    {
     "name": "stderr",
     "output_type": "stream",
     "text": [
      "Get ROI intensity of each frame: 100%|██████████| 1995/1995 [00:05<00:00, 350.83it/s]\n"
     ]
    },
    {
     "name": "stdout",
     "output_type": "stream",
     "text": [
      "The file: uid=c03895_t_ROIs is saved in /XF11ID/analysis/2017_2/hilmar/Results/c038952b-97ac-42fb-93f0-50809d9aa890/\n",
      "In this g2 calculation, the buf and lev number are: 8--10--\n",
      "5 Bad frames involved and will be discarded!\n",
      "1996 frames will be processed...\n"
     ]
    },
    {
     "name": "stderr",
     "output_type": "stream",
     "text": [
      "\r",
      "  0%|          | 0/32 [00:00<?, ?it/s]"
     ]
    },
    {
     "name": "stdout",
     "output_type": "stream",
     "text": [
      "Starting assign the tasks...\n"
     ]
    },
    {
     "name": "stderr",
     "output_type": "stream",
     "text": [
      "100%|██████████| 32/32 [00:05<00:00,  5.24it/s]\n",
      "  0%|          | 0/32 [00:00<?, ?it/s]"
     ]
    },
    {
     "name": "stdout",
     "output_type": "stream",
     "text": [
      "Starting running the tasks...\n"
     ]
    },
    {
     "name": "stderr",
     "output_type": "stream",
     "text": [
      "100%|██████████| 32/32 [00:23<00:00,  1.37it/s]\n"
     ]
    },
    {
     "name": "stdout",
     "output_type": "stream",
     "text": [
      "G2 calculation DONE!\n",
      "Total time: 1.314 min\n",
      "The correlation function is saved in /XF11ID/analysis/2017_2/hilmar/Results/c038952b-97ac-42fb-93f0-50809d9aa890/ with filename as uid=c03895_fra_5_2000_g2.csv\n",
      "The g2 fitting parameters are saved in /XF11ID/analysis/2017_2/hilmar/Results/c038952b-97ac-42fb-93f0-50809d9aa890/uid=c03895_fra_5_2000_g2_fit_paras.csv\n",
      "The combined image is saved as: /XF11ID/analysis/2017_2/hilmar/Results/c038952b-97ac-42fb-93f0-50809d9aa890/uid=c03895_fra_5_2000_g2_fit__joint.png\n",
      "The fitted diffusion coefficient D0 is:  3.081e+01   A^2S-1\n"
     ]
    },
    {
     "name": "stderr",
     "output_type": "stream",
     "text": [
      "100%|██████████| 1995/1995 [00:11<00:00, 170.96it/s]\n",
      "100%|██████████| 32/32 [01:03<00:00,  2.93s/it]\n"
     ]
    },
    {
     "name": "stdout",
     "output_type": "stream",
     "text": [
      "Total time: 1.069 min\n",
      "Total time: 0.669 sec\n",
      "The correlation function is saved in /XF11ID/analysis/2017_2/hilmar/Results/c038952b-97ac-42fb-93f0-50809d9aa890/ with filename as uid=c03895_fra_5_2000_g2b.csv\n",
      "The g2 fitting parameters are saved in /XF11ID/analysis/2017_2/hilmar/Results/c038952b-97ac-42fb-93f0-50809d9aa890/uid=c03895_fra_5_2000_g2b_fit_paras.csv\n",
      "The fitted diffusion coefficient D0 is:  3.018e+01   A^2S-1\n",
      "The combined image is saved as: /XF11ID/analysis/2017_2/hilmar/Results/c038952b-97ac-42fb-93f0-50809d9aa890/uid=c03895_fra_5_2000_g2_b_fit__joint.png\n",
      "The combined image is saved as: /XF11ID/analysis/2017_2/hilmar/Results/c038952b-97ac-42fb-93f0-50809d9aa890/uid=c03895_fra_5_2000_g2_two_g2__joint.png\n",
      "UID: c038952b-97ac-42fb-93f0-50809d9aa890 is in processing...\n",
      "The two time correlation function for uid=c038952b-97ac-42fb-93f0-50809d9aa890 is already calculated. Just pass...\n",
      "UID: c038952b-97ac-42fb-93f0-50809d9aa890 is in processing...\n",
      "uid: c038952b-97ac-42fb-93f0-50809d9aa890--> fra_num_by_dose: [  62  125  250  500 1000 1500 1980]\n",
      "The combined image is saved as: /XF11ID/analysis/2017_2/hilmar/Results/c038952b-97ac-42fb-93f0-50809d9aa890/uid=c03895_fra_5_2000_dose_analysis__joint.png\n",
      "The xpcs analysis results are exported to /XF11ID/analysis/2017_2/hilmar/Results/c038952b-97ac-42fb-93f0-50809d9aa890/ with filename as uid=c038952b-97ac-42fb-93f0-50809d9aa890_Res.h5\n",
      "/XF11ID/analysis/2017_2/hilmar/Results/c038952b-97ac-42fb-93f0-50809d9aa890/ c03895 /XF11ID/analysis/2017_2/hilmar/Results/ XPCS_Analysis_Report_for_uid=c038952b-97ac-42fb-93f0-50809d9aa890_ROI32_.pdf hilmar\n",
      "\n",
      "****************************************\n",
      "The pdf report is created with filename as: /XF11ID/analysis/2017_2/hilmar/Results/XPCS_Analysis_Report_for_uid=c038952b-97ac-42fb-93f0-50809d9aa890_ROI32_.pdf\n",
      "****************************************\n",
      "The url=https://logbook.nsls2.bnl.gov/Olog-11-ID/Olog was successfully updated with Add XPCS Analysis PDF Report and with the attachments\n",
      "**************************************************\n",
      "**************************************************\n",
      "Starting analysis for 0335b8e4-905f-4a67-bf39-8bdb204ea4be now...\n",
      "The data acquistion finished.\n",
      "Starting to do something here...\n",
      "Results from this analysis will be stashed in the directory /XF11ID/analysis/2017_2/hilmar/Results/\n",
      "****************************************\n",
      "*****The processing uid is: 0335b8e4-905f-4a67-bf39-8bdb204ea4be*****\n",
      "****************************************\n",
      "Results from this analysis will be stashed in the directory /XF11ID/analysis/2017_2/hilmar/Results/0335b8e4-905f-4a67-bf39-8bdb204ea4be/\n",
      "The beam center is: [1093, 999]\n",
      "The data are: Sliced and/or processed EigerImages2. Original repr:\n",
      "    <Frames>\n",
      "    Length: 2000 frames\n",
      "    Frame Shape: 2167 x 2070\n",
      "    Pixel Datatype: uint16\n",
      "The non-zeros photon occupation is 0.25446252416016263.\n",
      "Will Always DO apply compress process.\n",
      "Create a new compress file with filename as :/XF11ID/analysis/Compressed_Data/uid_0335b8e4-905f-4a67-bf39-8bdb204ea4be.cmp.\n",
      "Using a multiprocess to compress the data.\n",
      "It will create 20 temporary files for parallel compression.\n",
      "####################No bad frames are involved.\n",
      "Combining the seperated compressed files together...\n",
      "The good_start frame number is: 5 \n",
      "uid=0335b8_fra_5_2000\n",
      "Total time: 1.639 min\n"
     ]
    },
    {
     "name": "stderr",
     "output_type": "stream",
     "text": [
      "/opt/conda_envs/analysis/lib/python3.5/site-packages/chxanalys-unknown-py3.5.egg/chxanalys/chx_generic_functions.py:515: RankWarning: Polyfit may be poorly conditioned\n"
     ]
    },
    {
     "name": "stdout",
     "output_type": "stream",
     "text": [
      "The bad frame list length is: 5\n"
     ]
    },
    {
     "name": "stderr",
     "output_type": "stream",
     "text": [
      "Averaging 1 images: 100%|██████████| 1/1 [00:00<00:00, 88.33it/s]\n",
      "Averaging 1 images: 100%|██████████| 1/1 [00:00<00:00, 30.52it/s]\n",
      "Averaging 1 images: 100%|██████████| 1/1 [00:00<00:00, 17.94it/s]\n"
     ]
    },
    {
     "name": "stdout",
     "output_type": "stream",
     "text": [
      "The file: uid=0335b8_q_Iqt is saved in /XF11ID/analysis/2017_2/hilmar/Results/0335b8e4-905f-4a67-bf39-8bdb204ea4be/\n"
     ]
    },
    {
     "name": "stderr",
     "output_type": "stream",
     "text": [
      "Get ROI intensity of each frame: 100%|██████████| 1995/1995 [00:25<00:00, 79.04it/s]\n"
     ]
    },
    {
     "name": "stdout",
     "output_type": "stream",
     "text": [
      "The file: uid=0335b8_t_ROIs is saved in /XF11ID/analysis/2017_2/hilmar/Results/0335b8e4-905f-4a67-bf39-8bdb204ea4be/\n",
      "In this g2 calculation, the buf and lev number are: 8--10--\n",
      "5 Bad frames involved and will be discarded!\n",
      "1996 frames will be processed...\n"
     ]
    },
    {
     "name": "stderr",
     "output_type": "stream",
     "text": [
      "\r",
      "  0%|          | 0/32 [00:00<?, ?it/s]"
     ]
    },
    {
     "name": "stdout",
     "output_type": "stream",
     "text": [
      "Starting assign the tasks...\n"
     ]
    },
    {
     "name": "stderr",
     "output_type": "stream",
     "text": [
      "100%|██████████| 32/32 [00:05<00:00,  4.86it/s]\n",
      "  0%|          | 0/32 [00:00<?, ?it/s]"
     ]
    },
    {
     "name": "stdout",
     "output_type": "stream",
     "text": [
      "Starting running the tasks...\n"
     ]
    },
    {
     "name": "stderr",
     "output_type": "stream",
     "text": [
      "100%|██████████| 32/32 [00:41<00:00,  1.30s/it]\n"
     ]
    },
    {
     "name": "stdout",
     "output_type": "stream",
     "text": [
      "G2 calculation DONE!\n",
      "Total time: 1.776 min\n",
      "The correlation function is saved in /XF11ID/analysis/2017_2/hilmar/Results/0335b8e4-905f-4a67-bf39-8bdb204ea4be/ with filename as uid=0335b8_fra_5_2000_g2.csv\n",
      "The g2 fitting parameters are saved in /XF11ID/analysis/2017_2/hilmar/Results/0335b8e4-905f-4a67-bf39-8bdb204ea4be/uid=0335b8_fra_5_2000_g2_fit_paras.csv\n",
      "The combined image is saved as: /XF11ID/analysis/2017_2/hilmar/Results/0335b8e4-905f-4a67-bf39-8bdb204ea4be/uid=0335b8_fra_5_2000_g2_fit__joint.png\n",
      "The fitted diffusion coefficient D0 is:  3.894e+01   A^2S-1\n"
     ]
    },
    {
     "name": "stderr",
     "output_type": "stream",
     "text": [
      "100%|██████████| 1995/1995 [00:27<00:00, 71.66it/s]\n",
      "100%|██████████| 32/32 [01:01<00:00,  2.87s/it]\n"
     ]
    },
    {
     "name": "stdout",
     "output_type": "stream",
     "text": [
      "Total time: 1.040 min\n",
      "Total time: 0.739 sec\n",
      "The correlation function is saved in /XF11ID/analysis/2017_2/hilmar/Results/0335b8e4-905f-4a67-bf39-8bdb204ea4be/ with filename as uid=0335b8_fra_5_2000_g2b.csv\n",
      "The g2 fitting parameters are saved in /XF11ID/analysis/2017_2/hilmar/Results/0335b8e4-905f-4a67-bf39-8bdb204ea4be/uid=0335b8_fra_5_2000_g2b_fit_paras.csv\n",
      "The fitted diffusion coefficient D0 is:  3.881e+01   A^2S-1\n",
      "The combined image is saved as: /XF11ID/analysis/2017_2/hilmar/Results/0335b8e4-905f-4a67-bf39-8bdb204ea4be/uid=0335b8_fra_5_2000_g2_b_fit__joint.png\n",
      "The combined image is saved as: /XF11ID/analysis/2017_2/hilmar/Results/0335b8e4-905f-4a67-bf39-8bdb204ea4be/uid=0335b8_fra_5_2000_g2_two_g2__joint.png\n",
      "UID: 0335b8e4-905f-4a67-bf39-8bdb204ea4be is in processing...\n",
      "The two time correlation function for uid=0335b8e4-905f-4a67-bf39-8bdb204ea4be is already calculated. Just pass...\n",
      "UID: 0335b8e4-905f-4a67-bf39-8bdb204ea4be is in processing...\n",
      "uid: 0335b8e4-905f-4a67-bf39-8bdb204ea4be--> fra_num_by_dose: [  62  125  250  500 1000 1500 1980]\n",
      "The combined image is saved as: /XF11ID/analysis/2017_2/hilmar/Results/0335b8e4-905f-4a67-bf39-8bdb204ea4be/uid=0335b8_fra_5_2000_dose_analysis__joint.png\n",
      "The xpcs analysis results are exported to /XF11ID/analysis/2017_2/hilmar/Results/0335b8e4-905f-4a67-bf39-8bdb204ea4be/ with filename as uid=0335b8e4-905f-4a67-bf39-8bdb204ea4be_Res.h5\n",
      "/XF11ID/analysis/2017_2/hilmar/Results/0335b8e4-905f-4a67-bf39-8bdb204ea4be/ 0335b8 /XF11ID/analysis/2017_2/hilmar/Results/ XPCS_Analysis_Report_for_uid=0335b8e4-905f-4a67-bf39-8bdb204ea4be_ROI32_.pdf hilmar\n",
      "\n",
      "****************************************\n",
      "The pdf report is created with filename as: /XF11ID/analysis/2017_2/hilmar/Results/XPCS_Analysis_Report_for_uid=0335b8e4-905f-4a67-bf39-8bdb204ea4be_ROI32_.pdf\n",
      "****************************************\n",
      "The url=https://logbook.nsls2.bnl.gov/Olog-11-ID/Olog was successfully updated with Add XPCS Analysis PDF Report and with the attachments\n",
      "**************************************************\n",
      "**************************************************\n",
      "Starting analysis for 0333aec6-1728-4352-a7c5-b09ec233e438 now...\n",
      "The data acquistion finished.\n",
      "Starting to do something here...\n",
      "Results from this analysis will be stashed in the directory /XF11ID/analysis/2017_2/hilmar/Results/\n",
      "****************************************\n",
      "*****The processing uid is: 0333aec6-1728-4352-a7c5-b09ec233e438*****\n",
      "****************************************\n",
      "Results from this analysis will be stashed in the directory /XF11ID/analysis/2017_2/hilmar/Results/0333aec6-1728-4352-a7c5-b09ec233e438/\n",
      "The beam center is: [1093, 999]\n",
      "There are something wrong with this data: 0333aec6-1728-4352-a7c5-b09ec233e438...\n",
      "**************************************************\n",
      "**************************************************\n",
      "Starting analysis for cd0e10ae-403e-488d-a3f0-757410912b7a now...\n",
      "The data acquistion finished.\n",
      "Starting to do something here...\n",
      "Results from this analysis will be stashed in the directory /XF11ID/analysis/2017_2/hilmar/Results/\n",
      "****************************************\n",
      "*****The processing uid is: cd0e10ae-403e-488d-a3f0-757410912b7a*****\n",
      "****************************************\n",
      "Results from this analysis will be stashed in the directory /XF11ID/analysis/2017_2/hilmar/Results/cd0e10ae-403e-488d-a3f0-757410912b7a/\n",
      "The beam center is: [1093, 999]\n",
      "The data are: Sliced and/or processed EigerImages2. Original repr:\n",
      "    <Frames>\n",
      "    Length: 2000 frames\n",
      "    Frame Shape: 2167 x 2070\n",
      "    Pixel Datatype: uint16\n",
      "The non-zeros photon occupation is 0.06850005238881866.\n",
      "Will Always DO apply compress process.\n",
      "Create a new compress file with filename as :/XF11ID/analysis/Compressed_Data/uid_cd0e10ae-403e-488d-a3f0-757410912b7a.cmp.\n",
      "Using a multiprocess to compress the data.\n",
      "It will create 20 temporary files for parallel compression.\n",
      "####################No bad frames are involved.\n",
      "Combining the seperated compressed files together...\n",
      "The good_start frame number is: 5 \n",
      "uid=cd0e10_fra_5_2000\n",
      "Total time: 1.149 min\n"
     ]
    },
    {
     "name": "stderr",
     "output_type": "stream",
     "text": [
      "/opt/conda_envs/analysis/lib/python3.5/site-packages/chxanalys-unknown-py3.5.egg/chxanalys/chx_generic_functions.py:515: RankWarning: Polyfit may be poorly conditioned\n"
     ]
    },
    {
     "name": "stdout",
     "output_type": "stream",
     "text": [
      "The bad frame list length is: 5\n"
     ]
    },
    {
     "name": "stderr",
     "output_type": "stream",
     "text": [
      "Averaging 1 images: 100%|██████████| 1/1 [00:00<00:00, 318.91it/s]\n",
      "Averaging 1 images: 100%|██████████| 1/1 [00:00<00:00, 42.18it/s]\n",
      "Averaging 1 images: 100%|██████████| 1/1 [00:00<00:00, 20.80it/s]\n"
     ]
    },
    {
     "name": "stdout",
     "output_type": "stream",
     "text": [
      "The file: uid=cd0e10_q_Iqt is saved in /XF11ID/analysis/2017_2/hilmar/Results/cd0e10ae-403e-488d-a3f0-757410912b7a/\n"
     ]
    },
    {
     "name": "stderr",
     "output_type": "stream",
     "text": [
      "Get ROI intensity of each frame: 100%|██████████| 1995/1995 [00:05<00:00, 333.87it/s]\n"
     ]
    },
    {
     "name": "stdout",
     "output_type": "stream",
     "text": [
      "The file: uid=cd0e10_t_ROIs is saved in /XF11ID/analysis/2017_2/hilmar/Results/cd0e10ae-403e-488d-a3f0-757410912b7a/\n",
      "In this g2 calculation, the buf and lev number are: 8--10--\n",
      "5 Bad frames involved and will be discarded!\n",
      "1996 frames will be processed...\n"
     ]
    },
    {
     "name": "stderr",
     "output_type": "stream",
     "text": [
      "\r",
      "  0%|          | 0/32 [00:00<?, ?it/s]"
     ]
    },
    {
     "name": "stdout",
     "output_type": "stream",
     "text": [
      "Starting assign the tasks...\n"
     ]
    },
    {
     "name": "stderr",
     "output_type": "stream",
     "text": [
      "100%|██████████| 32/32 [00:05<00:00,  4.47it/s]\n",
      "  0%|          | 0/32 [00:00<?, ?it/s]"
     ]
    },
    {
     "name": "stdout",
     "output_type": "stream",
     "text": [
      "Starting running the tasks...\n"
     ]
    },
    {
     "name": "stderr",
     "output_type": "stream",
     "text": [
      "100%|██████████| 32/32 [00:23<00:00,  1.34it/s]\n"
     ]
    },
    {
     "name": "stdout",
     "output_type": "stream",
     "text": [
      "G2 calculation DONE!\n",
      "Total time: 1.539 min\n",
      "The correlation function is saved in /XF11ID/analysis/2017_2/hilmar/Results/cd0e10ae-403e-488d-a3f0-757410912b7a/ with filename as uid=cd0e10_fra_5_2000_g2.csv\n",
      "The g2 fitting parameters are saved in /XF11ID/analysis/2017_2/hilmar/Results/cd0e10ae-403e-488d-a3f0-757410912b7a/uid=cd0e10_fra_5_2000_g2_fit_paras.csv\n",
      "The combined image is saved as: /XF11ID/analysis/2017_2/hilmar/Results/cd0e10ae-403e-488d-a3f0-757410912b7a/uid=cd0e10_fra_5_2000_g2_fit__joint.png\n",
      "The fitted diffusion coefficient D0 is:  3.223e+01   A^2S-1\n"
     ]
    },
    {
     "name": "stderr",
     "output_type": "stream",
     "text": [
      "100%|██████████| 1995/1995 [00:13<00:00, 151.98it/s]\n",
      "100%|██████████| 32/32 [01:05<00:00,  3.00s/it]\n"
     ]
    },
    {
     "name": "stdout",
     "output_type": "stream",
     "text": [
      "Total time: 1.105 min\n",
      "Total time: 0.771 sec\n",
      "The correlation function is saved in /XF11ID/analysis/2017_2/hilmar/Results/cd0e10ae-403e-488d-a3f0-757410912b7a/ with filename as uid=cd0e10_fra_5_2000_g2b.csv\n",
      "The g2 fitting parameters are saved in /XF11ID/analysis/2017_2/hilmar/Results/cd0e10ae-403e-488d-a3f0-757410912b7a/uid=cd0e10_fra_5_2000_g2b_fit_paras.csv\n",
      "The fitted diffusion coefficient D0 is:  3.832e+01   A^2S-1\n",
      "The combined image is saved as: /XF11ID/analysis/2017_2/hilmar/Results/cd0e10ae-403e-488d-a3f0-757410912b7a/uid=cd0e10_fra_5_2000_g2_b_fit__joint.png\n",
      "The combined image is saved as: /XF11ID/analysis/2017_2/hilmar/Results/cd0e10ae-403e-488d-a3f0-757410912b7a/uid=cd0e10_fra_5_2000_g2_two_g2__joint.png\n",
      "UID: cd0e10ae-403e-488d-a3f0-757410912b7a is in processing...\n",
      "The two time correlation function for uid=cd0e10ae-403e-488d-a3f0-757410912b7a is already calculated. Just pass...\n",
      "UID: cd0e10ae-403e-488d-a3f0-757410912b7a is in processing...\n",
      "uid: cd0e10ae-403e-488d-a3f0-757410912b7a--> fra_num_by_dose: [  62  125  250  500 1000 1500 1980]\n",
      "The combined image is saved as: /XF11ID/analysis/2017_2/hilmar/Results/cd0e10ae-403e-488d-a3f0-757410912b7a/uid=cd0e10_fra_5_2000_dose_analysis__joint.png\n",
      "The xpcs analysis results are exported to /XF11ID/analysis/2017_2/hilmar/Results/cd0e10ae-403e-488d-a3f0-757410912b7a/ with filename as uid=cd0e10ae-403e-488d-a3f0-757410912b7a_Res.h5\n",
      "/XF11ID/analysis/2017_2/hilmar/Results/cd0e10ae-403e-488d-a3f0-757410912b7a/ cd0e10 /XF11ID/analysis/2017_2/hilmar/Results/ XPCS_Analysis_Report_for_uid=cd0e10ae-403e-488d-a3f0-757410912b7a_ROI32_.pdf hilmar\n",
      "\n",
      "****************************************\n",
      "The pdf report is created with filename as: /XF11ID/analysis/2017_2/hilmar/Results/XPCS_Analysis_Report_for_uid=cd0e10ae-403e-488d-a3f0-757410912b7a_ROI32_.pdf\n",
      "****************************************\n",
      "The url=https://logbook.nsls2.bnl.gov/Olog-11-ID/Olog was successfully updated with Add XPCS Analysis PDF Report and with the attachments\n",
      "**************************************************\n",
      "**************************************************\n",
      "Starting analysis for 650a91ec-1284-4dba-9474-59d58169b919 now...\n",
      "The data acquistion finished.\n",
      "Starting to do something here...\n",
      "Results from this analysis will be stashed in the directory /XF11ID/analysis/2017_2/hilmar/Results/\n",
      "****************************************\n",
      "*****The processing uid is: 650a91ec-1284-4dba-9474-59d58169b919*****\n",
      "****************************************\n",
      "Results from this analysis will be stashed in the directory /XF11ID/analysis/2017_2/hilmar/Results/650a91ec-1284-4dba-9474-59d58169b919/\n",
      "The beam center is: [1093, 999]\n",
      "The data are: Sliced and/or processed EigerImages2. Original repr:\n",
      "    <Frames>\n",
      "    Length: 2000 frames\n",
      "    Frame Shape: 2167 x 2070\n",
      "    Pixel Datatype: uint16\n",
      "The non-zeros photon occupation is 0.25680753685609126.\n",
      "Will Always DO apply compress process.\n",
      "Create a new compress file with filename as :/XF11ID/analysis/Compressed_Data/uid_650a91ec-1284-4dba-9474-59d58169b919.cmp.\n",
      "Using a multiprocess to compress the data.\n",
      "It will create 20 temporary files for parallel compression.\n",
      "####################No bad frames are involved.\n",
      "Combining the seperated compressed files together...\n",
      "The good_start frame number is: 5 \n",
      "uid=650a91_fra_5_2000\n",
      "Total time: 2.364 min\n"
     ]
    },
    {
     "name": "stderr",
     "output_type": "stream",
     "text": [
      "/opt/conda_envs/analysis/lib/python3.5/site-packages/chxanalys-unknown-py3.5.egg/chxanalys/chx_generic_functions.py:515: RankWarning: Polyfit may be poorly conditioned\n"
     ]
    },
    {
     "name": "stdout",
     "output_type": "stream",
     "text": [
      "The bad frame list length is: 9\n"
     ]
    },
    {
     "name": "stderr",
     "output_type": "stream",
     "text": [
      "Averaging 1 images: 100%|██████████| 1/1 [00:00<00:00, 76.77it/s]\n",
      "Averaging 1 images: 100%|██████████| 1/1 [00:00<00:00, 26.20it/s]\n",
      "Averaging 1 images: 100%|██████████| 1/1 [00:00<00:00, 17.44it/s]\n"
     ]
    },
    {
     "name": "stdout",
     "output_type": "stream",
     "text": [
      "The file: uid=650a91_q_Iqt is saved in /XF11ID/analysis/2017_2/hilmar/Results/650a91ec-1284-4dba-9474-59d58169b919/\n"
     ]
    },
    {
     "name": "stderr",
     "output_type": "stream",
     "text": [
      "Get ROI intensity of each frame: 100%|██████████| 1995/1995 [00:24<00:00, 82.76it/s]\n"
     ]
    },
    {
     "name": "stdout",
     "output_type": "stream",
     "text": [
      "The file: uid=650a91_t_ROIs is saved in /XF11ID/analysis/2017_2/hilmar/Results/650a91ec-1284-4dba-9474-59d58169b919/\n",
      "In this g2 calculation, the buf and lev number are: 8--10--\n",
      "9 Bad frames involved and will be discarded!\n",
      "1992 frames will be processed...\n"
     ]
    },
    {
     "name": "stderr",
     "output_type": "stream",
     "text": [
      "\r",
      "  0%|          | 0/32 [00:00<?, ?it/s]"
     ]
    },
    {
     "name": "stdout",
     "output_type": "stream",
     "text": [
      "Starting assign the tasks...\n"
     ]
    },
    {
     "name": "stderr",
     "output_type": "stream",
     "text": [
      "100%|██████████| 32/32 [00:06<00:00,  3.46it/s]\n",
      "  0%|          | 0/32 [00:00<?, ?it/s]"
     ]
    },
    {
     "name": "stdout",
     "output_type": "stream",
     "text": [
      "Starting running the tasks...\n"
     ]
    },
    {
     "name": "stderr",
     "output_type": "stream",
     "text": [
      "100%|██████████| 32/32 [00:50<00:00,  1.56s/it]\n"
     ]
    },
    {
     "name": "stdout",
     "output_type": "stream",
     "text": [
      "G2 calculation DONE!\n",
      "Total time: 2.198 min\n",
      "The correlation function is saved in /XF11ID/analysis/2017_2/hilmar/Results/650a91ec-1284-4dba-9474-59d58169b919/ with filename as uid=650a91_fra_5_2000_g2.csv\n",
      "The g2 fitting parameters are saved in /XF11ID/analysis/2017_2/hilmar/Results/650a91ec-1284-4dba-9474-59d58169b919/uid=650a91_fra_5_2000_g2_fit_paras.csv\n",
      "The combined image is saved as: /XF11ID/analysis/2017_2/hilmar/Results/650a91ec-1284-4dba-9474-59d58169b919/uid=650a91_fra_5_2000_g2_fit__joint.png\n",
      "The fitted diffusion coefficient D0 is:  4.315e+01   A^2S-1\n"
     ]
    },
    {
     "name": "stderr",
     "output_type": "stream",
     "text": [
      "100%|██████████| 1995/1995 [00:49<00:00, 40.66it/s]\n",
      "100%|██████████| 32/32 [01:03<00:00,  3.06s/it]\n"
     ]
    },
    {
     "name": "stdout",
     "output_type": "stream",
     "text": [
      "Total time: 1.063 min\n",
      "Total time: 0.675 sec\n",
      "The correlation function is saved in /XF11ID/analysis/2017_2/hilmar/Results/650a91ec-1284-4dba-9474-59d58169b919/ with filename as uid=650a91_fra_5_2000_g2b.csv\n",
      "The g2 fitting parameters are saved in /XF11ID/analysis/2017_2/hilmar/Results/650a91ec-1284-4dba-9474-59d58169b919/uid=650a91_fra_5_2000_g2b_fit_paras.csv\n",
      "The fitted diffusion coefficient D0 is:  4.344e+01   A^2S-1\n",
      "The combined image is saved as: /XF11ID/analysis/2017_2/hilmar/Results/650a91ec-1284-4dba-9474-59d58169b919/uid=650a91_fra_5_2000_g2_b_fit__joint.png\n",
      "The combined image is saved as: /XF11ID/analysis/2017_2/hilmar/Results/650a91ec-1284-4dba-9474-59d58169b919/uid=650a91_fra_5_2000_g2_two_g2__joint.png\n",
      "UID: 650a91ec-1284-4dba-9474-59d58169b919 is in processing...\n",
      "The two time correlation function for uid=650a91ec-1284-4dba-9474-59d58169b919 is already calculated. Just pass...\n",
      "UID: 650a91ec-1284-4dba-9474-59d58169b919 is in processing...\n",
      "uid: 650a91ec-1284-4dba-9474-59d58169b919--> fra_num_by_dose: [  62  125  250  500 1000 1500 1980]\n",
      "The combined image is saved as: /XF11ID/analysis/2017_2/hilmar/Results/650a91ec-1284-4dba-9474-59d58169b919/uid=650a91_fra_5_2000_dose_analysis__joint.png\n",
      "The xpcs analysis results are exported to /XF11ID/analysis/2017_2/hilmar/Results/650a91ec-1284-4dba-9474-59d58169b919/ with filename as uid=650a91ec-1284-4dba-9474-59d58169b919_Res.h5\n",
      "/XF11ID/analysis/2017_2/hilmar/Results/650a91ec-1284-4dba-9474-59d58169b919/ 650a91 /XF11ID/analysis/2017_2/hilmar/Results/ XPCS_Analysis_Report_for_uid=650a91ec-1284-4dba-9474-59d58169b919_ROI32_.pdf hilmar\n",
      "\n",
      "****************************************\n",
      "The pdf report is created with filename as: /XF11ID/analysis/2017_2/hilmar/Results/XPCS_Analysis_Report_for_uid=650a91ec-1284-4dba-9474-59d58169b919_ROI32_.pdf\n",
      "****************************************\n",
      "The url=https://logbook.nsls2.bnl.gov/Olog-11-ID/Olog was successfully updated with Add XPCS Analysis PDF Report and with the attachments\n",
      "**************************************************\n",
      "**************************************************\n",
      "Starting analysis for 53124aef-a3e7-4e9c-8571-073e433b4d04 now...\n",
      "The data acquistion finished.\n",
      "Starting to do something here...\n",
      "Results from this analysis will be stashed in the directory /XF11ID/analysis/2017_2/hilmar/Results/\n",
      "****************************************\n",
      "*****The processing uid is: 53124aef-a3e7-4e9c-8571-073e433b4d04*****\n",
      "****************************************\n",
      "Results from this analysis will be stashed in the directory /XF11ID/analysis/2017_2/hilmar/Results/53124aef-a3e7-4e9c-8571-073e433b4d04/\n",
      "The beam center is: [1093, 999]\n",
      "The data are: Sliced and/or processed EigerImages2. Original repr:\n",
      "    <Frames>\n",
      "    Length: 5000 frames\n",
      "    Frame Shape: 2167 x 2070\n",
      "    Pixel Datatype: uint32\n",
      "The non-zeros photon occupation is 0.2624385546036396.\n",
      "Will Always DO apply compress process.\n",
      "Create a new compress file with filename as :/XF11ID/analysis/Compressed_Data/uid_53124aef-a3e7-4e9c-8571-073e433b4d04.cmp.\n",
      "Using a multiprocess to compress the data.\n",
      "It will create 50 temporary files for parallel compression.\n",
      "##################################################No bad frames are involved.\n",
      "Combining the seperated compressed files together...\n",
      "The good_start frame number is: 5 \n",
      "uid=53124a_fra_5_5000\n",
      "Total time: 4.223 min\n"
     ]
    },
    {
     "name": "stderr",
     "output_type": "stream",
     "text": [
      "/opt/conda_envs/analysis/lib/python3.5/site-packages/chxanalys-unknown-py3.5.egg/chxanalys/chx_generic_functions.py:515: RankWarning: Polyfit may be poorly conditioned\n"
     ]
    },
    {
     "name": "stdout",
     "output_type": "stream",
     "text": [
      "The bad frame list length is: 11\n"
     ]
    },
    {
     "name": "stderr",
     "output_type": "stream",
     "text": [
      "Averaging 1 images: 100%|██████████| 1/1 [00:00<00:00, 38.65it/s]\n",
      "Averaging 1 images: 100%|██████████| 1/1 [00:00<00:00,  5.68it/s]\n",
      "Averaging 1 images: 100%|██████████| 1/1 [00:00<00:00,  2.95it/s]\n"
     ]
    },
    {
     "name": "stdout",
     "output_type": "stream",
     "text": [
      "The file: uid=53124a_q_Iqt is saved in /XF11ID/analysis/2017_2/hilmar/Results/53124aef-a3e7-4e9c-8571-073e433b4d04/\n"
     ]
    },
    {
     "name": "stderr",
     "output_type": "stream",
     "text": [
      "Get ROI intensity of each frame: 100%|██████████| 4995/4995 [01:04<00:00, 90.97it/s]\n"
     ]
    },
    {
     "name": "stdout",
     "output_type": "stream",
     "text": [
      "The file: uid=53124a_t_ROIs is saved in /XF11ID/analysis/2017_2/hilmar/Results/53124aef-a3e7-4e9c-8571-073e433b4d04/\n",
      "In this g2 calculation, the buf and lev number are: 8--11--\n",
      "11 Bad frames involved and will be discarded!\n",
      "4990 frames will be processed...\n"
     ]
    },
    {
     "name": "stderr",
     "output_type": "stream",
     "text": [
      "\r",
      "  0%|          | 0/32 [00:00<?, ?it/s]"
     ]
    },
    {
     "name": "stdout",
     "output_type": "stream",
     "text": [
      "Starting assign the tasks...\n"
     ]
    },
    {
     "name": "stderr",
     "output_type": "stream",
     "text": [
      "100%|██████████| 32/32 [00:06<00:00,  5.10it/s]\n",
      "  0%|          | 0/32 [00:00<?, ?it/s]"
     ]
    },
    {
     "name": "stdout",
     "output_type": "stream",
     "text": [
      "Starting running the tasks...\n"
     ]
    },
    {
     "name": "stderr",
     "output_type": "stream",
     "text": [
      "100%|██████████| 32/32 [01:56<00:00,  3.64s/it]\n"
     ]
    },
    {
     "name": "stdout",
     "output_type": "stream",
     "text": [
      "G2 calculation DONE!\n",
      "Total time: 3.430 min\n",
      "The correlation function is saved in /XF11ID/analysis/2017_2/hilmar/Results/53124aef-a3e7-4e9c-8571-073e433b4d04/ with filename as uid=53124a_fra_5_5000_g2.csv\n",
      "The g2 fitting parameters are saved in /XF11ID/analysis/2017_2/hilmar/Results/53124aef-a3e7-4e9c-8571-073e433b4d04/uid=53124a_fra_5_5000_g2_fit_paras.csv\n",
      "The combined image is saved as: /XF11ID/analysis/2017_2/hilmar/Results/53124aef-a3e7-4e9c-8571-073e433b4d04/uid=53124a_fra_5_5000_g2_fit__joint.png\n",
      "The fitted diffusion coefficient D0 is:  3.809e+00   A^2S-1\n"
     ]
    },
    {
     "name": "stderr",
     "output_type": "stream",
     "text": [
      "100%|██████████| 4995/4995 [01:20<00:00, 62.31it/s]\n",
      "100%|██████████| 32/32 [03:59<00:00, 11.03s/it]\n"
     ]
    },
    {
     "name": "stdout",
     "output_type": "stream",
     "text": [
      "Total time: 4.053 min\n",
      "Total time: 2.522 sec\n",
      "The correlation function is saved in /XF11ID/analysis/2017_2/hilmar/Results/53124aef-a3e7-4e9c-8571-073e433b4d04/ with filename as uid=53124a_fra_5_5000_g2b.csv\n",
      "The g2 fitting parameters are saved in /XF11ID/analysis/2017_2/hilmar/Results/53124aef-a3e7-4e9c-8571-073e433b4d04/uid=53124a_fra_5_5000_g2b_fit_paras.csv\n",
      "The fitted diffusion coefficient D0 is:  3.861e+00   A^2S-1\n",
      "The combined image is saved as: /XF11ID/analysis/2017_2/hilmar/Results/53124aef-a3e7-4e9c-8571-073e433b4d04/uid=53124a_fra_5_5000_g2_b_fit__joint.png\n",
      "The combined image is saved as: /XF11ID/analysis/2017_2/hilmar/Results/53124aef-a3e7-4e9c-8571-073e433b4d04/uid=53124a_fra_5_5000_g2_two_g2__joint.png\n",
      "UID: 53124aef-a3e7-4e9c-8571-073e433b4d04 is in processing...\n",
      "The two time correlation function for uid=53124aef-a3e7-4e9c-8571-073e433b4d04 is already calculated. Just pass...\n",
      "UID: 53124aef-a3e7-4e9c-8571-073e433b4d04 is in processing...\n",
      "uid: 53124aef-a3e7-4e9c-8571-073e433b4d04--> fra_num_by_dose: [ 156  312  625 1250 2500 3749 4950]\n",
      "The combined image is saved as: /XF11ID/analysis/2017_2/hilmar/Results/53124aef-a3e7-4e9c-8571-073e433b4d04/uid=53124a_fra_5_5000_dose_analysis__joint.png\n",
      "The xpcs analysis results are exported to /XF11ID/analysis/2017_2/hilmar/Results/53124aef-a3e7-4e9c-8571-073e433b4d04/ with filename as uid=53124aef-a3e7-4e9c-8571-073e433b4d04_Res.h5\n",
      "/XF11ID/analysis/2017_2/hilmar/Results/53124aef-a3e7-4e9c-8571-073e433b4d04/ 53124a /XF11ID/analysis/2017_2/hilmar/Results/ XPCS_Analysis_Report_for_uid=53124aef-a3e7-4e9c-8571-073e433b4d04_ROI32_.pdf hilmar\n",
      "\n",
      "****************************************\n",
      "The pdf report is created with filename as: /XF11ID/analysis/2017_2/hilmar/Results/XPCS_Analysis_Report_for_uid=53124aef-a3e7-4e9c-8571-073e433b4d04_ROI32_.pdf\n",
      "****************************************\n",
      "The url=https://logbook.nsls2.bnl.gov/Olog-11-ID/Olog was successfully updated with Add XPCS Analysis PDF Report and with the attachments\n",
      "**************************************************\n",
      "**************************************************\n",
      "Starting analysis for a8fb0315-12fe-4381-b9c2-761b8d5d40b6 now...\n",
      "The data acquistion finished.\n",
      "Starting to do something here...\n",
      "Results from this analysis will be stashed in the directory /XF11ID/analysis/2017_2/hilmar/Results/\n",
      "****************************************\n",
      "*****The processing uid is: a8fb0315-12fe-4381-b9c2-761b8d5d40b6*****\n",
      "****************************************\n",
      "Results from this analysis will be stashed in the directory /XF11ID/analysis/2017_2/hilmar/Results/a8fb0315-12fe-4381-b9c2-761b8d5d40b6/\n",
      "The beam center is: [1093, 999]\n",
      "The data are: Sliced and/or processed EigerImages2. Original repr:\n",
      "    <Frames>\n",
      "    Length: 2000 frames\n",
      "    Frame Shape: 2167 x 2070\n",
      "    Pixel Datatype: uint16\n",
      "The non-zeros photon occupation is 0.06666800425352622.\n",
      "Will Always DO apply compress process.\n",
      "Create a new compress file with filename as :/XF11ID/analysis/Compressed_Data/uid_a8fb0315-12fe-4381-b9c2-761b8d5d40b6.cmp.\n",
      "Using a multiprocess to compress the data.\n",
      "It will create 20 temporary files for parallel compression.\n",
      "####################No bad frames are involved.\n",
      "Combining the seperated compressed files together...\n",
      "The good_start frame number is: 5 \n",
      "uid=a8fb03_fra_5_2000\n",
      "Total time: 1.483 min\n"
     ]
    },
    {
     "name": "stderr",
     "output_type": "stream",
     "text": [
      "/opt/conda_envs/analysis/lib/python3.5/site-packages/chxanalys-unknown-py3.5.egg/chxanalys/chx_generic_functions.py:515: RankWarning: Polyfit may be poorly conditioned\n"
     ]
    },
    {
     "name": "stdout",
     "output_type": "stream",
     "text": [
      "The bad frame list length is: 5\n"
     ]
    },
    {
     "name": "stderr",
     "output_type": "stream",
     "text": [
      "Averaging 1 images: 100%|██████████| 1/1 [00:00<00:00, 312.68it/s]\n",
      "Averaging 1 images: 100%|██████████| 1/1 [00:00<00:00, 43.51it/s]\n",
      "Averaging 1 images: 100%|██████████| 1/1 [00:00<00:00, 21.87it/s]\n"
     ]
    },
    {
     "name": "stdout",
     "output_type": "stream",
     "text": [
      "The file: uid=a8fb03_q_Iqt is saved in /XF11ID/analysis/2017_2/hilmar/Results/a8fb0315-12fe-4381-b9c2-761b8d5d40b6/\n"
     ]
    },
    {
     "name": "stderr",
     "output_type": "stream",
     "text": [
      "Get ROI intensity of each frame: 100%|██████████| 1995/1995 [00:12<00:00, 154.49it/s]\n"
     ]
    },
    {
     "name": "stdout",
     "output_type": "stream",
     "text": [
      "The file: uid=a8fb03_t_ROIs is saved in /XF11ID/analysis/2017_2/hilmar/Results/a8fb0315-12fe-4381-b9c2-761b8d5d40b6/\n",
      "In this g2 calculation, the buf and lev number are: 8--10--\n",
      "5 Bad frames involved and will be discarded!\n",
      "1996 frames will be processed...\n"
     ]
    },
    {
     "name": "stderr",
     "output_type": "stream",
     "text": [
      "\r",
      "  0%|          | 0/32 [00:00<?, ?it/s]"
     ]
    },
    {
     "name": "stdout",
     "output_type": "stream",
     "text": [
      "Starting assign the tasks...\n"
     ]
    },
    {
     "name": "stderr",
     "output_type": "stream",
     "text": [
      "100%|██████████| 32/32 [00:05<00:00,  4.66it/s]\n",
      "  0%|          | 0/32 [00:00<?, ?it/s]"
     ]
    },
    {
     "name": "stdout",
     "output_type": "stream",
     "text": [
      "Starting running the tasks...\n"
     ]
    },
    {
     "name": "stderr",
     "output_type": "stream",
     "text": [
      "100%|██████████| 32/32 [00:23<00:00,  1.37it/s]\n"
     ]
    },
    {
     "name": "stdout",
     "output_type": "stream",
     "text": [
      "G2 calculation DONE!\n",
      "Total time: 2.073 min\n",
      "The correlation function is saved in /XF11ID/analysis/2017_2/hilmar/Results/a8fb0315-12fe-4381-b9c2-761b8d5d40b6/ with filename as uid=a8fb03_fra_5_2000_g2.csv\n",
      "The g2 fitting parameters are saved in /XF11ID/analysis/2017_2/hilmar/Results/a8fb0315-12fe-4381-b9c2-761b8d5d40b6/uid=a8fb03_fra_5_2000_g2_fit_paras.csv\n"
     ]
    },
    {
     "name": "stderr",
     "output_type": "stream",
     "text": [
      "\r",
      "  0%|          | 0/1995 [00:00<?, ?it/s]"
     ]
    },
    {
     "name": "stdout",
     "output_type": "stream",
     "text": [
      "The combined image is saved as: /XF11ID/analysis/2017_2/hilmar/Results/a8fb0315-12fe-4381-b9c2-761b8d5d40b6/uid=a8fb03_fra_5_2000_g2_fit__joint.png\n",
      "The fitted diffusion coefficient D0 is:  2.706e+01   A^2S-1\n"
     ]
    },
    {
     "name": "stderr",
     "output_type": "stream",
     "text": [
      "100%|██████████| 1995/1995 [00:12<00:00, 161.63it/s]\n",
      "100%|██████████| 32/32 [01:05<00:00,  2.99s/it]\n"
     ]
    },
    {
     "name": "stdout",
     "output_type": "stream",
     "text": [
      "Total time: 1.101 min\n",
      "Total time: 0.787 sec\n",
      "The correlation function is saved in /XF11ID/analysis/2017_2/hilmar/Results/a8fb0315-12fe-4381-b9c2-761b8d5d40b6/ with filename as uid=a8fb03_fra_5_2000_g2b.csv\n",
      "The g2 fitting parameters are saved in /XF11ID/analysis/2017_2/hilmar/Results/a8fb0315-12fe-4381-b9c2-761b8d5d40b6/uid=a8fb03_fra_5_2000_g2b_fit_paras.csv\n",
      "The fitted diffusion coefficient D0 is:  2.733e+01   A^2S-1\n",
      "The combined image is saved as: /XF11ID/analysis/2017_2/hilmar/Results/a8fb0315-12fe-4381-b9c2-761b8d5d40b6/uid=a8fb03_fra_5_2000_g2_b_fit__joint.png\n",
      "The combined image is saved as: /XF11ID/analysis/2017_2/hilmar/Results/a8fb0315-12fe-4381-b9c2-761b8d5d40b6/uid=a8fb03_fra_5_2000_g2_two_g2__joint.png\n",
      "UID: a8fb0315-12fe-4381-b9c2-761b8d5d40b6 is in processing...\n",
      "The two time correlation function for uid=a8fb0315-12fe-4381-b9c2-761b8d5d40b6 is already calculated. Just pass...\n",
      "UID: a8fb0315-12fe-4381-b9c2-761b8d5d40b6 is in processing...\n",
      "uid: a8fb0315-12fe-4381-b9c2-761b8d5d40b6--> fra_num_by_dose: [  62  125  250  500 1000 1500 1980]\n",
      "The combined image is saved as: /XF11ID/analysis/2017_2/hilmar/Results/a8fb0315-12fe-4381-b9c2-761b8d5d40b6/uid=a8fb03_fra_5_2000_dose_analysis__joint.png\n",
      "The xpcs analysis results are exported to /XF11ID/analysis/2017_2/hilmar/Results/a8fb0315-12fe-4381-b9c2-761b8d5d40b6/ with filename as uid=a8fb0315-12fe-4381-b9c2-761b8d5d40b6_Res.h5\n",
      "/XF11ID/analysis/2017_2/hilmar/Results/a8fb0315-12fe-4381-b9c2-761b8d5d40b6/ a8fb03 /XF11ID/analysis/2017_2/hilmar/Results/ XPCS_Analysis_Report_for_uid=a8fb0315-12fe-4381-b9c2-761b8d5d40b6_ROI32_.pdf hilmar\n",
      "\n",
      "****************************************\n",
      "The pdf report is created with filename as: /XF11ID/analysis/2017_2/hilmar/Results/XPCS_Analysis_Report_for_uid=a8fb0315-12fe-4381-b9c2-761b8d5d40b6_ROI32_.pdf\n",
      "****************************************\n",
      "The url=https://logbook.nsls2.bnl.gov/Olog-11-ID/Olog was successfully updated with Add XPCS Analysis PDF Report and with the attachments\n",
      "**************************************************\n",
      "**************************************************\n",
      "Starting analysis for 34568f0c-38ae-4be2-8fbd-f3a06d416ca0 now...\n",
      "The data acquistion finished.\n",
      "Starting to do something here...\n",
      "Results from this analysis will be stashed in the directory /XF11ID/analysis/2017_2/hilmar/Results/\n",
      "****************************************\n",
      "*****The processing uid is: 34568f0c-38ae-4be2-8fbd-f3a06d416ca0*****\n",
      "****************************************\n",
      "Results from this analysis will be stashed in the directory /XF11ID/analysis/2017_2/hilmar/Results/34568f0c-38ae-4be2-8fbd-f3a06d416ca0/\n",
      "The beam center is: [1093, 999]\n",
      "The data are: Sliced and/or processed EigerImages2. Original repr:\n",
      "    <Frames>\n",
      "    Length: 2000 frames\n",
      "    Frame Shape: 2167 x 2070\n",
      "    Pixel Datatype: uint16\n",
      "The non-zeros photon occupation is 0.25107419371378764.\n",
      "Will Always DO apply compress process.\n",
      "Create a new compress file with filename as :/XF11ID/analysis/Compressed_Data/uid_34568f0c-38ae-4be2-8fbd-f3a06d416ca0.cmp.\n",
      "Using a multiprocess to compress the data.\n",
      "It will create 20 temporary files for parallel compression.\n",
      "###################"
     ]
    }
   ],
   "source": [
    "start_time = START_TIME\n",
    "stop_time =  STOP_TIME\n",
    "#tstep = 10* 60 \n",
    "#while stop_time < STOP_TIME:      \n",
    "    #stop_time =  time.time()\n",
    "    #print( 'start_time, stop_time:  ')\n",
    "    #print(  datetime.datetime.fromtimestamp(start_time),\n",
    "    #        datetime.datetime.fromtimestamp(stop_time ) )          \n",
    "realtime_xpcs_analysis( start_time, stop_time,  run_pargs,  md_update = md_update,\n",
    "                           wait_time = 1,  max_try_num = 1, emulation= False  )  #wait two hour here\n",
    "    #print('used time: %s'%used_time)\n",
    "    #start_time = stop_time    "
   ]
  },
  {
   "cell_type": "code",
   "execution_count": null,
   "metadata": {
    "collapsed": true
   },
   "outputs": [],
   "source": []
  },
  {
   "cell_type": "code",
   "execution_count": null,
   "metadata": {
    "collapsed": true
   },
   "outputs": [],
   "source": []
  },
  {
   "cell_type": "code",
   "execution_count": null,
   "metadata": {
    "collapsed": true
   },
   "outputs": [],
   "source": []
  },
  {
   "cell_type": "code",
   "execution_count": null,
   "metadata": {
    "collapsed": true
   },
   "outputs": [],
   "source": []
  },
  {
   "cell_type": "code",
   "execution_count": null,
   "metadata": {
    "collapsed": true
   },
   "outputs": [],
   "source": []
  },
  {
   "cell_type": "code",
   "execution_count": null,
   "metadata": {
    "collapsed": true
   },
   "outputs": [],
   "source": []
  },
  {
   "cell_type": "code",
   "execution_count": null,
   "metadata": {
    "collapsed": true
   },
   "outputs": [],
   "source": []
  },
  {
   "cell_type": "code",
   "execution_count": null,
   "metadata": {
    "collapsed": true
   },
   "outputs": [],
   "source": []
  },
  {
   "cell_type": "code",
   "execution_count": null,
   "metadata": {
    "collapsed": true
   },
   "outputs": [],
   "source": []
  },
  {
   "cell_type": "code",
   "execution_count": null,
   "metadata": {
    "collapsed": true
   },
   "outputs": [],
   "source": []
  },
  {
   "cell_type": "code",
   "execution_count": null,
   "metadata": {
    "collapsed": true
   },
   "outputs": [],
   "source": []
  },
  {
   "cell_type": "code",
   "execution_count": null,
   "metadata": {
    "collapsed": true
   },
   "outputs": [],
   "source": []
  },
  {
   "cell_type": "code",
   "execution_count": null,
   "metadata": {
    "collapsed": true
   },
   "outputs": [],
   "source": []
  },
  {
   "cell_type": "markdown",
   "metadata": {},
   "source": [
    "# For real-time compress"
   ]
  },
  {
   "cell_type": "code",
   "execution_count": null,
   "metadata": {
    "collapsed": true
   },
   "outputs": [],
   "source": [
    "\n",
    "if False:\n",
    "    start_time = START_TIME\n",
    "    stop_time =  START_TIME\n",
    "    #tstep = 10* 60\n",
    "    while stop_time < STOP_TIME:      \n",
    "        stop_time =  STOP_TIME #time.time()\n",
    "        #print( 'start_time, stop_time:  ')\n",
    "        #print(  datetime.datetime.fromtimestamp(start_time),\n",
    "        #        datetime.datetime.fromtimestamp(stop_time ) )          \n",
    "        used_time = do_compress_on_line( start_time, stop_time, mask_dict,\n",
    "                                       wait_time = 6,  max_try_num = 1 ) \n",
    "        print('used time: %s'%used_time)\n",
    "        start_time = stop_time\n",
    "\n",
    "\n",
    "       \n",
    "    "
   ]
  },
  {
   "cell_type": "code",
   "execution_count": null,
   "metadata": {
    "collapsed": true
   },
   "outputs": [],
   "source": []
  },
  {
   "cell_type": "code",
   "execution_count": null,
   "metadata": {
    "collapsed": true
   },
   "outputs": [],
   "source": []
  }
 ],
 "metadata": {
  "kernelspec": {
   "display_name": "CHX (legacy 2016)",
   "language": "python",
   "name": "stable"
  },
  "language_info": {
   "codemirror_mode": {
    "name": "ipython",
    "version": 3
   },
   "file_extension": ".py",
   "mimetype": "text/x-python",
   "name": "python",
   "nbconvert_exporter": "python",
   "pygments_lexer": "ipython3",
   "version": "3.5.3"
  }
 },
 "nbformat": 4,
 "nbformat_minor": 2
}
