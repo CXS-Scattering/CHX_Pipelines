{
 "cells": [
  {
   "cell_type": "code",
   "execution_count": 3,
   "metadata": {},
   "outputs": [],
   "source": [
    "import papermill as pm\n",
    "from pyCHX.chx_packages import *\n",
    "%matplotlib notebook\n",
    "plt.rcParams.update({'figure.max_open_warning': 0})\n",
    "plt.rcParams.update({ 'image.origin': 'lower'   })\n",
    "plt.rcParams.update({ 'image.interpolation': 'none'   })\n",
    "import pickle as cpk\n",
    "from pyCHX.chx_xpcs_xsvs_jupyter_V1 import *\n",
    "import itertools\n"
   ]
  },
  {
   "cell_type": "markdown",
   "metadata": {},
   "source": [
    "## For test purpose"
   ]
  },
  {
   "cell_type": "code",
   "execution_count": 2,
   "metadata": {},
   "outputs": [],
   "source": [
    "if False:\n",
    "    a= 10\n",
    "    b= 20\n",
    "    Xm=1 \n",
    "    pm.execute_notebook(\n",
    "   '/home/yuzhang/analysis/2018_3/commissioning/Test_papermill.ipynb',\n",
    "   '/home/yuzhang/analysis/2018_3/commissioning/Test_papermill_res2.ipynb',\n",
    "   parameters = dict( a=a,b=b,Xm=Xm ),\n",
    "        kernel_name= None, report_mode=True\n",
    ")"
   ]
  },
  {
   "cell_type": "code",
   "execution_count": 8,
   "metadata": {},
   "outputs": [
    {
     "data": {
      "text/plain": [
       "\"   uid = 'e01b4e' #(scan num: 24785 (Measurement: Series 0.00134s x 2000 - sample:  CNC 7%         \""
      ]
     },
     "execution_count": 8,
     "metadata": {},
     "output_type": "execute_result"
    }
   ],
   "source": [
    "get_last_uids( -1)"
   ]
  },
  {
   "cell_type": "code",
   "execution_count": null,
   "metadata": {},
   "outputs": [],
   "source": []
  },
  {
   "cell_type": "markdown",
   "metadata": {},
   "source": [
    "## For run XPCS"
   ]
  },
  {
   "cell_type": "code",
   "execution_count": 10,
   "metadata": {
    "scrolled": true
   },
   "outputs": [
    {
     "name": "stderr",
     "output_type": "stream",
     "text": [
      "Input Notebook:  /home/yuzhang/analysis/2018_3/commissioning/XPCS_Single_2018_V13.ipynb\n",
      "Output Notebook: /home/yuzhang/analysis/2018_3/commissioning/XPCS_Single_2018_V13_uid=109db9.ipynb\n",
      "100%|██████████| 190/190 [04:55<00:00,  1.55s/it]\n"
     ]
    }
   ],
   "source": [
    "if True:\n",
    "\n",
    "    uid = '109db9' #(scan num: 24784 (Measurement: Series 0.00134s x 2000 - sample:  CNC 7%         \"\n",
    "     \n",
    "    pm.execute_notebook(\n",
    "   '/home/yuzhang/analysis/2018_3/commissioning/XPCS_Single_2018_V13.ipynb',\n",
    "   '/home/yuzhang/analysis/2018_3/commissioning/XPCS_Single_2018_V13_uid=%s.ipynb'%uid,\n",
    "   parameters = dict( uid = uid, ), kernel_name= None, report_mode=True \n",
    "    \n",
    "    )\n",
    "        \n",
    "        \n"
   ]
  },
  {
   "cell_type": "code",
   "execution_count": null,
   "metadata": {},
   "outputs": [],
   "source": [
    "#nbs = pm.read_notebooks('.')\n",
    "#nbs.display_output('Test_papermill_res.ipynb')"
   ]
  },
  {
   "cell_type": "code",
   "execution_count": 16,
   "metadata": {},
   "outputs": [],
   "source": [
    "#  jupyter nbconvert ResPipes/*.ipynb --to html \n"
   ]
  },
  {
   "cell_type": "code",
   "execution_count": null,
   "metadata": {},
   "outputs": [],
   "source": []
  }
 ],
 "metadata": {
  "kernelspec": {
   "display_name": "Python 3",
   "language": "python",
   "name": "python3"
  },
  "language_info": {
   "codemirror_mode": {
    "name": "ipython",
    "version": 3
   },
   "file_extension": ".py",
   "mimetype": "text/x-python",
   "name": "python",
   "nbconvert_exporter": "python",
   "pygments_lexer": "ipython3",
   "version": "3.6.6"
  }
 },
 "nbformat": 4,
 "nbformat_minor": 2
}
