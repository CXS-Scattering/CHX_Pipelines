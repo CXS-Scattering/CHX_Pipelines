{
 "cells": [
  {
   "cell_type": "code",
   "execution_count": 2,
   "metadata": {},
   "outputs": [],
   "source": [
    "from pyCHX.chx_packages import *\n",
    "#%matplotlib notebook\n",
    "plt.rcParams.update({'figure.max_open_warning': 0})\n",
    "plt.rcParams.update({ 'image.origin': 'lower'   })\n",
    "plt.rcParams.update({ 'image.interpolation': 'none'   })\n",
    "import pickle as cpk\n",
    "#from pyCHX.chx_xpcs_xsvs_jupyter_V1 import *\n",
    "import itertools"
   ]
  },
  {
   "cell_type": "code",
   "execution_count": 3,
   "metadata": {},
   "outputs": [],
   "source": [
    "#%matplotlib notebook\n",
    "#%matplotlib inline"
   ]
  },
  {
   "cell_type": "code",
   "execution_count": null,
   "metadata": {},
   "outputs": [],
   "source": []
  },
  {
   "cell_type": "code",
   "execution_count": 4,
   "metadata": {
    "tags": [
     "parameters"
    ]
   },
   "outputs": [],
   "source": [
    "\n",
    "uid = '2555d366' #] (scan num: 24810) (Measurement: Test images from reference 8CB planar cell detectorx=154.9712,detectory=-132.6920 T=33.9C, real T=33.1 )\n",
    "force_compress = True\n",
    "nobytes=4\n"
   ]
  },
  {
   "cell_type": "code",
   "execution_count": 5,
   "metadata": {},
   "outputs": [
    {
     "name": "stdout",
     "output_type": "stream",
     "text": [
      "filepath : /nsls2/xf11id1/data/2018/09/27/3ffee007-5891-4e77-a0d6\n",
      "got images_per_file\n",
      "scan_id, full-uid, data path are:  24810--2555d366-37ed-4768-9334-e5b5acc1cb5e--/nsls2/xf11id1/data/2018/09/27/3ffee007-5891-4e77-a0d6_598_master.h5\n",
      "More than one device. This would have unintented consequences.Currently, only use the first device.\n",
      "The detectors are:['OAV_image', 'eiger4m_single_image']\n",
      "eiger4m_single_image\n",
      "Image reverse: True\n",
      "Image rotate 90: False\n",
      "The data are: Pipeline processed through proc_func. Original repr:\n",
      "    EigerImages processed through proc_func. Original repr:\n",
      "        <Frames>\n",
      "        Length: 100 frames\n",
      "        Frame Shape: 2167 x 2070\n",
      "        Pixel Datatype: uint32\n"
     ]
    }
   ],
   "source": [
    "sud = get_sid_filenames(db[uid])\n",
    "for pa in sud[2]:\n",
    "    if 'master.h5' in pa:\n",
    "        data_fullpath = pa\n",
    "print ('scan_id, full-uid, data path are:  %s--%s--%s'%(sud[0], sud[1], data_fullpath ))\n",
    "\n",
    "md = get_meta_data( uid )\n",
    "md_blue = md.copy()\n",
    "detectors = sorted(get_detectors(db[uid]))\n",
    "print('The detectors are:%s'%detectors)\n",
    "if len(detectors) >1:\n",
    "    md['detector'] = detectors[1]\n",
    "    print( md['detector'])\n",
    "    \n",
    "if md['detector'] =='eiger4m_single_image' or md['detector'] == 'image':    \n",
    "    reverse= True\n",
    "    rot90= False\n",
    "elif md['detector'] =='eiger500K_single_image':    \n",
    "    reverse= True\n",
    "    rot90=True\n",
    "elif md['detector'] =='eiger1m_single_image':    \n",
    "    reverse= True\n",
    "    rot90=False\n",
    "print('Image reverse: %s\\nImage rotate 90: %s'%(reverse, rot90))        \n",
    "    \n",
    "\n",
    "imgs = load_data( uid, md['detector'], reverse= reverse, rot90=rot90  )\n",
    "md.update( imgs.md );Nimg = len(imgs);\n",
    "#md['beam_center_x'], md['beam_center_y']  = cx, cy\n",
    "#if 'number of images'  not in list(md.keys()):\n",
    "md['number of images']  = Nimg\n",
    "pixel_mask =  1- np.int_( np.array( imgs.md['pixel_mask'], dtype= bool)  )\n",
    "print( 'The data are: %s' %imgs )\n",
    "\n",
    "#md['acquire period' ] = md['cam_acquire_period']\n",
    "#md['exposure time'] =  md['cam_acquire_time']\n",
    "mdn = md.copy()\n",
    "\n",
    "\n",
    "#### Load Chip mask depeding on detector\n",
    "\n",
    "if md['detector'] =='eiger1m_single_image':\n",
    "    Chip_Mask=np.load( '/XF11ID/analysis/2017_1/masks/Eiger1M_Chip_Mask.npy')\n",
    "elif md['detector'] =='eiger4m_single_image' or md['detector'] == 'image':    \n",
    "    Chip_Mask= np.array(np.load( '/XF11ID/analysis/2017_1/masks/Eiger4M_chip_mask.npy'), dtype=bool)\n",
    "    BadPix =     np.load('/XF11ID/analysis/2018_1/BadPix_4M.npy'  )  \n",
    "    Chip_Mask.ravel()[BadPix] = 0\n",
    "elif md['detector'] =='eiger500K_single_image':\n",
    "    #print('here')\n",
    "    Chip_Mask=  np.load( '/XF11ID/analysis/2017_1/masks/Eiger500K_Chip_Mask.npy')  #to be defined the chip mask\n",
    "    Chip_Mask = np.rot90(Chip_Mask)\n",
    "    pixel_mask = np.rot90(  1- np.int_( np.array( imgs.md['pixel_mask'], dtype= bool))   )\n",
    "    \n",
    "else:\n",
    "    Chip_Mask = 1\n",
    "    \n",
    "#show_img(Chip_Mask)\n",
    "#print(Chip_Mask.shape, pixel_mask.shape)\n",
    "\n",
    "use_local_disk = True\n",
    "import shutil,glob\n",
    "\n",
    "if len(detectors)==2:\n",
    "    if '_image' in md['detector']:\n",
    "        pref = md['detector'][:-5]\n",
    "    else:\n",
    "        pref=md['detector']\n",
    "    for k in [ 'beam_center_x', 'beam_center_y','cam_acquire_time','cam_acquire_period','cam_num_images',\n",
    "             'wavelength', 'det_distance', 'photon_energy']:\n",
    "        md[k] =  md[ pref + '%s'%k]    \n",
    "    \n",
    " \n",
    "mask =    pixel_mask * Chip_Mask        \n",
    "        \n",
    "        \n",
    "        \n"
   ]
  },
  {
   "cell_type": "code",
   "execution_count": 6,
   "metadata": {},
   "outputs": [
    {
     "name": "stdout",
     "output_type": "stream",
     "text": [
      "Will Always DO apply compress process.\n",
      "Using already created compressed file with filename as :/nsls2/xf11id1/analysis/Compressed_Data/uid_2555d366-37ed-4768-9334-e5b5acc1cb5e.cmp.\n",
      "The good_start frame number is: 0 \n",
      "Total time: 0.173 sec\n"
     ]
    }
   ],
   "source": [
    "para_compress = True    #parallel compress\n",
    "\n",
    "#force_compress = True\n",
    "\n",
    "compress=True\n",
    "#photon_occ = len( np.where(avg_img)[0] ) / ( imgsa[0].size)\n",
    "#compress =  photon_occ < .4  #if the photon ocupation < 0.5, do compress\n",
    "#print (\"The non-zeros photon occupation is %s.\"%( photon_occ))\n",
    "print(\"Will \" + 'Always ' + ['NOT', 'DO'][compress]  + \" apply compress process.\")\n",
    "\n",
    "if  md['detector'] =='eiger4m_single_image' or md['detector'] == 'image':    \n",
    "    good_start =    0  #make the good_start at least 0\n",
    "elif md['detector'] =='eiger500K_single_image': \n",
    "    good_start = 0  #5  #make the good_start at least 0\n",
    "    \n",
    "elif  md['detector'] =='eiger1m_single_image' or md['detector'] == 'image':    \n",
    "    good_start =   0    \n",
    "\n",
    "bin_frame =  False # True  #generally make bin_frame as False\n",
    "if bin_frame:\n",
    "    bin_frame_number=4\n",
    "    acquisition_period = md['acquire period']\n",
    "    timeperframe = acquisition_period * bin_frame_number\n",
    "else:\n",
    "    bin_frame_number =1\n",
    "\n",
    "\n",
    "\n",
    "import time\n",
    "t0= time.time()\n",
    "\n",
    "if not use_local_disk:\n",
    "    cmp_path = '/nsls2/xf11id1/analysis/Compressed_Data'\n",
    "else:\n",
    "    cmp_path = '/tmp_data/compressed'\n",
    "    \n",
    "    \n",
    "cmp_path = '/nsls2/xf11id1/analysis/Compressed_Data'    \n",
    "if bin_frame_number==1:   \n",
    "    cmp_file = '/uid_%s.cmp'%md['uid']\n",
    "else:\n",
    "    cmp_file = '/uid_%s_bined--%s.cmp'%(md['uid'],bin_frame_number)\n",
    "    \n",
    "filename = cmp_path + cmp_file  \n",
    "mask, avg_img, imgsum, bad_frame_list = compress_eigerdata(imgs, mask, md, filename, \n",
    "         force_compress= force_compress,  para_compress= para_compress,  bad_pixel_threshold = 1e14,\n",
    "                                    reverse=reverse, rot90=rot90, nobytes=nobytes,\n",
    "                        bins=bin_frame_number, num_sub= 100, num_max_para_process= 500, with_pickle=True,\n",
    "                        direct_load_data =use_local_disk, data_path = data_fullpath, )                                  \n",
    "                                                         \n",
    "min_inten = 10    \n",
    "good_start = max(good_start, np.where( np.array(imgsum) > min_inten )[0][0] )    \n",
    "print ('The good_start frame number is: %s '%good_start)\n",
    " \n",
    "run_time(t0)\n",
    "\n",
    " \n",
    "\n"
   ]
  },
  {
   "cell_type": "code",
   "execution_count": null,
   "metadata": {},
   "outputs": [],
   "source": []
  },
  {
   "cell_type": "code",
   "execution_count": null,
   "metadata": {},
   "outputs": [],
   "source": []
  },
  {
   "cell_type": "code",
   "execution_count": null,
   "metadata": {},
   "outputs": [],
   "source": []
  },
  {
   "cell_type": "code",
   "execution_count": null,
   "metadata": {},
   "outputs": [],
   "source": []
  },
  {
   "cell_type": "code",
   "execution_count": null,
   "metadata": {},
   "outputs": [],
   "source": []
  },
  {
   "cell_type": "code",
   "execution_count": null,
   "metadata": {},
   "outputs": [],
   "source": []
  },
  {
   "cell_type": "code",
   "execution_count": null,
   "metadata": {},
   "outputs": [],
   "source": []
  }
 ],
 "metadata": {
  "celltoolbar": "Tags",
  "kernelspec": {
   "display_name": "Python 3",
   "language": "python",
   "name": "python3"
  },
  "language_info": {
   "codemirror_mode": {
    "name": "ipython",
    "version": 3
   },
   "file_extension": ".py",
   "mimetype": "text/x-python",
   "name": "python",
   "nbconvert_exporter": "python",
   "pygments_lexer": "ipython3",
   "version": "3.7.3"
  }
 },
 "nbformat": 4,
 "nbformat_minor": 2
}
