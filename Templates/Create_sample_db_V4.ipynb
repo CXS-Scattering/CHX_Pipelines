{
 "cells": [
  {
   "cell_type": "code",
   "execution_count": 1,
   "metadata": {},
   "outputs": [],
   "source": [
    "# header for 2018-1 kernel\n",
    "from pyCHX.chx_packages import *\n",
    "%matplotlib notebook\n",
    "plt.rcParams.update({'figure.max_open_warning': 0})\n",
    "plt.rcParams.update({ 'image.origin': 'lower'   })\n",
    "plt.rcParams.update({ 'image.interpolation': 'none'   })\n",
    "import pickle as cpk\n",
    "from pyCHX.chx_xpcs_xsvs_jupyter_V1 import *\n",
    "#%run /home/yuzhang/pyCHX_link/pyCHX/chx_generic_functions.py\n",
    "%matplotlib inline"
   ]
  },
  {
   "cell_type": "code",
   "execution_count": 2,
   "metadata": {},
   "outputs": [
    {
     "name": "stdout",
     "output_type": "stream",
     "text": [
      "available databases:\n",
      "['amostra', 'chx-simulation-assetstore', 'chx-simulation-metadatastore', 'datastore', 'filestore', 'local', 'metadatastore', 'metadatastore-production-v1', 'samples']\n",
      "\n",
      " available collection in database samples:\n",
      "['samples', 'data_acquisition_collection', 'samples_2', 'debug', 'beamline_pos']\n"
     ]
    },
    {
     "name": "stderr",
     "output_type": "stream",
     "text": [
      "/opt/conda_envs/analysis-2019-1.2-chx/lib/python3.6/site-packages/ipykernel_launcher.py:13: DeprecationWarning: database_names is deprecated. Use list_database_names instead.\n",
      "  del sys.path[0]\n",
      "/opt/conda_envs/analysis-2019-1.2-chx/lib/python3.6/site-packages/ipykernel_launcher.py:15: DeprecationWarning: collection_names is deprecated. Use list_collection_names instead.\n",
      "  from ipykernel import kernelapp as app\n"
     ]
    }
   ],
   "source": [
    "# import database -> should be hidden from user in same package....\n",
    "import datetime\n",
    "import pymongo  \n",
    "from bson import ObjectId\n",
    "import matplotlib.patches as mpatches\n",
    "from IPython.display import clear_output\n",
    "cli = pymongo.MongoClient('xf11id-ca')    \n",
    "samples_2 = cli.get_database('samples').get_collection('samples_2')\n",
    "data_acquisition_collection = cli.get_database('samples').get_collection('data_acquisition_collection')\n",
    "from databroker import Broker                                                   \n",
    "db = Broker.named('temp')  # for real applications, 'temp' would be 'chx' \n",
    "print('available databases:')\n",
    "print(cli.database_names())\n",
    "print('\\n available collection in database samples:')\n",
    "print(cli.samples.collection_names())"
   ]
  },
  {
   "cell_type": "code",
   "execution_count": 3,
   "metadata": {},
   "outputs": [
    {
     "name": "stdout",
     "output_type": "stream",
     "text": [
      "\u001b[93mWarning: No active frommets remain. Continue?\u001b[0m\n"
     ]
    }
   ],
   "source": [
    "%run -i /nsls2/xf11id1/analysis/2018_3/commissioning/debug_dataacq.py"
   ]
  },
  {
   "cell_type": "code",
   "execution_count": 4,
   "metadata": {},
   "outputs": [],
   "source": [
    "# JUST FOR TESTING: clear collection:\n",
    "#samples_2.delete_many({})\n",
    "#x=samples_2.insert_one(sam)\n",
    "#x.acknowledged\n",
    "#print(x.inserted_id)\n",
    "#samples_2.find_one({'_id':x.inserted_id})\n",
    "#data_acquisition_collection = cli.get_database('samples').get_collection('data_acquisition_collection')"
   ]
  },
  {
   "cell_type": "markdown",
   "metadata": {},
   "source": [
    "# template for sample database entry:"
   ]
  },
  {
   "cell_type": "code",
   "execution_count": null,
   "metadata": {},
   "outputs": [],
   "source": [
    "# explanation of available holders and their parameters:\n",
    "#['flat_cell',1.5,1.]   -> flat cell holder, R=1.5mm clear aperture (fixed design), sample thickness \\n\n",
    "#['capillary',1.0,[-4,-1],'horizontal']   -> glass capillary, diameter, [useful area min|max, relative to center of holder (mark), orientation: 'vertical' for multi sample holder, 'horizontal for sample chamber']"
   ]
  },
  {
   "cell_type": "markdown",
   "metadata": {},
   "source": [
    "### Here is an example for creating one sam"
   ]
  },
  {
   "cell_type": "code",
   "execution_count": 112,
   "metadata": {},
   "outputs": [],
   "source": [
    "sam = {\n",
    "    'sample':{\n",
    "        'sample name':'EG-CNC4-noGel',   # mandatory field\n",
    "        'label':'S18',       # label on sample cell, 'none' if sample is provided to BL 'unmounted' \n",
    "        # standards for automated data acquisition: 'flat_cell', 'capillary', 'none' if sample is provided to BL 'unmounted' \n",
    "        #'holder':['flat_cell', 1.0,  2.0  ],    #-> flat cell holder, R=1.5mm clear aperture (fixed design), sample thickness \\n\n",
    "        'holder':['capillary',1, [-3,3],'vertical'],  # diameter, [useful area min|max, relative to center of holder (mark),\n",
    "        'concentration wt%': 4.0,  #weight faction\n",
    "        'solvent': 'ethylene glycol',\n",
    "        'size': 'approx. 200 x 10 nm',\n",
    "        'material': 'Cellulose',\n",
    "        'dummy':1,\n",
    "    },\n",
    "    'info':{\n",
    "        'owner':'Trosen',                            # mandatory field\n",
    "        'date entered': str(datetime.datetime.now()),\n",
    "        'new_spot_method':'random',               #'none' (let BL staff decide, recommended for underfilled capillaries), 'from_center' (use points closest to center), 'consecutive' (just go though the list), 'random' (recommended for samples with micro-bubbles), 'static (will not use fresh spot)'    '\n",
    "        'uids':{},                                    # will be added automatically         \n",
    "        'points':[],                                    # will be added later\n",
    "        'timestamp':datetime.datetime.now()             # this one is not nice to read, but searchable...\n",
    "    }\n",
    "}"
   ]
  },
  {
   "cell_type": "code",
   "execution_count": null,
   "metadata": {},
   "outputs": [],
   "source": []
  },
  {
   "cell_type": "code",
   "execution_count": null,
   "metadata": {},
   "outputs": [],
   "source": []
  },
  {
   "cell_type": "code",
   "execution_count": null,
   "metadata": {},
   "outputs": [],
   "source": []
  },
  {
   "cell_type": "markdown",
   "metadata": {},
   "source": [
    "# Add sample to database:"
   ]
  },
  {
   "cell_type": "code",
   "execution_count": 113,
   "metadata": {},
   "outputs": [
    {
     "name": "stdout",
     "output_type": "stream",
     "text": [
      "\n",
      "Information successfully added to database!\n",
      "New database key added: 5cdb0991f4fa2d46d7846f57\n",
      "New database entry:\n",
      "\n",
      "{'_id': ObjectId('5cdb0991f4fa2d46d7846f57'), 'sample': {'sample name': 'EG-CNC4-noGel', 'label': 'S18', 'holder': ['capillary', 1, [-3, 3], 'vertical'], 'concentration wt%': 4.0, 'solvent': 'ethylene glycol', 'size': 'approx. 200 x 10 nm', 'material': 'Cellulose', 'dummy': 1}, 'info': {'owner': 'Trosen', 'date entered': '2019-05-14 14:31:42.333731', 'new_spot_method': 'random', 'uids': {}, 'points': [], 'timestamp': datetime.datetime(2019, 5, 14, 14, 31, 42, 333000)}}\n",
      "5cdb0991f4fa2d46d7846f57\n"
     ]
    }
   ],
   "source": [
    "obid=sample_to_database(sam)"
   ]
  },
  {
   "cell_type": "code",
   "execution_count": 114,
   "metadata": {},
   "outputs": [
    {
     "data": {
      "text/plain": [
       "ObjectId('5cdb0991f4fa2d46d7846f57')"
      ]
     },
     "execution_count": 114,
     "metadata": {},
     "output_type": "execute_result"
    }
   ],
   "source": [
    "obid"
   ]
  },
  {
   "cell_type": "code",
   "execution_count": null,
   "metadata": {},
   "outputs": [],
   "source": [
    "#add_sampling_grid(obid)\n",
    "#add_sampling_grid(obid,interactive=True)"
   ]
  },
  {
   "cell_type": "code",
   "execution_count": 115,
   "metadata": {},
   "outputs": [
    {
     "name": "stdout",
     "output_type": "stream",
     "text": [
      "sample holder: capillary\n",
      "step size x: 0.05   step size y: 0.05   number of points available: 491\n"
     ]
    },
    {
     "data": {
      "image/png": "[encoded data removed]",
      "text/plain": [
       "<Figure size 432x288 with 1 Axes>"
      ]
     },
     "metadata": {
      "needs_background": "light"
     },
     "output_type": "display_data"
    }
   ],
   "source": [
    "#add_sampling_grid(obid)\n",
    "add_sampling_grid(obid,interactive=False,x_step=0.05, y_step=0.05, \n",
    "                  holder= ['capillary',1, [-3,3],'vertical'] )\n",
    "                  #holder = ['flat_cell',1.0, 2.0] )\n",
    "                 # holder= ['capillary',1, [-5,5],'vertical']  )\n"
   ]
  },
  {
   "cell_type": "code",
   "execution_count": 40,
   "metadata": {},
   "outputs": [],
   "source": [
    "#obid = ObjectId('5bc77d71412c27b926e790ee')\n",
    "#add_new_spot_method(obid)"
   ]
  },
  {
   "cell_type": "code",
   "execution_count": 14,
   "metadata": {},
   "outputs": [],
   "source": [
    "#S1 ObjectId('5cdb0756f4fa2d46d7846f46')\n",
    "#S2 ObjectId('5cdb07d6f4fa2d46d7846f47')\n",
    "#S3 ObjectId('5cdb0821f4fa2d46d7846f48')\n",
    "#S4 ObjectId('5cdb084bf4fa2d46d7846f49')\n",
    "#S5 ObjectId('5cdb0861f4fa2d46d7846f4a')\n",
    "#S6 ObjectId('5cdb0884f4fa2d46d7846f4b')\n",
    "#S7 ObjectId('5cdb089af4fa2d46d7846f4c')\n",
    "#S8 ObjectId('5cdb08aef4fa2d46d7846f4d')\n",
    "#S9 ObjectId('5cdb08c3f4fa2d46d7846f4e')\n",
    "#S10 ObjectId('5cdb08d5f4fa2d46d7846f4f')\n",
    "#S11 ObjectId('5cdb08ebf4fa2d46d7846f50')\n",
    "#S12 ObjectId('5cdb0905f4fa2d46d7846f51')\n",
    "#S13 ObjectId('5cdb0919f4fa2d46d7846f52')\n",
    "#S14 ObjectId('5cdb0933f4fa2d46d7846f53')\n",
    "#S15 ObjectId('5cdb0957f4fa2d46d7846f54')\n",
    "#S16 ObjectId('5cdb0968f4fa2d46d7846f55')\n",
    "#S17 ObjectId('5cdb097bf4fa2d46d7846f56')\n",
    "#S18 ObjectId('5cdb0991f4fa2d46d7846f57')\n",
    "#S19  ObjectId('5cdb00aaf4fa2d46d7846f44')\n",
    "\n",
    "\n"
   ]
  },
  {
   "cell_type": "markdown",
   "metadata": {},
   "source": [
    "# End of userdata entry to database\n",
    "# How to Find samples in database: Search examples"
   ]
  },
  {
   "cell_type": "code",
   "execution_count": 116,
   "metadata": {
    "scrolled": true
   },
   "outputs": [
    {
     "name": "stdout",
     "output_type": "stream",
     "text": [
      "Found 20 database entries for filter: {'info.owner': 'Trosen'}\n",
      "\n",
      "{'_id': ObjectId('5cdafc8af4fa2d46d7846f43'), 'sample': {'sample name': 'EG-CNC8-noGel', 'label': 'S19', 'holder': ['capillary', 1, [-3, 3], 'vertical'], 'concentration wt%': 8.0, 'solvent': 'ethylene glycol', 'size': 'approx. 200 x 10 nm', 'material': 'Cellulose'}, 'info': {'owner': 'Trosen', 'date entered': '2019-05-14 13:36:07.756906', 'new_spot_method': 'random', 'uids': {}, 'timestamp': datetime.datetime(2019, 5, 14, 13, 36, 7, 756000)}}\n",
      "\n",
      "{'_id': ObjectId('5cdb00aaf4fa2d46d7846f44'), 'sample': {'sample name': 'EG-CNC8-noGel', 'label': 'S19', 'holder': ['capillary', 1, [-3, 3], 'vertical'], 'concentration wt%': 8.0, 'solvent': 'ethylene glycol', 'size': 'approx. 200 x 10 nm', 'material': 'Cellulose', 'dummy': 1}, 'info': {'owner': 'Trosen', 'date entered': '2019-05-14 13:53:43.716020', 'new_spot_method': 'random', 'uids': {}, 'timestamp': datetime.datetime(2019, 5, 14, 13, 53, 43, 716000)}}\n",
      "\n",
      "{'_id': ObjectId('5cdb0756f4fa2d46d7846f46'), 'sample': {'sample name': 'PG-CNC4-noGel', 'label': 'S1', 'holder': ['capillary', 1, [-3, 3], 'vertical'], 'concentration wt%': 4.0, 'solvent': 'propylene glycol', 'size': 'approx. 200 x 10 nm', 'material': 'Cellulose', 'dummy': 1}, 'info': {'owner': 'Trosen', 'date entered': '2019-05-14 14:22:04.289239', 'new_spot_method': 'random', 'uids': {}, 'timestamp': datetime.datetime(2019, 5, 14, 14, 22, 4, 289000)}}\n",
      "\n",
      "{'_id': ObjectId('5cdb07d6f4fa2d46d7846f47'), 'sample': {'sample name': 'PG-CNC4-CaCl2_20muL', 'label': 'S2', 'holder': ['capillary', 1, [-3, 3], 'vertical'], 'concentration wt%': 4.0, 'solvent': 'propylene glycol', 'size': 'approx. 200 x 10 nm', 'material': 'Cellulose', 'dummy': 1}, 'info': {'owner': 'Trosen', 'date entered': '2019-05-14 14:24:15.869576', 'new_spot_method': 'random', 'uids': {}, 'timestamp': datetime.datetime(2019, 5, 14, 14, 24, 15, 869000)}}\n",
      "\n",
      "{'_id': ObjectId('5cdb0821f4fa2d46d7846f48'), 'sample': {'sample name': 'PG-CNC4-CaCl2_40muL', 'label': 'S3', 'holder': ['capillary', 1, [-3, 3], 'vertical'], 'concentration wt%': 4.0, 'solvent': 'propylene glycol', 'size': 'approx. 200 x 10 nm', 'material': 'Cellulose', 'dummy': 1}, 'info': {'owner': 'Trosen', 'date entered': '2019-05-14 14:25:30.798858', 'new_spot_method': 'random', 'uids': {}, 'timestamp': datetime.datetime(2019, 5, 14, 14, 25, 30, 798000)}}\n",
      "\n",
      "{'_id': ObjectId('5cdb084bf4fa2d46d7846f49'), 'sample': {'sample name': 'PG-CNF-AuNP-noGel', 'label': 'S4', 'holder': ['capillary', 1, [-3, 3], 'vertical'], 'concentration wt%': 0.25, 'solvent': 'propylene glycol', 'size': 'NPs 100 nm diameter', 'material': 'Cellulose and Gold NP', 'dummy': 1}, 'info': {'owner': 'Trosen', 'date entered': '2019-05-14 14:26:07.171603', 'new_spot_method': 'random', 'uids': {}, 'timestamp': datetime.datetime(2019, 5, 14, 14, 26, 7, 171000)}}\n",
      "\n",
      "{'_id': ObjectId('5cdb0861f4fa2d46d7846f4a'), 'sample': {'sample name': 'PG-CNF-AuNP-CaCl2_20muL', 'label': 'S5', 'holder': ['capillary', 1, [-3, 3], 'vertical'], 'concentration wt%': 0.25, 'solvent': 'propylene glycol', 'size': 'NPs 100 nm diameter', 'material': 'Cellulose and Gold NP', 'dummy': 1}, 'info': {'owner': 'Trosen', 'date entered': '2019-05-14 14:26:36.334247', 'new_spot_method': 'random', 'uids': {}, 'timestamp': datetime.datetime(2019, 5, 14, 14, 26, 36, 334000)}}\n",
      "\n",
      "{'_id': ObjectId('5cdb0884f4fa2d46d7846f4b'), 'sample': {'sample name': 'PG-CNF-AuNP-CaCl2_40muL', 'label': 'S6', 'holder': ['capillary', 1, [-3, 3], 'vertical'], 'concentration wt%': 0.25, 'solvent': 'propylene glycol', 'size': 'NPs 100 nm diameter', 'material': 'Cellulose and Gold NP', 'dummy': 1}, 'info': {'owner': 'Trosen', 'date entered': '2019-05-14 14:27:09.038752', 'new_spot_method': 'random', 'uids': {}, 'timestamp': datetime.datetime(2019, 5, 14, 14, 27, 9, 38000)}}\n",
      "\n",
      "{'_id': ObjectId('5cdb089af4fa2d46d7846f4c'), 'sample': {'sample name': 'PG-AuNP-025', 'label': 'S7', 'holder': ['capillary', 1, [-3, 3], 'vertical'], 'concentration wt%': 0.25, 'solvent': 'propylene glycol', 'size': 'NPs 100 nm diameter', 'material': 'Gold NP', 'dummy': 1}, 'info': {'owner': 'Trosen', 'date entered': '2019-05-14 14:27:33.566959', 'new_spot_method': 'random', 'uids': {}, 'timestamp': datetime.datetime(2019, 5, 14, 14, 27, 33, 566000)}}\n",
      "\n",
      "{'_id': ObjectId('5cdb08aef4fa2d46d7846f4d'), 'sample': {'sample name': 'PG-AuNP-050', 'label': 'S8', 'holder': ['capillary', 1, [-3, 3], 'vertical'], 'concentration wt%': 0.5, 'solvent': 'propylene glycol', 'size': 'NPs 100 nm diameter', 'material': 'Gold NP', 'dummy': 1}, 'info': {'owner': 'Trosen', 'date entered': '2019-05-14 14:27:53.559094', 'new_spot_method': 'random', 'uids': {}, 'timestamp': datetime.datetime(2019, 5, 14, 14, 27, 53, 559000)}}\n",
      "\n",
      "{'_id': ObjectId('5cdb08c3f4fa2d46d7846f4e'), 'sample': {'sample name': 'H2O-CNC4-noGel', 'label': 'S9', 'holder': ['capillary', 1, [-3, 3], 'vertical'], 'concentration wt%': 4.0, 'solvent': 'water', 'size': 'approx. 200 x 10 nm', 'material': 'Cellulose', 'dummy': 1}, 'info': {'owner': 'Trosen', 'date entered': '2019-05-14 14:28:13.705618', 'new_spot_method': 'random', 'uids': {}, 'timestamp': datetime.datetime(2019, 5, 14, 14, 28, 13, 705000)}}\n",
      "\n",
      "{'_id': ObjectId('5cdb08d5f4fa2d46d7846f4f'), 'sample': {'sample name': 'H2O-CNC4-CaCl2_20muL', 'label': 'S10', 'holder': ['capillary', 1, [-3, 3], 'vertical'], 'concentration wt%': 4.0, 'solvent': 'water', 'size': 'approx. 200 x 10 nm', 'material': 'Cellulose', 'dummy': 1}, 'info': {'owner': 'Trosen', 'date entered': '2019-05-14 14:28:32.223647', 'new_spot_method': 'random', 'uids': {}, 'timestamp': datetime.datetime(2019, 5, 14, 14, 28, 32, 223000)}}\n",
      "\n",
      "{'_id': ObjectId('5cdb08ebf4fa2d46d7846f50'), 'sample': {'sample name': 'H2O-CNC4-CaCl2_40muL', 'label': 'S11', 'holder': ['capillary', 1, [-3, 3], 'vertical'], 'concentration wt%': 4.0, 'solvent': 'water', 'size': 'approx. 200 x 10 nm', 'material': 'Cellulose', 'dummy': 1}, 'info': {'owner': 'Trosen', 'date entered': '2019-05-14 14:28:52.158462', 'new_spot_method': 'random', 'uids': {}, 'timestamp': datetime.datetime(2019, 5, 14, 14, 28, 52, 158000)}}\n",
      "\n",
      "{'_id': ObjectId('5cdb0905f4fa2d46d7846f51'), 'sample': {'sample name': 'H2O-CNC8-noGel', 'label': 'S12', 'holder': ['capillary', 1, [-3, 3], 'vertical'], 'concentration wt%': 8.0, 'solvent': 'water', 'size': 'approx. 200 x 10 nm', 'material': 'Cellulose', 'dummy': 1}, 'info': {'owner': 'Trosen', 'date entered': '2019-05-14 14:29:19.516126', 'new_spot_method': 'random', 'uids': {}, 'timestamp': datetime.datetime(2019, 5, 14, 14, 29, 19, 516000)}}\n",
      "\n",
      "{'_id': ObjectId('5cdb0919f4fa2d46d7846f52'), 'sample': {'sample name': 'H2O-CNC8-CaCl2_20muL', 'label': 'S13', 'holder': ['capillary', 1, [-3, 3], 'vertical'], 'concentration wt%': 8.0, 'solvent': 'water', 'size': 'approx. 200 x 10 nm', 'material': 'Cellulose', 'dummy': 1}, 'info': {'owner': 'Trosen', 'date entered': '2019-05-14 14:29:40.345764', 'new_spot_method': 'random', 'uids': {}, 'timestamp': datetime.datetime(2019, 5, 14, 14, 29, 40, 345000)}}\n",
      "\n",
      "{'_id': ObjectId('5cdb0933f4fa2d46d7846f53'), 'sample': {'sample name': 'H2O-CNC8-CaCl2_40muL', 'label': 'S14', 'holder': ['capillary', 1, [-3, 3], 'vertical'], 'concentration wt%': 8.0, 'solvent': 'water', 'size': 'approx. 200 x 10 nm', 'material': 'Cellulose', 'dummy': 1}, 'info': {'owner': 'Trosen', 'date entered': '2019-05-14 14:29:59.021641', 'new_spot_method': 'random', 'uids': {}, 'timestamp': datetime.datetime(2019, 5, 14, 14, 29, 59, 21000)}}\n",
      "\n",
      "{'_id': ObjectId('5cdb0957f4fa2d46d7846f54'), 'sample': {'sample name': 'PG-CNC8-noGel', 'label': 'S15', 'holder': ['capillary', 1, [-3, 3], 'vertical'], 'concentration wt%': 8.0, 'solvent': 'propylene glycol', 'size': 'approx. 200 x 10 nm', 'material': 'Cellulose', 'dummy': 1}, 'info': {'owner': 'Trosen', 'date entered': '2019-05-14 14:30:43.793013', 'new_spot_method': 'random', 'uids': {}, 'timestamp': datetime.datetime(2019, 5, 14, 14, 30, 43, 793000)}}\n",
      "\n",
      "{'_id': ObjectId('5cdb0968f4fa2d46d7846f55'), 'sample': {'sample name': 'PG-CNC8-CaCl2_20muL', 'label': 'S16', 'holder': ['capillary', 1, [-3, 3], 'vertical'], 'concentration wt%': 8.0, 'solvent': 'propylene glycol', 'size': 'approx. 200 x 10 nm', 'material': 'Cellulose', 'dummy': 1}, 'info': {'owner': 'Trosen', 'date entered': '2019-05-14 14:31:01.156116', 'new_spot_method': 'random', 'uids': {}, 'timestamp': datetime.datetime(2019, 5, 14, 14, 31, 1, 156000)}}\n",
      "\n",
      "{'_id': ObjectId('5cdb097bf4fa2d46d7846f56'), 'sample': {'sample name': 'PG-CNC8-CaCl2_40muL', 'label': 'S17', 'holder': ['capillary', 1, [-3, 3], 'vertical'], 'concentration wt%': 8.0, 'solvent': 'propylene glycol', 'size': 'approx. 200 x 10 nm', 'material': 'Cellulose', 'dummy': 1}, 'info': {'owner': 'Trosen', 'date entered': '2019-05-14 14:31:20.595726', 'new_spot_method': 'random', 'uids': {}, 'timestamp': datetime.datetime(2019, 5, 14, 14, 31, 20, 595000)}}\n",
      "\n",
      "{'_id': ObjectId('5cdb0991f4fa2d46d7846f57'), 'sample': {'sample name': 'EG-CNC4-noGel', 'label': 'S18', 'holder': ['capillary', 1, [-3, 3], 'vertical'], 'concentration wt%': 4.0, 'solvent': 'ethylene glycol', 'size': 'approx. 200 x 10 nm', 'material': 'Cellulose', 'dummy': 1}, 'info': {'owner': 'Trosen', 'date entered': '2019-05-14 14:31:42.333731', 'new_spot_method': 'random', 'uids': {}, 'timestamp': datetime.datetime(2019, 5, 14, 14, 31, 42, 333000)}}\n",
      "\n"
     ]
    }
   ],
   "source": [
    "search_sample_database({'info.owner':'Trosen'},show_points=False) # search by owner \n",
    "#search_sample_database({'info.owner':'ChengHungLin'},show_points=False) # search by owner \n"
   ]
  },
  {
   "cell_type": "code",
   "execution_count": 117,
   "metadata": {},
   "outputs": [],
   "source": [
    "#search_sample_database({ \"$and\": [ { 'sample.sample name': { \"$ne\": 'Some liquid' } }, { 'sample.label': { \"$exists\": False } } ] }) # Search for sample name NOT 'Some liquid' AND the key 'label' exists "
   ]
  },
  {
   "cell_type": "code",
   "execution_count": null,
   "metadata": {},
   "outputs": [],
   "source": [
    "#search_sample_database({\"$and\": [{'info.owner':'lwiegart'},{'sample.sample name':{'$regex':'rubber'}}]})  # search for: owner = lwiegart & sample name contains 'rubber'"
   ]
  },
  {
   "cell_type": "code",
   "execution_count": null,
   "metadata": {},
   "outputs": [],
   "source": [
    "# search for entries made between two time points.\n",
    "# Note: search is on 'timestamp' NOT on 'date entered' ('date entered' is a string that's nice to read, but not to search...)\n",
    "start = datetime.datetime(2018, 8, 31, 12, 51, 4)\n",
    "end = datetime.datetime(2018, 8, 31, 15, 52, 4)\n",
    "print('searching for database entries from '+str(start)+' to '+ str(end))\n",
    "search_sample_database({'$and': [{'info.timestamp':{'$lt': end, '$gte': start}},{'sample.sample name':{'$regex':'rubber'}}]}) "
   ]
  },
  {
   "cell_type": "code",
   "execution_count": null,
   "metadata": {},
   "outputs": [],
   "source": [
    "search_sample_database({\"$or\": [{'info.owner': {'sample.sample name':'ice cream'}},{'sample.holder':'flat_cell'}]}) #search for sample name 'ice cream' OR sample.holder 'flat_cell'"
   ]
  },
  {
   "cell_type": "markdown",
   "metadata": {},
   "source": [
    "### How to find and delete"
   ]
  },
  {
   "cell_type": "code",
   "execution_count": 118,
   "metadata": {},
   "outputs": [],
   "source": [
    "if False:\n",
    "    pass\n",
    "    #samples_2.find_one( {'info.owner':'chx'} )\n",
    "    #samples_2.find_one_and_delete(    {'info.owner':'chx'}  )\n",
    "    #samples_2.find_one_and_delete(    {'info.owner':'chx'}  )\n"
   ]
  },
  {
   "cell_type": "code",
   "execution_count": null,
   "metadata": {},
   "outputs": [],
   "source": [
    "#obj = ObjectId('5bbf68be412c273ebb3672e0')\n",
    "#samples_2.find_one_and_delete( { '_id': ObjectId('5bbe3db2412c278b1521fbb0') } )\n",
    "#samples_2.find_one_and_delete( { '_id':   obj } )\n"
   ]
  },
  {
   "cell_type": "markdown",
   "metadata": {},
   "source": [
    "# end of search examples"
   ]
  },
  {
   "cell_type": "code",
   "execution_count": null,
   "metadata": {},
   "outputs": [],
   "source": [
    "\n"
   ]
  },
  {
   "cell_type": "markdown",
   "metadata": {},
   "source": [
    "# Set up (multi) sample mount and define data acquisition for each sample:"
   ]
  },
  {
   "cell_type": "markdown",
   "metadata": {},
   "source": [
    "## Here is an example for creating multi samples"
   ]
  },
  {
   "cell_type": "code",
   "execution_count": null,
   "metadata": {},
   "outputs": [],
   "source": []
  },
  {
   "cell_type": "code",
   "execution_count": null,
   "metadata": {},
   "outputs": [],
   "source": [
    " "
   ]
  },
  {
   "cell_type": "code",
   "execution_count": null,
   "metadata": {},
   "outputs": [],
   "source": []
  },
  {
   "cell_type": "code",
   "execution_count": 120,
   "metadata": {},
   "outputs": [],
   "source": [
    "multi_sample={\n",
    "    \n",
    "    'sample_mount':'multi',\n",
    "    'owner':'chx',\n",
    "    \n",
    "     'slot2':{\n",
    "        'sample_id': ObjectId('5cdb0756f4fa2d46d7846f46'),\n",
    "        # SAMPLE S1\n",
    "        #'data_acq_seq':myfunc\n",
    "        'data_series':{ \n",
    "            \n",
    "                'fast_T1':  ['4m',.00134,1000, 1, {'series_options':{'feedback_on':True,'analysis':'iso'}}  ],\n",
    "                'fast_T2':  ['4m',.00134,1000, 0.2, {'series_options':{'feedback_on':True,'analysis':'iso'}}  ],\n",
    "                'fast_T3':  ['4m',.00134,1000, 0.036, {'series_options':{'feedback_on':True,'analysis':'iso'}}  ],\n",
    "                'fast_T4':  ['4m',.00134,1000, 0.0068, {'series_options':{'feedback_on':True,'analysis':'iso'}}  ],\n",
    "            \n",
    "                'medium_T1':  ['4m',.01,1000, 1, {'series_options':{'feedback_on':True,'analysis':'iso'}}  ],\n",
    "                'medium_T2':  ['4m',.01, 1000, 0.2, {'series_options':{'feedback_on':True,'analysis':'iso'}}  ],\n",
    "                'medium_T3':  ['4m',.01, 1000, 0.036, {'series_options':{'feedback_on':True,'analysis':'iso'}}  ],\n",
    "                'medium_T4':  ['4m',.01,1000, 0.0068, {'series_options':{'feedback_on':True,'analysis':'iso'}}  ],\n",
    "            \n",
    "            \n",
    "                'slow_T1':  ['4m',.1,1000, 1, {'series_options':{'feedback_on':True,'analysis':'iso'}}  ],\n",
    "                'slow_T2':  ['4m',.1, 1000, 0.2, {'series_options':{'feedback_on':True,'analysis':'iso'}}  ],\n",
    "                'slow_T3':  ['4m',.1, 1000, 0.036, {'series_options':{'feedback_on':True,'analysis':'iso'}}  ],\n",
    "                'slow_T4':  ['4m',.1,1000, 0.0068, {'series_options':{'feedback_on':True,'analysis':'iso'}}  ],\n",
    "                     \n",
    "                      },\n",
    "        'data_acq_seq':{'1':[2,'fast_T1', 'fast_T2', 'fast_T3','fast_T4',\n",
    "                               'medium_T1', 'medium_T2','medium_T3','medium_T4',\n",
    "                             'slow_T1', 'slow_T2', 'slow_T3', 'slow_T4',                              \n",
    "                            ],\n",
    "                       }\n",
    "     },\n",
    "    \n",
    "     'slot3':{\n",
    "        'sample_id': ObjectId('5cdb07d6f4fa2d46d7846f47'),\n",
    "        # SAMPLE S2\n",
    "        #'data_acq_seq':myfunc\n",
    "        'data_series':{ \n",
    "            \n",
    "                'fast_T1':  ['4m',.00134,1000, 1, {'series_options':{'feedback_on':True,'analysis':'iso'}}  ],\n",
    "                'fast_T2':  ['4m',.00134,1000, 0.2, {'series_options':{'feedback_on':True,'analysis':'iso'}}  ],\n",
    "                'fast_T3':  ['4m',.00134,1000, 0.036, {'series_options':{'feedback_on':True,'analysis':'iso'}}  ],\n",
    "                'fast_T4':  ['4m',.00134,1000, 0.0068, {'series_options':{'feedback_on':True,'analysis':'iso'}}  ],\n",
    "            \n",
    "                'medium_T1':  ['4m',.01,1000, 1, {'series_options':{'feedback_on':True,'analysis':'iso'}}  ],\n",
    "                'medium_T2':  ['4m',.01, 1000, 0.2, {'series_options':{'feedback_on':True,'analysis':'iso'}}  ],\n",
    "                'medium_T3':  ['4m',.01, 1000, 0.036, {'series_options':{'feedback_on':True,'analysis':'iso'}}  ],\n",
    "                'medium_T4':  ['4m',.01,1000, 0.0068, {'series_options':{'feedback_on':True,'analysis':'iso'}}  ],\n",
    "            \n",
    "            \n",
    "                'slow_T1':  ['4m',.1,1000, 1, {'series_options':{'feedback_on':True,'analysis':'iso'}}  ],\n",
    "                'slow_T2':  ['4m',.1, 1000, 0.2, {'series_options':{'feedback_on':True,'analysis':'iso'}}  ],\n",
    "                'slow_T3':  ['4m',.1, 1000, 0.036, {'series_options':{'feedback_on':True,'analysis':'iso'}}  ],\n",
    "                'slow_T4':  ['4m',.1,1000, 0.0068, {'series_options':{'feedback_on':True,'analysis':'iso'}}  ],\n",
    "                     \n",
    "                      },\n",
    "        'data_acq_seq':{'1':[2,'fast_T1', 'fast_T2', 'fast_T3','fast_T4',\n",
    "                               'medium_T1', 'medium_T2','medium_T3','medium_T4',\n",
    "                             'slow_T1', 'slow_T2', 'slow_T3', 'slow_T4',                              \n",
    "                            ],\n",
    "                       }\n",
    "     },\n",
    "    \n",
    "     'slot4':{\n",
    "        'sample_id': ObjectId('5cdb0821f4fa2d46d7846f48'),\n",
    "        # SAMPLE S3\n",
    "        #'data_acq_seq':myfunc\n",
    "        'data_series':{ \n",
    "            \n",
    "                'fast_T1':  ['4m',.00134,1000, 1, {'series_options':{'feedback_on':True,'analysis':'iso'}}  ],\n",
    "                'fast_T2':  ['4m',.00134,1000, 0.2, {'series_options':{'feedback_on':True,'analysis':'iso'}}  ],\n",
    "                'fast_T3':  ['4m',.00134,1000, 0.036, {'series_options':{'feedback_on':True,'analysis':'iso'}}  ],\n",
    "                'fast_T4':  ['4m',.00134,1000, 0.0068, {'series_options':{'feedback_on':True,'analysis':'iso'}}  ],\n",
    "            \n",
    "                'medium_T1':  ['4m',.01,1000, 1, {'series_options':{'feedback_on':True,'analysis':'iso'}}  ],\n",
    "                'medium_T2':  ['4m',.01, 1000, 0.2, {'series_options':{'feedback_on':True,'analysis':'iso'}}  ],\n",
    "                'medium_T3':  ['4m',.01, 1000, 0.036, {'series_options':{'feedback_on':True,'analysis':'iso'}}  ],\n",
    "                'medium_T4':  ['4m',.01,1000, 0.0068, {'series_options':{'feedback_on':True,'analysis':'iso'}}  ],\n",
    "            \n",
    "            \n",
    "                'slow_T1':  ['4m',.1,1000, 1, {'series_options':{'feedback_on':True,'analysis':'iso'}}  ],\n",
    "                'slow_T2':  ['4m',.1, 1000, 0.2, {'series_options':{'feedback_on':True,'analysis':'iso'}}  ],\n",
    "                'slow_T3':  ['4m',.1, 1000, 0.036, {'series_options':{'feedback_on':True,'analysis':'iso'}}  ],\n",
    "                'slow_T4':  ['4m',.1,1000, 0.0068, {'series_options':{'feedback_on':True,'analysis':'iso'}}  ],\n",
    "                     \n",
    "                      },\n",
    "        'data_acq_seq':{'1':[2,'fast_T1', 'fast_T2', 'fast_T3','fast_T4',\n",
    "                               'medium_T1', 'medium_T2','medium_T3','medium_T4',\n",
    "                             'slow_T1', 'slow_T2', 'slow_T3', 'slow_T4',                              \n",
    "                            ],\n",
    "                       }\n",
    "     },\n",
    "    \n",
    "     'slot5':{\n",
    "        'sample_id': ObjectId('5cdb084bf4fa2d46d7846f49'),\n",
    "        # SAMPLE S4\n",
    "        #'data_acq_seq':myfunc\n",
    "        'data_series':{ \n",
    "            \n",
    "                'fast_T1':  ['4m',.00134,1000, 1, {'series_options':{'feedback_on':True,'analysis':'iso'}}  ],\n",
    "                'fast_T2':  ['4m',.00134,1000, 0.2, {'series_options':{'feedback_on':True,'analysis':'iso'}}  ],\n",
    "                'fast_T3':  ['4m',.00134,1000, 0.036, {'series_options':{'feedback_on':True,'analysis':'iso'}}  ],\n",
    "                'fast_T4':  ['4m',.00134,1000, 0.0068, {'series_options':{'feedback_on':True,'analysis':'iso'}}  ],\n",
    "            \n",
    "                'medium_T1':  ['4m',.01,1000, 1, {'series_options':{'feedback_on':True,'analysis':'iso'}}  ],\n",
    "                'medium_T2':  ['4m',.01, 1000, 0.2, {'series_options':{'feedback_on':True,'analysis':'iso'}}  ],\n",
    "                'medium_T3':  ['4m',.01, 1000, 0.036, {'series_options':{'feedback_on':True,'analysis':'iso'}}  ],\n",
    "                'medium_T4':  ['4m',.01,1000, 0.0068, {'series_options':{'feedback_on':True,'analysis':'iso'}}  ],\n",
    "            \n",
    "            \n",
    "                'slow_T1':  ['4m',.1,1000, 1, {'series_options':{'feedback_on':True,'analysis':'iso'}}  ],\n",
    "                'slow_T2':  ['4m',.1, 1000, 0.2, {'series_options':{'feedback_on':True,'analysis':'iso'}}  ],\n",
    "                'slow_T3':  ['4m',.1, 1000, 0.036, {'series_options':{'feedback_on':True,'analysis':'iso'}}  ],\n",
    "                'slow_T4':  ['4m',.1,1000, 0.0068, {'series_options':{'feedback_on':True,'analysis':'iso'}}  ],\n",
    "                     \n",
    "                      },\n",
    "        'data_acq_seq':{'1':[2,'fast_T1', 'fast_T2', 'fast_T3','fast_T4',\n",
    "                               'medium_T1', 'medium_T2','medium_T3','medium_T4',\n",
    "                             'slow_T1', 'slow_T2', 'slow_T3', 'slow_T4',                              \n",
    "                            ],\n",
    "                       }\n",
    "     },\n",
    "    \n",
    "     'slot6':{\n",
    "        'sample_id': ObjectId('5cdb0861f4fa2d46d7846f4a'),\n",
    "        # SAMPLE S5\n",
    "        #'data_acq_seq':myfunc\n",
    "        'data_series':{ \n",
    "            \n",
    "                'fast_T1':  ['4m',.00134,1000, 1, {'series_options':{'feedback_on':True,'analysis':'iso'}}  ],\n",
    "                'fast_T2':  ['4m',.00134,1000, 0.2, {'series_options':{'feedback_on':True,'analysis':'iso'}}  ],\n",
    "                'fast_T3':  ['4m',.00134,1000, 0.036, {'series_options':{'feedback_on':True,'analysis':'iso'}}  ],\n",
    "                'fast_T4':  ['4m',.00134,1000, 0.0068, {'series_options':{'feedback_on':True,'analysis':'iso'}}  ],\n",
    "            \n",
    "                'medium_T1':  ['4m',.01,1000, 1, {'series_options':{'feedback_on':True,'analysis':'iso'}}  ],\n",
    "                'medium_T2':  ['4m',.01, 1000, 0.2, {'series_options':{'feedback_on':True,'analysis':'iso'}}  ],\n",
    "                'medium_T3':  ['4m',.01, 1000, 0.036, {'series_options':{'feedback_on':True,'analysis':'iso'}}  ],\n",
    "                'medium_T4':  ['4m',.01,1000, 0.0068, {'series_options':{'feedback_on':True,'analysis':'iso'}}  ],\n",
    "            \n",
    "            \n",
    "                'slow_T1':  ['4m',.1,1000, 1, {'series_options':{'feedback_on':True,'analysis':'iso'}}  ],\n",
    "                'slow_T2':  ['4m',.1, 1000, 0.2, {'series_options':{'feedback_on':True,'analysis':'iso'}}  ],\n",
    "                'slow_T3':  ['4m',.1, 1000, 0.036, {'series_options':{'feedback_on':True,'analysis':'iso'}}  ],\n",
    "                'slow_T4':  ['4m',.1,1000, 0.0068, {'series_options':{'feedback_on':True,'analysis':'iso'}}  ],\n",
    "                     \n",
    "                      },\n",
    "        'data_acq_seq':{'1':[2,'fast_T1', 'fast_T2', 'fast_T3','fast_T4',\n",
    "                               'medium_T1', 'medium_T2','medium_T3','medium_T4',\n",
    "                             'slow_T1', 'slow_T2', 'slow_T3', 'slow_T4',                              \n",
    "                            ],\n",
    "                       }\n",
    "     },\n",
    "    \n",
    "     'slot7':{\n",
    "        'sample_id': ObjectId('5cdb0884f4fa2d46d7846f4b'),\n",
    "        # SAMPLE S6\n",
    "        #'data_acq_seq':myfunc\n",
    "        'data_series':{ \n",
    "            \n",
    "                'fast_T1':  ['4m',.00134,1000, 1, {'series_options':{'feedback_on':True,'analysis':'iso'}}  ],\n",
    "                'fast_T2':  ['4m',.00134,1000, 0.2, {'series_options':{'feedback_on':True,'analysis':'iso'}}  ],\n",
    "                'fast_T3':  ['4m',.00134,1000, 0.036, {'series_options':{'feedback_on':True,'analysis':'iso'}}  ],\n",
    "                'fast_T4':  ['4m',.00134,1000, 0.0068, {'series_options':{'feedback_on':True,'analysis':'iso'}}  ],\n",
    "            \n",
    "                'medium_T1':  ['4m',.01,1000, 1, {'series_options':{'feedback_on':True,'analysis':'iso'}}  ],\n",
    "                'medium_T2':  ['4m',.01, 1000, 0.2, {'series_options':{'feedback_on':True,'analysis':'iso'}}  ],\n",
    "                'medium_T3':  ['4m',.01, 1000, 0.036, {'series_options':{'feedback_on':True,'analysis':'iso'}}  ],\n",
    "                'medium_T4':  ['4m',.01,1000, 0.0068, {'series_options':{'feedback_on':True,'analysis':'iso'}}  ],\n",
    "            \n",
    "            \n",
    "                'slow_T1':  ['4m',.1,1000, 1, {'series_options':{'feedback_on':True,'analysis':'iso'}}  ],\n",
    "                'slow_T2':  ['4m',.1, 1000, 0.2, {'series_options':{'feedback_on':True,'analysis':'iso'}}  ],\n",
    "                'slow_T3':  ['4m',.1, 1000, 0.036, {'series_options':{'feedback_on':True,'analysis':'iso'}}  ],\n",
    "                'slow_T4':  ['4m',.1,1000, 0.0068, {'series_options':{'feedback_on':True,'analysis':'iso'}}  ],\n",
    "                     \n",
    "                      },\n",
    "        'data_acq_seq':{'1':[2,'fast_T1', 'fast_T2', 'fast_T3','fast_T4',\n",
    "                               'medium_T1', 'medium_T2','medium_T3','medium_T4',\n",
    "                             'slow_T1', 'slow_T2', 'slow_T3', 'slow_T4',                              \n",
    "                            ],\n",
    "                       }\n",
    "     },\n",
    "                 \n",
    "\n",
    "    \n",
    "    ##################Keep this refrence sample#############     \n",
    "    'slot8':{     # center of multi sample holder -> reserved for alignment \n",
    "        'sample_id':ObjectId('5b8c868f7fd7d080b86a9bab'),\n",
    "        'data_series':'none',\n",
    "        'data_acq_seq':'none'\n",
    "    },\n",
    "    ######################################################  \n",
    "    \n",
    "    'slot9':{\n",
    "        'sample_id': ObjectId('5cdb089af4fa2d46d7846f4c'),\n",
    "        # SAMPLE S7\n",
    "        #'data_acq_seq':myfunc\n",
    "        'data_series':{ \n",
    "            \n",
    "                'fast_T1':  ['4m',.00134,1000, 1, {'series_options':{'feedback_on':True,'analysis':'iso'}}  ],\n",
    "                'fast_T2':  ['4m',.00134,1000, 0.2, {'series_options':{'feedback_on':True,'analysis':'iso'}}  ],\n",
    "                'fast_T3':  ['4m',.00134,1000, 0.036, {'series_options':{'feedback_on':True,'analysis':'iso'}}  ],\n",
    "                'fast_T4':  ['4m',.00134,1000, 0.0068, {'series_options':{'feedback_on':True,'analysis':'iso'}}  ],\n",
    "            \n",
    "                'medium_T1':  ['4m',.01,1000, 1, {'series_options':{'feedback_on':True,'analysis':'iso'}}  ],\n",
    "                'medium_T2':  ['4m',.01, 1000, 0.2, {'series_options':{'feedback_on':True,'analysis':'iso'}}  ],\n",
    "                'medium_T3':  ['4m',.01, 1000, 0.036, {'series_options':{'feedback_on':True,'analysis':'iso'}}  ],\n",
    "                'medium_T4':  ['4m',.01,1000, 0.0068, {'series_options':{'feedback_on':True,'analysis':'iso'}}  ],\n",
    "            \n",
    "            \n",
    "                'slow_T1':  ['4m',.1,1000, 1, {'series_options':{'feedback_on':True,'analysis':'iso'}}  ],\n",
    "                'slow_T2':  ['4m',.1, 1000, 0.2, {'series_options':{'feedback_on':True,'analysis':'iso'}}  ],\n",
    "                'slow_T3':  ['4m',.1, 1000, 0.036, {'series_options':{'feedback_on':True,'analysis':'iso'}}  ],\n",
    "                'slow_T4':  ['4m',.1,1000, 0.0068, {'series_options':{'feedback_on':True,'analysis':'iso'}}  ],\n",
    "                     \n",
    "                      },\n",
    "        'data_acq_seq':{'1':[2,'fast_T1', 'fast_T2', 'fast_T3','fast_T4',\n",
    "                               'medium_T1', 'medium_T2','medium_T3','medium_T4',\n",
    "                             'slow_T1', 'slow_T2', 'slow_T3', 'slow_T4',                              \n",
    "                            ],\n",
    "                       }\n",
    "     },\n",
    "    \n",
    "     'slot10':{\n",
    "        'sample_id': ObjectId('5cdb08aef4fa2d46d7846f4d'),\n",
    "        # SAMPLE S8\n",
    "        #'data_acq_seq':myfunc\n",
    "        'data_series':{ \n",
    "            \n",
    "                'fast_T1':  ['4m',.00134,1000, 1, {'series_options':{'feedback_on':True,'analysis':'iso'}}  ],\n",
    "                'fast_T2':  ['4m',.00134,1000, 0.2, {'series_options':{'feedback_on':True,'analysis':'iso'}}  ],\n",
    "                'fast_T3':  ['4m',.00134,1000, 0.036, {'series_options':{'feedback_on':True,'analysis':'iso'}}  ],\n",
    "                'fast_T4':  ['4m',.00134,1000, 0.0068, {'series_options':{'feedback_on':True,'analysis':'iso'}}  ],\n",
    "            \n",
    "                'medium_T1':  ['4m',.01,1000, 1, {'series_options':{'feedback_on':True,'analysis':'iso'}}  ],\n",
    "                'medium_T2':  ['4m',.01, 1000, 0.2, {'series_options':{'feedback_on':True,'analysis':'iso'}}  ],\n",
    "                'medium_T3':  ['4m',.01, 1000, 0.036, {'series_options':{'feedback_on':True,'analysis':'iso'}}  ],\n",
    "                'medium_T4':  ['4m',.01,1000, 0.0068, {'series_options':{'feedback_on':True,'analysis':'iso'}}  ],\n",
    "            \n",
    "            \n",
    "                'slow_T1':  ['4m',.1,1000, 1, {'series_options':{'feedback_on':True,'analysis':'iso'}}  ],\n",
    "                'slow_T2':  ['4m',.1, 1000, 0.2, {'series_options':{'feedback_on':True,'analysis':'iso'}}  ],\n",
    "                'slow_T3':  ['4m',.1, 1000, 0.036, {'series_options':{'feedback_on':True,'analysis':'iso'}}  ],\n",
    "                'slow_T4':  ['4m',.1,1000, 0.0068, {'series_options':{'feedback_on':True,'analysis':'iso'}}  ],\n",
    "                     \n",
    "                      },\n",
    "        'data_acq_seq':{'1':[2,'fast_T1', 'fast_T2', 'fast_T3','fast_T4',\n",
    "                               'medium_T1', 'medium_T2','medium_T3','medium_T4',\n",
    "                             'slow_T1', 'slow_T2', 'slow_T3', 'slow_T4',                              \n",
    "                            ],\n",
    "                       }\n",
    "     },\n",
    "    \n",
    "     'slot11':{\n",
    "        'sample_id': ObjectId('5cdb08c3f4fa2d46d7846f4e'),\n",
    "        # SAMPLE S9\n",
    "        #'data_acq_seq':myfunc\n",
    "        'data_series':{ \n",
    "            \n",
    "                'fast_T1':  ['4m',.00134,1000, 1, {'series_options':{'feedback_on':True,'analysis':'iso'}}  ],\n",
    "                'fast_T2':  ['4m',.00134,1000, 0.2, {'series_options':{'feedback_on':True,'analysis':'iso'}}  ],\n",
    "                'fast_T3':  ['4m',.00134,1000, 0.036, {'series_options':{'feedback_on':True,'analysis':'iso'}}  ],\n",
    "                'fast_T4':  ['4m',.00134,1000, 0.0068, {'series_options':{'feedback_on':True,'analysis':'iso'}}  ],\n",
    "            \n",
    "                'medium_T1':  ['4m',.01,1000, 1, {'series_options':{'feedback_on':True,'analysis':'iso'}}  ],\n",
    "                'medium_T2':  ['4m',.01, 1000, 0.2, {'series_options':{'feedback_on':True,'analysis':'iso'}}  ],\n",
    "                'medium_T3':  ['4m',.01, 1000, 0.036, {'series_options':{'feedback_on':True,'analysis':'iso'}}  ],\n",
    "                'medium_T4':  ['4m',.01,1000, 0.0068, {'series_options':{'feedback_on':True,'analysis':'iso'}}  ],\n",
    "            \n",
    "            \n",
    "                'slow_T1':  ['4m',.1,1000, 1, {'series_options':{'feedback_on':True,'analysis':'iso'}}  ],\n",
    "                'slow_T2':  ['4m',.1, 1000, 0.2, {'series_options':{'feedback_on':True,'analysis':'iso'}}  ],\n",
    "                'slow_T3':  ['4m',.1, 1000, 0.036, {'series_options':{'feedback_on':True,'analysis':'iso'}}  ],\n",
    "                'slow_T4':  ['4m',.1,1000, 0.0068, {'series_options':{'feedback_on':True,'analysis':'iso'}}  ],\n",
    "                     \n",
    "                      },\n",
    "        'data_acq_seq':{'1':[2,'fast_T1', 'fast_T2', 'fast_T3','fast_T4',\n",
    "                               'medium_T1', 'medium_T2','medium_T3','medium_T4',\n",
    "                             'slow_T1', 'slow_T2', 'slow_T3', 'slow_T4',                              \n",
    "                            ],\n",
    "                       }\n",
    "     },\n",
    "    \n",
    "     'slot12':{\n",
    "        'sample_id': ObjectId('5cdb0905f4fa2d46d7846f51'),\n",
    "        # SAMPLE S12\n",
    "        #'data_acq_seq':myfunc\n",
    "        'data_series':{ \n",
    "            \n",
    "                'fast_T1':  ['4m',.00134,1000, 1, {'series_options':{'feedback_on':True,'analysis':'iso'}}  ],\n",
    "                'fast_T2':  ['4m',.00134,1000, 0.2, {'series_options':{'feedback_on':True,'analysis':'iso'}}  ],\n",
    "                'fast_T3':  ['4m',.00134,1000, 0.036, {'series_options':{'feedback_on':True,'analysis':'iso'}}  ],\n",
    "                'fast_T4':  ['4m',.00134,1000, 0.0068, {'series_options':{'feedback_on':True,'analysis':'iso'}}  ],\n",
    "            \n",
    "                'medium_T1':  ['4m',.01,1000, 1, {'series_options':{'feedback_on':True,'analysis':'iso'}}  ],\n",
    "                'medium_T2':  ['4m',.01, 1000, 0.2, {'series_options':{'feedback_on':True,'analysis':'iso'}}  ],\n",
    "                'medium_T3':  ['4m',.01, 1000, 0.036, {'series_options':{'feedback_on':True,'analysis':'iso'}}  ],\n",
    "                'medium_T4':  ['4m',.01,1000, 0.0068, {'series_options':{'feedback_on':True,'analysis':'iso'}}  ],\n",
    "            \n",
    "            \n",
    "                'slow_T1':  ['4m',.1,1000, 1, {'series_options':{'feedback_on':True,'analysis':'iso'}}  ],\n",
    "                'slow_T2':  ['4m',.1, 1000, 0.2, {'series_options':{'feedback_on':True,'analysis':'iso'}}  ],\n",
    "                'slow_T3':  ['4m',.1, 1000, 0.036, {'series_options':{'feedback_on':True,'analysis':'iso'}}  ],\n",
    "                'slow_T4':  ['4m',.1,1000, 0.0068, {'series_options':{'feedback_on':True,'analysis':'iso'}}  ],\n",
    "                     \n",
    "                      },\n",
    "        'data_acq_seq':{'1':[2,'fast_T1', 'fast_T2', 'fast_T3','fast_T4',\n",
    "                               'medium_T1', 'medium_T2','medium_T3','medium_T4',\n",
    "                             'slow_T1', 'slow_T2', 'slow_T3', 'slow_T4',                              \n",
    "                            ],\n",
    "                       }\n",
    "     },\n",
    "    \n",
    " \n",
    "     \n",
    "    'date entered': str(datetime.datetime.now()),\n",
    "    'timestamp':datetime.datetime.now()\n",
    "    \n",
    "}"
   ]
  },
  {
   "cell_type": "code",
   "execution_count": null,
   "metadata": {},
   "outputs": [],
   "source": []
  },
  {
   "cell_type": "code",
   "execution_count": null,
   "metadata": {},
   "outputs": [],
   "source": []
  },
  {
   "cell_type": "code",
   "execution_count": null,
   "metadata": {},
   "outputs": [],
   "source": []
  },
  {
   "cell_type": "code",
   "execution_count": null,
   "metadata": {},
   "outputs": [],
   "source": []
  },
  {
   "cell_type": "markdown",
   "metadata": {},
   "source": [
    "# get a report on a single slot:"
   ]
  },
  {
   "cell_type": "code",
   "execution_count": 27,
   "metadata": {
    "scrolled": true
   },
   "outputs": [],
   "source": [
    "#[slot1_list,slot1_stats,error_trac] = single_slot_report(multi_sample=multi_sample,slot_key='slot6')\n",
    "#[slot1_list,slot1_stats,error_trac], ss = single_slot_report2(multi_sample=multi_sample,slot_key='slot11')"
   ]
  },
  {
   "cell_type": "code",
   "execution_count": 121,
   "metadata": {
    "scrolled": true
   },
   "outputs": [
    {
     "name": "stdout",
     "output_type": "stream",
     "text": [
      "Report for sample dictionary: multi_sample. Slots_used: ['slot2', 'slot3', 'slot4', 'slot5', 'slot6', 'slot7', 'slot8', 'slot9', 'slot10', 'slot11', 'slot12']\n",
      "\u001b[91m\u001b[1m\n",
      "Report for: slot2\u001b[0m\n",
      " Sample information:\n",
      "{'sample name': 'PG-CNC4-noGel', 'label': 'S1', 'holder': ['capillary', 1, [-3, 3], 'vertical'], 'concentration wt%': 4.0, 'solvent': 'propylene glycol', 'size': 'approx. 200 x 10 nm', 'material': 'Cellulose', 'dummy': 1}\n",
      "other information:\n",
      "{'owner': 'Trosen', 'date entered': '2019-05-14 14:22:04.289239', 'new_spot_method': 'random'}\n",
      "\n",
      "\n",
      "number of fresh sample spots available: 491 data points: 24 -> OK!\n",
      "\n",
      "data acquistion series defined for this slot: \n",
      "('fast_T1', [['4m', 0.00134, 1000, 1, {'series_options': {'feedback_on': True, 'analysis': 'iso'}}]], ' -> dose: 1.34s   taus=[[0.00134, 1.34]]s')\n",
      "('fast_T2', [['4m', 0.00134, 1000, 0.2, {'series_options': {'feedback_on': True, 'analysis': 'iso'}}]], ' -> dose: 0.268s   taus=[[0.00134, 1.34]]s')\n",
      "('fast_T3', [['4m', 0.00134, 1000, 0.036, {'series_options': {'feedback_on': True, 'analysis': 'iso'}}]], ' -> dose: 0.04824s   taus=[[0.00134, 1.34]]s')\n",
      "('fast_T4', [['4m', 0.00134, 1000, 0.0068, {'series_options': {'feedback_on': True, 'analysis': 'iso'}}]], ' -> dose: 0.009112s   taus=[[0.00134, 1.34]]s')\n",
      "('medium_T1', [['4m', 0.01, 1000, 1, {'series_options': {'feedback_on': True, 'analysis': 'iso'}}]], ' -> dose: 10.0s   taus=[[0.01, 10.0]]s')\n",
      "('medium_T2', [['4m', 0.01, 1000, 0.2, {'series_options': {'feedback_on': True, 'analysis': 'iso'}}]], ' -> dose: 2.0s   taus=[[0.01, 10.0]]s')\n",
      "('medium_T3', [['4m', 0.01, 1000, 0.036, {'series_options': {'feedback_on': True, 'analysis': 'iso'}}]], ' -> dose: 0.36s   taus=[[0.01, 10.0]]s')\n",
      "('medium_T4', [['4m', 0.01, 1000, 0.0068, {'series_options': {'feedback_on': True, 'analysis': 'iso'}}]], ' -> dose: 0.06799999999999999s   taus=[[0.01, 10.0]]s')\n",
      "('slow_T1', [['4m', 0.1, 1000, 1, {'series_options': {'feedback_on': True, 'analysis': 'iso'}}]], ' -> dose: 100.0s   taus=[[0.1, 100.0]]s')\n",
      "('slow_T2', [['4m', 0.1, 1000, 0.2, {'series_options': {'feedback_on': True, 'analysis': 'iso'}}]], ' -> dose: 20.0s   taus=[[0.1, 100.0]]s')\n",
      "('slow_T3', [['4m', 0.1, 1000, 0.036, {'series_options': {'feedback_on': True, 'analysis': 'iso'}}]], ' -> dose: 3.5999999999999996s   taus=[[0.1, 100.0]]s')\n",
      "('slow_T4', [['4m', 0.1, 1000, 0.0068, {'series_options': {'feedback_on': True, 'analysis': 'iso'}}]], ' -> dose: 0.6799999999999999s   taus=[[0.1, 100.0]]s')\n",
      "\n",
      "acquisition sequence defined for this slot:\n",
      "('1', [2, 'fast_T1', 'fast_T2', 'fast_T3', 'fast_T4', 'medium_T1', 'medium_T2', 'medium_T3', 'medium_T4', 'slow_T1', 'slow_T2', 'slow_T3', 'slow_T4'])\n",
      "\n",
      "time for data acquistion [s]: 890.7199999999999\n",
      "time for temperature ramps [s]: 0\n",
      "wait time [s]: 0\n",
      "total time for slot2 [hh:mm:ss]: 00:14:50\n",
      "starting temperature for next slot: 24C\n",
      "number of data points to be collected: 24\n",
      "\u001b[91m\u001b[1m\n",
      "Report for: slot3\u001b[0m\n",
      " Sample information:\n",
      "{'sample name': 'PG-CNC4-CaCl2_20muL', 'label': 'S2', 'holder': ['capillary', 1, [-3, 3], 'vertical'], 'concentration wt%': 4.0, 'solvent': 'propylene glycol', 'size': 'approx. 200 x 10 nm', 'material': 'Cellulose', 'dummy': 1}\n",
      "other information:\n",
      "{'owner': 'Trosen', 'date entered': '2019-05-14 14:24:15.869576', 'new_spot_method': 'random'}\n",
      "\n",
      "\n",
      "number of fresh sample spots available: 491 data points: 24 -> OK!\n",
      "\n",
      "data acquistion series defined for this slot: \n",
      "('fast_T1', [['4m', 0.00134, 1000, 1, {'series_options': {'feedback_on': True, 'analysis': 'iso'}}]], ' -> dose: 1.34s   taus=[[0.00134, 1.34]]s')\n",
      "('fast_T2', [['4m', 0.00134, 1000, 0.2, {'series_options': {'feedback_on': True, 'analysis': 'iso'}}]], ' -> dose: 0.268s   taus=[[0.00134, 1.34]]s')\n",
      "('fast_T3', [['4m', 0.00134, 1000, 0.036, {'series_options': {'feedback_on': True, 'analysis': 'iso'}}]], ' -> dose: 0.04824s   taus=[[0.00134, 1.34]]s')\n",
      "('fast_T4', [['4m', 0.00134, 1000, 0.0068, {'series_options': {'feedback_on': True, 'analysis': 'iso'}}]], ' -> dose: 0.009112s   taus=[[0.00134, 1.34]]s')\n",
      "('medium_T1', [['4m', 0.01, 1000, 1, {'series_options': {'feedback_on': True, 'analysis': 'iso'}}]], ' -> dose: 10.0s   taus=[[0.01, 10.0]]s')\n",
      "('medium_T2', [['4m', 0.01, 1000, 0.2, {'series_options': {'feedback_on': True, 'analysis': 'iso'}}]], ' -> dose: 2.0s   taus=[[0.01, 10.0]]s')\n",
      "('medium_T3', [['4m', 0.01, 1000, 0.036, {'series_options': {'feedback_on': True, 'analysis': 'iso'}}]], ' -> dose: 0.36s   taus=[[0.01, 10.0]]s')\n",
      "('medium_T4', [['4m', 0.01, 1000, 0.0068, {'series_options': {'feedback_on': True, 'analysis': 'iso'}}]], ' -> dose: 0.06799999999999999s   taus=[[0.01, 10.0]]s')\n",
      "('slow_T1', [['4m', 0.1, 1000, 1, {'series_options': {'feedback_on': True, 'analysis': 'iso'}}]], ' -> dose: 100.0s   taus=[[0.1, 100.0]]s')\n",
      "('slow_T2', [['4m', 0.1, 1000, 0.2, {'series_options': {'feedback_on': True, 'analysis': 'iso'}}]], ' -> dose: 20.0s   taus=[[0.1, 100.0]]s')\n",
      "('slow_T3', [['4m', 0.1, 1000, 0.036, {'series_options': {'feedback_on': True, 'analysis': 'iso'}}]], ' -> dose: 3.5999999999999996s   taus=[[0.1, 100.0]]s')\n",
      "('slow_T4', [['4m', 0.1, 1000, 0.0068, {'series_options': {'feedback_on': True, 'analysis': 'iso'}}]], ' -> dose: 0.6799999999999999s   taus=[[0.1, 100.0]]s')\n",
      "\n",
      "acquisition sequence defined for this slot:\n",
      "('1', [2, 'fast_T1', 'fast_T2', 'fast_T3', 'fast_T4', 'medium_T1', 'medium_T2', 'medium_T3', 'medium_T4', 'slow_T1', 'slow_T2', 'slow_T3', 'slow_T4'])\n",
      "\n",
      "time for data acquistion [s]: 890.7199999999999\n",
      "time for temperature ramps [s]: 0\n",
      "wait time [s]: 0\n",
      "total time for slot3 [hh:mm:ss]: 00:14:50\n",
      "starting temperature for next slot: 24C\n",
      "number of data points to be collected: 24\n",
      "\u001b[91m\u001b[1m\n",
      "Report for: slot4\u001b[0m\n",
      " Sample information:\n",
      "{'sample name': 'PG-CNC4-CaCl2_40muL', 'label': 'S3', 'holder': ['capillary', 1, [-3, 3], 'vertical'], 'concentration wt%': 4.0, 'solvent': 'propylene glycol', 'size': 'approx. 200 x 10 nm', 'material': 'Cellulose', 'dummy': 1}\n",
      "other information:\n",
      "{'owner': 'Trosen', 'date entered': '2019-05-14 14:25:30.798858', 'new_spot_method': 'random'}\n",
      "\n",
      "\n",
      "number of fresh sample spots available: 491 data points: 24 -> OK!\n",
      "\n",
      "data acquistion series defined for this slot: \n",
      "('fast_T1', [['4m', 0.00134, 1000, 1, {'series_options': {'feedback_on': True, 'analysis': 'iso'}}]], ' -> dose: 1.34s   taus=[[0.00134, 1.34]]s')\n",
      "('fast_T2', [['4m', 0.00134, 1000, 0.2, {'series_options': {'feedback_on': True, 'analysis': 'iso'}}]], ' -> dose: 0.268s   taus=[[0.00134, 1.34]]s')\n",
      "('fast_T3', [['4m', 0.00134, 1000, 0.036, {'series_options': {'feedback_on': True, 'analysis': 'iso'}}]], ' -> dose: 0.04824s   taus=[[0.00134, 1.34]]s')\n",
      "('fast_T4', [['4m', 0.00134, 1000, 0.0068, {'series_options': {'feedback_on': True, 'analysis': 'iso'}}]], ' -> dose: 0.009112s   taus=[[0.00134, 1.34]]s')\n",
      "('medium_T1', [['4m', 0.01, 1000, 1, {'series_options': {'feedback_on': True, 'analysis': 'iso'}}]], ' -> dose: 10.0s   taus=[[0.01, 10.0]]s')\n",
      "('medium_T2', [['4m', 0.01, 1000, 0.2, {'series_options': {'feedback_on': True, 'analysis': 'iso'}}]], ' -> dose: 2.0s   taus=[[0.01, 10.0]]s')\n",
      "('medium_T3', [['4m', 0.01, 1000, 0.036, {'series_options': {'feedback_on': True, 'analysis': 'iso'}}]], ' -> dose: 0.36s   taus=[[0.01, 10.0]]s')\n",
      "('medium_T4', [['4m', 0.01, 1000, 0.0068, {'series_options': {'feedback_on': True, 'analysis': 'iso'}}]], ' -> dose: 0.06799999999999999s   taus=[[0.01, 10.0]]s')\n",
      "('slow_T1', [['4m', 0.1, 1000, 1, {'series_options': {'feedback_on': True, 'analysis': 'iso'}}]], ' -> dose: 100.0s   taus=[[0.1, 100.0]]s')\n",
      "('slow_T2', [['4m', 0.1, 1000, 0.2, {'series_options': {'feedback_on': True, 'analysis': 'iso'}}]], ' -> dose: 20.0s   taus=[[0.1, 100.0]]s')\n",
      "('slow_T3', [['4m', 0.1, 1000, 0.036, {'series_options': {'feedback_on': True, 'analysis': 'iso'}}]], ' -> dose: 3.5999999999999996s   taus=[[0.1, 100.0]]s')\n",
      "('slow_T4', [['4m', 0.1, 1000, 0.0068, {'series_options': {'feedback_on': True, 'analysis': 'iso'}}]], ' -> dose: 0.6799999999999999s   taus=[[0.1, 100.0]]s')\n",
      "\n",
      "acquisition sequence defined for this slot:\n",
      "('1', [2, 'fast_T1', 'fast_T2', 'fast_T3', 'fast_T4', 'medium_T1', 'medium_T2', 'medium_T3', 'medium_T4', 'slow_T1', 'slow_T2', 'slow_T3', 'slow_T4'])\n",
      "\n",
      "time for data acquistion [s]: 890.7199999999999\n",
      "time for temperature ramps [s]: 0\n",
      "wait time [s]: 0\n",
      "total time for slot4 [hh:mm:ss]: 00:14:50\n",
      "starting temperature for next slot: 24C\n",
      "number of data points to be collected: 24\n",
      "\u001b[91m\u001b[1m\n",
      "Report for: slot5\u001b[0m\n",
      " Sample information:\n",
      "{'sample name': 'PG-CNF-AuNP-noGel', 'label': 'S4', 'holder': ['capillary', 1, [-3, 3], 'vertical'], 'concentration wt%': 0.25, 'solvent': 'propylene glycol', 'size': 'NPs 100 nm diameter', 'material': 'Cellulose and Gold NP', 'dummy': 1}\n",
      "other information:\n",
      "{'owner': 'Trosen', 'date entered': '2019-05-14 14:26:07.171603', 'new_spot_method': 'random'}\n",
      "\n",
      "\n",
      "number of fresh sample spots available: 491 data points: 24 -> OK!\n",
      "\n",
      "data acquistion series defined for this slot: \n",
      "('fast_T1', [['4m', 0.00134, 1000, 1, {'series_options': {'feedback_on': True, 'analysis': 'iso'}}]], ' -> dose: 1.34s   taus=[[0.00134, 1.34]]s')\n",
      "('fast_T2', [['4m', 0.00134, 1000, 0.2, {'series_options': {'feedback_on': True, 'analysis': 'iso'}}]], ' -> dose: 0.268s   taus=[[0.00134, 1.34]]s')\n",
      "('fast_T3', [['4m', 0.00134, 1000, 0.036, {'series_options': {'feedback_on': True, 'analysis': 'iso'}}]], ' -> dose: 0.04824s   taus=[[0.00134, 1.34]]s')\n",
      "('fast_T4', [['4m', 0.00134, 1000, 0.0068, {'series_options': {'feedback_on': True, 'analysis': 'iso'}}]], ' -> dose: 0.009112s   taus=[[0.00134, 1.34]]s')\n",
      "('medium_T1', [['4m', 0.01, 1000, 1, {'series_options': {'feedback_on': True, 'analysis': 'iso'}}]], ' -> dose: 10.0s   taus=[[0.01, 10.0]]s')\n",
      "('medium_T2', [['4m', 0.01, 1000, 0.2, {'series_options': {'feedback_on': True, 'analysis': 'iso'}}]], ' -> dose: 2.0s   taus=[[0.01, 10.0]]s')\n",
      "('medium_T3', [['4m', 0.01, 1000, 0.036, {'series_options': {'feedback_on': True, 'analysis': 'iso'}}]], ' -> dose: 0.36s   taus=[[0.01, 10.0]]s')\n",
      "('medium_T4', [['4m', 0.01, 1000, 0.0068, {'series_options': {'feedback_on': True, 'analysis': 'iso'}}]], ' -> dose: 0.06799999999999999s   taus=[[0.01, 10.0]]s')\n",
      "('slow_T1', [['4m', 0.1, 1000, 1, {'series_options': {'feedback_on': True, 'analysis': 'iso'}}]], ' -> dose: 100.0s   taus=[[0.1, 100.0]]s')\n",
      "('slow_T2', [['4m', 0.1, 1000, 0.2, {'series_options': {'feedback_on': True, 'analysis': 'iso'}}]], ' -> dose: 20.0s   taus=[[0.1, 100.0]]s')\n",
      "('slow_T3', [['4m', 0.1, 1000, 0.036, {'series_options': {'feedback_on': True, 'analysis': 'iso'}}]], ' -> dose: 3.5999999999999996s   taus=[[0.1, 100.0]]s')\n",
      "('slow_T4', [['4m', 0.1, 1000, 0.0068, {'series_options': {'feedback_on': True, 'analysis': 'iso'}}]], ' -> dose: 0.6799999999999999s   taus=[[0.1, 100.0]]s')\n",
      "\n",
      "acquisition sequence defined for this slot:\n",
      "('1', [2, 'fast_T1', 'fast_T2', 'fast_T3', 'fast_T4', 'medium_T1', 'medium_T2', 'medium_T3', 'medium_T4', 'slow_T1', 'slow_T2', 'slow_T3', 'slow_T4'])\n",
      "\n",
      "time for data acquistion [s]: 890.7199999999999\n",
      "time for temperature ramps [s]: 0\n",
      "wait time [s]: 0\n",
      "total time for slot5 [hh:mm:ss]: 00:14:50\n",
      "starting temperature for next slot: 24C\n",
      "number of data points to be collected: 24\n",
      "\u001b[91m\u001b[1m\n",
      "Report for: slot6\u001b[0m\n",
      " Sample information:\n",
      "{'sample name': 'PG-CNF-AuNP-CaCl2_20muL', 'label': 'S5', 'holder': ['capillary', 1, [-3, 3], 'vertical'], 'concentration wt%': 0.25, 'solvent': 'propylene glycol', 'size': 'NPs 100 nm diameter', 'material': 'Cellulose and Gold NP', 'dummy': 1}\n",
      "other information:\n",
      "{'owner': 'Trosen', 'date entered': '2019-05-14 14:26:36.334247', 'new_spot_method': 'random'}\n",
      "\n",
      "\n",
      "number of fresh sample spots available: 491 data points: 24 -> OK!\n",
      "\n",
      "data acquistion series defined for this slot: \n",
      "('fast_T1', [['4m', 0.00134, 1000, 1, {'series_options': {'feedback_on': True, 'analysis': 'iso'}}]], ' -> dose: 1.34s   taus=[[0.00134, 1.34]]s')\n",
      "('fast_T2', [['4m', 0.00134, 1000, 0.2, {'series_options': {'feedback_on': True, 'analysis': 'iso'}}]], ' -> dose: 0.268s   taus=[[0.00134, 1.34]]s')\n",
      "('fast_T3', [['4m', 0.00134, 1000, 0.036, {'series_options': {'feedback_on': True, 'analysis': 'iso'}}]], ' -> dose: 0.04824s   taus=[[0.00134, 1.34]]s')\n",
      "('fast_T4', [['4m', 0.00134, 1000, 0.0068, {'series_options': {'feedback_on': True, 'analysis': 'iso'}}]], ' -> dose: 0.009112s   taus=[[0.00134, 1.34]]s')\n",
      "('medium_T1', [['4m', 0.01, 1000, 1, {'series_options': {'feedback_on': True, 'analysis': 'iso'}}]], ' -> dose: 10.0s   taus=[[0.01, 10.0]]s')\n",
      "('medium_T2', [['4m', 0.01, 1000, 0.2, {'series_options': {'feedback_on': True, 'analysis': 'iso'}}]], ' -> dose: 2.0s   taus=[[0.01, 10.0]]s')\n",
      "('medium_T3', [['4m', 0.01, 1000, 0.036, {'series_options': {'feedback_on': True, 'analysis': 'iso'}}]], ' -> dose: 0.36s   taus=[[0.01, 10.0]]s')\n",
      "('medium_T4', [['4m', 0.01, 1000, 0.0068, {'series_options': {'feedback_on': True, 'analysis': 'iso'}}]], ' -> dose: 0.06799999999999999s   taus=[[0.01, 10.0]]s')\n",
      "('slow_T1', [['4m', 0.1, 1000, 1, {'series_options': {'feedback_on': True, 'analysis': 'iso'}}]], ' -> dose: 100.0s   taus=[[0.1, 100.0]]s')\n",
      "('slow_T2', [['4m', 0.1, 1000, 0.2, {'series_options': {'feedback_on': True, 'analysis': 'iso'}}]], ' -> dose: 20.0s   taus=[[0.1, 100.0]]s')\n",
      "('slow_T3', [['4m', 0.1, 1000, 0.036, {'series_options': {'feedback_on': True, 'analysis': 'iso'}}]], ' -> dose: 3.5999999999999996s   taus=[[0.1, 100.0]]s')\n",
      "('slow_T4', [['4m', 0.1, 1000, 0.0068, {'series_options': {'feedback_on': True, 'analysis': 'iso'}}]], ' -> dose: 0.6799999999999999s   taus=[[0.1, 100.0]]s')\n",
      "\n",
      "acquisition sequence defined for this slot:\n",
      "('1', [2, 'fast_T1', 'fast_T2', 'fast_T3', 'fast_T4', 'medium_T1', 'medium_T2', 'medium_T3', 'medium_T4', 'slow_T1', 'slow_T2', 'slow_T3', 'slow_T4'])\n",
      "\n",
      "time for data acquistion [s]: 890.7199999999999\n",
      "time for temperature ramps [s]: 0\n",
      "wait time [s]: 0\n",
      "total time for slot6 [hh:mm:ss]: 00:14:50\n",
      "starting temperature for next slot: 24C\n",
      "number of data points to be collected: 24\n",
      "\u001b[91m\u001b[1m\n",
      "Report for: slot7\u001b[0m\n",
      " Sample information:\n",
      "{'sample name': 'PG-CNF-AuNP-CaCl2_40muL', 'label': 'S6', 'holder': ['capillary', 1, [-3, 3], 'vertical'], 'concentration wt%': 0.25, 'solvent': 'propylene glycol', 'size': 'NPs 100 nm diameter', 'material': 'Cellulose and Gold NP', 'dummy': 1}\n",
      "other information:\n",
      "{'owner': 'Trosen', 'date entered': '2019-05-14 14:27:09.038752', 'new_spot_method': 'random'}\n",
      "\n",
      "\n",
      "number of fresh sample spots available: 491 data points: 24 -> OK!\n",
      "\n",
      "data acquistion series defined for this slot: \n",
      "('fast_T1', [['4m', 0.00134, 1000, 1, {'series_options': {'feedback_on': True, 'analysis': 'iso'}}]], ' -> dose: 1.34s   taus=[[0.00134, 1.34]]s')\n",
      "('fast_T2', [['4m', 0.00134, 1000, 0.2, {'series_options': {'feedback_on': True, 'analysis': 'iso'}}]], ' -> dose: 0.268s   taus=[[0.00134, 1.34]]s')\n",
      "('fast_T3', [['4m', 0.00134, 1000, 0.036, {'series_options': {'feedback_on': True, 'analysis': 'iso'}}]], ' -> dose: 0.04824s   taus=[[0.00134, 1.34]]s')\n",
      "('fast_T4', [['4m', 0.00134, 1000, 0.0068, {'series_options': {'feedback_on': True, 'analysis': 'iso'}}]], ' -> dose: 0.009112s   taus=[[0.00134, 1.34]]s')\n",
      "('medium_T1', [['4m', 0.01, 1000, 1, {'series_options': {'feedback_on': True, 'analysis': 'iso'}}]], ' -> dose: 10.0s   taus=[[0.01, 10.0]]s')\n",
      "('medium_T2', [['4m', 0.01, 1000, 0.2, {'series_options': {'feedback_on': True, 'analysis': 'iso'}}]], ' -> dose: 2.0s   taus=[[0.01, 10.0]]s')\n",
      "('medium_T3', [['4m', 0.01, 1000, 0.036, {'series_options': {'feedback_on': True, 'analysis': 'iso'}}]], ' -> dose: 0.36s   taus=[[0.01, 10.0]]s')\n",
      "('medium_T4', [['4m', 0.01, 1000, 0.0068, {'series_options': {'feedback_on': True, 'analysis': 'iso'}}]], ' -> dose: 0.06799999999999999s   taus=[[0.01, 10.0]]s')\n",
      "('slow_T1', [['4m', 0.1, 1000, 1, {'series_options': {'feedback_on': True, 'analysis': 'iso'}}]], ' -> dose: 100.0s   taus=[[0.1, 100.0]]s')\n",
      "('slow_T2', [['4m', 0.1, 1000, 0.2, {'series_options': {'feedback_on': True, 'analysis': 'iso'}}]], ' -> dose: 20.0s   taus=[[0.1, 100.0]]s')\n",
      "('slow_T3', [['4m', 0.1, 1000, 0.036, {'series_options': {'feedback_on': True, 'analysis': 'iso'}}]], ' -> dose: 3.5999999999999996s   taus=[[0.1, 100.0]]s')\n",
      "('slow_T4', [['4m', 0.1, 1000, 0.0068, {'series_options': {'feedback_on': True, 'analysis': 'iso'}}]], ' -> dose: 0.6799999999999999s   taus=[[0.1, 100.0]]s')\n",
      "\n",
      "acquisition sequence defined for this slot:\n",
      "('1', [2, 'fast_T1', 'fast_T2', 'fast_T3', 'fast_T4', 'medium_T1', 'medium_T2', 'medium_T3', 'medium_T4', 'slow_T1', 'slow_T2', 'slow_T3', 'slow_T4'])\n",
      "\n",
      "time for data acquistion [s]: 890.7199999999999\n",
      "time for temperature ramps [s]: 0\n",
      "wait time [s]: 0\n",
      "total time for slot7 [hh:mm:ss]: 00:14:50\n",
      "starting temperature for next slot: 24C\n",
      "number of data points to be collected: 24\n",
      "\u001b[91m\u001b[1m\n",
      "Report for: slot8\u001b[0m\n",
      " Sample information:\n",
      "{'sample name': 'alignment reference for multi sample holder ', 'label': 'Reference', 'thickness': 3, 'holder': ['alignment_flat', 1.5, 1]}\n",
      "other information:\n",
      "{'owner': 'lwiegart', 'date entered': '2018-09-02 20:55:35.502761', 'new_spot_method': 'static'}\n",
      "\n",
      "\n",
      "\u001b[93mWarning: no data acquisition defined for this slot.\u001b[0m\n",
      "\u001b[91m\u001b[1m\n",
      "Report for: slot9\u001b[0m\n",
      " Sample information:\n",
      "{'sample name': 'PG-AuNP-025', 'label': 'S7', 'holder': ['capillary', 1, [-3, 3], 'vertical'], 'concentration wt%': 0.25, 'solvent': 'propylene glycol', 'size': 'NPs 100 nm diameter', 'material': 'Gold NP', 'dummy': 1}\n",
      "other information:\n",
      "{'owner': 'Trosen', 'date entered': '2019-05-14 14:27:33.566959', 'new_spot_method': 'random'}\n",
      "\n",
      "\n",
      "number of fresh sample spots available: 491 data points: 24 -> OK!\n",
      "\n",
      "data acquistion series defined for this slot: \n",
      "('fast_T1', [['4m', 0.00134, 1000, 1, {'series_options': {'feedback_on': True, 'analysis': 'iso'}}]], ' -> dose: 1.34s   taus=[[0.00134, 1.34]]s')\n",
      "('fast_T2', [['4m', 0.00134, 1000, 0.2, {'series_options': {'feedback_on': True, 'analysis': 'iso'}}]], ' -> dose: 0.268s   taus=[[0.00134, 1.34]]s')\n",
      "('fast_T3', [['4m', 0.00134, 1000, 0.036, {'series_options': {'feedback_on': True, 'analysis': 'iso'}}]], ' -> dose: 0.04824s   taus=[[0.00134, 1.34]]s')\n",
      "('fast_T4', [['4m', 0.00134, 1000, 0.0068, {'series_options': {'feedback_on': True, 'analysis': 'iso'}}]], ' -> dose: 0.009112s   taus=[[0.00134, 1.34]]s')\n",
      "('medium_T1', [['4m', 0.01, 1000, 1, {'series_options': {'feedback_on': True, 'analysis': 'iso'}}]], ' -> dose: 10.0s   taus=[[0.01, 10.0]]s')\n",
      "('medium_T2', [['4m', 0.01, 1000, 0.2, {'series_options': {'feedback_on': True, 'analysis': 'iso'}}]], ' -> dose: 2.0s   taus=[[0.01, 10.0]]s')\n",
      "('medium_T3', [['4m', 0.01, 1000, 0.036, {'series_options': {'feedback_on': True, 'analysis': 'iso'}}]], ' -> dose: 0.36s   taus=[[0.01, 10.0]]s')\n",
      "('medium_T4', [['4m', 0.01, 1000, 0.0068, {'series_options': {'feedback_on': True, 'analysis': 'iso'}}]], ' -> dose: 0.06799999999999999s   taus=[[0.01, 10.0]]s')\n",
      "('slow_T1', [['4m', 0.1, 1000, 1, {'series_options': {'feedback_on': True, 'analysis': 'iso'}}]], ' -> dose: 100.0s   taus=[[0.1, 100.0]]s')\n",
      "('slow_T2', [['4m', 0.1, 1000, 0.2, {'series_options': {'feedback_on': True, 'analysis': 'iso'}}]], ' -> dose: 20.0s   taus=[[0.1, 100.0]]s')\n",
      "('slow_T3', [['4m', 0.1, 1000, 0.036, {'series_options': {'feedback_on': True, 'analysis': 'iso'}}]], ' -> dose: 3.5999999999999996s   taus=[[0.1, 100.0]]s')\n",
      "('slow_T4', [['4m', 0.1, 1000, 0.0068, {'series_options': {'feedback_on': True, 'analysis': 'iso'}}]], ' -> dose: 0.6799999999999999s   taus=[[0.1, 100.0]]s')\n",
      "\n",
      "acquisition sequence defined for this slot:\n",
      "('1', [2, 'fast_T1', 'fast_T2', 'fast_T3', 'fast_T4', 'medium_T1', 'medium_T2', 'medium_T3', 'medium_T4', 'slow_T1', 'slow_T2', 'slow_T3', 'slow_T4'])\n",
      "\n",
      "time for data acquistion [s]: 890.7199999999999\n",
      "time for temperature ramps [s]: 0\n",
      "wait time [s]: 0\n",
      "total time for slot9 [hh:mm:ss]: 00:14:50\n",
      "starting temperature for next slot: 24C\n",
      "number of data points to be collected: 24\n",
      "\u001b[91m\u001b[1m\n",
      "Report for: slot10\u001b[0m\n",
      " Sample information:\n",
      "{'sample name': 'PG-AuNP-050', 'label': 'S8', 'holder': ['capillary', 1, [-3, 3], 'vertical'], 'concentration wt%': 0.5, 'solvent': 'propylene glycol', 'size': 'NPs 100 nm diameter', 'material': 'Gold NP', 'dummy': 1}\n",
      "other information:\n",
      "{'owner': 'Trosen', 'date entered': '2019-05-14 14:27:53.559094', 'new_spot_method': 'random'}\n",
      "\n",
      "\n",
      "number of fresh sample spots available: 491 data points: 24 -> OK!\n",
      "\n",
      "data acquistion series defined for this slot: \n",
      "('fast_T1', [['4m', 0.00134, 1000, 1, {'series_options': {'feedback_on': True, 'analysis': 'iso'}}]], ' -> dose: 1.34s   taus=[[0.00134, 1.34]]s')\n",
      "('fast_T2', [['4m', 0.00134, 1000, 0.2, {'series_options': {'feedback_on': True, 'analysis': 'iso'}}]], ' -> dose: 0.268s   taus=[[0.00134, 1.34]]s')\n",
      "('fast_T3', [['4m', 0.00134, 1000, 0.036, {'series_options': {'feedback_on': True, 'analysis': 'iso'}}]], ' -> dose: 0.04824s   taus=[[0.00134, 1.34]]s')\n",
      "('fast_T4', [['4m', 0.00134, 1000, 0.0068, {'series_options': {'feedback_on': True, 'analysis': 'iso'}}]], ' -> dose: 0.009112s   taus=[[0.00134, 1.34]]s')\n",
      "('medium_T1', [['4m', 0.01, 1000, 1, {'series_options': {'feedback_on': True, 'analysis': 'iso'}}]], ' -> dose: 10.0s   taus=[[0.01, 10.0]]s')\n",
      "('medium_T2', [['4m', 0.01, 1000, 0.2, {'series_options': {'feedback_on': True, 'analysis': 'iso'}}]], ' -> dose: 2.0s   taus=[[0.01, 10.0]]s')\n",
      "('medium_T3', [['4m', 0.01, 1000, 0.036, {'series_options': {'feedback_on': True, 'analysis': 'iso'}}]], ' -> dose: 0.36s   taus=[[0.01, 10.0]]s')\n",
      "('medium_T4', [['4m', 0.01, 1000, 0.0068, {'series_options': {'feedback_on': True, 'analysis': 'iso'}}]], ' -> dose: 0.06799999999999999s   taus=[[0.01, 10.0]]s')\n",
      "('slow_T1', [['4m', 0.1, 1000, 1, {'series_options': {'feedback_on': True, 'analysis': 'iso'}}]], ' -> dose: 100.0s   taus=[[0.1, 100.0]]s')\n",
      "('slow_T2', [['4m', 0.1, 1000, 0.2, {'series_options': {'feedback_on': True, 'analysis': 'iso'}}]], ' -> dose: 20.0s   taus=[[0.1, 100.0]]s')\n",
      "('slow_T3', [['4m', 0.1, 1000, 0.036, {'series_options': {'feedback_on': True, 'analysis': 'iso'}}]], ' -> dose: 3.5999999999999996s   taus=[[0.1, 100.0]]s')\n",
      "('slow_T4', [['4m', 0.1, 1000, 0.0068, {'series_options': {'feedback_on': True, 'analysis': 'iso'}}]], ' -> dose: 0.6799999999999999s   taus=[[0.1, 100.0]]s')\n",
      "\n",
      "acquisition sequence defined for this slot:\n",
      "('1', [2, 'fast_T1', 'fast_T2', 'fast_T3', 'fast_T4', 'medium_T1', 'medium_T2', 'medium_T3', 'medium_T4', 'slow_T1', 'slow_T2', 'slow_T3', 'slow_T4'])\n",
      "\n",
      "time for data acquistion [s]: 890.7199999999999\n",
      "time for temperature ramps [s]: 0\n",
      "wait time [s]: 0\n",
      "total time for slot10 [hh:mm:ss]: 00:14:50\n",
      "starting temperature for next slot: 24C\n",
      "number of data points to be collected: 24\n",
      "\u001b[91m\u001b[1m\n",
      "Report for: slot11\u001b[0m\n",
      " Sample information:\n",
      "{'sample name': 'H2O-CNC4-noGel', 'label': 'S9', 'holder': ['capillary', 1, [-3, 3], 'vertical'], 'concentration wt%': 4.0, 'solvent': 'water', 'size': 'approx. 200 x 10 nm', 'material': 'Cellulose', 'dummy': 1}\n",
      "other information:\n",
      "{'owner': 'Trosen', 'date entered': '2019-05-14 14:28:13.705618', 'new_spot_method': 'random'}\n",
      "\n",
      "\n",
      "number of fresh sample spots available: 491 data points: 24 -> OK!\n",
      "\n",
      "data acquistion series defined for this slot: \n",
      "('fast_T1', [['4m', 0.00134, 1000, 1, {'series_options': {'feedback_on': True, 'analysis': 'iso'}}]], ' -> dose: 1.34s   taus=[[0.00134, 1.34]]s')\n",
      "('fast_T2', [['4m', 0.00134, 1000, 0.2, {'series_options': {'feedback_on': True, 'analysis': 'iso'}}]], ' -> dose: 0.268s   taus=[[0.00134, 1.34]]s')\n",
      "('fast_T3', [['4m', 0.00134, 1000, 0.036, {'series_options': {'feedback_on': True, 'analysis': 'iso'}}]], ' -> dose: 0.04824s   taus=[[0.00134, 1.34]]s')\n",
      "('fast_T4', [['4m', 0.00134, 1000, 0.0068, {'series_options': {'feedback_on': True, 'analysis': 'iso'}}]], ' -> dose: 0.009112s   taus=[[0.00134, 1.34]]s')\n",
      "('medium_T1', [['4m', 0.01, 1000, 1, {'series_options': {'feedback_on': True, 'analysis': 'iso'}}]], ' -> dose: 10.0s   taus=[[0.01, 10.0]]s')\n",
      "('medium_T2', [['4m', 0.01, 1000, 0.2, {'series_options': {'feedback_on': True, 'analysis': 'iso'}}]], ' -> dose: 2.0s   taus=[[0.01, 10.0]]s')\n",
      "('medium_T3', [['4m', 0.01, 1000, 0.036, {'series_options': {'feedback_on': True, 'analysis': 'iso'}}]], ' -> dose: 0.36s   taus=[[0.01, 10.0]]s')\n",
      "('medium_T4', [['4m', 0.01, 1000, 0.0068, {'series_options': {'feedback_on': True, 'analysis': 'iso'}}]], ' -> dose: 0.06799999999999999s   taus=[[0.01, 10.0]]s')\n",
      "('slow_T1', [['4m', 0.1, 1000, 1, {'series_options': {'feedback_on': True, 'analysis': 'iso'}}]], ' -> dose: 100.0s   taus=[[0.1, 100.0]]s')\n",
      "('slow_T2', [['4m', 0.1, 1000, 0.2, {'series_options': {'feedback_on': True, 'analysis': 'iso'}}]], ' -> dose: 20.0s   taus=[[0.1, 100.0]]s')\n",
      "('slow_T3', [['4m', 0.1, 1000, 0.036, {'series_options': {'feedback_on': True, 'analysis': 'iso'}}]], ' -> dose: 3.5999999999999996s   taus=[[0.1, 100.0]]s')\n",
      "('slow_T4', [['4m', 0.1, 1000, 0.0068, {'series_options': {'feedback_on': True, 'analysis': 'iso'}}]], ' -> dose: 0.6799999999999999s   taus=[[0.1, 100.0]]s')\n",
      "\n",
      "acquisition sequence defined for this slot:\n",
      "('1', [2, 'fast_T1', 'fast_T2', 'fast_T3', 'fast_T4', 'medium_T1', 'medium_T2', 'medium_T3', 'medium_T4', 'slow_T1', 'slow_T2', 'slow_T3', 'slow_T4'])\n",
      "\n",
      "time for data acquistion [s]: 890.7199999999999\n",
      "time for temperature ramps [s]: 0\n",
      "wait time [s]: 0\n",
      "total time for slot11 [hh:mm:ss]: 00:14:50\n",
      "starting temperature for next slot: 24C\n",
      "number of data points to be collected: 24\n",
      "\u001b[91m\u001b[1m\n",
      "Report for: slot12\u001b[0m\n",
      " Sample information:\n",
      "{'sample name': 'H2O-CNC8-noGel', 'label': 'S12', 'holder': ['capillary', 1, [-3, 3], 'vertical'], 'concentration wt%': 8.0, 'solvent': 'water', 'size': 'approx. 200 x 10 nm', 'material': 'Cellulose', 'dummy': 1}\n",
      "other information:\n",
      "{'owner': 'Trosen', 'date entered': '2019-05-14 14:29:19.516126', 'new_spot_method': 'random'}\n",
      "\n",
      "\n",
      "number of fresh sample spots available: 491 data points: 24 -> OK!\n",
      "\n",
      "data acquistion series defined for this slot: \n",
      "('fast_T1', [['4m', 0.00134, 1000, 1, {'series_options': {'feedback_on': True, 'analysis': 'iso'}}]], ' -> dose: 1.34s   taus=[[0.00134, 1.34]]s')\n",
      "('fast_T2', [['4m', 0.00134, 1000, 0.2, {'series_options': {'feedback_on': True, 'analysis': 'iso'}}]], ' -> dose: 0.268s   taus=[[0.00134, 1.34]]s')\n",
      "('fast_T3', [['4m', 0.00134, 1000, 0.036, {'series_options': {'feedback_on': True, 'analysis': 'iso'}}]], ' -> dose: 0.04824s   taus=[[0.00134, 1.34]]s')\n",
      "('fast_T4', [['4m', 0.00134, 1000, 0.0068, {'series_options': {'feedback_on': True, 'analysis': 'iso'}}]], ' -> dose: 0.009112s   taus=[[0.00134, 1.34]]s')\n",
      "('medium_T1', [['4m', 0.01, 1000, 1, {'series_options': {'feedback_on': True, 'analysis': 'iso'}}]], ' -> dose: 10.0s   taus=[[0.01, 10.0]]s')\n",
      "('medium_T2', [['4m', 0.01, 1000, 0.2, {'series_options': {'feedback_on': True, 'analysis': 'iso'}}]], ' -> dose: 2.0s   taus=[[0.01, 10.0]]s')\n",
      "('medium_T3', [['4m', 0.01, 1000, 0.036, {'series_options': {'feedback_on': True, 'analysis': 'iso'}}]], ' -> dose: 0.36s   taus=[[0.01, 10.0]]s')\n",
      "('medium_T4', [['4m', 0.01, 1000, 0.0068, {'series_options': {'feedback_on': True, 'analysis': 'iso'}}]], ' -> dose: 0.06799999999999999s   taus=[[0.01, 10.0]]s')\n",
      "('slow_T1', [['4m', 0.1, 1000, 1, {'series_options': {'feedback_on': True, 'analysis': 'iso'}}]], ' -> dose: 100.0s   taus=[[0.1, 100.0]]s')\n",
      "('slow_T2', [['4m', 0.1, 1000, 0.2, {'series_options': {'feedback_on': True, 'analysis': 'iso'}}]], ' -> dose: 20.0s   taus=[[0.1, 100.0]]s')\n",
      "('slow_T3', [['4m', 0.1, 1000, 0.036, {'series_options': {'feedback_on': True, 'analysis': 'iso'}}]], ' -> dose: 3.5999999999999996s   taus=[[0.1, 100.0]]s')\n",
      "('slow_T4', [['4m', 0.1, 1000, 0.0068, {'series_options': {'feedback_on': True, 'analysis': 'iso'}}]], ' -> dose: 0.6799999999999999s   taus=[[0.1, 100.0]]s')\n",
      "\n",
      "acquisition sequence defined for this slot:\n",
      "('1', [2, 'fast_T1', 'fast_T2', 'fast_T3', 'fast_T4', 'medium_T1', 'medium_T2', 'medium_T3', 'medium_T4', 'slow_T1', 'slow_T2', 'slow_T3', 'slow_T4'])\n",
      "\n",
      "time for data acquistion [s]: 890.7199999999999\n",
      "time for temperature ramps [s]: 0\n",
      "wait time [s]: 0\n",
      "total time for slot12 [hh:mm:ss]: 00:14:50\n",
      "starting temperature for next slot: 24C\n",
      "number of data points to be collected: 24\n",
      "\u001b[91m\u001b[1m\n",
      "Setup contains a total of 0 errors! No data will be collected for slots with errors.\u001b[0m\n",
      "\n",
      "total time for data collection, temperature ramps and waiting [hh:mm:ss]: 02:28:27\n",
      "\n",
      "\n",
      "Your sample mount should look like this:\n"
     ]
    },
    {
     "data": {
      "image/png": "[encoded data removed]",
      "text/plain": [
       "<Figure size 1728x288 with 1 Axes>"
      ]
     },
     "metadata": {
      "needs_background": "light"
     },
     "output_type": "display_data"
    }
   ],
   "source": [
    "png_name= 'Data_Acquistion_Plot_2019_514'  #please change the filename here\n",
    "acq_dict, dastr = multi_slot_report2(multi_sample, png_name= png_name )"
   ]
  },
  {
   "cell_type": "code",
   "execution_count": null,
   "metadata": {},
   "outputs": [],
   "source": [
    "#%run -i debug_dataacq.py"
   ]
  },
  {
   "cell_type": "markdown",
   "metadata": {},
   "source": [
    "# add data acquisition dictionary to database:"
   ]
  },
  {
   "cell_type": "code",
   "execution_count": 122,
   "metadata": {},
   "outputs": [
    {
     "name": "stdout",
     "output_type": "stream",
     "text": [
      "Add dictonary to database for data acquisition? yes/no: yes\n",
      "\n",
      "Information successfully added to data acquisition database!\n",
      "New database key added: 5cdb0c74f4fa2d46d7846f58\n"
     ]
    }
   ],
   "source": [
    "obid = data_acquisition_dictionary_to_database(acq_dict)"
   ]
  },
  {
   "cell_type": "code",
   "execution_count": 123,
   "metadata": {},
   "outputs": [
    {
     "data": {
      "text/plain": [
       "ObjectId('5cdb0c74f4fa2d46d7846f58')"
      ]
     },
     "execution_count": 123,
     "metadata": {},
     "output_type": "execute_result"
    }
   ],
   "source": [
    "obid"
   ]
  },
  {
   "cell_type": "code",
   "execution_count": null,
   "metadata": {},
   "outputs": [],
   "source": [
    "# how to check the obid \n",
    "if False:\n",
    "    data_acq_dict=data_acquisition_collection.find_one({'_id': obid }) \n",
    "    data_acq_dict"
   ]
  },
  {
   "cell_type": "markdown",
   "metadata": {},
   "source": [
    "# Attach the data aquistion plot into olog book"
   ]
  },
  {
   "cell_type": "code",
   "execution_count": null,
   "metadata": {},
   "outputs": [],
   "source": [
    "%run /home/yuzhang/pyCHX_link/pyCHX/chx_olog.py"
   ]
  },
  {
   "cell_type": "code",
   "execution_count": null,
   "metadata": {},
   "outputs": [],
   "source": [
    "#obid =  ObjectId('5bbf8d8d412c2745ca4378e1')"
   ]
  },
  {
   "cell_type": "code",
   "execution_count": null,
   "metadata": {},
   "outputs": [],
   "source": [
    "str(obid)"
   ]
  },
  {
   "cell_type": "code",
   "execution_count": null,
   "metadata": {},
   "outputs": [],
   "source": [
    "text =  \"ObjectId('%s')\"%( str(obid)    )\n",
    "logid = create_olog_entry( 'Data acquisition ID: %s'%text )"
   ]
  },
  {
   "cell_type": "code",
   "execution_count": null,
   "metadata": {},
   "outputs": [],
   "source": [
    "filename= '/XF11ID/analysis/Olog_attachments/' + '%s.png'%png_name\n",
    "update_olog_logid_with_file( logid = logid, text= dastr, filename = filename)"
   ]
  },
  {
   "cell_type": "markdown",
   "metadata": {},
   "source": [
    "# Fix some problems prior to / after adding dictionary to database:\n",
    "1) missing / insufficient sampling grid:"
   ]
  },
  {
   "cell_type": "code",
   "execution_count": null,
   "metadata": {},
   "outputs": [],
   "source": [
    "# copied from error displayed in Report:\n",
    "add_sampling_grid(ObjectId('5b8ae5067fd7d080b86a9ba9'),interactive=True)"
   ]
  },
  {
   "cell_type": "markdown",
   "metadata": {},
   "source": [
    "2) adding some label to the sample information:"
   ]
  },
  {
   "cell_type": "code",
   "execution_count": null,
   "metadata": {},
   "outputs": [],
   "source": [
    "update_label_method(ObjectId('5b8ae5067fd7d080b86a9ba9'),interactive=True)"
   ]
  },
  {
   "cell_type": "markdown",
   "metadata": {},
   "source": [
    "# End"
   ]
  }
 ],
 "metadata": {
  "kernelspec": {
   "display_name": "CHX (current)",
   "language": "python",
   "name": "analysis-2018-2.1_srv1"
  },
  "language_info": {
   "codemirror_mode": {
    "name": "ipython",
    "version": 3
   },
   "file_extension": ".py",
   "mimetype": "text/x-python",
   "name": "python",
   "nbconvert_exporter": "python",
   "pygments_lexer": "ipython3",
   "version": "3.6.5"
  }
 },
 "nbformat": 4,
 "nbformat_minor": 2
}
