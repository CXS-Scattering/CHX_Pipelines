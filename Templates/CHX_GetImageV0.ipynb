{
 "cells": [
  {
   "cell_type": "code",
   "execution_count": 1,
   "metadata": {},
   "outputs": [],
   "source": [
    "from pyCHX.chx_packages import *\n",
    "%matplotlib notebook\n",
    "plt.rcParams.update({'figure.max_open_warning': 0})\n",
    "plt.rcParams.update({ 'image.origin': 'lower'   })\n",
    "plt.rcParams.update({ 'image.interpolation': 'none'   })\n",
    "import pickle as cpk\n",
    "from pyCHX.chx_xpcs_xsvs_jupyter_V1 import *\n",
    "import itertools"
   ]
  },
  {
   "cell_type": "code",
   "execution_count": 2,
   "metadata": {},
   "outputs": [],
   "source": [
    "%matplotlib notebook\n",
    "#%matplotlib inline"
   ]
  },
  {
   "cell_type": "markdown",
   "metadata": {},
   "source": [
    "## Load Metadata & Image Data\n",
    "\n"
   ]
  },
  {
   "cell_type": "markdown",
   "metadata": {},
   "source": [
    "### Change this line to give a uid"
   ]
  },
  {
   "cell_type": "code",
   "execution_count": 79,
   "metadata": {
    "tags": [
     "parameters"
    ]
   },
   "outputs": [],
   "source": [
    "uid = '3ef9240a' # a count data collected by Eiger4M and OAV\n",
    "\n"
   ]
  },
  {
   "cell_type": "code",
   "execution_count": 38,
   "metadata": {},
   "outputs": [
    {
     "name": "stdout",
     "output_type": "stream",
     "text": [
      "The current uid for analysis is: 3ef9240a...\n"
     ]
    }
   ],
   "source": [
    "uid = uid[:8]\n",
    "print('The current uid for analysis is: %s...'%uid)"
   ]
  },
  {
   "cell_type": "code",
   "execution_count": 39,
   "metadata": {
    "scrolled": false
   },
   "outputs": [],
   "source": [
    "#get_last_uids( -3)"
   ]
  },
  {
   "cell_type": "code",
   "execution_count": 40,
   "metadata": {},
   "outputs": [
    {
     "name": "stdout",
     "output_type": "stream",
     "text": [
      "filepath : /nsls2/xf11id1/data/2019/08/30/af630b86-c465-4cf1-a76f\n",
      "got images_per_file\n",
      "scan_id, full-uid, data path are:  20599--3ef9240a-b9aa-42cf-af7a-b1d789262b9b--/nsls2/xf11id1/data/2019/08/30/af630b86-c465-4cf1-a76f_4132_master.h5\n"
     ]
    }
   ],
   "source": [
    "sud = get_sid_filenames(db[uid])\n",
    "for pa in sud[2]:\n",
    "    if 'master.h5' in pa:\n",
    "        data_fullpath = pa\n",
    "print ('scan_id, full-uid, data path are:  %s--%s--%s'%(sud[0], sud[1], data_fullpath ))\n",
    "\n",
    "#start_time, stop_time = '2017-2-24  12:23:00', '2017-2-24  13:42:00' \n",
    "#sids, uids, fuids  = find_uids(start_time, stop_time)"
   ]
  },
  {
   "cell_type": "code",
   "execution_count": 41,
   "metadata": {},
   "outputs": [],
   "source": [
    "\n",
    "uidstr = 'uid=%s'%uid"
   ]
  },
  {
   "cell_type": "markdown",
   "metadata": {},
   "source": [
    "# Don't Change the lines below here"
   ]
  },
  {
   "cell_type": "markdown",
   "metadata": {},
   "source": [
    "* get metadata"
   ]
  },
  {
   "cell_type": "code",
   "execution_count": 42,
   "metadata": {},
   "outputs": [
    {
     "name": "stdout",
     "output_type": "stream",
     "text": [
      "More than one device. This would have unintented consequences.Currently, only the device contains 'default_dec=eiger'.\n"
     ]
    }
   ],
   "source": [
    "md = get_meta_data( uid )\n",
    "md_blue = md.copy()\n",
    "#md_blue"
   ]
  },
  {
   "cell_type": "code",
   "execution_count": 43,
   "metadata": {},
   "outputs": [],
   "source": [
    "#md_blue['detectors'][0]\n",
    "#if md_blue['OAV_mode'] != 'none':\n",
    "#    cx , cy = md_blue[md_blue['detectors'][0]+'_beam_center_x'], md_blue[md_blue['detectors'][0]+'_beam_center_x']\n",
    "#else: \n",
    "#    cx , cy = md_blue['beam_center_x'], md_blue['beam_center_y']\n",
    "#print(cx,cy)"
   ]
  },
  {
   "cell_type": "code",
   "execution_count": 50,
   "metadata": {},
   "outputs": [
    {
     "name": "stdout",
     "output_type": "stream",
     "text": [
      "The detectors are:['OAV_image', 'eiger4m_single_image']\n",
      "eiger4m_single_image\n"
     ]
    }
   ],
   "source": [
    "detectors = sorted(get_detectors(db[uid]))\n",
    "print('The detectors are:%s'%detectors)\n",
    "if len(detectors) >1:\n",
    "    md['detector'] = detectors[1]\n",
    "    print( md['detector'])\n"
   ]
  },
  {
   "cell_type": "code",
   "execution_count": 45,
   "metadata": {},
   "outputs": [
    {
     "name": "stdout",
     "output_type": "stream",
     "text": [
      "Image reverse: True\n",
      "Image rotate 90: False\n"
     ]
    }
   ],
   "source": [
    "if md['detector'] =='eiger4m_single_image' or md['detector'] == 'image':    \n",
    "    reverse= True\n",
    "    rot90= False\n",
    "elif md['detector'] =='eiger500K_single_image':    \n",
    "    reverse= True\n",
    "    rot90=True\n",
    "elif md['detector'] =='eiger1m_single_image':    \n",
    "    reverse= True\n",
    "    rot90=False\n",
    "print('Image reverse: %s\\nImage rotate 90: %s'%(reverse, rot90))    "
   ]
  },
  {
   "cell_type": "code",
   "execution_count": 46,
   "metadata": {},
   "outputs": [
    {
     "data": {
      "text/plain": [
       "'eiger4m_single_image'"
      ]
     },
     "execution_count": 46,
     "metadata": {},
     "output_type": "execute_result"
    }
   ],
   "source": [
    "md['detector']"
   ]
  },
  {
   "cell_type": "code",
   "execution_count": 47,
   "metadata": {},
   "outputs": [],
   "source": [
    "#%run /home/yuzhang/pyCHX_link/pyCHX/chx_generic_functions.py"
   ]
  },
  {
   "cell_type": "markdown",
   "metadata": {},
   "source": [
    "### Get Eiger data"
   ]
  },
  {
   "cell_type": "code",
   "execution_count": 87,
   "metadata": {},
   "outputs": [
    {
     "name": "stdout",
     "output_type": "stream",
     "text": [
      "The data are: Pipeline processed through proc_func. Original repr:\n",
      "    EigerImages processed through proc_func. Original repr:\n",
      "        <Frames>\n",
      "        Length: 400 frames\n",
      "        Frame Shape: 2167 x 2070\n",
      "        Pixel Datatype: uint32\n"
     ]
    }
   ],
   "source": [
    "imgs = load_data( uid, md['detector'], reverse= reverse, rot90=rot90  )\n",
    "md.update( imgs.md );Nimg = len(imgs);\n",
    "#md['beam_center_x'], md['beam_center_y']  = cx, cy\n",
    "#if 'number of images'  not in list(md.keys()):\n",
    "md['number of images']  = Nimg\n",
    "pixel_mask =  1- np.int_( np.array( imgs.md['pixel_mask'], dtype= bool)  )\n",
    "print( 'The data are: %s' %imgs )\n",
    "\n",
    "#md['acquire period' ] = md['cam_acquire_period']\n",
    "#md['exposure time'] =  md['cam_acquire_time']\n",
    "mdn = md.copy()\n",
    "\n",
    "img = imgs[100]"
   ]
  },
  {
   "cell_type": "markdown",
   "metadata": {},
   "source": [
    "#### Get OAV image"
   ]
  },
  {
   "cell_type": "code",
   "execution_count": 80,
   "metadata": {},
   "outputs": [],
   "source": [
    "h = db[uid]"
   ]
  },
  {
   "cell_type": "code",
   "execution_count": 84,
   "metadata": {},
   "outputs": [
    {
     "data": {
      "text/plain": [
       "{'OAV_image',\n",
       " 'OAV_stats1_total',\n",
       " 'OAV_stats2_total',\n",
       " 'OAV_stats3_total',\n",
       " 'OAV_stats4_total',\n",
       " 'OAV_stats5_total',\n",
       " 'eiger4m_single_image',\n",
       " 'eiger4m_single_stats1_total',\n",
       " 'eiger4m_single_stats2_total',\n",
       " 'eiger4m_single_stats3_total',\n",
       " 'eiger4m_single_stats4_total',\n",
       " 'eiger4m_single_stats5_total'}"
      ]
     },
     "execution_count": 84,
     "metadata": {},
     "output_type": "execute_result"
    }
   ],
   "source": [
    "h.fields()"
   ]
  },
  {
   "cell_type": "code",
   "execution_count": 82,
   "metadata": {},
   "outputs": [
    {
     "name": "stdout",
     "output_type": "stream",
     "text": [
      "oavs are not available. Please contact DAMA group for help.\n"
     ]
    },
    {
     "name": "stderr",
     "output_type": "stream",
     "text": [
      "/opt/conda_envs/analysis-2019-3.0-chx/lib/python3.7/site-packages/ipykernel_launcher.py:3: UserWarning: Images and get_images are deprecated. Use Header.data('OAV_image') instead.\n",
      "  This is separate from the ipykernel package so we can avoid doing imports until\n"
     ]
    }
   ],
   "source": [
    "try:\n",
    "    #oavs = list( h.data( 'OAV_image' ) )[0]\n",
    "    #Or try to use oavs = db.get_images(db[uid],  'OAV_image'  )\n",
    "    print( len(oavs),oavs[0].shape )\n",
    "except:\n",
    "    print('oavs are not available. Please contact DAMA group for help.')\n"
   ]
  },
  {
   "cell_type": "code",
   "execution_count": 85,
   "metadata": {},
   "outputs": [],
   "source": [
    "#db.get_images(db[uid],  'OAV_image'  )"
   ]
  },
  {
   "cell_type": "code",
   "execution_count": null,
   "metadata": {},
   "outputs": [],
   "source": []
  },
  {
   "cell_type": "markdown",
   "metadata": {},
   "source": [
    "# For Dscan data"
   ]
  },
  {
   "cell_type": "code",
   "execution_count": 70,
   "metadata": {},
   "outputs": [],
   "source": [
    "uid = '4ecaff7e' \n",
    "h = db[uid]"
   ]
  },
  {
   "cell_type": "code",
   "execution_count": 71,
   "metadata": {},
   "outputs": [
    {
     "data": {
      "text/plain": [
       "{'diff_xh',\n",
       " 'diff_xh_user_setpoint',\n",
       " 'eiger4m_single_image',\n",
       " 'eiger4m_single_stats1_total',\n",
       " 'eiger4m_single_stats2_total',\n",
       " 'eiger4m_single_stats3_total',\n",
       " 'eiger4m_single_stats4_total',\n",
       " 'eiger4m_single_stats5_total'}"
      ]
     },
     "execution_count": 71,
     "metadata": {},
     "output_type": "execute_result"
    }
   ],
   "source": [
    "h.fields()"
   ]
  },
  {
   "cell_type": "code",
   "execution_count": 95,
   "metadata": {},
   "outputs": [
    {
     "name": "stderr",
     "output_type": "stream",
     "text": [
      "/opt/conda_envs/analysis-2019-3.0-chx/lib/python3.7/site-packages/ipykernel_launcher.py:1: UserWarning: Images and get_images are deprecated. Use Header.data('eiger4m_single_image') instead.\n",
      "  \"\"\"Entry point for launching an IPython kernel.\n"
     ]
    }
   ],
   "source": [
    "imgs =  db.get_images(db[uid], 'eiger4m_single_image')\n",
    "img = imgs[0][0]"
   ]
  },
  {
   "cell_type": "code",
   "execution_count": 96,
   "metadata": {},
   "outputs": [
    {
     "data": {
      "text/plain": [
       "<Frames>\n",
       "Length: 1 frames\n",
       "Frame Shape: 2167 x 2070\n",
       "Pixel Datatype: uint32"
      ]
     },
     "execution_count": 96,
     "metadata": {},
     "output_type": "execute_result"
    }
   ],
   "source": [
    "imgs"
   ]
  },
  {
   "cell_type": "code",
   "execution_count": 97,
   "metadata": {},
   "outputs": [
    {
     "data": {
      "text/plain": [
       "(2167, 2070)"
      ]
     },
     "execution_count": 97,
     "metadata": {},
     "output_type": "execute_result"
    }
   ],
   "source": [
    "img.shape"
   ]
  },
  {
   "cell_type": "code",
   "execution_count": 98,
   "metadata": {},
   "outputs": [],
   "source": [
    "#img[0]"
   ]
  },
  {
   "cell_type": "markdown",
   "metadata": {},
   "source": [
    "### Plot images"
   ]
  },
  {
   "cell_type": "code",
   "execution_count": 99,
   "metadata": {},
   "outputs": [],
   "source": [
    "#img = imgs[100]\n",
    "#img = oavs[39]\n",
    "\n"
   ]
  },
  {
   "cell_type": "code",
   "execution_count": 104,
   "metadata": {
    "scrolled": false
   },
   "outputs": [
    {
     "data": {
      "application/javascript": [
       "/* Put everything inside the global mpl namespace */\n",
       "window.mpl = {};\n",
       "\n",
       "\n",
       "mpl.get_websocket_type = function() {\n",
       "    if (typeof(WebSocket) !== 'undefined') {\n",
       "        return WebSocket;\n",
       "    } else if (typeof(MozWebSocket) !== 'undefined') {\n",
       "        return MozWebSocket;\n",
       "    } else {\n",
       "        alert('Your browser does not have WebSocket support. ' +\n",
       "              'Please try Chrome, Safari or Firefox ≥ 6. ' +\n",
       "              'Firefox 4 and 5 are also supported but you ' +\n",
       "              'have to enable WebSockets in about:config.');\n",
       "    };\n",
       "}\n",
       "\n",
       "mpl.figure = function(figure_id, websocket, ondownload, parent_element) {\n",
       "    this.id = figure_id;\n",
       "\n",
       "    this.ws = websocket;\n",
       "\n",
       "    this.supports_binary = (this.ws.binaryType != undefined);\n",
       "\n",
       "    if (!this.supports_binary) {\n",
       "        var warnings = document.getElementById(\"mpl-warnings\");\n",
       "        if (warnings) {\n",
       "            warnings.style.display = 'block';\n",
       "            warnings.textContent = (\n",
       "                \"This browser does not support binary websocket messages. \" +\n",
       "                    \"Performance may be slow.\");\n",
       "        }\n",
       "    }\n",
       "\n",
       "    this.imageObj = new Image();\n",
       "\n",
       "    this.context = undefined;\n",
       "    this.message = undefined;\n",
       "    this.canvas = undefined;\n",
       "    this.rubberband_canvas = undefined;\n",
       "    this.rubberband_context = undefined;\n",
       "    this.format_dropdown = undefined;\n",
       "\n",
       "    this.image_mode = 'full';\n",
       "\n",
       "    this.root = $('<div/>');\n",
       "    this._root_extra_style(this.root)\n",
       "    this.root.attr('style', 'display: inline-block');\n",
       "\n",
       "    $(parent_element).append(this.root);\n",
       "\n",
       "    this._init_header(this);\n",
       "    this._init_canvas(this);\n",
       "    this._init_toolbar(this);\n",
       "\n",
       "    var fig = this;\n",
       "\n",
       "    this.waiting = false;\n",
       "\n",
       "    this.ws.onopen =  function () {\n",
       "            fig.send_message(\"supports_binary\", {value: fig.supports_binary});\n",
       "            fig.send_message(\"send_image_mode\", {});\n",
       "            if (mpl.ratio != 1) {\n",
       "                fig.send_message(\"set_dpi_ratio\", {'dpi_ratio': mpl.ratio});\n",
       "            }\n",
       "            fig.send_message(\"refresh\", {});\n",
       "        }\n",
       "\n",
       "    this.imageObj.onload = function() {\n",
       "            if (fig.image_mode == 'full') {\n",
       "                // Full images could contain transparency (where diff images\n",
       "                // almost always do), so we need to clear the canvas so that\n",
       "                // there is no ghosting.\n",
       "                fig.context.clearRect(0, 0, fig.canvas.width, fig.canvas.height);\n",
       "            }\n",
       "            fig.context.drawImage(fig.imageObj, 0, 0);\n",
       "        };\n",
       "\n",
       "    this.imageObj.onunload = function() {\n",
       "        fig.ws.close();\n",
       "    }\n",
       "\n",
       "    this.ws.onmessage = this._make_on_message_function(this);\n",
       "\n",
       "    this.ondownload = ondownload;\n",
       "}\n",
       "\n",
       "mpl.figure.prototype._init_header = function() {\n",
       "    var titlebar = $(\n",
       "        '<div class=\"ui-dialog-titlebar ui-widget-header ui-corner-all ' +\n",
       "        'ui-helper-clearfix\"/>');\n",
       "    var titletext = $(\n",
       "        '<div class=\"ui-dialog-title\" style=\"width: 100%; ' +\n",
       "        'text-align: center; padding: 3px;\"/>');\n",
       "    titlebar.append(titletext)\n",
       "    this.root.append(titlebar);\n",
       "    this.header = titletext[0];\n",
       "}\n",
       "\n",
       "\n",
       "\n",
       "mpl.figure.prototype._canvas_extra_style = function(canvas_div) {\n",
       "\n",
       "}\n",
       "\n",
       "\n",
       "mpl.figure.prototype._root_extra_style = function(canvas_div) {\n",
       "\n",
       "}\n",
       "\n",
       "mpl.figure.prototype._init_canvas = function() {\n",
       "    var fig = this;\n",
       "\n",
       "    var canvas_div = $('<div/>');\n",
       "\n",
       "    canvas_div.attr('style', 'position: relative; clear: both; outline: 0');\n",
       "\n",
       "    function canvas_keyboard_event(event) {\n",
       "        return fig.key_event(event, event['data']);\n",
       "    }\n",
       "\n",
       "    canvas_div.keydown('key_press', canvas_keyboard_event);\n",
       "    canvas_div.keyup('key_release', canvas_keyboard_event);\n",
       "    this.canvas_div = canvas_div\n",
       "    this._canvas_extra_style(canvas_div)\n",
       "    this.root.append(canvas_div);\n",
       "\n",
       "    var canvas = $('<canvas/>');\n",
       "    canvas.addClass('mpl-canvas');\n",
       "    canvas.attr('style', \"left: 0; top: 0; z-index: 0; outline: 0\")\n",
       "\n",
       "    this.canvas = canvas[0];\n",
       "    this.context = canvas[0].getContext(\"2d\");\n",
       "\n",
       "    var backingStore = this.context.backingStorePixelRatio ||\n",
       "\tthis.context.webkitBackingStorePixelRatio ||\n",
       "\tthis.context.mozBackingStorePixelRatio ||\n",
       "\tthis.context.msBackingStorePixelRatio ||\n",
       "\tthis.context.oBackingStorePixelRatio ||\n",
       "\tthis.context.backingStorePixelRatio || 1;\n",
       "\n",
       "    mpl.ratio = (window.devicePixelRatio || 1) / backingStore;\n",
       "\n",
       "    var rubberband = $('<canvas/>');\n",
       "    rubberband.attr('style', \"position: absolute; left: 0; top: 0; z-index: 1;\")\n",
       "\n",
       "    var pass_mouse_events = true;\n",
       "\n",
       "    canvas_div.resizable({\n",
       "        start: function(event, ui) {\n",
       "            pass_mouse_events = false;\n",
       "        },\n",
       "        resize: function(event, ui) {\n",
       "            fig.request_resize(ui.size.width, ui.size.height);\n",
       "        },\n",
       "        stop: function(event, ui) {\n",
       "            pass_mouse_events = true;\n",
       "            fig.request_resize(ui.size.width, ui.size.height);\n",
       "        },\n",
       "    });\n",
       "\n",
       "    function mouse_event_fn(event) {\n",
       "        if (pass_mouse_events)\n",
       "            return fig.mouse_event(event, event['data']);\n",
       "    }\n",
       "\n",
       "    rubberband.mousedown('button_press', mouse_event_fn);\n",
       "    rubberband.mouseup('button_release', mouse_event_fn);\n",
       "    // Throttle sequential mouse events to 1 every 20ms.\n",
       "    rubberband.mousemove('motion_notify', mouse_event_fn);\n",
       "\n",
       "    rubberband.mouseenter('figure_enter', mouse_event_fn);\n",
       "    rubberband.mouseleave('figure_leave', mouse_event_fn);\n",
       "\n",
       "    canvas_div.on(\"wheel\", function (event) {\n",
       "        event = event.originalEvent;\n",
       "        event['data'] = 'scroll'\n",
       "        if (event.deltaY < 0) {\n",
       "            event.step = 1;\n",
       "        } else {\n",
       "            event.step = -1;\n",
       "        }\n",
       "        mouse_event_fn(event);\n",
       "    });\n",
       "\n",
       "    canvas_div.append(canvas);\n",
       "    canvas_div.append(rubberband);\n",
       "\n",
       "    this.rubberband = rubberband;\n",
       "    this.rubberband_canvas = rubberband[0];\n",
       "    this.rubberband_context = rubberband[0].getContext(\"2d\");\n",
       "    this.rubberband_context.strokeStyle = \"#000000\";\n",
       "\n",
       "    this._resize_canvas = function(width, height) {\n",
       "        // Keep the size of the canvas, canvas container, and rubber band\n",
       "        // canvas in synch.\n",
       "        canvas_div.css('width', width)\n",
       "        canvas_div.css('height', height)\n",
       "\n",
       "        canvas.attr('width', width * mpl.ratio);\n",
       "        canvas.attr('height', height * mpl.ratio);\n",
       "        canvas.attr('style', 'width: ' + width + 'px; height: ' + height + 'px;');\n",
       "\n",
       "        rubberband.attr('width', width);\n",
       "        rubberband.attr('height', height);\n",
       "    }\n",
       "\n",
       "    // Set the figure to an initial 600x600px, this will subsequently be updated\n",
       "    // upon first draw.\n",
       "    this._resize_canvas(600, 600);\n",
       "\n",
       "    // Disable right mouse context menu.\n",
       "    $(this.rubberband_canvas).bind(\"contextmenu\",function(e){\n",
       "        return false;\n",
       "    });\n",
       "\n",
       "    function set_focus () {\n",
       "        canvas.focus();\n",
       "        canvas_div.focus();\n",
       "    }\n",
       "\n",
       "    window.setTimeout(set_focus, 100);\n",
       "}\n",
       "\n",
       "mpl.figure.prototype._init_toolbar = function() {\n",
       "    var fig = this;\n",
       "\n",
       "    var nav_element = $('<div/>');\n",
       "    nav_element.attr('style', 'width: 100%');\n",
       "    this.root.append(nav_element);\n",
       "\n",
       "    // Define a callback function for later on.\n",
       "    function toolbar_event(event) {\n",
       "        return fig.toolbar_button_onclick(event['data']);\n",
       "    }\n",
       "    function toolbar_mouse_event(event) {\n",
       "        return fig.toolbar_button_onmouseover(event['data']);\n",
       "    }\n",
       "\n",
       "    for(var toolbar_ind in mpl.toolbar_items) {\n",
       "        var name = mpl.toolbar_items[toolbar_ind][0];\n",
       "        var tooltip = mpl.toolbar_items[toolbar_ind][1];\n",
       "        var image = mpl.toolbar_items[toolbar_ind][2];\n",
       "        var method_name = mpl.toolbar_items[toolbar_ind][3];\n",
       "\n",
       "        if (!name) {\n",
       "            // put a spacer in here.\n",
       "            continue;\n",
       "        }\n",
       "        var button = $('<button/>');\n",
       "        button.addClass('ui-button ui-widget ui-state-default ui-corner-all ' +\n",
       "                        'ui-button-icon-only');\n",
       "        button.attr('role', 'button');\n",
       "        button.attr('aria-disabled', 'false');\n",
       "        button.click(method_name, toolbar_event);\n",
       "        button.mouseover(tooltip, toolbar_mouse_event);\n",
       "\n",
       "        var icon_img = $('<span/>');\n",
       "        icon_img.addClass('ui-button-icon-primary ui-icon');\n",
       "        icon_img.addClass(image);\n",
       "        icon_img.addClass('ui-corner-all');\n",
       "\n",
       "        var tooltip_span = $('<span/>');\n",
       "        tooltip_span.addClass('ui-button-text');\n",
       "        tooltip_span.html(tooltip);\n",
       "\n",
       "        button.append(icon_img);\n",
       "        button.append(tooltip_span);\n",
       "\n",
       "        nav_element.append(button);\n",
       "    }\n",
       "\n",
       "    var fmt_picker_span = $('<span/>');\n",
       "\n",
       "    var fmt_picker = $('<select/>');\n",
       "    fmt_picker.addClass('mpl-toolbar-option ui-widget ui-widget-content');\n",
       "    fmt_picker_span.append(fmt_picker);\n",
       "    nav_element.append(fmt_picker_span);\n",
       "    this.format_dropdown = fmt_picker[0];\n",
       "\n",
       "    for (var ind in mpl.extensions) {\n",
       "        var fmt = mpl.extensions[ind];\n",
       "        var option = $(\n",
       "            '<option/>', {selected: fmt === mpl.default_extension}).html(fmt);\n",
       "        fmt_picker.append(option);\n",
       "    }\n",
       "\n",
       "    // Add hover states to the ui-buttons\n",
       "    $( \".ui-button\" ).hover(\n",
       "        function() { $(this).addClass(\"ui-state-hover\");},\n",
       "        function() { $(this).removeClass(\"ui-state-hover\");}\n",
       "    );\n",
       "\n",
       "    var status_bar = $('<span class=\"mpl-message\"/>');\n",
       "    nav_element.append(status_bar);\n",
       "    this.message = status_bar[0];\n",
       "}\n",
       "\n",
       "mpl.figure.prototype.request_resize = function(x_pixels, y_pixels) {\n",
       "    // Request matplotlib to resize the figure. Matplotlib will then trigger a resize in the client,\n",
       "    // which will in turn request a refresh of the image.\n",
       "    this.send_message('resize', {'width': x_pixels, 'height': y_pixels});\n",
       "}\n",
       "\n",
       "mpl.figure.prototype.send_message = function(type, properties) {\n",
       "    properties['type'] = type;\n",
       "    properties['figure_id'] = this.id;\n",
       "    this.ws.send(JSON.stringify(properties));\n",
       "}\n",
       "\n",
       "mpl.figure.prototype.send_draw_message = function() {\n",
       "    if (!this.waiting) {\n",
       "        this.waiting = true;\n",
       "        this.ws.send(JSON.stringify({type: \"draw\", figure_id: this.id}));\n",
       "    }\n",
       "}\n",
       "\n",
       "\n",
       "mpl.figure.prototype.handle_save = function(fig, msg) {\n",
       "    var format_dropdown = fig.format_dropdown;\n",
       "    var format = format_dropdown.options[format_dropdown.selectedIndex].value;\n",
       "    fig.ondownload(fig, format);\n",
       "}\n",
       "\n",
       "\n",
       "mpl.figure.prototype.handle_resize = function(fig, msg) {\n",
       "    var size = msg['size'];\n",
       "    if (size[0] != fig.canvas.width || size[1] != fig.canvas.height) {\n",
       "        fig._resize_canvas(size[0], size[1]);\n",
       "        fig.send_message(\"refresh\", {});\n",
       "    };\n",
       "}\n",
       "\n",
       "mpl.figure.prototype.handle_rubberband = function(fig, msg) {\n",
       "    var x0 = msg['x0'] / mpl.ratio;\n",
       "    var y0 = (fig.canvas.height - msg['y0']) / mpl.ratio;\n",
       "    var x1 = msg['x1'] / mpl.ratio;\n",
       "    var y1 = (fig.canvas.height - msg['y1']) / mpl.ratio;\n",
       "    x0 = Math.floor(x0) + 0.5;\n",
       "    y0 = Math.floor(y0) + 0.5;\n",
       "    x1 = Math.floor(x1) + 0.5;\n",
       "    y1 = Math.floor(y1) + 0.5;\n",
       "    var min_x = Math.min(x0, x1);\n",
       "    var min_y = Math.min(y0, y1);\n",
       "    var width = Math.abs(x1 - x0);\n",
       "    var height = Math.abs(y1 - y0);\n",
       "\n",
       "    fig.rubberband_context.clearRect(\n",
       "        0, 0, fig.canvas.width, fig.canvas.height);\n",
       "\n",
       "    fig.rubberband_context.strokeRect(min_x, min_y, width, height);\n",
       "}\n",
       "\n",
       "mpl.figure.prototype.handle_figure_label = function(fig, msg) {\n",
       "    // Updates the figure title.\n",
       "    fig.header.textContent = msg['label'];\n",
       "}\n",
       "\n",
       "mpl.figure.prototype.handle_cursor = function(fig, msg) {\n",
       "    var cursor = msg['cursor'];\n",
       "    switch(cursor)\n",
       "    {\n",
       "    case 0:\n",
       "        cursor = 'pointer';\n",
       "        break;\n",
       "    case 1:\n",
       "        cursor = 'default';\n",
       "        break;\n",
       "    case 2:\n",
       "        cursor = 'crosshair';\n",
       "        break;\n",
       "    case 3:\n",
       "        cursor = 'move';\n",
       "        break;\n",
       "    }\n",
       "    fig.rubberband_canvas.style.cursor = cursor;\n",
       "}\n",
       "\n",
       "mpl.figure.prototype.handle_message = function(fig, msg) {\n",
       "    fig.message.textContent = msg['message'];\n",
       "}\n",
       "\n",
       "mpl.figure.prototype.handle_draw = function(fig, msg) {\n",
       "    // Request the server to send over a new figure.\n",
       "    fig.send_draw_message();\n",
       "}\n",
       "\n",
       "mpl.figure.prototype.handle_image_mode = function(fig, msg) {\n",
       "    fig.image_mode = msg['mode'];\n",
       "}\n",
       "\n",
       "mpl.figure.prototype.updated_canvas_event = function() {\n",
       "    // Called whenever the canvas gets updated.\n",
       "    this.send_message(\"ack\", {});\n",
       "}\n",
       "\n",
       "// A function to construct a web socket function for onmessage handling.\n",
       "// Called in the figure constructor.\n",
       "mpl.figure.prototype._make_on_message_function = function(fig) {\n",
       "    return function socket_on_message(evt) {\n",
       "        if (evt.data instanceof Blob) {\n",
       "            /* FIXME: We get \"Resource interpreted as Image but\n",
       "             * transferred with MIME type text/plain:\" errors on\n",
       "             * Chrome.  But how to set the MIME type?  It doesn't seem\n",
       "             * to be part of the websocket stream */\n",
       "            evt.data.type = \"image/png\";\n",
       "\n",
       "            /* Free the memory for the previous frames */\n",
       "            if (fig.imageObj.src) {\n",
       "                (window.URL || window.webkitURL).revokeObjectURL(\n",
       "                    fig.imageObj.src);\n",
       "            }\n",
       "\n",
       "            fig.imageObj.src = (window.URL || window.webkitURL).createObjectURL(\n",
       "                evt.data);\n",
       "            fig.updated_canvas_event();\n",
       "            fig.waiting = false;\n",
       "            return;\n",
       "        }\n",
       "        else if (typeof evt.data === 'string' && evt.data.slice(0, 21) == \"data:image/png;base64\") {\n",
       "            fig.imageObj.src = evt.data;\n",
       "            fig.updated_canvas_event();\n",
       "            fig.waiting = false;\n",
       "            return;\n",
       "        }\n",
       "\n",
       "        var msg = JSON.parse(evt.data);\n",
       "        var msg_type = msg['type'];\n",
       "\n",
       "        // Call the  \"handle_{type}\" callback, which takes\n",
       "        // the figure and JSON message as its only arguments.\n",
       "        try {\n",
       "            var callback = fig[\"handle_\" + msg_type];\n",
       "        } catch (e) {\n",
       "            console.log(\"No handler for the '\" + msg_type + \"' message type: \", msg);\n",
       "            return;\n",
       "        }\n",
       "\n",
       "        if (callback) {\n",
       "            try {\n",
       "                // console.log(\"Handling '\" + msg_type + \"' message: \", msg);\n",
       "                callback(fig, msg);\n",
       "            } catch (e) {\n",
       "                console.log(\"Exception inside the 'handler_\" + msg_type + \"' callback:\", e, e.stack, msg);\n",
       "            }\n",
       "        }\n",
       "    };\n",
       "}\n",
       "\n",
       "// from http://stackoverflow.com/questions/1114465/getting-mouse-location-in-canvas\n",
       "mpl.findpos = function(e) {\n",
       "    //this section is from http://www.quirksmode.org/js/events_properties.html\n",
       "    var targ;\n",
       "    if (!e)\n",
       "        e = window.event;\n",
       "    if (e.target)\n",
       "        targ = e.target;\n",
       "    else if (e.srcElement)\n",
       "        targ = e.srcElement;\n",
       "    if (targ.nodeType == 3) // defeat Safari bug\n",
       "        targ = targ.parentNode;\n",
       "\n",
       "    // jQuery normalizes the pageX and pageY\n",
       "    // pageX,Y are the mouse positions relative to the document\n",
       "    // offset() returns the position of the element relative to the document\n",
       "    var x = e.pageX - $(targ).offset().left;\n",
       "    var y = e.pageY - $(targ).offset().top;\n",
       "\n",
       "    return {\"x\": x, \"y\": y};\n",
       "};\n",
       "\n",
       "/*\n",
       " * return a copy of an object with only non-object keys\n",
       " * we need this to avoid circular references\n",
       " * http://stackoverflow.com/a/24161582/3208463\n",
       " */\n",
       "function simpleKeys (original) {\n",
       "  return Object.keys(original).reduce(function (obj, key) {\n",
       "    if (typeof original[key] !== 'object')\n",
       "        obj[key] = original[key]\n",
       "    return obj;\n",
       "  }, {});\n",
       "}\n",
       "\n",
       "mpl.figure.prototype.mouse_event = function(event, name) {\n",
       "    var canvas_pos = mpl.findpos(event)\n",
       "\n",
       "    if (name === 'button_press')\n",
       "    {\n",
       "        this.canvas.focus();\n",
       "        this.canvas_div.focus();\n",
       "    }\n",
       "\n",
       "    var x = canvas_pos.x * mpl.ratio;\n",
       "    var y = canvas_pos.y * mpl.ratio;\n",
       "\n",
       "    this.send_message(name, {x: x, y: y, button: event.button,\n",
       "                             step: event.step,\n",
       "                             guiEvent: simpleKeys(event)});\n",
       "\n",
       "    /* This prevents the web browser from automatically changing to\n",
       "     * the text insertion cursor when the button is pressed.  We want\n",
       "     * to control all of the cursor setting manually through the\n",
       "     * 'cursor' event from matplotlib */\n",
       "    event.preventDefault();\n",
       "    return false;\n",
       "}\n",
       "\n",
       "mpl.figure.prototype._key_event_extra = function(event, name) {\n",
       "    // Handle any extra behaviour associated with a key event\n",
       "}\n",
       "\n",
       "mpl.figure.prototype.key_event = function(event, name) {\n",
       "\n",
       "    // Prevent repeat events\n",
       "    if (name == 'key_press')\n",
       "    {\n",
       "        if (event.which === this._key)\n",
       "            return;\n",
       "        else\n",
       "            this._key = event.which;\n",
       "    }\n",
       "    if (name == 'key_release')\n",
       "        this._key = null;\n",
       "\n",
       "    var value = '';\n",
       "    if (event.ctrlKey && event.which != 17)\n",
       "        value += \"ctrl+\";\n",
       "    if (event.altKey && event.which != 18)\n",
       "        value += \"alt+\";\n",
       "    if (event.shiftKey && event.which != 16)\n",
       "        value += \"shift+\";\n",
       "\n",
       "    value += 'k';\n",
       "    value += event.which.toString();\n",
       "\n",
       "    this._key_event_extra(event, name);\n",
       "\n",
       "    this.send_message(name, {key: value,\n",
       "                             guiEvent: simpleKeys(event)});\n",
       "    return false;\n",
       "}\n",
       "\n",
       "mpl.figure.prototype.toolbar_button_onclick = function(name) {\n",
       "    if (name == 'download') {\n",
       "        this.handle_save(this, null);\n",
       "    } else {\n",
       "        this.send_message(\"toolbar_button\", {name: name});\n",
       "    }\n",
       "};\n",
       "\n",
       "mpl.figure.prototype.toolbar_button_onmouseover = function(tooltip) {\n",
       "    this.message.textContent = tooltip;\n",
       "};\n",
       "mpl.toolbar_items = [[\"Home\", \"Reset original view\", \"fa fa-home icon-home\", \"home\"], [\"Back\", \"Back to previous view\", \"fa fa-arrow-left icon-arrow-left\", \"back\"], [\"Forward\", \"Forward to next view\", \"fa fa-arrow-right icon-arrow-right\", \"forward\"], [\"\", \"\", \"\", \"\"], [\"Pan\", \"Pan axes with left mouse, zoom with right\", \"fa fa-arrows icon-move\", \"pan\"], [\"Zoom\", \"Zoom to rectangle\", \"fa fa-square-o icon-check-empty\", \"zoom\"], [\"\", \"\", \"\", \"\"], [\"Download\", \"Download plot\", \"fa fa-floppy-o icon-save\", \"download\"]];\n",
       "\n",
       "mpl.extensions = [\"eps\", \"jpeg\", \"pdf\", \"png\", \"ps\", \"raw\", \"svg\", \"tif\"];\n",
       "\n",
       "mpl.default_extension = \"png\";var comm_websocket_adapter = function(comm) {\n",
       "    // Create a \"websocket\"-like object which calls the given IPython comm\n",
       "    // object with the appropriate methods. Currently this is a non binary\n",
       "    // socket, so there is still some room for performance tuning.\n",
       "    var ws = {};\n",
       "\n",
       "    ws.close = function() {\n",
       "        comm.close()\n",
       "    };\n",
       "    ws.send = function(m) {\n",
       "        //console.log('sending', m);\n",
       "        comm.send(m);\n",
       "    };\n",
       "    // Register the callback with on_msg.\n",
       "    comm.on_msg(function(msg) {\n",
       "        //console.log('receiving', msg['content']['data'], msg);\n",
       "        // Pass the mpl event to the overridden (by mpl) onmessage function.\n",
       "        ws.onmessage(msg['content']['data'])\n",
       "    });\n",
       "    return ws;\n",
       "}\n",
       "\n",
       "mpl.mpl_figure_comm = function(comm, msg) {\n",
       "    // This is the function which gets called when the mpl process\n",
       "    // starts-up an IPython Comm through the \"matplotlib\" channel.\n",
       "\n",
       "    var id = msg.content.data.id;\n",
       "    // Get hold of the div created by the display call when the Comm\n",
       "    // socket was opened in Python.\n",
       "    var element = $(\"#\" + id);\n",
       "    var ws_proxy = comm_websocket_adapter(comm)\n",
       "\n",
       "    function ondownload(figure, format) {\n",
       "        window.open(figure.imageObj.src);\n",
       "    }\n",
       "\n",
       "    var fig = new mpl.figure(id, ws_proxy,\n",
       "                           ondownload,\n",
       "                           element.get(0));\n",
       "\n",
       "    // Call onopen now - mpl needs it, as it is assuming we've passed it a real\n",
       "    // web socket which is closed, not our websocket->open comm proxy.\n",
       "    ws_proxy.onopen();\n",
       "\n",
       "    fig.parent_element = element.get(0);\n",
       "    fig.cell_info = mpl.find_output_cell(\"<div id='\" + id + \"'></div>\");\n",
       "    if (!fig.cell_info) {\n",
       "        console.error(\"Failed to find cell for figure\", id, fig);\n",
       "        return;\n",
       "    }\n",
       "\n",
       "    var output_index = fig.cell_info[2]\n",
       "    var cell = fig.cell_info[0];\n",
       "\n",
       "};\n",
       "\n",
       "mpl.figure.prototype.handle_close = function(fig, msg) {\n",
       "    var width = fig.canvas.width/mpl.ratio\n",
       "    fig.root.unbind('remove')\n",
       "\n",
       "    // Update the output cell to use the data from the current canvas.\n",
       "    fig.push_to_output();\n",
       "    var dataURL = fig.canvas.toDataURL();\n",
       "    // Re-enable the keyboard manager in IPython - without this line, in FF,\n",
       "    // the notebook keyboard shortcuts fail.\n",
       "    IPython.keyboard_manager.enable()\n",
       "    $(fig.parent_element).html('<img src=\"' + dataURL + '\" width=\"' + width + '\">');\n",
       "    fig.close_ws(fig, msg);\n",
       "}\n",
       "\n",
       "mpl.figure.prototype.close_ws = function(fig, msg){\n",
       "    fig.send_message('closing', msg);\n",
       "    // fig.ws.close()\n",
       "}\n",
       "\n",
       "mpl.figure.prototype.push_to_output = function(remove_interactive) {\n",
       "    // Turn the data on the canvas into data in the output cell.\n",
       "    var width = this.canvas.width/mpl.ratio\n",
       "    var dataURL = this.canvas.toDataURL();\n",
       "    this.cell_info[1]['text/html'] = '<img src=\"' + dataURL + '\" width=\"' + width + '\">';\n",
       "}\n",
       "\n",
       "mpl.figure.prototype.updated_canvas_event = function() {\n",
       "    // Tell IPython that the notebook contents must change.\n",
       "    IPython.notebook.set_dirty(true);\n",
       "    this.send_message(\"ack\", {});\n",
       "    var fig = this;\n",
       "    // Wait a second, then push the new image to the DOM so\n",
       "    // that it is saved nicely (might be nice to debounce this).\n",
       "    setTimeout(function () { fig.push_to_output() }, 1000);\n",
       "}\n",
       "\n",
       "mpl.figure.prototype._init_toolbar = function() {\n",
       "    var fig = this;\n",
       "\n",
       "    var nav_element = $('<div/>');\n",
       "    nav_element.attr('style', 'width: 100%');\n",
       "    this.root.append(nav_element);\n",
       "\n",
       "    // Define a callback function for later on.\n",
       "    function toolbar_event(event) {\n",
       "        return fig.toolbar_button_onclick(event['data']);\n",
       "    }\n",
       "    function toolbar_mouse_event(event) {\n",
       "        return fig.toolbar_button_onmouseover(event['data']);\n",
       "    }\n",
       "\n",
       "    for(var toolbar_ind in mpl.toolbar_items){\n",
       "        var name = mpl.toolbar_items[toolbar_ind][0];\n",
       "        var tooltip = mpl.toolbar_items[toolbar_ind][1];\n",
       "        var image = mpl.toolbar_items[toolbar_ind][2];\n",
       "        var method_name = mpl.toolbar_items[toolbar_ind][3];\n",
       "\n",
       "        if (!name) { continue; };\n",
       "\n",
       "        var button = $('<button class=\"btn btn-default\" href=\"#\" title=\"' + name + '\"><i class=\"fa ' + image + ' fa-lg\"></i></button>');\n",
       "        button.click(method_name, toolbar_event);\n",
       "        button.mouseover(tooltip, toolbar_mouse_event);\n",
       "        nav_element.append(button);\n",
       "    }\n",
       "\n",
       "    // Add the status bar.\n",
       "    var status_bar = $('<span class=\"mpl-message\" style=\"text-align:right; float: right;\"/>');\n",
       "    nav_element.append(status_bar);\n",
       "    this.message = status_bar[0];\n",
       "\n",
       "    // Add the close button to the window.\n",
       "    var buttongrp = $('<div class=\"btn-group inline pull-right\"></div>');\n",
       "    var button = $('<button class=\"btn btn-mini btn-primary\" href=\"#\" title=\"Stop Interaction\"><i class=\"fa fa-power-off icon-remove icon-large\"></i></button>');\n",
       "    button.click(function (evt) { fig.handle_close(fig, {}); } );\n",
       "    button.mouseover('Stop Interaction', toolbar_mouse_event);\n",
       "    buttongrp.append(button);\n",
       "    var titlebar = this.root.find($('.ui-dialog-titlebar'));\n",
       "    titlebar.prepend(buttongrp);\n",
       "}\n",
       "\n",
       "mpl.figure.prototype._root_extra_style = function(el){\n",
       "    var fig = this\n",
       "    el.on(\"remove\", function(){\n",
       "\tfig.close_ws(fig, {});\n",
       "    });\n",
       "}\n",
       "\n",
       "mpl.figure.prototype._canvas_extra_style = function(el){\n",
       "    // this is important to make the div 'focusable\n",
       "    el.attr('tabindex', 0)\n",
       "    // reach out to IPython and tell the keyboard manager to turn it's self\n",
       "    // off when our div gets focus\n",
       "\n",
       "    // location in version 3\n",
       "    if (IPython.notebook.keyboard_manager) {\n",
       "        IPython.notebook.keyboard_manager.register_events(el);\n",
       "    }\n",
       "    else {\n",
       "        // location in version 2\n",
       "        IPython.keyboard_manager.register_events(el);\n",
       "    }\n",
       "\n",
       "}\n",
       "\n",
       "mpl.figure.prototype._key_event_extra = function(event, name) {\n",
       "    var manager = IPython.notebook.keyboard_manager;\n",
       "    if (!manager)\n",
       "        manager = IPython.keyboard_manager;\n",
       "\n",
       "    // Check for shift+enter\n",
       "    if (event.shiftKey && event.which == 13) {\n",
       "        this.canvas_div.blur();\n",
       "        event.shiftKey = false;\n",
       "        // Send a \"J\" for go to next cell\n",
       "        event.which = 74;\n",
       "        event.keyCode = 74;\n",
       "        manager.command_mode();\n",
       "        manager.handle_keydown(event);\n",
       "    }\n",
       "}\n",
       "\n",
       "mpl.figure.prototype.handle_save = function(fig, msg) {\n",
       "    fig.ondownload(fig, null);\n",
       "}\n",
       "\n",
       "\n",
       "mpl.find_output_cell = function(html_output) {\n",
       "    // Return the cell and output element which can be found *uniquely* in the notebook.\n",
       "    // Note - this is a bit hacky, but it is done because the \"notebook_saving.Notebook\"\n",
       "    // IPython event is triggered only after the cells have been serialised, which for\n",
       "    // our purposes (turning an active figure into a static one), is too late.\n",
       "    var cells = IPython.notebook.get_cells();\n",
       "    var ncells = cells.length;\n",
       "    for (var i=0; i<ncells; i++) {\n",
       "        var cell = cells[i];\n",
       "        if (cell.cell_type === 'code'){\n",
       "            for (var j=0; j<cell.output_area.outputs.length; j++) {\n",
       "                var data = cell.output_area.outputs[j];\n",
       "                if (data.data) {\n",
       "                    // IPython >= 3 moved mimebundle to data attribute of output\n",
       "                    data = data.data;\n",
       "                }\n",
       "                if (data['text/html'] == html_output) {\n",
       "                    return [cell, data, j];\n",
       "                }\n",
       "            }\n",
       "        }\n",
       "    }\n",
       "}\n",
       "\n",
       "// Register the function which deals with the matplotlib target/channel.\n",
       "// The kernel may be null if the page has been refreshed.\n",
       "if (IPython.notebook.kernel != null) {\n",
       "    IPython.notebook.kernel.comm_manager.register_target('matplotlib', mpl.mpl_figure_comm);\n",
       "}\n"
      ],
      "text/plain": [
       "<IPython.core.display.Javascript object>"
      ]
     },
     "metadata": {},
     "output_type": "display_data"
    },
    {
     "data": {
      "text/html": [
       "<img src=\"data:image/png;base64,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\" width=\"640\">"
      ],
      "text/plain": [
       "<IPython.core.display.HTML object>"
      ]
     },
     "metadata": {},
     "output_type": "display_data"
    }
   ],
   "source": [
    "show_img( img,  vmin = .01, vmax = 100, logs= True, aspect=1, #save_format='tif',\n",
    "         image_name= uidstr,  save=False, path=None, cmap=cmap_albula)#,center=center[::-1])"
   ]
  },
  {
   "cell_type": "code",
   "execution_count": null,
   "metadata": {},
   "outputs": [],
   "source": []
  },
  {
   "cell_type": "code",
   "execution_count": null,
   "metadata": {},
   "outputs": [],
   "source": []
  },
  {
   "cell_type": "code",
   "execution_count": null,
   "metadata": {},
   "outputs": [],
   "source": []
  },
  {
   "cell_type": "code",
   "execution_count": null,
   "metadata": {},
   "outputs": [],
   "source": []
  }
 ],
 "metadata": {
  "kernelspec": {
   "display_name": "Python 3",
   "language": "python",
   "name": "python3"
  },
  "language_info": {
   "codemirror_mode": {
    "name": "ipython",
    "version": 3
   },
   "file_extension": ".py",
   "mimetype": "text/x-python",
   "name": "python",
   "nbconvert_exporter": "python",
   "pygments_lexer": "ipython3",
   "version": "3.7.3"
  }
 },
 "nbformat": 4,
 "nbformat_minor": 2
}
